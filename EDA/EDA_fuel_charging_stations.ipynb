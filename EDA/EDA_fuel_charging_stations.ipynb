{
  "cells": [
    {
      "cell_type": "markdown",
      "metadata": {
        "id": "W5ajkmlvgamn"
      },
      "source": [
        "# Proceso de EDA"
      ]
    },
    {
      "cell_type": "markdown",
      "metadata": {
        "id": "obw2gYVHF1Ip"
      },
      "source": [
        "## Instalación de librerias\n"
      ]
    },
    {
      "cell_type": "code",
      "execution_count": 87,
      "metadata": {
        "colab": {
          "base_uri": "https://localhost:8080/"
        },
        "id": "vddY9BDHCjbd",
        "outputId": "d0582199-f498-4abc-cf84-b2e24eecc6cb"
      },
      "outputs": [
        {
          "name": "stdout",
          "output_type": "stream",
          "text": [
            "Note: you may need to restart the kernel to use updated packages.\n"
          ]
        },
        {
          "name": "stderr",
          "output_type": "stream",
          "text": [
            "ERROR: Could not open requirements file: [Errno 2] No such file or directory: 'requirements.txt'\n",
            "\n",
            "[notice] A new release of pip is available: 23.1.2 -> 24.0\n",
            "[notice] To update, run: python.exe -m pip install --upgrade pip\n"
          ]
        }
      ],
      "source": [
        "# %pip install -r requirements.txt"
      ]
    },
    {
      "cell_type": "markdown",
      "metadata": {
        "id": "AT-j8lqYrjKB"
      },
      "source": [
        "## Importación de librerías"
      ]
    },
    {
      "cell_type": "code",
      "execution_count": 89,
      "metadata": {
        "id": "a3IbBkKSbkv1"
      },
      "outputs": [],
      "source": [
        "import pandas as pd\n",
        "import pyarrow\n",
        "import gzip\n",
        "import warnings\n",
        "warnings.filterwarnings(\"ignore\")\n",
        "import matplotlib.pyplot as plt\n",
        "import folium\n",
        "import numpy as np\n"
      ]
    },
    {
      "cell_type": "markdown",
      "metadata": {
        "id": "9Da0TcETC0D3"
      },
      "source": [
        "## Rutas"
      ]
    },
    {
      "cell_type": "code",
      "execution_count": 90,
      "metadata": {
        "id": "4vMeBiLeEhb4"
      },
      "outputs": [],
      "source": [
        "path = '../path.txt'"
      ]
    },
    {
      "cell_type": "markdown",
      "metadata": {
        "id": "nDemhfVrISFr"
      },
      "source": [
        "## Funciones\n"
      ]
    },
    {
      "cell_type": "code",
      "execution_count": 91,
      "metadata": {
        "id": "pDG130YNJX7-"
      },
      "outputs": [],
      "source": [
        "def entero(valor:float) -> int:\n",
        "    if pd.isnull(valor):\n",
        "        return int(-1)\n",
        "    else:\n",
        "        return int(valor)"
      ]
    },
    {
      "cell_type": "code",
      "execution_count": 92,
      "metadata": {
        "id": "fQ93cLbIhm3I"
      },
      "outputs": [],
      "source": [
        "def entero_cero(valor:float) -> int:\n",
        "    if pd.isnull(valor):\n",
        "        return int(0)\n",
        "    else:\n",
        "        return int(valor)"
      ]
    },
    {
      "cell_type": "code",
      "execution_count": 93,
      "metadata": {
        "id": "f5GBGOOQkHMf"
      },
      "outputs": [],
      "source": [
        "def completar(valor:str) -> str:\n",
        "    if pd.isnull(valor):\n",
        "        return '-1'\n",
        "    else:\n",
        "        return valor"
      ]
    },
    {
      "cell_type": "markdown",
      "metadata": {
        "id": "esgAVbHJgXWB"
      },
      "source": [
        "## Exploración"
      ]
    },
    {
      "cell_type": "code",
      "execution_count": 94,
      "metadata": {
        "id": "t8XOiGWlH9Ie"
      },
      "outputs": [],
      "source": [
        "# Con esta funcion se lee cada linea que se toma como una variables con un string asignado\n",
        "with open(path, 'r') as archivo:\n",
        "    for linea in archivo.readlines():\n",
        "        exec(linea.strip(), globals())"
      ]
    },
    {
      "cell_type": "code",
      "execution_count": 95,
      "metadata": {
        "id": "iEideC0gcUGR"
      },
      "outputs": [],
      "source": [
        "df = pd.read_csv(estaciones_ETL, encoding='utf-8')"
      ]
    },
    {
      "cell_type": "code",
      "execution_count": 96,
      "metadata": {
        "colab": {
          "base_uri": "https://localhost:8080/"
        },
        "id": "Xhj2OMPpDGeA",
        "outputId": "a2bfc14b-22ac-4bfd-98fb-fbefc4990aad"
      },
      "outputs": [
        {
          "data": {
            "text/plain": [
              "array(['CNG', 'LPG', 'BD', 'E85', 'ELEC', 'LNG', 'HY'], dtype=object)"
            ]
          },
          "execution_count": 96,
          "metadata": {},
          "output_type": "execute_result"
        }
      ],
      "source": [
        "df['Fuel Type Code'].unique()"
      ]
    },
    {
      "cell_type": "markdown",
      "metadata": {
        "id": "klKqu8IpE6ku"
      },
      "source": [
        "df[['ID', 'Fuel Type Code', 'Access Code', 'Geocode Status', 'Latitude', 'Longitude', 'City', 'State',\n",
        "         'EV Level1 EVSE Num', 'EV Level2 EVSE Num', 'EV DC Fast Count', 'EV Connector Types', 'EV Pricing', 'CNG Dispenser Num']]"
      ]
    },
    {
      "cell_type": "code",
      "execution_count": 97,
      "metadata": {
        "id": "_XU42brMDL3X"
      },
      "outputs": [],
      "source": [
        "df_cng = df[['ID', 'Fuel Type Code', 'Access Code', 'Geocode Status', 'Latitude', 'Longitude', 'City', 'State', 'CNG Dispenser Num']][df['Fuel Type Code'] == 'CNG']\n",
        "df_lpg = df[['ID', 'Fuel Type Code', 'Access Code', 'Geocode Status', 'Latitude', 'Longitude', 'City', 'State', 'LPG Nozzle Types']][df['Fuel Type Code'] == 'LPG']\n",
        "df_bd = df[['ID', 'Fuel Type Code', 'Access Code', 'Geocode Status', 'Latitude', 'Longitude', 'City', 'State']][df['Fuel Type Code'] == 'BD']\n",
        "df_e85 = df[['ID', 'Fuel Type Code', 'Access Code', 'Geocode Status', 'Latitude', 'Longitude', 'City', 'State']][df['Fuel Type Code'] == 'E85']\n",
        "df_elec = df[['ID', 'Fuel Type Code', 'Access Code', 'Geocode Status', 'Latitude', 'Longitude', 'City', 'State', 'EV Level1 EVSE Num', 'EV Level2 EVSE Num', 'EV DC Fast Count', 'EV Connector Types', 'EV Pricing']][df['Fuel Type Code'] == 'ELEC']\n",
        "df_lng = df[['ID', 'Fuel Type Code', 'Access Code', 'Geocode Status', 'Latitude', 'Longitude', 'City', 'State']][df['Fuel Type Code'] == 'LNG']\n",
        "df_hy = df[['ID', 'Fuel Type Code', 'Access Code', 'Geocode Status', 'Latitude', 'Longitude', 'City', 'State']][df['Fuel Type Code'] == 'HY']\n"
      ]
    },
    {
      "cell_type": "markdown",
      "metadata": {
        "id": "K0BUXGlmH7QV"
      },
      "source": [
        "# Revisión de valores nulos, duplicados y outliers por tipo de estación de carga"
      ]
    },
    {
      "cell_type": "markdown",
      "metadata": {
        "id": "BzK2sMQcMZU4"
      },
      "source": [
        "# df_cng"
      ]
    },
    {
      "cell_type": "code",
      "execution_count": 98,
      "metadata": {
        "colab": {
          "base_uri": "https://localhost:8080/"
        },
        "id": "Qlfv5PXCHPZq",
        "outputId": "eba83179-25f5-49f2-e240-0ea071c3d5d6"
      },
      "outputs": [
        {
          "name": "stdout",
          "output_type": "stream",
          "text": [
            "<class 'pandas.core.frame.DataFrame'>\n",
            "Index: 207 entries, 0 to 7493\n",
            "Data columns (total 9 columns):\n",
            " #   Column             Non-Null Count  Dtype  \n",
            "---  ------             --------------  -----  \n",
            " 0   ID                 207 non-null    int64  \n",
            " 1   Fuel Type Code     207 non-null    object \n",
            " 2   Access Code        207 non-null    object \n",
            " 3   Geocode Status     207 non-null    object \n",
            " 4   Latitude           207 non-null    float64\n",
            " 5   Longitude          207 non-null    float64\n",
            " 6   City               207 non-null    object \n",
            " 7   State              207 non-null    object \n",
            " 8   CNG Dispenser Num  131 non-null    float64\n",
            "dtypes: float64(3), int64(1), object(5)\n",
            "memory usage: 16.2+ KB\n"
          ]
        }
      ],
      "source": [
        "df_cng.info()"
      ]
    },
    {
      "cell_type": "markdown",
      "metadata": {
        "id": "9qIOuci8VE8i"
      },
      "source": [
        "Nulos:"
      ]
    },
    {
      "cell_type": "code",
      "execution_count": 99,
      "metadata": {
        "colab": {
          "base_uri": "https://localhost:8080/",
          "height": 423
        },
        "id": "CLUdJkcKIHO1",
        "outputId": "8f2f830b-ad44-4c77-c157-c417b5b76858"
      },
      "outputs": [
        {
          "data": {
            "text/html": [
              "<div>\n",
              "<style scoped>\n",
              "    .dataframe tbody tr th:only-of-type {\n",
              "        vertical-align: middle;\n",
              "    }\n",
              "\n",
              "    .dataframe tbody tr th {\n",
              "        vertical-align: top;\n",
              "    }\n",
              "\n",
              "    .dataframe thead th {\n",
              "        text-align: right;\n",
              "    }\n",
              "</style>\n",
              "<table border=\"1\" class=\"dataframe\">\n",
              "  <thead>\n",
              "    <tr style=\"text-align: right;\">\n",
              "      <th></th>\n",
              "      <th>ID</th>\n",
              "      <th>Fuel Type Code</th>\n",
              "      <th>Access Code</th>\n",
              "      <th>Geocode Status</th>\n",
              "      <th>Latitude</th>\n",
              "      <th>Longitude</th>\n",
              "      <th>City</th>\n",
              "      <th>State</th>\n",
              "      <th>CNG Dispenser Num</th>\n",
              "    </tr>\n",
              "  </thead>\n",
              "  <tbody>\n",
              "    <tr>\n",
              "      <th>14</th>\n",
              "      <td>1252</td>\n",
              "      <td>CNG</td>\n",
              "      <td>private</td>\n",
              "      <td>200-9</td>\n",
              "      <td>40.729540</td>\n",
              "      <td>-73.607500</td>\n",
              "      <td>Garden City</td>\n",
              "      <td>NY</td>\n",
              "      <td>NaN</td>\n",
              "    </tr>\n",
              "    <tr>\n",
              "      <th>16</th>\n",
              "      <td>12788</td>\n",
              "      <td>CNG</td>\n",
              "      <td>private</td>\n",
              "      <td>200-8</td>\n",
              "      <td>40.008558</td>\n",
              "      <td>-75.280726</td>\n",
              "      <td>Ardmore</td>\n",
              "      <td>PA</td>\n",
              "      <td>NaN</td>\n",
              "    </tr>\n",
              "    <tr>\n",
              "      <th>49</th>\n",
              "      <td>20908</td>\n",
              "      <td>CNG</td>\n",
              "      <td>private</td>\n",
              "      <td>200-8</td>\n",
              "      <td>40.199940</td>\n",
              "      <td>-80.003416</td>\n",
              "      <td>Finleyville</td>\n",
              "      <td>PA</td>\n",
              "      <td>NaN</td>\n",
              "    </tr>\n",
              "    <tr>\n",
              "      <th>50</th>\n",
              "      <td>21435</td>\n",
              "      <td>CNG</td>\n",
              "      <td>private</td>\n",
              "      <td>200-9</td>\n",
              "      <td>43.169231</td>\n",
              "      <td>-77.661407</td>\n",
              "      <td>Rochester</td>\n",
              "      <td>NY</td>\n",
              "      <td>NaN</td>\n",
              "    </tr>\n",
              "    <tr>\n",
              "      <th>52</th>\n",
              "      <td>23208</td>\n",
              "      <td>CNG</td>\n",
              "      <td>private</td>\n",
              "      <td>GPS</td>\n",
              "      <td>40.730667</td>\n",
              "      <td>-74.039876</td>\n",
              "      <td>Jersey City</td>\n",
              "      <td>NJ</td>\n",
              "      <td>NaN</td>\n",
              "    </tr>\n",
              "    <tr>\n",
              "      <th>...</th>\n",
              "      <td>...</td>\n",
              "      <td>...</td>\n",
              "      <td>...</td>\n",
              "      <td>...</td>\n",
              "      <td>...</td>\n",
              "      <td>...</td>\n",
              "      <td>...</td>\n",
              "      <td>...</td>\n",
              "      <td>...</td>\n",
              "    </tr>\n",
              "    <tr>\n",
              "      <th>4551</th>\n",
              "      <td>167132</td>\n",
              "      <td>CNG</td>\n",
              "      <td>private</td>\n",
              "      <td>GPS</td>\n",
              "      <td>41.077924</td>\n",
              "      <td>-75.323657</td>\n",
              "      <td>Swiftwater</td>\n",
              "      <td>PA</td>\n",
              "      <td>NaN</td>\n",
              "    </tr>\n",
              "    <tr>\n",
              "      <th>4595</th>\n",
              "      <td>167606</td>\n",
              "      <td>CNG</td>\n",
              "      <td>private</td>\n",
              "      <td>200-9</td>\n",
              "      <td>40.346862</td>\n",
              "      <td>-79.759130</td>\n",
              "      <td>North Huntingdon</td>\n",
              "      <td>PA</td>\n",
              "      <td>NaN</td>\n",
              "    </tr>\n",
              "    <tr>\n",
              "      <th>6548</th>\n",
              "      <td>187475</td>\n",
              "      <td>CNG</td>\n",
              "      <td>private</td>\n",
              "      <td>GPS</td>\n",
              "      <td>40.208116</td>\n",
              "      <td>-76.840282</td>\n",
              "      <td>New Cumberland</td>\n",
              "      <td>PA</td>\n",
              "      <td>NaN</td>\n",
              "    </tr>\n",
              "    <tr>\n",
              "      <th>6636</th>\n",
              "      <td>189034</td>\n",
              "      <td>CNG</td>\n",
              "      <td>private</td>\n",
              "      <td>200-9</td>\n",
              "      <td>42.866539</td>\n",
              "      <td>-78.831713</td>\n",
              "      <td>Buffalo</td>\n",
              "      <td>NY</td>\n",
              "      <td>NaN</td>\n",
              "    </tr>\n",
              "    <tr>\n",
              "      <th>7493</th>\n",
              "      <td>196516</td>\n",
              "      <td>CNG</td>\n",
              "      <td>private</td>\n",
              "      <td>200-9</td>\n",
              "      <td>39.944688</td>\n",
              "      <td>-76.793636</td>\n",
              "      <td>York</td>\n",
              "      <td>PA</td>\n",
              "      <td>NaN</td>\n",
              "    </tr>\n",
              "  </tbody>\n",
              "</table>\n",
              "<p>76 rows × 9 columns</p>\n",
              "</div>"
            ],
            "text/plain": [
              "          ID Fuel Type Code Access Code Geocode Status   Latitude  Longitude  \\\n",
              "14      1252            CNG     private          200-9  40.729540 -73.607500   \n",
              "16     12788            CNG     private          200-8  40.008558 -75.280726   \n",
              "49     20908            CNG     private          200-8  40.199940 -80.003416   \n",
              "50     21435            CNG     private          200-9  43.169231 -77.661407   \n",
              "52     23208            CNG     private            GPS  40.730667 -74.039876   \n",
              "...      ...            ...         ...            ...        ...        ...   \n",
              "4551  167132            CNG     private            GPS  41.077924 -75.323657   \n",
              "4595  167606            CNG     private          200-9  40.346862 -79.759130   \n",
              "6548  187475            CNG     private            GPS  40.208116 -76.840282   \n",
              "6636  189034            CNG     private          200-9  42.866539 -78.831713   \n",
              "7493  196516            CNG     private          200-9  39.944688 -76.793636   \n",
              "\n",
              "                  City State  CNG Dispenser Num  \n",
              "14         Garden City    NY                NaN  \n",
              "16             Ardmore    PA                NaN  \n",
              "49         Finleyville    PA                NaN  \n",
              "50           Rochester    NY                NaN  \n",
              "52         Jersey City    NJ                NaN  \n",
              "...                ...   ...                ...  \n",
              "4551        Swiftwater    PA                NaN  \n",
              "4595  North Huntingdon    PA                NaN  \n",
              "6548    New Cumberland    PA                NaN  \n",
              "6636           Buffalo    NY                NaN  \n",
              "7493              York    PA                NaN  \n",
              "\n",
              "[76 rows x 9 columns]"
            ]
          },
          "execution_count": 99,
          "metadata": {},
          "output_type": "execute_result"
        }
      ],
      "source": [
        "df_cng[df_cng['CNG Dispenser Num'].isnull()]"
      ]
    },
    {
      "cell_type": "markdown",
      "metadata": {
        "id": "fIB64TGWI8KP"
      },
      "source": [
        "Tenemos nulos en la disponibilidad de carga, pero los dejamos porque nos interesa la ubicación. Solo transformamos los nulos a -1."
      ]
    },
    {
      "cell_type": "code",
      "execution_count": 100,
      "metadata": {
        "id": "dEZdVtjTMDtA"
      },
      "outputs": [],
      "source": [
        "df_cng['CNG Dispenser Num'] = df_cng['CNG Dispenser Num'].apply(entero)"
      ]
    },
    {
      "cell_type": "markdown",
      "metadata": {
        "id": "ZxI3MFy4MVz0"
      },
      "source": [
        "Verificamos:"
      ]
    },
    {
      "cell_type": "code",
      "execution_count": 101,
      "metadata": {
        "colab": {
          "base_uri": "https://localhost:8080/"
        },
        "id": "FEWaWhqdMgLV",
        "outputId": "a0b3130d-51fb-4f46-f2ba-4bdd443bfb17"
      },
      "outputs": [
        {
          "name": "stdout",
          "output_type": "stream",
          "text": [
            "<class 'pandas.core.frame.DataFrame'>\n",
            "Index: 207 entries, 0 to 7493\n",
            "Data columns (total 9 columns):\n",
            " #   Column             Non-Null Count  Dtype  \n",
            "---  ------             --------------  -----  \n",
            " 0   ID                 207 non-null    int64  \n",
            " 1   Fuel Type Code     207 non-null    object \n",
            " 2   Access Code        207 non-null    object \n",
            " 3   Geocode Status     207 non-null    object \n",
            " 4   Latitude           207 non-null    float64\n",
            " 5   Longitude          207 non-null    float64\n",
            " 6   City               207 non-null    object \n",
            " 7   State              207 non-null    object \n",
            " 8   CNG Dispenser Num  207 non-null    int64  \n",
            "dtypes: float64(2), int64(2), object(5)\n",
            "memory usage: 16.2+ KB\n"
          ]
        }
      ],
      "source": [
        "df_cng.info()"
      ]
    },
    {
      "cell_type": "code",
      "execution_count": 102,
      "metadata": {
        "colab": {
          "base_uri": "https://localhost:8080/",
          "height": 363
        },
        "id": "A4Pc0A32Mi9I",
        "outputId": "90ad3cb7-e999-4615-eaf2-a07405d9629d"
      },
      "outputs": [
        {
          "data": {
            "text/html": [
              "<div>\n",
              "<style scoped>\n",
              "    .dataframe tbody tr th:only-of-type {\n",
              "        vertical-align: middle;\n",
              "    }\n",
              "\n",
              "    .dataframe tbody tr th {\n",
              "        vertical-align: top;\n",
              "    }\n",
              "\n",
              "    .dataframe thead th {\n",
              "        text-align: right;\n",
              "    }\n",
              "</style>\n",
              "<table border=\"1\" class=\"dataframe\">\n",
              "  <thead>\n",
              "    <tr style=\"text-align: right;\">\n",
              "      <th></th>\n",
              "      <th>ID</th>\n",
              "      <th>Fuel Type Code</th>\n",
              "      <th>Access Code</th>\n",
              "      <th>Geocode Status</th>\n",
              "      <th>Latitude</th>\n",
              "      <th>Longitude</th>\n",
              "      <th>City</th>\n",
              "      <th>State</th>\n",
              "      <th>CNG Dispenser Num</th>\n",
              "    </tr>\n",
              "  </thead>\n",
              "  <tbody>\n",
              "    <tr>\n",
              "      <th>892</th>\n",
              "      <td>67057</td>\n",
              "      <td>CNG</td>\n",
              "      <td>public</td>\n",
              "      <td>200-9</td>\n",
              "      <td>40.494173</td>\n",
              "      <td>-80.267199</td>\n",
              "      <td>Pittsburgh</td>\n",
              "      <td>PA</td>\n",
              "      <td>3</td>\n",
              "    </tr>\n",
              "    <tr>\n",
              "      <th>831</th>\n",
              "      <td>64522</td>\n",
              "      <td>CNG</td>\n",
              "      <td>public</td>\n",
              "      <td>GPS</td>\n",
              "      <td>40.724957</td>\n",
              "      <td>-76.317177</td>\n",
              "      <td>Pottsville</td>\n",
              "      <td>PA</td>\n",
              "      <td>1</td>\n",
              "    </tr>\n",
              "    <tr>\n",
              "      <th>883</th>\n",
              "      <td>66255</td>\n",
              "      <td>CNG</td>\n",
              "      <td>private</td>\n",
              "      <td>200-8</td>\n",
              "      <td>40.180626</td>\n",
              "      <td>-79.853100</td>\n",
              "      <td>Donora</td>\n",
              "      <td>PA</td>\n",
              "      <td>-1</td>\n",
              "    </tr>\n",
              "    <tr>\n",
              "      <th>1057</th>\n",
              "      <td>74881</td>\n",
              "      <td>CNG</td>\n",
              "      <td>private</td>\n",
              "      <td>200-9</td>\n",
              "      <td>40.164017</td>\n",
              "      <td>-75.144794</td>\n",
              "      <td>Horsham</td>\n",
              "      <td>PA</td>\n",
              "      <td>-1</td>\n",
              "    </tr>\n",
              "    <tr>\n",
              "      <th>3674</th>\n",
              "      <td>155590</td>\n",
              "      <td>CNG</td>\n",
              "      <td>public</td>\n",
              "      <td>200-9</td>\n",
              "      <td>39.224956</td>\n",
              "      <td>-74.774461</td>\n",
              "      <td>Woodbine</td>\n",
              "      <td>NJ</td>\n",
              "      <td>4</td>\n",
              "    </tr>\n",
              "    <tr>\n",
              "      <th>3568</th>\n",
              "      <td>154569</td>\n",
              "      <td>CNG</td>\n",
              "      <td>private</td>\n",
              "      <td>200-9</td>\n",
              "      <td>40.501136</td>\n",
              "      <td>-78.721227</td>\n",
              "      <td>Ebensburg</td>\n",
              "      <td>PA</td>\n",
              "      <td>-1</td>\n",
              "    </tr>\n",
              "    <tr>\n",
              "      <th>13</th>\n",
              "      <td>787</td>\n",
              "      <td>CNG</td>\n",
              "      <td>public</td>\n",
              "      <td>200-8</td>\n",
              "      <td>40.080572</td>\n",
              "      <td>-75.252389</td>\n",
              "      <td>Plymouth Meeting</td>\n",
              "      <td>PA</td>\n",
              "      <td>1</td>\n",
              "    </tr>\n",
              "    <tr>\n",
              "      <th>3563</th>\n",
              "      <td>154550</td>\n",
              "      <td>CNG</td>\n",
              "      <td>private</td>\n",
              "      <td>GPS</td>\n",
              "      <td>39.960839</td>\n",
              "      <td>-79.652210</td>\n",
              "      <td>Lemont Furnace</td>\n",
              "      <td>PA</td>\n",
              "      <td>-1</td>\n",
              "    </tr>\n",
              "    <tr>\n",
              "      <th>3525</th>\n",
              "      <td>154291</td>\n",
              "      <td>CNG</td>\n",
              "      <td>private</td>\n",
              "      <td>GPS</td>\n",
              "      <td>41.931182</td>\n",
              "      <td>-72.597616</td>\n",
              "      <td>East Windsor</td>\n",
              "      <td>CT</td>\n",
              "      <td>-1</td>\n",
              "    </tr>\n",
              "    <tr>\n",
              "      <th>1659</th>\n",
              "      <td>104426</td>\n",
              "      <td>CNG</td>\n",
              "      <td>private</td>\n",
              "      <td>200-8</td>\n",
              "      <td>40.852978</td>\n",
              "      <td>-79.910671</td>\n",
              "      <td>Butler</td>\n",
              "      <td>PA</td>\n",
              "      <td>-1</td>\n",
              "    </tr>\n",
              "  </tbody>\n",
              "</table>\n",
              "</div>"
            ],
            "text/plain": [
              "          ID Fuel Type Code Access Code Geocode Status   Latitude  Longitude  \\\n",
              "892    67057            CNG      public          200-9  40.494173 -80.267199   \n",
              "831    64522            CNG      public            GPS  40.724957 -76.317177   \n",
              "883    66255            CNG     private          200-8  40.180626 -79.853100   \n",
              "1057   74881            CNG     private          200-9  40.164017 -75.144794   \n",
              "3674  155590            CNG      public          200-9  39.224956 -74.774461   \n",
              "3568  154569            CNG     private          200-9  40.501136 -78.721227   \n",
              "13       787            CNG      public          200-8  40.080572 -75.252389   \n",
              "3563  154550            CNG     private            GPS  39.960839 -79.652210   \n",
              "3525  154291            CNG     private            GPS  41.931182 -72.597616   \n",
              "1659  104426            CNG     private          200-8  40.852978 -79.910671   \n",
              "\n",
              "                  City State  CNG Dispenser Num  \n",
              "892         Pittsburgh    PA                  3  \n",
              "831         Pottsville    PA                  1  \n",
              "883             Donora    PA                 -1  \n",
              "1057           Horsham    PA                 -1  \n",
              "3674          Woodbine    NJ                  4  \n",
              "3568         Ebensburg    PA                 -1  \n",
              "13    Plymouth Meeting    PA                  1  \n",
              "3563    Lemont Furnace    PA                 -1  \n",
              "3525      East Windsor    CT                 -1  \n",
              "1659            Butler    PA                 -1  "
            ]
          },
          "execution_count": 102,
          "metadata": {},
          "output_type": "execute_result"
        }
      ],
      "source": [
        "df_cng.sample(10)"
      ]
    },
    {
      "cell_type": "markdown",
      "metadata": {
        "id": "agvyYKSZVJ1v"
      },
      "source": [
        "Duplicados:"
      ]
    },
    {
      "cell_type": "code",
      "execution_count": 103,
      "metadata": {
        "colab": {
          "base_uri": "https://localhost:8080/"
        },
        "id": "QzB_0fsFVLmj",
        "outputId": "2e9e4e78-fc03-424b-e1c4-49caa0f027b5"
      },
      "outputs": [
        {
          "data": {
            "text/plain": [
              "0"
            ]
          },
          "execution_count": 103,
          "metadata": {},
          "output_type": "execute_result"
        }
      ],
      "source": [
        "df_cng.duplicated().sum()"
      ]
    },
    {
      "cell_type": "markdown",
      "metadata": {
        "id": "JNdkCeeIVd-Z"
      },
      "source": [
        "Ouliers:"
      ]
    },
    {
      "cell_type": "code",
      "execution_count": 104,
      "metadata": {
        "colab": {
          "base_uri": "https://localhost:8080/"
        },
        "id": "9G5kHYRIwaY1",
        "outputId": "790d0bf9-8074-4566-d1fe-11d4d0eb9421"
      },
      "outputs": [
        {
          "data": {
            "text/plain": [
              "count    131.000000\n",
              "mean       2.175573\n",
              "std        3.537667\n",
              "min        1.000000\n",
              "25%        1.000000\n",
              "50%        2.000000\n",
              "75%        2.000000\n",
              "max       40.000000\n",
              "Name: CNG Dispenser Num, dtype: float64"
            ]
          },
          "execution_count": 104,
          "metadata": {},
          "output_type": "execute_result"
        }
      ],
      "source": [
        "df_cng['CNG Dispenser Num'][df_cng['CNG Dispenser Num'] != -1].describe()"
      ]
    },
    {
      "cell_type": "code",
      "execution_count": 105,
      "metadata": {
        "colab": {
          "base_uri": "https://localhost:8080/"
        },
        "id": "wNuSeYpswjzI",
        "outputId": "c89aef5c-0d39-4124-f318-3ff821ee9579"
      },
      "outputs": [
        {
          "name": "stdout",
          "output_type": "stream",
          "text": [
            "Límite superior: 3.5\n",
            "Outliers:           ID  CNG Dispenser Num\n",
            "0         81                  4\n",
            "130    36309                  4\n",
            "469    48010                  4\n",
            "480    48907                 40\n",
            "673    60684                  4\n",
            "793    64057                  4\n",
            "911    67844                  4\n",
            "2350  117871                  4\n",
            "3674  155590                  4\n",
            "6616  188087                 12\n"
          ]
        }
      ],
      "source": [
        "q1 = df_cng['CNG Dispenser Num'][df_cng['CNG Dispenser Num'] != -1].quantile(0.25)\n",
        "q3 = df_cng['CNG Dispenser Num'][df_cng['CNG Dispenser Num'] != -1].quantile(0.75)\n",
        "iqr = q3 - q1\n",
        "limite_superior = q3 + 1.5 * iqr\n",
        "outliers = df_cng[['ID', 'CNG Dispenser Num']][df_cng['CNG Dispenser Num'] > limite_superior]\n",
        "print(f'Límite superior: {limite_superior}\\nOutliers: {outliers}')"
      ]
    },
    {
      "cell_type": "code",
      "execution_count": 106,
      "metadata": {
        "colab": {
          "base_uri": "https://localhost:8080/",
          "height": 355
        },
        "id": "F_m37uK_uhe0",
        "outputId": "1a5e1d30-a648-446f-b57c-7580f6a4b68b"
      },
      "outputs": [
        {
          "data": {
            "image/png": "[encoded data removed]",
            "text/plain": [
              "<Figure size 300x300 with 1 Axes>"
            ]
          },
          "metadata": {},
          "output_type": "display_data"
        }
      ],
      "source": [
        "plt.figure(figsize=(3,3))\n",
        "plt.hist(df_cng['CNG Dispenser Num'][df_cng['CNG Dispenser Num'] != -1], bins=40, edgecolor='black')\n",
        "plt.title('Histograma de cantidad de surtidores de GNC\\n por estación de carga')\n",
        "plt.xlabel('Cantidad')\n",
        "plt.ylabel('Frecuencia')\n",
        "plt.show()"
      ]
    },
    {
      "cell_type": "code",
      "execution_count": 107,
      "metadata": {
        "colab": {
          "base_uri": "https://localhost:8080/",
          "height": 335
        },
        "id": "QQI7K_DVv10a",
        "outputId": "49680e86-fdd6-465b-ad8b-fc05b638fd27"
      },
      "outputs": [
        {
          "data": {
            "image/png": "[encoded data removed]",
            "text/plain": [
              "<Figure size 300x300 with 1 Axes>"
            ]
          },
          "metadata": {},
          "output_type": "display_data"
        }
      ],
      "source": [
        "plt.figure(figsize=(3,3))\n",
        "plt.boxplot(df_cng['CNG Dispenser Num'][df_cng['CNG Dispenser Num'] != -1])\n",
        "plt.title('Boxplot de cantidad de surtidores de GNC\\n por estación de carga')\n",
        "plt.show()"
      ]
    },
    {
      "cell_type": "markdown",
      "metadata": {
        "id": "eCYwQXtAW2lb"
      },
      "source": [
        "Matemáticamente tenemos outliers, pero eso no significa que sean errores. Revisando Google Maps y otras fuentes, solo el que indica 40 es un valor erróneo. Lo reemplazamos con la mediana para fines estadísticos."
      ]
    },
    {
      "cell_type": "code",
      "execution_count": 108,
      "metadata": {
        "colab": {
          "base_uri": "https://localhost:8080/",
          "height": 81
        },
        "id": "f8gAhM59y_cN",
        "outputId": "18f3eb1c-20b6-4f5b-e3d0-23e6b52d461f"
      },
      "outputs": [
        {
          "data": {
            "text/html": [
              "<div>\n",
              "<style scoped>\n",
              "    .dataframe tbody tr th:only-of-type {\n",
              "        vertical-align: middle;\n",
              "    }\n",
              "\n",
              "    .dataframe tbody tr th {\n",
              "        vertical-align: top;\n",
              "    }\n",
              "\n",
              "    .dataframe thead th {\n",
              "        text-align: right;\n",
              "    }\n",
              "</style>\n",
              "<table border=\"1\" class=\"dataframe\">\n",
              "  <thead>\n",
              "    <tr style=\"text-align: right;\">\n",
              "      <th></th>\n",
              "      <th>ID</th>\n",
              "      <th>Fuel Type Code</th>\n",
              "      <th>Access Code</th>\n",
              "      <th>Geocode Status</th>\n",
              "      <th>Latitude</th>\n",
              "      <th>Longitude</th>\n",
              "      <th>City</th>\n",
              "      <th>State</th>\n",
              "      <th>CNG Dispenser Num</th>\n",
              "    </tr>\n",
              "  </thead>\n",
              "  <tbody>\n",
              "    <tr>\n",
              "      <th>480</th>\n",
              "      <td>48907</td>\n",
              "      <td>CNG</td>\n",
              "      <td>private</td>\n",
              "      <td>200-9</td>\n",
              "      <td>43.182614</td>\n",
              "      <td>-78.984194</td>\n",
              "      <td>Lewiston</td>\n",
              "      <td>NY</td>\n",
              "      <td>40</td>\n",
              "    </tr>\n",
              "  </tbody>\n",
              "</table>\n",
              "</div>"
            ],
            "text/plain": [
              "        ID Fuel Type Code Access Code Geocode Status   Latitude  Longitude  \\\n",
              "480  48907            CNG     private          200-9  43.182614 -78.984194   \n",
              "\n",
              "         City State  CNG Dispenser Num  \n",
              "480  Lewiston    NY                 40  "
            ]
          },
          "execution_count": 108,
          "metadata": {},
          "output_type": "execute_result"
        }
      ],
      "source": [
        "df_cng[df_cng['CNG Dispenser Num'] == 40]"
      ]
    },
    {
      "cell_type": "code",
      "execution_count": 109,
      "metadata": {
        "id": "Oor4Wk6OzV9K"
      },
      "outputs": [],
      "source": [
        "df_cng.loc[4867, 'CNG Dispenser Num'] = int(df_cng['CNG Dispenser Num'][df_cng['CNG Dispenser Num'] != -1].median())"
      ]
    },
    {
      "cell_type": "code",
      "execution_count": 110,
      "metadata": {
        "colab": {
          "base_uri": "https://localhost:8080/"
        },
        "id": "SjC3tFCdztGm",
        "outputId": "7714d75c-71a7-4601-d5e9-230c719f7c22"
      },
      "outputs": [
        {
          "data": {
            "text/plain": [
              "2.0"
            ]
          },
          "execution_count": 110,
          "metadata": {},
          "output_type": "execute_result"
        }
      ],
      "source": [
        "df_cng.loc[4867, 'CNG Dispenser Num']"
      ]
    },
    {
      "cell_type": "code",
      "execution_count": 111,
      "metadata": {
        "colab": {
          "base_uri": "https://localhost:8080/"
        },
        "id": "f04b6GYpz19G",
        "outputId": "9d768740-80df-4d13-996e-3060e6c6753d"
      },
      "outputs": [
        {
          "name": "stdout",
          "output_type": "stream",
          "text": [
            "<class 'pandas.core.frame.DataFrame'>\n",
            "Index: 208 entries, 0 to 4867\n",
            "Data columns (total 9 columns):\n",
            " #   Column             Non-Null Count  Dtype  \n",
            "---  ------             --------------  -----  \n",
            " 0   ID                 207 non-null    float64\n",
            " 1   Fuel Type Code     207 non-null    object \n",
            " 2   Access Code        207 non-null    object \n",
            " 3   Geocode Status     207 non-null    object \n",
            " 4   Latitude           207 non-null    float64\n",
            " 5   Longitude          207 non-null    float64\n",
            " 6   City               207 non-null    object \n",
            " 7   State              207 non-null    object \n",
            " 8   CNG Dispenser Num  208 non-null    float64\n",
            "dtypes: float64(4), object(5)\n",
            "memory usage: 24.4+ KB\n"
          ]
        }
      ],
      "source": [
        "df_cng.info()"
      ]
    },
    {
      "cell_type": "code",
      "execution_count": 112,
      "metadata": {
        "id": "Jer-4W_5M37l"
      },
      "outputs": [],
      "source": [
        "df_cng.to_csv(cng_EDA, encoding='utf-8')"
      ]
    },
    {
      "cell_type": "markdown",
      "metadata": {
        "id": "bNwnnPcpOuIZ"
      },
      "source": [
        "# df_lpg"
      ]
    },
    {
      "cell_type": "code",
      "execution_count": 113,
      "metadata": {
        "colab": {
          "base_uri": "https://localhost:8080/"
        },
        "id": "S4Q7M9BjHYg4",
        "outputId": "5495d3f6-af62-4dd0-f603-a17ccbf94f32"
      },
      "outputs": [
        {
          "name": "stdout",
          "output_type": "stream",
          "text": [
            "<class 'pandas.core.frame.DataFrame'>\n",
            "Index: 96 entries, 17 to 8617\n",
            "Data columns (total 9 columns):\n",
            " #   Column            Non-Null Count  Dtype  \n",
            "---  ------            --------------  -----  \n",
            " 0   ID                96 non-null     int64  \n",
            " 1   Fuel Type Code    96 non-null     object \n",
            " 2   Access Code       96 non-null     object \n",
            " 3   Geocode Status    96 non-null     object \n",
            " 4   Latitude          96 non-null     float64\n",
            " 5   Longitude         96 non-null     float64\n",
            " 6   City              96 non-null     object \n",
            " 7   State             96 non-null     object \n",
            " 8   LPG Nozzle Types  96 non-null     object \n",
            "dtypes: float64(2), int64(1), object(6)\n",
            "memory usage: 7.5+ KB\n"
          ]
        }
      ],
      "source": [
        "df_lpg.info()"
      ]
    },
    {
      "cell_type": "markdown",
      "metadata": {
        "id": "B5kjMqnrXNxk"
      },
      "source": [
        "Nulos: no se observan."
      ]
    },
    {
      "cell_type": "markdown",
      "metadata": {
        "id": "HyE3k5SDXUNP"
      },
      "source": [
        "Duplicados:"
      ]
    },
    {
      "cell_type": "code",
      "execution_count": 114,
      "metadata": {
        "colab": {
          "base_uri": "https://localhost:8080/"
        },
        "id": "5QM0uOTKXP90",
        "outputId": "5d2bc432-a5db-4a99-d80c-9944ac769fe6"
      },
      "outputs": [
        {
          "data": {
            "text/plain": [
              "0"
            ]
          },
          "execution_count": 114,
          "metadata": {},
          "output_type": "execute_result"
        }
      ],
      "source": [
        "df_lpg.duplicated().sum()"
      ]
    },
    {
      "cell_type": "markdown",
      "metadata": {
        "id": "o5ftmVsXXgbM"
      },
      "source": [
        "Outliers: los únicos datos numéricos son latitud y longitud, que se trataron previamente."
      ]
    },
    {
      "cell_type": "code",
      "execution_count": 115,
      "metadata": {
        "id": "4JSRz-dCZw-2"
      },
      "outputs": [],
      "source": [
        "df_lpg.to_csv(lpg_EDA, encoding='utf-8')"
      ]
    },
    {
      "cell_type": "markdown",
      "metadata": {
        "id": "XfSy30o3X8ml"
      },
      "source": [
        "# df_bd"
      ]
    },
    {
      "cell_type": "code",
      "execution_count": 116,
      "metadata": {
        "colab": {
          "base_uri": "https://localhost:8080/"
        },
        "id": "FeXGV_hEHeDX",
        "outputId": "2993f35a-1792-4014-e875-be49c2a7f78c"
      },
      "outputs": [
        {
          "name": "stdout",
          "output_type": "stream",
          "text": [
            "<class 'pandas.core.frame.DataFrame'>\n",
            "Index: 36 entries, 56 to 8054\n",
            "Data columns (total 8 columns):\n",
            " #   Column          Non-Null Count  Dtype  \n",
            "---  ------          --------------  -----  \n",
            " 0   ID              36 non-null     int64  \n",
            " 1   Fuel Type Code  36 non-null     object \n",
            " 2   Access Code     36 non-null     object \n",
            " 3   Geocode Status  36 non-null     object \n",
            " 4   Latitude        36 non-null     float64\n",
            " 5   Longitude       36 non-null     float64\n",
            " 6   City            36 non-null     object \n",
            " 7   State           36 non-null     object \n",
            "dtypes: float64(2), int64(1), object(5)\n",
            "memory usage: 2.5+ KB\n"
          ]
        }
      ],
      "source": [
        "df_bd.info()"
      ]
    },
    {
      "cell_type": "markdown",
      "metadata": {
        "id": "ojmx_wzkZNEm"
      },
      "source": [
        "Nulos: no se observan."
      ]
    },
    {
      "cell_type": "markdown",
      "metadata": {
        "id": "j161zNTxZVWI"
      },
      "source": [
        "Duplicados:"
      ]
    },
    {
      "cell_type": "code",
      "execution_count": 117,
      "metadata": {
        "colab": {
          "base_uri": "https://localhost:8080/"
        },
        "id": "WUkKZzfOZIvN",
        "outputId": "21050b74-eb4c-4051-cac0-5e6a2a8194ce"
      },
      "outputs": [
        {
          "data": {
            "text/plain": [
              "0"
            ]
          },
          "execution_count": 117,
          "metadata": {},
          "output_type": "execute_result"
        }
      ],
      "source": [
        "df_bd.duplicated().sum()"
      ]
    },
    {
      "cell_type": "markdown",
      "metadata": {
        "id": "mEED7snaZhxw"
      },
      "source": [
        "Outliers: los únicos datos numéricos son latitud y longitud, que se trataron previamente."
      ]
    },
    {
      "cell_type": "code",
      "execution_count": 118,
      "metadata": {
        "id": "5202MGlDaeBo"
      },
      "outputs": [],
      "source": [
        "df_bd.to_csv(bd_EDA, encoding='utf-8')"
      ]
    },
    {
      "cell_type": "markdown",
      "metadata": {
        "id": "l2F7doIva3oY"
      },
      "source": [
        "# df_e85"
      ]
    },
    {
      "cell_type": "code",
      "execution_count": 119,
      "metadata": {
        "colab": {
          "base_uri": "https://localhost:8080/"
        },
        "id": "frbuy74eHhbE",
        "outputId": "e5dabea6-9c0b-4026-bf98-b75a7105d08d"
      },
      "outputs": [
        {
          "name": "stdout",
          "output_type": "stream",
          "text": [
            "<class 'pandas.core.frame.DataFrame'>\n",
            "Index: 275 entries, 58 to 8877\n",
            "Data columns (total 8 columns):\n",
            " #   Column          Non-Null Count  Dtype  \n",
            "---  ------          --------------  -----  \n",
            " 0   ID              275 non-null    int64  \n",
            " 1   Fuel Type Code  275 non-null    object \n",
            " 2   Access Code     275 non-null    object \n",
            " 3   Geocode Status  275 non-null    object \n",
            " 4   Latitude        275 non-null    float64\n",
            " 5   Longitude       275 non-null    float64\n",
            " 6   City            275 non-null    object \n",
            " 7   State           275 non-null    object \n",
            "dtypes: float64(2), int64(1), object(5)\n",
            "memory usage: 19.3+ KB\n"
          ]
        }
      ],
      "source": [
        "df_e85.info()"
      ]
    },
    {
      "cell_type": "markdown",
      "metadata": {
        "id": "wC1sDqjUa7wN"
      },
      "source": [
        "Nulos: no se observan."
      ]
    },
    {
      "cell_type": "markdown",
      "metadata": {
        "id": "nFcI46o8bACb"
      },
      "source": [
        "Duplicados:"
      ]
    },
    {
      "cell_type": "code",
      "execution_count": 120,
      "metadata": {
        "colab": {
          "base_uri": "https://localhost:8080/"
        },
        "id": "GkfGAtSbbB2o",
        "outputId": "2bcf2ec9-0e05-46e1-df91-55455967f62c"
      },
      "outputs": [
        {
          "data": {
            "text/plain": [
              "0"
            ]
          },
          "execution_count": 120,
          "metadata": {},
          "output_type": "execute_result"
        }
      ],
      "source": [
        "df_e85.duplicated().sum()"
      ]
    },
    {
      "cell_type": "markdown",
      "metadata": {
        "id": "1giYCadjbLRe"
      },
      "source": [
        "Outliers: los únicos datos numéricos son latitud y longitud, que se trataron previamente."
      ]
    },
    {
      "cell_type": "code",
      "execution_count": 121,
      "metadata": {
        "id": "B8a1aQA4bMVz"
      },
      "outputs": [],
      "source": [
        "df_e85.to_csv(e85_EDA, encoding='utf-8')"
      ]
    },
    {
      "cell_type": "markdown",
      "metadata": {
        "id": "etaUnZsPb0za"
      },
      "source": [
        "# df_lng"
      ]
    },
    {
      "cell_type": "code",
      "execution_count": 122,
      "metadata": {
        "colab": {
          "base_uri": "https://localhost:8080/"
        },
        "id": "_3E63nhaHmwP",
        "outputId": "5cf2c069-e5d9-4052-813b-2e94f04f67dc"
      },
      "outputs": [
        {
          "name": "stdout",
          "output_type": "stream",
          "text": [
            "<class 'pandas.core.frame.DataFrame'>\n",
            "Index: 5 entries, 202 to 1090\n",
            "Data columns (total 8 columns):\n",
            " #   Column          Non-Null Count  Dtype  \n",
            "---  ------          --------------  -----  \n",
            " 0   ID              5 non-null      int64  \n",
            " 1   Fuel Type Code  5 non-null      object \n",
            " 2   Access Code     5 non-null      object \n",
            " 3   Geocode Status  5 non-null      object \n",
            " 4   Latitude        5 non-null      float64\n",
            " 5   Longitude       5 non-null      float64\n",
            " 6   City            5 non-null      object \n",
            " 7   State           5 non-null      object \n",
            "dtypes: float64(2), int64(1), object(5)\n",
            "memory usage: 360.0+ bytes\n"
          ]
        }
      ],
      "source": [
        "df_lng.info()"
      ]
    },
    {
      "cell_type": "markdown",
      "metadata": {
        "id": "m3i_gX1rcbOr"
      },
      "source": [
        "Nulos: no se observan."
      ]
    },
    {
      "cell_type": "markdown",
      "metadata": {
        "id": "hO7iR1UmcesR"
      },
      "source": [
        "Duplicados:"
      ]
    },
    {
      "cell_type": "code",
      "execution_count": 123,
      "metadata": {
        "colab": {
          "base_uri": "https://localhost:8080/"
        },
        "id": "LhKTmXqHcgpC",
        "outputId": "cd653406-4f57-48cd-cda8-870a5601f492"
      },
      "outputs": [
        {
          "data": {
            "text/plain": [
              "0"
            ]
          },
          "execution_count": 123,
          "metadata": {},
          "output_type": "execute_result"
        }
      ],
      "source": [
        "df_lng.duplicated().sum()"
      ]
    },
    {
      "cell_type": "markdown",
      "metadata": {
        "id": "nCtwJbn-cpkI"
      },
      "source": [
        "Outliers: los únicos datos numéricos son latitud y longitud, que se trataron previamente."
      ]
    },
    {
      "cell_type": "code",
      "execution_count": 124,
      "metadata": {
        "id": "UL_F9LJTcu6R"
      },
      "outputs": [],
      "source": [
        "df_lng.to_csv(lng_EDA, encoding='utf-8')"
      ]
    },
    {
      "cell_type": "markdown",
      "metadata": {
        "id": "3X8oNEQPdGK9"
      },
      "source": [
        "# df_hy"
      ]
    },
    {
      "cell_type": "code",
      "execution_count": 125,
      "metadata": {
        "colab": {
          "base_uri": "https://localhost:8080/"
        },
        "id": "Xl6va-UYHtzf",
        "outputId": "4af12c14-623c-43de-91bb-a804833dba7d"
      },
      "outputs": [
        {
          "name": "stdout",
          "output_type": "stream",
          "text": [
            "<class 'pandas.core.frame.DataFrame'>\n",
            "Index: 5 entries, 721 to 1468\n",
            "Data columns (total 8 columns):\n",
            " #   Column          Non-Null Count  Dtype  \n",
            "---  ------          --------------  -----  \n",
            " 0   ID              5 non-null      int64  \n",
            " 1   Fuel Type Code  5 non-null      object \n",
            " 2   Access Code     5 non-null      object \n",
            " 3   Geocode Status  5 non-null      object \n",
            " 4   Latitude        5 non-null      float64\n",
            " 5   Longitude       5 non-null      float64\n",
            " 6   City            5 non-null      object \n",
            " 7   State           5 non-null      object \n",
            "dtypes: float64(2), int64(1), object(5)\n",
            "memory usage: 360.0+ bytes\n"
          ]
        }
      ],
      "source": [
        "df_hy.info()"
      ]
    },
    {
      "cell_type": "markdown",
      "metadata": {
        "id": "QGWHkKKreBoU"
      },
      "source": [
        "Nulos: no se observan."
      ]
    },
    {
      "cell_type": "markdown",
      "metadata": {
        "id": "5U8V9XgdeHvx"
      },
      "source": [
        "Duplicados:"
      ]
    },
    {
      "cell_type": "code",
      "execution_count": 126,
      "metadata": {
        "colab": {
          "base_uri": "https://localhost:8080/"
        },
        "id": "ZOb9yyyGeJqR",
        "outputId": "6b515d19-fdb6-418e-c2bd-96ced5878894"
      },
      "outputs": [
        {
          "data": {
            "text/plain": [
              "0"
            ]
          },
          "execution_count": 126,
          "metadata": {},
          "output_type": "execute_result"
        }
      ],
      "source": [
        "df_hy.duplicated().sum()"
      ]
    },
    {
      "cell_type": "markdown",
      "metadata": {
        "id": "g9Cr8FAPeSxc"
      },
      "source": [
        "Outliers: los únicos datos numéricos son latitud y longitud, que se trataron previamente."
      ]
    },
    {
      "cell_type": "code",
      "execution_count": 127,
      "metadata": {
        "id": "iINhFwGseZ_r"
      },
      "outputs": [],
      "source": [
        "df_hy.to_csv(hy_EDA, encoding='utf-8')"
      ]
    },
    {
      "cell_type": "markdown",
      "metadata": {
        "id": "4ZrOHo9sfBoz"
      },
      "source": [
        "# df_elec"
      ]
    },
    {
      "cell_type": "code",
      "execution_count": 128,
      "metadata": {
        "colab": {
          "base_uri": "https://localhost:8080/"
        },
        "id": "t876vk4qHx7f",
        "outputId": "c7fd5a4a-8a3e-4b46-b3ff-79a75bfaecd9"
      },
      "outputs": [
        {
          "name": "stdout",
          "output_type": "stream",
          "text": [
            "<class 'pandas.core.frame.DataFrame'>\n",
            "Index: 8852 entries, 68 to 9475\n",
            "Data columns (total 13 columns):\n",
            " #   Column              Non-Null Count  Dtype  \n",
            "---  ------              --------------  -----  \n",
            " 0   ID                  8852 non-null   int64  \n",
            " 1   Fuel Type Code      8852 non-null   object \n",
            " 2   Access Code         8852 non-null   object \n",
            " 3   Geocode Status      8852 non-null   object \n",
            " 4   Latitude            8852 non-null   float64\n",
            " 5   Longitude           8852 non-null   float64\n",
            " 6   City                8852 non-null   object \n",
            " 7   State               8852 non-null   object \n",
            " 8   EV Level1 EVSE Num  34 non-null     float64\n",
            " 9   EV Level2 EVSE Num  8194 non-null   float64\n",
            " 10  EV DC Fast Count    799 non-null    float64\n",
            " 11  EV Connector Types  8850 non-null   object \n",
            " 12  EV Pricing          2282 non-null   object \n",
            "dtypes: float64(5), int64(1), object(7)\n",
            "memory usage: 968.2+ KB\n"
          ]
        }
      ],
      "source": [
        "df_elec.info()"
      ]
    },
    {
      "cell_type": "markdown",
      "metadata": {
        "id": "v5pEUfk7fFcx"
      },
      "source": [
        "Nulos:"
      ]
    },
    {
      "cell_type": "code",
      "execution_count": 129,
      "metadata": {
        "colab": {
          "base_uri": "https://localhost:8080/"
        },
        "id": "gJQB2HZifHe-",
        "outputId": "12e4a517-5381-4014-a8d4-a1c02aaf009c"
      },
      "outputs": [
        {
          "data": {
            "text/plain": [
              "array([nan,  1.,  2., 20.,  3.,  6.,  4., 11.])"
            ]
          },
          "execution_count": 129,
          "metadata": {},
          "output_type": "execute_result"
        }
      ],
      "source": [
        "df_elec['EV Level1 EVSE Num'].unique()"
      ]
    },
    {
      "cell_type": "markdown",
      "metadata": {
        "id": "67GBk6Sbf460"
      },
      "source": [
        "Esta columna indica la cantidad de cargadores nivel 1 disponibles en cada estación de carga. Vamos a reemplazar los NaN por 0 y pasar todo a entero. Lo mismo vamos a hacer para los de nivel 2, ya que la especificación implica que hay de un tipo o de otro."
      ]
    },
    {
      "cell_type": "code",
      "execution_count": 130,
      "metadata": {
        "id": "5FXvXjQ4h-AW"
      },
      "outputs": [],
      "source": [
        "df_elec['EV Level1 EVSE Num'] = df_elec['EV Level1 EVSE Num'].apply(entero_cero)\n",
        "df_elec['EV Level2 EVSE Num'] = df_elec['EV Level2 EVSE Num'].apply(entero_cero)"
      ]
    },
    {
      "cell_type": "code",
      "execution_count": 131,
      "metadata": {
        "colab": {
          "base_uri": "https://localhost:8080/"
        },
        "id": "j4ODLf6miPoH",
        "outputId": "8a26b3e7-ef6c-4c17-e5ff-3293a0f66aaa"
      },
      "outputs": [
        {
          "name": "stdout",
          "output_type": "stream",
          "text": [
            "<class 'pandas.core.frame.DataFrame'>\n",
            "Index: 8852 entries, 68 to 9475\n",
            "Data columns (total 13 columns):\n",
            " #   Column              Non-Null Count  Dtype  \n",
            "---  ------              --------------  -----  \n",
            " 0   ID                  8852 non-null   int64  \n",
            " 1   Fuel Type Code      8852 non-null   object \n",
            " 2   Access Code         8852 non-null   object \n",
            " 3   Geocode Status      8852 non-null   object \n",
            " 4   Latitude            8852 non-null   float64\n",
            " 5   Longitude           8852 non-null   float64\n",
            " 6   City                8852 non-null   object \n",
            " 7   State               8852 non-null   object \n",
            " 8   EV Level1 EVSE Num  8852 non-null   int64  \n",
            " 9   EV Level2 EVSE Num  8852 non-null   int64  \n",
            " 10  EV DC Fast Count    799 non-null    float64\n",
            " 11  EV Connector Types  8850 non-null   object \n",
            " 12  EV Pricing          2282 non-null   object \n",
            "dtypes: float64(3), int64(3), object(7)\n",
            "memory usage: 968.2+ KB\n"
          ]
        }
      ],
      "source": [
        "df_elec.info()"
      ]
    },
    {
      "cell_type": "code",
      "execution_count": 132,
      "metadata": {
        "colab": {
          "base_uri": "https://localhost:8080/"
        },
        "id": "skB4d-Sqi0pV",
        "outputId": "fcae7716-7111-4659-ff99-76024687264a"
      },
      "outputs": [
        {
          "data": {
            "text/plain": [
              "array([nan,  1.,  2.,  8., 10., 14., 16.,  4.,  6., 12., 20., 18.,  3.,\n",
              "       25.,  9.,  7.])"
            ]
          },
          "execution_count": 132,
          "metadata": {},
          "output_type": "execute_result"
        }
      ],
      "source": [
        "df_elec['EV DC Fast Count'].unique()"
      ]
    },
    {
      "cell_type": "markdown",
      "metadata": {
        "id": "GJjDCJGDi6Rb"
      },
      "source": [
        "Esta columna indica la cantidad de cargadores de cagra rápida disponibles en cada estación. Los datos que no tenemos los vamos a reemplazar por -1 y pasar los resultados a int."
      ]
    },
    {
      "cell_type": "code",
      "execution_count": 133,
      "metadata": {
        "id": "G61PeEmKjMLM"
      },
      "outputs": [],
      "source": [
        "df_elec['EV DC Fast Count'] = df_elec['EV DC Fast Count'].apply(entero)"
      ]
    },
    {
      "cell_type": "markdown",
      "metadata": {
        "id": "oSEXpI8EjU_q"
      },
      "source": [
        "Verificamos:"
      ]
    },
    {
      "cell_type": "code",
      "execution_count": 134,
      "metadata": {
        "colab": {
          "base_uri": "https://localhost:8080/",
          "height": 745
        },
        "id": "xI11YqP7jUX5",
        "outputId": "59ddc759-3777-4d9e-fdc5-28d9d0206f2f"
      },
      "outputs": [
        {
          "data": {
            "text/html": [
              "<div>\n",
              "<style scoped>\n",
              "    .dataframe tbody tr th:only-of-type {\n",
              "        vertical-align: middle;\n",
              "    }\n",
              "\n",
              "    .dataframe tbody tr th {\n",
              "        vertical-align: top;\n",
              "    }\n",
              "\n",
              "    .dataframe thead th {\n",
              "        text-align: right;\n",
              "    }\n",
              "</style>\n",
              "<table border=\"1\" class=\"dataframe\">\n",
              "  <thead>\n",
              "    <tr style=\"text-align: right;\">\n",
              "      <th></th>\n",
              "      <th>ID</th>\n",
              "      <th>Fuel Type Code</th>\n",
              "      <th>Access Code</th>\n",
              "      <th>Geocode Status</th>\n",
              "      <th>Latitude</th>\n",
              "      <th>Longitude</th>\n",
              "      <th>City</th>\n",
              "      <th>State</th>\n",
              "      <th>EV Level1 EVSE Num</th>\n",
              "      <th>EV Level2 EVSE Num</th>\n",
              "      <th>EV DC Fast Count</th>\n",
              "      <th>EV Connector Types</th>\n",
              "      <th>EV Pricing</th>\n",
              "    </tr>\n",
              "  </thead>\n",
              "  <tbody>\n",
              "    <tr>\n",
              "      <th>8392</th>\n",
              "      <td>207581</td>\n",
              "      <td>ELEC</td>\n",
              "      <td>public</td>\n",
              "      <td>GPS</td>\n",
              "      <td>40.444286</td>\n",
              "      <td>-79.940944</td>\n",
              "      <td>Pittsburgh</td>\n",
              "      <td>PA</td>\n",
              "      <td>0</td>\n",
              "      <td>1</td>\n",
              "      <td>-1</td>\n",
              "      <td>J1772</td>\n",
              "      <td>NaN</td>\n",
              "    </tr>\n",
              "    <tr>\n",
              "      <th>6060</th>\n",
              "      <td>182242</td>\n",
              "      <td>ELEC</td>\n",
              "      <td>public</td>\n",
              "      <td>GPS</td>\n",
              "      <td>42.423225</td>\n",
              "      <td>-71.067548</td>\n",
              "      <td>Malden</td>\n",
              "      <td>MA</td>\n",
              "      <td>0</td>\n",
              "      <td>2</td>\n",
              "      <td>-1</td>\n",
              "      <td>J1772</td>\n",
              "      <td>NaN</td>\n",
              "    </tr>\n",
              "    <tr>\n",
              "      <th>8432</th>\n",
              "      <td>207889</td>\n",
              "      <td>ELEC</td>\n",
              "      <td>public</td>\n",
              "      <td>GPS</td>\n",
              "      <td>40.772912</td>\n",
              "      <td>-73.992589</td>\n",
              "      <td>New York</td>\n",
              "      <td>NY</td>\n",
              "      <td>0</td>\n",
              "      <td>2</td>\n",
              "      <td>-1</td>\n",
              "      <td>J1772</td>\n",
              "      <td>NaN</td>\n",
              "    </tr>\n",
              "    <tr>\n",
              "      <th>8628</th>\n",
              "      <td>213839</td>\n",
              "      <td>ELEC</td>\n",
              "      <td>public</td>\n",
              "      <td>GPS</td>\n",
              "      <td>41.155498</td>\n",
              "      <td>-73.774256</td>\n",
              "      <td>Chappaqua</td>\n",
              "      <td>NY</td>\n",
              "      <td>0</td>\n",
              "      <td>2</td>\n",
              "      <td>-1</td>\n",
              "      <td>J1772</td>\n",
              "      <td>NaN</td>\n",
              "    </tr>\n",
              "    <tr>\n",
              "      <th>4127</th>\n",
              "      <td>162317</td>\n",
              "      <td>ELEC</td>\n",
              "      <td>public</td>\n",
              "      <td>GPS</td>\n",
              "      <td>42.205127</td>\n",
              "      <td>-74.212669</td>\n",
              "      <td>Hunter</td>\n",
              "      <td>NY</td>\n",
              "      <td>0</td>\n",
              "      <td>2</td>\n",
              "      <td>-1</td>\n",
              "      <td>J1772</td>\n",
              "      <td>NaN</td>\n",
              "    </tr>\n",
              "    <tr>\n",
              "      <th>5456</th>\n",
              "      <td>175064</td>\n",
              "      <td>ELEC</td>\n",
              "      <td>public</td>\n",
              "      <td>GPS</td>\n",
              "      <td>40.039122</td>\n",
              "      <td>-76.140294</td>\n",
              "      <td>Bird in Hand</td>\n",
              "      <td>PA</td>\n",
              "      <td>0</td>\n",
              "      <td>2</td>\n",
              "      <td>-1</td>\n",
              "      <td>J1772</td>\n",
              "      <td>NaN</td>\n",
              "    </tr>\n",
              "    <tr>\n",
              "      <th>8500</th>\n",
              "      <td>212115</td>\n",
              "      <td>ELEC</td>\n",
              "      <td>public</td>\n",
              "      <td>GPS</td>\n",
              "      <td>40.454427</td>\n",
              "      <td>-79.944441</td>\n",
              "      <td>Pittsburgh</td>\n",
              "      <td>PA</td>\n",
              "      <td>0</td>\n",
              "      <td>2</td>\n",
              "      <td>-1</td>\n",
              "      <td>J1772</td>\n",
              "      <td>NaN</td>\n",
              "    </tr>\n",
              "    <tr>\n",
              "      <th>3614</th>\n",
              "      <td>155029</td>\n",
              "      <td>ELEC</td>\n",
              "      <td>public</td>\n",
              "      <td>GPS</td>\n",
              "      <td>42.815708</td>\n",
              "      <td>-73.923732</td>\n",
              "      <td>Schenectady</td>\n",
              "      <td>NY</td>\n",
              "      <td>0</td>\n",
              "      <td>2</td>\n",
              "      <td>-1</td>\n",
              "      <td>J1772</td>\n",
              "      <td>$0.18 per hour</td>\n",
              "    </tr>\n",
              "    <tr>\n",
              "      <th>3536</th>\n",
              "      <td>154366</td>\n",
              "      <td>ELEC</td>\n",
              "      <td>public</td>\n",
              "      <td>GPS</td>\n",
              "      <td>41.837635</td>\n",
              "      <td>-71.117590</td>\n",
              "      <td>Dighton</td>\n",
              "      <td>MA</td>\n",
              "      <td>0</td>\n",
              "      <td>2</td>\n",
              "      <td>-1</td>\n",
              "      <td>J1772</td>\n",
              "      <td>NaN</td>\n",
              "    </tr>\n",
              "    <tr>\n",
              "      <th>4457</th>\n",
              "      <td>166326</td>\n",
              "      <td>ELEC</td>\n",
              "      <td>private</td>\n",
              "      <td>200-9</td>\n",
              "      <td>40.777924</td>\n",
              "      <td>-73.957245</td>\n",
              "      <td>Manhattan</td>\n",
              "      <td>NY</td>\n",
              "      <td>0</td>\n",
              "      <td>4</td>\n",
              "      <td>-1</td>\n",
              "      <td>J1772</td>\n",
              "      <td>NaN</td>\n",
              "    </tr>\n",
              "    <tr>\n",
              "      <th>3834</th>\n",
              "      <td>161863</td>\n",
              "      <td>ELEC</td>\n",
              "      <td>public</td>\n",
              "      <td>GPS</td>\n",
              "      <td>42.353349</td>\n",
              "      <td>-71.060557</td>\n",
              "      <td>Boston</td>\n",
              "      <td>MA</td>\n",
              "      <td>0</td>\n",
              "      <td>2</td>\n",
              "      <td>-1</td>\n",
              "      <td>J1772</td>\n",
              "      <td>NaN</td>\n",
              "    </tr>\n",
              "    <tr>\n",
              "      <th>1410</th>\n",
              "      <td>94595</td>\n",
              "      <td>ELEC</td>\n",
              "      <td>public</td>\n",
              "      <td>GPS</td>\n",
              "      <td>42.313976</td>\n",
              "      <td>-71.187696</td>\n",
              "      <td>Newton</td>\n",
              "      <td>MA</td>\n",
              "      <td>0</td>\n",
              "      <td>2</td>\n",
              "      <td>-1</td>\n",
              "      <td>J1772</td>\n",
              "      <td>NaN</td>\n",
              "    </tr>\n",
              "    <tr>\n",
              "      <th>6592</th>\n",
              "      <td>188031</td>\n",
              "      <td>ELEC</td>\n",
              "      <td>private</td>\n",
              "      <td>GPS</td>\n",
              "      <td>43.138518</td>\n",
              "      <td>-75.219497</td>\n",
              "      <td>Utica</td>\n",
              "      <td>NY</td>\n",
              "      <td>0</td>\n",
              "      <td>6</td>\n",
              "      <td>-1</td>\n",
              "      <td>J1772</td>\n",
              "      <td>NaN</td>\n",
              "    </tr>\n",
              "    <tr>\n",
              "      <th>4407</th>\n",
              "      <td>165397</td>\n",
              "      <td>ELEC</td>\n",
              "      <td>public</td>\n",
              "      <td>GPS</td>\n",
              "      <td>42.608073</td>\n",
              "      <td>-73.849243</td>\n",
              "      <td>Delmar</td>\n",
              "      <td>NY</td>\n",
              "      <td>0</td>\n",
              "      <td>2</td>\n",
              "      <td>-1</td>\n",
              "      <td>J1772</td>\n",
              "      <td>NaN</td>\n",
              "    </tr>\n",
              "    <tr>\n",
              "      <th>9415</th>\n",
              "      <td>223557</td>\n",
              "      <td>ELEC</td>\n",
              "      <td>public</td>\n",
              "      <td>GPS</td>\n",
              "      <td>40.927265</td>\n",
              "      <td>-74.071849</td>\n",
              "      <td>Paramus</td>\n",
              "      <td>NJ</td>\n",
              "      <td>0</td>\n",
              "      <td>2</td>\n",
              "      <td>-1</td>\n",
              "      <td>J1772</td>\n",
              "      <td>NaN</td>\n",
              "    </tr>\n",
              "    <tr>\n",
              "      <th>708</th>\n",
              "      <td>61694</td>\n",
              "      <td>ELEC</td>\n",
              "      <td>public</td>\n",
              "      <td>GPS</td>\n",
              "      <td>40.454592</td>\n",
              "      <td>-79.947636</td>\n",
              "      <td>Pittsburgh</td>\n",
              "      <td>PA</td>\n",
              "      <td>0</td>\n",
              "      <td>2</td>\n",
              "      <td>-1</td>\n",
              "      <td>J1772</td>\n",
              "      <td>NaN</td>\n",
              "    </tr>\n",
              "    <tr>\n",
              "      <th>7236</th>\n",
              "      <td>194111</td>\n",
              "      <td>ELEC</td>\n",
              "      <td>public</td>\n",
              "      <td>GPS</td>\n",
              "      <td>40.199566</td>\n",
              "      <td>-75.159820</td>\n",
              "      <td>Horsham</td>\n",
              "      <td>PA</td>\n",
              "      <td>0</td>\n",
              "      <td>2</td>\n",
              "      <td>-1</td>\n",
              "      <td>J1772</td>\n",
              "      <td>NaN</td>\n",
              "    </tr>\n",
              "    <tr>\n",
              "      <th>9326</th>\n",
              "      <td>223266</td>\n",
              "      <td>ELEC</td>\n",
              "      <td>public</td>\n",
              "      <td>GPS</td>\n",
              "      <td>40.781260</td>\n",
              "      <td>-73.980440</td>\n",
              "      <td>New York</td>\n",
              "      <td>NY</td>\n",
              "      <td>0</td>\n",
              "      <td>4</td>\n",
              "      <td>-1</td>\n",
              "      <td>J1772</td>\n",
              "      <td>NaN</td>\n",
              "    </tr>\n",
              "    <tr>\n",
              "      <th>2721</th>\n",
              "      <td>143262</td>\n",
              "      <td>ELEC</td>\n",
              "      <td>public</td>\n",
              "      <td>GPS</td>\n",
              "      <td>40.167775</td>\n",
              "      <td>-74.898164</td>\n",
              "      <td>Langhorne</td>\n",
              "      <td>PA</td>\n",
              "      <td>0</td>\n",
              "      <td>0</td>\n",
              "      <td>1</td>\n",
              "      <td>J1772COMBO</td>\n",
              "      <td>NaN</td>\n",
              "    </tr>\n",
              "    <tr>\n",
              "      <th>2658</th>\n",
              "      <td>123549</td>\n",
              "      <td>ELEC</td>\n",
              "      <td>public</td>\n",
              "      <td>GPS</td>\n",
              "      <td>43.098201</td>\n",
              "      <td>-73.783743</td>\n",
              "      <td>Saratoga Springs</td>\n",
              "      <td>NY</td>\n",
              "      <td>0</td>\n",
              "      <td>2</td>\n",
              "      <td>-1</td>\n",
              "      <td>J1772</td>\n",
              "      <td>NaN</td>\n",
              "    </tr>\n",
              "  </tbody>\n",
              "</table>\n",
              "</div>"
            ],
            "text/plain": [
              "          ID Fuel Type Code Access Code Geocode Status   Latitude  Longitude  \\\n",
              "8392  207581           ELEC      public            GPS  40.444286 -79.940944   \n",
              "6060  182242           ELEC      public            GPS  42.423225 -71.067548   \n",
              "8432  207889           ELEC      public            GPS  40.772912 -73.992589   \n",
              "8628  213839           ELEC      public            GPS  41.155498 -73.774256   \n",
              "4127  162317           ELEC      public            GPS  42.205127 -74.212669   \n",
              "5456  175064           ELEC      public            GPS  40.039122 -76.140294   \n",
              "8500  212115           ELEC      public            GPS  40.454427 -79.944441   \n",
              "3614  155029           ELEC      public            GPS  42.815708 -73.923732   \n",
              "3536  154366           ELEC      public            GPS  41.837635 -71.117590   \n",
              "4457  166326           ELEC     private          200-9  40.777924 -73.957245   \n",
              "3834  161863           ELEC      public            GPS  42.353349 -71.060557   \n",
              "1410   94595           ELEC      public            GPS  42.313976 -71.187696   \n",
              "6592  188031           ELEC     private            GPS  43.138518 -75.219497   \n",
              "4407  165397           ELEC      public            GPS  42.608073 -73.849243   \n",
              "9415  223557           ELEC      public            GPS  40.927265 -74.071849   \n",
              "708    61694           ELEC      public            GPS  40.454592 -79.947636   \n",
              "7236  194111           ELEC      public            GPS  40.199566 -75.159820   \n",
              "9326  223266           ELEC      public            GPS  40.781260 -73.980440   \n",
              "2721  143262           ELEC      public            GPS  40.167775 -74.898164   \n",
              "2658  123549           ELEC      public            GPS  43.098201 -73.783743   \n",
              "\n",
              "                  City State  EV Level1 EVSE Num  EV Level2 EVSE Num  \\\n",
              "8392        Pittsburgh    PA                   0                   1   \n",
              "6060            Malden    MA                   0                   2   \n",
              "8432          New York    NY                   0                   2   \n",
              "8628         Chappaqua    NY                   0                   2   \n",
              "4127            Hunter    NY                   0                   2   \n",
              "5456      Bird in Hand    PA                   0                   2   \n",
              "8500        Pittsburgh    PA                   0                   2   \n",
              "3614       Schenectady    NY                   0                   2   \n",
              "3536           Dighton    MA                   0                   2   \n",
              "4457         Manhattan    NY                   0                   4   \n",
              "3834            Boston    MA                   0                   2   \n",
              "1410            Newton    MA                   0                   2   \n",
              "6592             Utica    NY                   0                   6   \n",
              "4407            Delmar    NY                   0                   2   \n",
              "9415           Paramus    NJ                   0                   2   \n",
              "708         Pittsburgh    PA                   0                   2   \n",
              "7236           Horsham    PA                   0                   2   \n",
              "9326          New York    NY                   0                   4   \n",
              "2721         Langhorne    PA                   0                   0   \n",
              "2658  Saratoga Springs    NY                   0                   2   \n",
              "\n",
              "      EV DC Fast Count EV Connector Types      EV Pricing  \n",
              "8392                -1              J1772             NaN  \n",
              "6060                -1              J1772             NaN  \n",
              "8432                -1              J1772             NaN  \n",
              "8628                -1              J1772             NaN  \n",
              "4127                -1              J1772             NaN  \n",
              "5456                -1              J1772             NaN  \n",
              "8500                -1              J1772             NaN  \n",
              "3614                -1              J1772  $0.18 per hour  \n",
              "3536                -1              J1772             NaN  \n",
              "4457                -1              J1772             NaN  \n",
              "3834                -1              J1772             NaN  \n",
              "1410                -1              J1772             NaN  \n",
              "6592                -1              J1772             NaN  \n",
              "4407                -1              J1772             NaN  \n",
              "9415                -1              J1772             NaN  \n",
              "708                 -1              J1772             NaN  \n",
              "7236                -1              J1772             NaN  \n",
              "9326                -1              J1772             NaN  \n",
              "2721                 1         J1772COMBO             NaN  \n",
              "2658                -1              J1772             NaN  "
            ]
          },
          "execution_count": 134,
          "metadata": {},
          "output_type": "execute_result"
        }
      ],
      "source": [
        "df_elec.sample(20)"
      ]
    },
    {
      "cell_type": "code",
      "execution_count": 135,
      "metadata": {
        "colab": {
          "base_uri": "https://localhost:8080/"
        },
        "id": "CVBsDSXUjfV4",
        "outputId": "a58deb40-7f4f-455f-a1dc-040ae66d08df"
      },
      "outputs": [
        {
          "name": "stdout",
          "output_type": "stream",
          "text": [
            "<class 'pandas.core.frame.DataFrame'>\n",
            "Index: 8852 entries, 68 to 9475\n",
            "Data columns (total 13 columns):\n",
            " #   Column              Non-Null Count  Dtype  \n",
            "---  ------              --------------  -----  \n",
            " 0   ID                  8852 non-null   int64  \n",
            " 1   Fuel Type Code      8852 non-null   object \n",
            " 2   Access Code         8852 non-null   object \n",
            " 3   Geocode Status      8852 non-null   object \n",
            " 4   Latitude            8852 non-null   float64\n",
            " 5   Longitude           8852 non-null   float64\n",
            " 6   City                8852 non-null   object \n",
            " 7   State               8852 non-null   object \n",
            " 8   EV Level1 EVSE Num  8852 non-null   int64  \n",
            " 9   EV Level2 EVSE Num  8852 non-null   int64  \n",
            " 10  EV DC Fast Count    8852 non-null   int64  \n",
            " 11  EV Connector Types  8850 non-null   object \n",
            " 12  EV Pricing          2282 non-null   object \n",
            "dtypes: float64(2), int64(4), object(7)\n",
            "memory usage: 968.2+ KB\n"
          ]
        }
      ],
      "source": [
        "df_elec.info()"
      ]
    },
    {
      "cell_type": "code",
      "execution_count": 136,
      "metadata": {
        "colab": {
          "base_uri": "https://localhost:8080/"
        },
        "id": "ydE7iU51jskJ",
        "outputId": "3b6a7f0c-a597-4814-d880-8d72f4d302a7"
      },
      "outputs": [
        {
          "data": {
            "text/plain": [
              "array(['Free', nan, '$0.13 per kWh',\n",
              "       'Free chargers - garage parking rates', '$1 per hour',\n",
              "       '$3 per session for ticket holders; $1 per hour parking fee',\n",
              "       'Maximum payment of $15 for customers; Maximum payment of $29.95 for non-customers',\n",
              "       '$1.50 per hour', '$2 per hour', 'Free; donations accepted',\n",
              "       '$0.50 per hour', '$0.25 per kWh', 'Free; parking fee',\n",
              "       'Free; 4 hour limit', '$2 per session',\n",
              "       'L1: $0.89 per kWh; L2: $1.40 per kWh',\n",
              "       '$23 early bird (before 9am), $30 after, regardless of charging time. Pay at garage office.',\n",
              "       'Free; Donations encouraged', 'Variable parking fee',\n",
              "       'Level 2: $0.59 per kWh', 'Level 2: $0.49 per kWh',\n",
              "       'Free; pay to park',\n",
              "       '$1.35 per hour for first 4 hours, $3.00 per hour thereafter',\n",
              "       '$0.28 per kWh; $0.26 per minute above 60 kW and $0.13 per minute at or below 60 kW',\n",
              "       '$10 per session', '$0.10 per kWh',\n",
              "       '$0.18 per kWh for 20 minutes, $20 per hour after; parking fee',\n",
              "       '$0.10 per kWh; parking fee', '$0.10 per kWh; pay parking',\n",
              "       'Level 2: free; DC fast: fee required', '$0.15 per kWh',\n",
              "       'Valet fee overnight', '$0.16 per kWh', '$15 per session',\n",
              "       '$3.33 per hour',\n",
              "       '$1.50 per hour for first 3 hours; $5 per hour following',\n",
              "       '$0.00-$1.00/Hr Variable Parking Fee', 'FREE',\n",
              "       '$0.10/kWh Energy Fee', '$2.00/Hr Parking Fee',\n",
              "       '$1.99/Hr Parking Fee', '$0.00-$0.25/kWh Variable Energy Fee',\n",
              "       '$0.99-$5.00/Hr Variable Parking Fee',\n",
              "       '$0.60-$2.00/Hr Variable Parking Fee',\n",
              "       '$1.00-$5.00/Hr Variable Parking Fee', '$1.50/Hr Parking Fee',\n",
              "       '$0.25/kWh Energy Fee', '$1.00/Hr Parking Fee',\n",
              "       '$0.00-$5.00/Hr Variable Parking Fee', '$0.20/kWh Energy Fee',\n",
              "       '$1.75-$3.75/Hr Variable Parking Fee',\n",
              "       '$2.00-$5.00/Hr Variable Parking Fee',\n",
              "       '$1.00-$2.00/Hr Variable Parking Fee',\n",
              "       '$0.00-$2.00/Hr Variable Parking Fee',\n",
              "       '$1.00/Hr Parking Fee , $1.00/kWh Energy Fee',\n",
              "       '$1.00-$3.00/Hr Variable Parking Fee',\n",
              "       '$0.00-$3.00/Hr Variable Parking Fee, $0.00-$0.50/kWh Variable Energy Fee',\n",
              "       'Level 2: $0.25 per kWh',\n",
              "       '$1.00/Hr Parking Fee , $0.10/kWh Energy Fee',\n",
              "       'Free for first 2 hours, $1 per hour thereafter',\n",
              "       '$60 per month for unlimited use',\n",
              "       '$1.50 per hour for first 2 hours; $2.50 per hour thereafter; minimum payment is $1.50; maximum payment is $8 per every 4 hours',\n",
              "       '$0.60 per kWh', 'L2: Free; DCFC: Free for 30 minutes',\n",
              "       'Free; donations encouraged', '$3 per hour from 8am-9pm',\n",
              "       '$0.00-$6.00/Hr Variable Parking Fee', '$0.18 per hour',\n",
              "       '$0.49 per kWh', 'Level 2: $0.21 per kWh', '$5 per session',\n",
              "       '$0.18 per kWh', 'Level 2: $0.03 per 30 seconds', '$0.20 per kWh',\n",
              "       'In-store: $5 initial fee + $0.25 per minute; At pump: $12.50 per 30 minutes',\n",
              "       '$1.00-$25.00/Hr Variable Parking Fee',\n",
              "       '$0.00-$3.00/Hr Variable Parking Fee, $0.30/kWh Energy Fee',\n",
              "       '$0.00-$15.00/Hr Variable Parking Fee', 'Level 2: $0.69 per kWh',\n",
              "       'Free for guests; $15 for non-guests', 'Level 2: $0.39 per kWh',\n",
              "       'Level 2: $0.22 per kWh', 'Level 2: $0.4 per kWh', '$.15 per kWh',\n",
              "       'Level 2: $0.42 per kWh', 'Level 2: $0.5 per kWh',\n",
              "       'Level 2: $9.99 per session', '$4.39 per week', '$0.35 per minute',\n",
              "       'Level 2: $0.35 per kWh', '$0.30 per kWh', 'Level 2: $0.2 per kWh',\n",
              "       '$0.00-$4.00/Hr Variable Parking Fee',\n",
              "       '$1.50/Hr Parking Fee , $0.15/kWh Energy Fee',\n",
              "       '$1.25-$5.00/Hr Variable Parking Fee', '$0.39 per kWh',\n",
              "       '$3.50-$10.00/Hr Variable Parking Fee',\n",
              "       '$1.50-$5.00/Hr Variable Parking Fee',\n",
              "       '$0.35 per kWh; Parking fee',\n",
              "       '$3.00-$5.00/Hr Variable Parking Fee',\n",
              "       '$1.00-$4.00/Hr Variable Parking Fee', '$0.19/kWh Energy Fee',\n",
              "       '$0.25-$1.25/Hr Variable Parking Fee, $0.25-$0.50/kWh Variable Energy Fee',\n",
              "       '$0.75-$1.50/Hr Variable Parking Fee',\n",
              "       '$0.00-$5.00/Hr Variable Parking Fee, $0.35/kWh Energy Fee',\n",
              "       '$0.00-$10.00/Hr Variable Parking Fee, $0.20/kWh Energy Fee',\n",
              "       '$0.00-$5.00/Hr Variable Parking Fee, $0.00-$0.40/kWh Variable Energy Fee',\n",
              "       '$0.45/kWh Energy Fee', 'Level 2: $0.3 per kWh',\n",
              "       'Level 2: $0.36 per kWh', '$0.18/kWh Energy Fee',\n",
              "       '$5.00-$15.00/Hr Variable Parking Fee', '$0.24 per kWh',\n",
              "       '$0.24/kWh Energy Fee', '$5 per hour', '$0.12 per kWh',\n",
              "       '$0.12-$0.50/kWh Variable Energy Fee', '0.5/kWh', '0.43 kW/h',\n",
              "       'Level 2: $0.32 per kWh',\n",
              "       '$0.00-$1.00/Hr Variable Parking Fee, $0.20/kWh Energy Fee',\n",
              "       '$0.35 per kWh'], dtype=object)"
            ]
          },
          "execution_count": 136,
          "metadata": {},
          "output_type": "execute_result"
        }
      ],
      "source": [
        "df_elec['EV Pricing'].unique()"
      ]
    },
    {
      "cell_type": "markdown",
      "metadata": {
        "id": "1Yva_Un-j1bl"
      },
      "source": [
        "En esta columna, por el momento, solo vamos a completar con -1 los datos faltantes. La idea es procesarla más adelante y hacer la transformación con un poco más de contexto."
      ]
    },
    {
      "cell_type": "code",
      "execution_count": 137,
      "metadata": {
        "id": "4jaYkNX7kWe8"
      },
      "outputs": [],
      "source": [
        "df_elec['EV Pricing'] = df_elec['EV Pricing'].apply(completar)"
      ]
    },
    {
      "cell_type": "markdown",
      "metadata": {
        "id": "8tcbB-xmkefO"
      },
      "source": [
        "Verificamos:"
      ]
    },
    {
      "cell_type": "code",
      "execution_count": 138,
      "metadata": {
        "colab": {
          "base_uri": "https://localhost:8080/"
        },
        "id": "PDtB-FBIkf6r",
        "outputId": "b4cd6e01-a084-455e-83a7-313c98a033a5"
      },
      "outputs": [
        {
          "data": {
            "text/plain": [
              "7876                                                   -1\n",
              "8205                                                   -1\n",
              "6518                                                   -1\n",
              "3449                                                   -1\n",
              "844                                                    -1\n",
              "3701                                                   -1\n",
              "557                                                  Free\n",
              "1804                                                 Free\n",
              "5697                                                   -1\n",
              "8125                               Level 2: $0.49 per kWh\n",
              "2629                                                   -1\n",
              "8056                                                   -1\n",
              "1607    $0.28 per kWh; $0.26 per minute above 60 kW an...\n",
              "8137                                                   -1\n",
              "8493                                                   -1\n",
              "5481                                                   -1\n",
              "6994                                                   -1\n",
              "4070                                                   -1\n",
              "5748                                                   -1\n",
              "9163                                                   -1\n",
              "Name: EV Pricing, dtype: object"
            ]
          },
          "execution_count": 138,
          "metadata": {},
          "output_type": "execute_result"
        }
      ],
      "source": [
        "df_elec['EV Pricing'].sample(20)"
      ]
    },
    {
      "cell_type": "code",
      "execution_count": 139,
      "metadata": {
        "colab": {
          "base_uri": "https://localhost:8080/"
        },
        "id": "bTT9YSgQk4CB",
        "outputId": "4fbe4a26-cc6d-458a-b683-b8dc146b6d4d"
      },
      "outputs": [
        {
          "name": "stdout",
          "output_type": "stream",
          "text": [
            "<class 'pandas.core.frame.DataFrame'>\n",
            "Index: 8852 entries, 68 to 9475\n",
            "Data columns (total 13 columns):\n",
            " #   Column              Non-Null Count  Dtype  \n",
            "---  ------              --------------  -----  \n",
            " 0   ID                  8852 non-null   int64  \n",
            " 1   Fuel Type Code      8852 non-null   object \n",
            " 2   Access Code         8852 non-null   object \n",
            " 3   Geocode Status      8852 non-null   object \n",
            " 4   Latitude            8852 non-null   float64\n",
            " 5   Longitude           8852 non-null   float64\n",
            " 6   City                8852 non-null   object \n",
            " 7   State               8852 non-null   object \n",
            " 8   EV Level1 EVSE Num  8852 non-null   int64  \n",
            " 9   EV Level2 EVSE Num  8852 non-null   int64  \n",
            " 10  EV DC Fast Count    8852 non-null   int64  \n",
            " 11  EV Connector Types  8850 non-null   object \n",
            " 12  EV Pricing          8852 non-null   object \n",
            "dtypes: float64(2), int64(4), object(7)\n",
            "memory usage: 968.2+ KB\n"
          ]
        }
      ],
      "source": [
        "df_elec.info()"
      ]
    },
    {
      "cell_type": "markdown",
      "metadata": {
        "id": "Q8UQPNZRk7eo"
      },
      "source": [
        "Duplicados:"
      ]
    },
    {
      "cell_type": "code",
      "execution_count": 140,
      "metadata": {
        "colab": {
          "base_uri": "https://localhost:8080/"
        },
        "id": "Qf9RLZVck69F",
        "outputId": "072234e9-55ff-44c4-d90c-c470daf4eaa3"
      },
      "outputs": [
        {
          "data": {
            "text/plain": [
              "0"
            ]
          },
          "execution_count": 140,
          "metadata": {},
          "output_type": "execute_result"
        }
      ],
      "source": [
        "df_elec.duplicated().sum()"
      ]
    },
    {
      "cell_type": "markdown",
      "metadata": {
        "id": "NvAKnQYulKhy"
      },
      "source": [
        "Outliers:"
      ]
    },
    {
      "cell_type": "markdown",
      "metadata": {
        "id": "iPzC4gIQmYSA"
      },
      "source": [
        "Vamos a analzar las columnas con valores numéricos menos la de precio, que hay que transformarla."
      ]
    },
    {
      "cell_type": "code",
      "execution_count": 141,
      "metadata": {
        "id": "q4_O-cjfmCcf"
      },
      "outputs": [],
      "source": [
        "columnas_a_analizar = ['EV Level1 EVSE Num', 'EV Level2 EVSE Num', 'EV DC Fast Count']"
      ]
    },
    {
      "cell_type": "code",
      "execution_count": 142,
      "metadata": {
        "colab": {
          "base_uri": "https://localhost:8080/"
        },
        "id": "v8MbGPx1lHgh",
        "outputId": "6c34e757-7ecf-4f53-e4b3-5726aa10c6a8"
      },
      "outputs": [
        {
          "name": "stdout",
          "output_type": "stream",
          "text": [
            "\n",
            "\n",
            "Columna: EV Level1 EVSE Num\n",
            "count    34.000000\n",
            "mean      2.470588\n",
            "std       3.636809\n",
            "min       1.000000\n",
            "25%       1.000000\n",
            "50%       1.000000\n",
            "75%       2.000000\n",
            "max      20.000000\n",
            "Name: EV Level1 EVSE Num, dtype: float64\n",
            "\n",
            "\n",
            "Columna: EV Level2 EVSE Num\n",
            "count    8194.000000\n",
            "mean        2.305956\n",
            "std         1.768624\n",
            "min         1.000000\n",
            "25%         2.000000\n",
            "50%         2.000000\n",
            "75%         2.000000\n",
            "max        60.000000\n",
            "Name: EV Level2 EVSE Num, dtype: float64\n",
            "\n",
            "\n",
            "Columna: EV DC Fast Count\n",
            "count    799.000000\n",
            "mean       4.123905\n",
            "std        3.852339\n",
            "min        1.000000\n",
            "25%        1.000000\n",
            "50%        2.000000\n",
            "75%        8.000000\n",
            "max       25.000000\n",
            "Name: EV DC Fast Count, dtype: float64\n"
          ]
        }
      ],
      "source": [
        "for columna in columnas_a_analizar:\n",
        "    print(f'\\n\\nColumna: {columna}\\n{df_elec[columna][df_elec[columna] > 0].describe()}')\n",
        "    # En este caso tomamos mayor a 0 porque a los NaN les asignamos -1 (porque no conocemos los valores). Como en Nivel 1 hay muy\n",
        "    # pocos valores y a los faltantes se les asignó 0 (entendiendo que es el complemento de Nivel 2), no podemos tomar un promedio real."
      ]
    },
    {
      "cell_type": "code",
      "execution_count": 143,
      "metadata": {
        "colab": {
          "base_uri": "https://localhost:8080/"
        },
        "id": "jMcJ8HMx3rUe",
        "outputId": "f2d8e8ae-a4eb-4bb2-f108-599c8d29511f"
      },
      "outputs": [
        {
          "name": "stdout",
          "output_type": "stream",
          "text": [
            "\n",
            "\n",
            "Columna: EV Level1 EVSE Num\n",
            "Límite superior: 3.5\n",
            "Outliers: \n",
            "          ID  EV Level1 EVSE Num\n",
            "466    47804                  20\n",
            "3383  153028                   6\n",
            "6310  184854                   4\n",
            "6381  185492                  11\n",
            "\n",
            "\n",
            "Columna: EV Level2 EVSE Num\n",
            "Límite superior: 2.0\n",
            "Outliers: \n",
            "          ID  EV Level2 EVSE Num\n",
            "68     32973                   6\n",
            "109    35562                   7\n",
            "143    36925                   5\n",
            "144    36926                   3\n",
            "145    36928                   4\n",
            "...      ...                 ...\n",
            "9364  223304                   4\n",
            "9366  223311                   6\n",
            "9404  223509                  14\n",
            "9409  223526                   4\n",
            "9470  224261                  16\n",
            "\n",
            "[1284 rows x 2 columns]\n",
            "\n",
            "\n",
            "Columna: EV DC Fast Count\n",
            "Límite superior: 18.5\n",
            "Outliers: \n",
            "          ID  EV DC Fast Count\n",
            "1584  102300                20\n",
            "1591  102330                20\n",
            "3062  149365                20\n",
            "7294  194700                25\n"
          ]
        }
      ],
      "source": [
        "for columna in columnas_a_analizar:\n",
        "    q1 = df_elec[columna][df_elec[columna] > 0].quantile(0.25)\n",
        "    q3 = df_elec[columna][df_elec[columna] > 0].quantile(0.75)\n",
        "    iqr = q3 - q1\n",
        "    limite_superior = q3 + 1.5 * iqr\n",
        "    outliers = df_elec[['ID', columna]][df_elec[columna] > limite_superior]\n",
        "    print(f'\\n\\nColumna: {columna}\\nLímite superior: {limite_superior}\\nOutliers: \\n{outliers}')"
      ]
    },
    {
      "cell_type": "code",
      "execution_count": 144,
      "metadata": {
        "colab": {
          "base_uri": "https://localhost:8080/",
          "height": 1000
        },
        "id": "iz3YL-sj8Vw0",
        "outputId": "39814f3b-b802-421f-f523-2a2ee73a06af"
      },
      "outputs": [
        {
          "name": "stdout",
          "output_type": "stream",
          "text": [
            "\n",
            "\n"
          ]
        },
        {
          "data": {
            "image/png": "[encoded data removed]",
            "text/plain": [
              "<Figure size 500x500 with 1 Axes>"
            ]
          },
          "metadata": {},
          "output_type": "display_data"
        },
        {
          "name": "stdout",
          "output_type": "stream",
          "text": [
            "\n",
            "\n"
          ]
        },
        {
          "data": {
            "image/png": "[encoded data removed]",
            "text/plain": [
              "<Figure size 500x500 with 1 Axes>"
            ]
          },
          "metadata": {},
          "output_type": "display_data"
        },
        {
          "name": "stdout",
          "output_type": "stream",
          "text": [
            "\n",
            "\n",
            "\n",
            "\n"
          ]
        },
        {
          "data": {
            "image/png": "[encoded data removed]",
            "text/plain": [
              "<Figure size 500x500 with 1 Axes>"
            ]
          },
          "metadata": {},
          "output_type": "display_data"
        },
        {
          "name": "stdout",
          "output_type": "stream",
          "text": [
            "\n",
            "\n"
          ]
        },
        {
          "data": {
            "image/png": "[encoded data removed]",
            "text/plain": [
              "<Figure size 500x500 with 1 Axes>"
            ]
          },
          "metadata": {},
          "output_type": "display_data"
        },
        {
          "name": "stdout",
          "output_type": "stream",
          "text": [
            "\n",
            "\n",
            "\n",
            "\n"
          ]
        },
        {
          "data": {
            "image/png": "[encoded data removed]",
            "text/plain": [
              "<Figure size 500x500 with 1 Axes>"
            ]
          },
          "metadata": {},
          "output_type": "display_data"
        },
        {
          "name": "stdout",
          "output_type": "stream",
          "text": [
            "\n",
            "\n"
          ]
        },
        {
          "data": {
            "image/png": "[encoded data removed]",
            "text/plain": [
              "<Figure size 500x500 with 1 Axes>"
            ]
          },
          "metadata": {},
          "output_type": "display_data"
        },
        {
          "name": "stdout",
          "output_type": "stream",
          "text": [
            "\n",
            "\n"
          ]
        }
      ],
      "source": [
        "for columna in columnas_a_analizar:\n",
        "    columnas_español = {'EV Level1 EVSE Num':'cantidad de cargadores nivel 1',\n",
        "                        'EV Level2 EVSE Num':'cantidad de cargadores nivel 2',\n",
        "                        'EV DC Fast Count':'cantidad de cargadores rápidos'}\n",
        "    print()\n",
        "    print()\n",
        "    plt.figure(figsize=(5,5))\n",
        "    plt.hist(df_elec[columna][df_elec[columna] > 0], bins=40, edgecolor='black')\n",
        "    plt.title(f'Histograma de {columnas_español[columna]}\\n por estación de carga')\n",
        "    plt.xlabel('Cantidad')\n",
        "    plt.ylabel('Frecuencia')\n",
        "    plt.show()\n",
        "    print()\n",
        "    print()\n",
        "    plt.figure(figsize=(5,5))\n",
        "    plt.boxplot(df_elec[columna][df_elec[columna] > 0])\n",
        "    plt.title(f'Boxplot de {columnas_español[columna]}\\n por estación de carga')\n",
        "    plt.show()\n",
        "    print()\n",
        "    print()"
      ]
    },
    {
      "cell_type": "markdown",
      "metadata": {
        "id": "pi2e8alkrDZ7"
      },
      "source": [
        "Vemos que, matemáticamente, tenemos muchos valores atípicos (outliers), pero no se van a modificar porque no parecen ser errores. Analizando el contexto, verificamos que existen estacionamientos y centros de carga con esas cantidades de cargadores."
      ]
    },
    {
      "cell_type": "code",
      "execution_count": 145,
      "metadata": {
        "colab": {
          "base_uri": "https://localhost:8080/"
        },
        "id": "AimKsewnwPrW",
        "outputId": "9fa526de-344a-4738-f6cf-f196ae19cc3b"
      },
      "outputs": [
        {
          "name": "stdout",
          "output_type": "stream",
          "text": [
            "<class 'pandas.core.frame.DataFrame'>\n",
            "Index: 8852 entries, 68 to 9475\n",
            "Data columns (total 13 columns):\n",
            " #   Column              Non-Null Count  Dtype  \n",
            "---  ------              --------------  -----  \n",
            " 0   ID                  8852 non-null   int64  \n",
            " 1   Fuel Type Code      8852 non-null   object \n",
            " 2   Access Code         8852 non-null   object \n",
            " 3   Geocode Status      8852 non-null   object \n",
            " 4   Latitude            8852 non-null   float64\n",
            " 5   Longitude           8852 non-null   float64\n",
            " 6   City                8852 non-null   object \n",
            " 7   State               8852 non-null   object \n",
            " 8   EV Level1 EVSE Num  8852 non-null   int64  \n",
            " 9   EV Level2 EVSE Num  8852 non-null   int64  \n",
            " 10  EV DC Fast Count    8852 non-null   int64  \n",
            " 11  EV Connector Types  8850 non-null   object \n",
            " 12  EV Pricing          8852 non-null   object \n",
            "dtypes: float64(2), int64(4), object(7)\n",
            "memory usage: 968.2+ KB\n"
          ]
        }
      ],
      "source": [
        "df_elec.info()"
      ]
    },
    {
      "cell_type": "code",
      "execution_count": 146,
      "metadata": {
        "id": "nlbKoMN6wVaj"
      },
      "outputs": [],
      "source": [
        "nombres_normalizados = {'ID':'station_id', 'Access Code':'acces_code', 'Latitude':'latitude', 'Longitude': 'longitude', 'City':'city', 'State':'state',\n",
        "                        'EV Level1 EVSE Num':'ev_level1_evse_num', 'EV Level2 EVSE Num':'ev_level2_evse_num', 'EV DC Fast Count':'ev_dc_fast_count',\n",
        "                        'EV Connector Types':'ev_connector_types', 'EV Pricing':'ev_pricing'}"
      ]
    },
    {
      "cell_type": "code",
      "execution_count": 147,
      "metadata": {
        "id": "HVCL9v2SxkzI"
      },
      "outputs": [],
      "source": [
        "df_elec.rename(columns=nombres_normalizados, inplace=True)"
      ]
    },
    {
      "cell_type": "code",
      "execution_count": 148,
      "metadata": {
        "id": "fjv6AUTR0mzV"
      },
      "outputs": [],
      "source": [
        "df_elec = df_elec.drop(['Fuel Type Code', 'Geocode Status'],axis=1)"
      ]
    },
    {
      "cell_type": "code",
      "execution_count": 149,
      "metadata": {
        "id": "KcIR2LSVrRdJ"
      },
      "outputs": [],
      "source": [
        "df_elec.to_csv(elec_EDA, encoding='utf-8')"
      ]
    },
    {
      "cell_type": "markdown",
      "metadata": {
        "id": "ZZBu8IWgEA6J"
      },
      "source": [
        "# Gráficos"
      ]
    },
    {
      "cell_type": "code",
      "execution_count": 150,
      "metadata": {
        "colab": {
          "base_uri": "https://localhost:8080/",
          "height": 460
        },
        "id": "A9WN93x_EvAf",
        "outputId": "ea105be0-6ecb-4b2a-87fc-844fb91274c6"
      },
      "outputs": [
        {
          "data": {
            "image/png": "[encoded data removed]",
            "text/plain": [
              "<Figure size 300x300 with 1 Axes>"
            ]
          },
          "metadata": {},
          "output_type": "display_data"
        }
      ],
      "source": [
        "plt.figure(figsize=(3,3))\n",
        "df_tipo_combustible = df.groupby('Fuel Type Code').size().reset_index(name='Cantidad').sort_values(by='Cantidad', ascending=False).head(3)\n",
        "df_tipo_combustible['Fuel Type Code'] = df_tipo_combustible['Fuel Type Code'].replace('ELEC', 'Eléctrico').replace('E85', 'Etanol 85 %').replace('CNG', 'Gas Natural Comprimido')\n",
        "plt.bar(df_tipo_combustible['Fuel Type Code'], df_tipo_combustible['Cantidad'])\n",
        "plt.xlabel('Estación de carga')\n",
        "plt.ylabel('Cantidad')\n",
        "plt.xticks(rotation=30, ha='right')\n",
        "plt.title('Estaciones de carga para vehículos eléctricos\\n y de combustibles alternativos\\n en el estado de NY y estados limítrofes')\n",
        "for i, cantidad in enumerate(df_tipo_combustible['Cantidad']):\n",
        "    plt.text(df_tipo_combustible['Fuel Type Code'].iloc[i], cantidad + 0.1, str(cantidad), ha='center')\n",
        "plt.show()"
      ]
    },
    {
      "cell_type": "code",
      "execution_count": 154,
      "metadata": {
        "colab": {
          "base_uri": "https://localhost:8080/",
          "height": 1000
        },
        "id": "yhJKKffcIB5l",
        "outputId": "7f1bd8d5-3256-40aa-f3a2-c24194888e89"
      },
      "outputs": [
        {
          "ename": "KeyError",
          "evalue": "'City'",
          "output_type": "error",
          "traceback": [
            "\u001b[1;31m---------------------------------------------------------------------------\u001b[0m",
            "\u001b[1;31mKeyError\u001b[0m                                  Traceback (most recent call last)",
            "File \u001b[1;32mc:\\Users\\ANGEL\\AppData\\Local\\Programs\\Python\\Python311\\Lib\\site-packages\\pandas\\core\\indexes\\base.py:3791\u001b[0m, in \u001b[0;36mIndex.get_loc\u001b[1;34m(self, key)\u001b[0m\n\u001b[0;32m   3790\u001b[0m \u001b[38;5;28;01mtry\u001b[39;00m:\n\u001b[1;32m-> 3791\u001b[0m     \u001b[38;5;28;01mreturn\u001b[39;00m \u001b[38;5;28;43mself\u001b[39;49m\u001b[38;5;241;43m.\u001b[39;49m\u001b[43m_engine\u001b[49m\u001b[38;5;241;43m.\u001b[39;49m\u001b[43mget_loc\u001b[49m\u001b[43m(\u001b[49m\u001b[43mcasted_key\u001b[49m\u001b[43m)\u001b[49m\n\u001b[0;32m   3792\u001b[0m \u001b[38;5;28;01mexcept\u001b[39;00m \u001b[38;5;167;01mKeyError\u001b[39;00m \u001b[38;5;28;01mas\u001b[39;00m err:\n",
            "File \u001b[1;32mindex.pyx:152\u001b[0m, in \u001b[0;36mpandas._libs.index.IndexEngine.get_loc\u001b[1;34m()\u001b[0m\n",
            "File \u001b[1;32mindex.pyx:181\u001b[0m, in \u001b[0;36mpandas._libs.index.IndexEngine.get_loc\u001b[1;34m()\u001b[0m\n",
            "File \u001b[1;32mpandas\\_libs\\hashtable_class_helper.pxi:7080\u001b[0m, in \u001b[0;36mpandas._libs.hashtable.PyObjectHashTable.get_item\u001b[1;34m()\u001b[0m\n",
            "File \u001b[1;32mpandas\\_libs\\hashtable_class_helper.pxi:7088\u001b[0m, in \u001b[0;36mpandas._libs.hashtable.PyObjectHashTable.get_item\u001b[1;34m()\u001b[0m\n",
            "\u001b[1;31mKeyError\u001b[0m: 'City'",
            "\nThe above exception was the direct cause of the following exception:\n",
            "\u001b[1;31mKeyError\u001b[0m                                  Traceback (most recent call last)",
            "Cell \u001b[1;32mIn[154], line 9\u001b[0m\n\u001b[0;32m      7\u001b[0m plt\u001b[38;5;241m.\u001b[39mtitle(\u001b[38;5;124m'\u001b[39m\u001b[38;5;124mEstaciones de carga para vehículos eléctricos\u001b[39m\u001b[38;5;130;01m\\n\u001b[39;00m\u001b[38;5;124m por ciudad\u001b[39m\u001b[38;5;124m'\u001b[39m)\n\u001b[0;32m      8\u001b[0m \u001b[38;5;28;01mfor\u001b[39;00m i, cantidad \u001b[38;5;129;01min\u001b[39;00m \u001b[38;5;28menumerate\u001b[39m(df_ciudades[\u001b[38;5;124m'\u001b[39m\u001b[38;5;124mCantidad\u001b[39m\u001b[38;5;124m'\u001b[39m]):\n\u001b[1;32m----> 9\u001b[0m     plt\u001b[38;5;241m.\u001b[39mtext(\u001b[43mdf_ciudades\u001b[49m\u001b[43m[\u001b[49m\u001b[38;5;124;43m'\u001b[39;49m\u001b[38;5;124;43mCity\u001b[39;49m\u001b[38;5;124;43m'\u001b[39;49m\u001b[43m]\u001b[49m\u001b[38;5;241m.\u001b[39miloc[i], cantidad \u001b[38;5;241m+\u001b[39m \u001b[38;5;241m0.1\u001b[39m, \u001b[38;5;28mstr\u001b[39m(cantidad), ha\u001b[38;5;241m=\u001b[39m\u001b[38;5;124m'\u001b[39m\u001b[38;5;124mcenter\u001b[39m\u001b[38;5;124m'\u001b[39m)\n\u001b[0;32m     10\u001b[0m plt\u001b[38;5;241m.\u001b[39mshow()\n",
            "File \u001b[1;32mc:\\Users\\ANGEL\\AppData\\Local\\Programs\\Python\\Python311\\Lib\\site-packages\\pandas\\core\\frame.py:3893\u001b[0m, in \u001b[0;36mDataFrame.__getitem__\u001b[1;34m(self, key)\u001b[0m\n\u001b[0;32m   3891\u001b[0m \u001b[38;5;28;01mif\u001b[39;00m \u001b[38;5;28mself\u001b[39m\u001b[38;5;241m.\u001b[39mcolumns\u001b[38;5;241m.\u001b[39mnlevels \u001b[38;5;241m>\u001b[39m \u001b[38;5;241m1\u001b[39m:\n\u001b[0;32m   3892\u001b[0m     \u001b[38;5;28;01mreturn\u001b[39;00m \u001b[38;5;28mself\u001b[39m\u001b[38;5;241m.\u001b[39m_getitem_multilevel(key)\n\u001b[1;32m-> 3893\u001b[0m indexer \u001b[38;5;241m=\u001b[39m \u001b[38;5;28;43mself\u001b[39;49m\u001b[38;5;241;43m.\u001b[39;49m\u001b[43mcolumns\u001b[49m\u001b[38;5;241;43m.\u001b[39;49m\u001b[43mget_loc\u001b[49m\u001b[43m(\u001b[49m\u001b[43mkey\u001b[49m\u001b[43m)\u001b[49m\n\u001b[0;32m   3894\u001b[0m \u001b[38;5;28;01mif\u001b[39;00m is_integer(indexer):\n\u001b[0;32m   3895\u001b[0m     indexer \u001b[38;5;241m=\u001b[39m [indexer]\n",
            "File \u001b[1;32mc:\\Users\\ANGEL\\AppData\\Local\\Programs\\Python\\Python311\\Lib\\site-packages\\pandas\\core\\indexes\\base.py:3798\u001b[0m, in \u001b[0;36mIndex.get_loc\u001b[1;34m(self, key)\u001b[0m\n\u001b[0;32m   3793\u001b[0m     \u001b[38;5;28;01mif\u001b[39;00m \u001b[38;5;28misinstance\u001b[39m(casted_key, \u001b[38;5;28mslice\u001b[39m) \u001b[38;5;129;01mor\u001b[39;00m (\n\u001b[0;32m   3794\u001b[0m         \u001b[38;5;28misinstance\u001b[39m(casted_key, abc\u001b[38;5;241m.\u001b[39mIterable)\n\u001b[0;32m   3795\u001b[0m         \u001b[38;5;129;01mand\u001b[39;00m \u001b[38;5;28many\u001b[39m(\u001b[38;5;28misinstance\u001b[39m(x, \u001b[38;5;28mslice\u001b[39m) \u001b[38;5;28;01mfor\u001b[39;00m x \u001b[38;5;129;01min\u001b[39;00m casted_key)\n\u001b[0;32m   3796\u001b[0m     ):\n\u001b[0;32m   3797\u001b[0m         \u001b[38;5;28;01mraise\u001b[39;00m InvalidIndexError(key)\n\u001b[1;32m-> 3798\u001b[0m     \u001b[38;5;28;01mraise\u001b[39;00m \u001b[38;5;167;01mKeyError\u001b[39;00m(key) \u001b[38;5;28;01mfrom\u001b[39;00m \u001b[38;5;21;01merr\u001b[39;00m\n\u001b[0;32m   3799\u001b[0m \u001b[38;5;28;01mexcept\u001b[39;00m \u001b[38;5;167;01mTypeError\u001b[39;00m:\n\u001b[0;32m   3800\u001b[0m     \u001b[38;5;66;03m# If we have a listlike key, _check_indexing_error will raise\u001b[39;00m\n\u001b[0;32m   3801\u001b[0m     \u001b[38;5;66;03m#  InvalidIndexError. Otherwise we fall through and re-raise\u001b[39;00m\n\u001b[0;32m   3802\u001b[0m     \u001b[38;5;66;03m#  the TypeError.\u001b[39;00m\n\u001b[0;32m   3803\u001b[0m     \u001b[38;5;28mself\u001b[39m\u001b[38;5;241m.\u001b[39m_check_indexing_error(key)\n",
            "\u001b[1;31mKeyError\u001b[0m: 'City'"
          ]
        },
        {
          "data": {
            "image/png": "[encoded data removed]",
            "text/plain": [
              "<Figure size 500x500 with 1 Axes>"
            ]
          },
          "metadata": {},
          "output_type": "display_data"
        }
      ],
      "source": [
        "plt.figure(figsize=(5,5))\n",
        "df_ciudades = df_elec.groupby('city')['station_id'].count().reset_index(name='Cantidad').sort_values(by='Cantidad', ascending=False).head(10)\n",
        "plt.bar(df_ciudades['city'], df_ciudades['Cantidad'])\n",
        "plt.xlabel('Ciudad')\n",
        "plt.ylabel('Cantidad')\n",
        "plt.xticks(rotation=30, ha='right')\n",
        "plt.title('Estaciones de carga para vehículos eléctricos\\n por ciudad')\n",
        "for i, cantidad in enumerate(df_ciudades['Cantidad']):\n",
        "    plt.text(df_ciudades['City'].iloc[i], cantidad + 0.1, str(cantidad), ha='center')\n",
        "plt.show()"
      ]
    }
  ],
  "metadata": {
    "colab": {
      "provenance": []
    },
    "kernelspec": {
      "display_name": "Python 3",
      "name": "python3"
    },
    "language_info": {
      "codemirror_mode": {
        "name": "ipython",
        "version": 3
      },
      "file_extension": ".py",
      "mimetype": "text/x-python",
      "name": "python",
      "nbconvert_exporter": "python",
      "pygments_lexer": "ipython3",
      "version": "3.11.4"
    }
  },
  "nbformat": 4,
  "nbformat_minor": 0
}
