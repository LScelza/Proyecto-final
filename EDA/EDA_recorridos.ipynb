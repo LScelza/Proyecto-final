{
  "cells": [
    {
      "cell_type": "markdown",
      "metadata": {
        "id": "5-pwFOT6Fi8e"
      },
      "source": [
        "<h1 align=center> Proceso de EDA </h1>"
      ]
    },
    {
      "cell_type": "markdown",
      "metadata": {
        "id": "obw2gYVHF1Ip"
      },
      "source": [
        "<h2>Instalacion de librerias </h2>\n"
      ]
    },
    {
      "cell_type": "code",
      "execution_count": 2,
      "metadata": {
        "colab": {
          "base_uri": "https://localhost:8080/"
        },
        "id": "vddY9BDHCjbd",
        "outputId": "67f1238f-2f8e-45b3-b833-736f16de9158"
      },
      "outputs": [],
      "source": [
        "# %pip install -r ../requirements.txt"
      ]
    },
    {
      "cell_type": "markdown",
      "metadata": {
        "id": "AT-j8lqYrjKB"
      },
      "source": [
        "<h2> Importacion de libreria </h2>"
      ]
    },
    {
      "cell_type": "code",
      "execution_count": 3,
      "metadata": {
        "colab": {
          "base_uri": "https://localhost:8080/",
          "height": 17
        },
        "id": "5wQeiQ7nIaAM",
        "outputId": "554e425e-ec33-47cd-a9f7-bd06789545aa"
      },
      "outputs": [],
      "source": [
        "import pandas as pd\n",
        "import pyarrow\n",
        "import gzip\n",
        "import warnings\n",
        "warnings.filterwarnings(\"ignore\")\n",
        "import matplotlib.pyplot as plt\n",
        "import numpy as np\n",
        "import seaborn as sns"
      ]
    },
    {
      "cell_type": "markdown",
      "metadata": {
        "id": "MYR-JbB8t9aM"
      },
      "source": [
        "<h2>Rutas </h2>"
      ]
    },
    {
      "cell_type": "code",
      "execution_count": 4,
      "metadata": {
        "id": "254Folz_IiEA"
      },
      "outputs": [],
      "source": [
        "path = '../path.txt'"
      ]
    },
    {
      "cell_type": "markdown",
      "metadata": {
        "id": "nDemhfVrISFr"
      },
      "source": [
        "<h3 align=left> Funciones</h3>\n"
      ]
    },
    {
      "cell_type": "code",
      "execution_count": 5,
      "metadata": {
        "id": "wyPzTf1mCENf"
      },
      "outputs": [],
      "source": [
        "def chequear_duplicados(data:pd.DataFrame) -> None:\n",
        "    duplicados = data.duplicated().sum()\n",
        "    total = len(data)\n",
        "    porcentaje = round(duplicados/total*100,2)\n",
        "    print(f'\\nCantidad de duplicados: {duplicados:<7}      Porcentaje de duplicados: {str(porcentaje) + \" %\":<8}\\n')\n",
        "    if duplicados > 0:\n",
        "         data = data.drop_duplicates()\n",
        "         print(f'Se eliminaron {duplicados} registros duplicados.')\n"
      ]
    },
    {
      "cell_type": "code",
      "execution_count": 6,
      "metadata": {
        "id": "LQjDMlTA8IyY"
      },
      "outputs": [],
      "source": [
        "def testear_outliers(data: pd.DataFrame) -> None:\n",
        "    columnas_outliers = []\n",
        "    for columna in data.columns[2:]:\n",
        "        omitir_columnas = ['zona_inicio', 'zona_fin', 'modalidad_pago', 'hora_inicio', 'hora_fin']\n",
        "        if columna in omitir_columnas:\n",
        "            continue\n",
        "        q1 = data[columna][data[columna] > -1].quantile(0.25)\n",
        "        q3 = data[columna][data[columna] > -1].quantile(0.75)\n",
        "        iqr = q3 - q1\n",
        "        modal = ''\n",
        "        for valor in data[columna][data[columna] > -1].mode().to_list():\n",
        "            modal += str(valor) + ', '\n",
        "        modal = modal[:-2]\n",
        "        promedio = round(data[columna][data[columna] > -1].mean(), 2)\n",
        "        mediana = round(data[columna][data[columna] > -1].median(), 2)\n",
        "        limite_superior = round(q3 + 1.5 * iqr, 2)\n",
        "        limite_inferior = round(q1 - 1.5 * iqr, 2)\n",
        "        if limite_inferior < 0:\n",
        "            limite_inferior = 0\n",
        "        outliers = data[columna][(data[columna] > limite_superior) | (data[columna] < limite_inferior)].count()\n",
        "        if outliers > 0:\n",
        "            columnas_outliers.append({'Columna': columna, 'Cantidad de outliers': outliers,\n",
        "                                    'Límite inferior': limite_inferior, 'Límite superior': limite_superior,\n",
        "                                    'Índices': data[(data[columna] < limite_inferior) | (data[columna] > limite_superior)].index.to_list()})\n",
        "        print(f'\\nColumna: {columna:<20}\\n\\nModal: {modal:<24} Promedio: {promedio:<24} Mediana: {mediana:<24}\\n\\nLímite inferior: {limite_inferior:<14} Límite superior: {limite_superior:<17} Outliers: {outliers:<16}\\n\\n')\n",
        "        bins = (int(data[columna].max() +1) if data[columna].max() <= 40 else 40)\n",
        "        plt.figure(figsize=(3,3))\n",
        "        plt.hist(data[columna][data[columna] > -1], bins=bins, edgecolor='black')\n",
        "        plt.title(f'Histograma de {columna}')\n",
        "        plt.xlabel('Valor')\n",
        "        plt.ylabel('Frecuencia')\n",
        "        plt.show()\n",
        "        print('\\n\\n')\n",
        "        plt.figure(figsize=(3,3))\n",
        "        plt.boxplot(data[columna][data[columna] > -1])\n",
        "        plt.title(f'Boxplot de {columna}')\n",
        "        plt.xlabel('Valor')\n",
        "        plt.ylabel('Frecuencia')\n",
        "        plt.show()\n",
        "        print('\\n\\n\\n\\n')"
      ]
    },
    {
      "cell_type": "code",
      "execution_count": 7,
      "metadata": {
        "id": "geIldVQC6O0d"
      },
      "outputs": [],
      "source": [
        "def tope_pasajeros(cantidad:int) -> int:\n",
        "    if cantidad > 4:\n",
        "        return int(-1)\n",
        "    else:\n",
        "        return int(cantidad)"
      ]
    },
    {
      "cell_type": "code",
      "execution_count": 8,
      "metadata": {
        "id": "0VHfVEjsE7mM"
      },
      "outputs": [],
      "source": [
        "\n",
        "def outliers_distancia(limite) -> None:\n",
        "    columna_distancia_outliers = []\n",
        "    q1 = df_taxis_verdes['distancia'][(df_taxis_verdes['distancia'] > -1) & (df_taxis_verdes['distancia'] < limite)].quantile(0.25)\n",
        "    q3 = df_taxis_verdes['distancia'][(df_taxis_verdes['distancia'] > -1) & (df_taxis_verdes['distancia'] < limite)].quantile(0.75)\n",
        "    iqr = q3 - q1\n",
        "    modal = ''\n",
        "    for valor in df_taxis_verdes['distancia'][(df_taxis_verdes['distancia'] > -1) & (df_taxis_verdes['distancia'] < limite)].mode().to_list():\n",
        "        modal += str(valor) + ', '\n",
        "    modal = modal[:-2]\n",
        "    promedio = round(df_taxis_verdes['distancia'][(df_taxis_verdes['distancia'] > -1) & (df_taxis_verdes['distancia'] < limite)].mean(), 2)\n",
        "    mediana = round(df_taxis_verdes['distancia'][(df_taxis_verdes['distancia'] > -1) & (df_taxis_verdes['distancia'] < limite)].median(), 2)\n",
        "    limite_superior = round(q3 + 1.5 * iqr, 2)\n",
        "    limite_inferior = round(q1 - 1.5 * iqr, 2)\n",
        "    if limite_inferior < 0:\n",
        "        limite_inferior = 0\n",
        "    outliers = df_taxis_verdes['distancia'][(df_taxis_verdes['distancia'] > limite_superior) | (df_taxis_verdes['distancia'] < limite_inferior)].count()\n",
        "    if outliers > 0:\n",
        "        columna_distancia_outliers.append({'Columna': 'distancia', 'Cantidad de outliers': outliers,\n",
        "                                'Límite inferior': limite_inferior, 'Límite superior': limite_superior,\n",
        "                                'Índices': df_taxis_verdes[(df_taxis_verdes['distancia'] < limite_inferior) | (df_taxis_verdes['distancia'] > limite_superior)].index.to_list()})\n",
        "    print(f'\\nColumna: distancia\\n\\nModal: {modal:<24} Promedio: {promedio:<24} Mediana: {mediana:<24}\\n\\nLímite inferior: {limite_inferior:<14} Límite superior: {limite_superior:<17} Outliers: {outliers:<16}\\n\\n')\n",
        "    plt.figure(figsize=(3,3))\n",
        "    plt.hist(df_taxis_verdes['distancia'][(df_taxis_verdes['distancia'] > -1) & (df_taxis_verdes['distancia'] < limite)], bins=limite, edgecolor='black')\n",
        "    plt.title(f'Histograma de distancia (límite {limite})')\n",
        "    plt.xlabel('Valor')\n",
        "    plt.ylabel('Frecuencia')\n",
        "    plt.show()"
      ]
    },
    {
      "cell_type": "markdown",
      "metadata": {
        "id": "PgoKzMjZRks5"
      },
      "source": [
        "<h2>Exploracion</h2>\n"
      ]
    },
    {
      "cell_type": "code",
      "execution_count": 9,
      "metadata": {
        "id": "A7vQcHgaW7zP"
      },
      "outputs": [],
      "source": [
        "# Esta funcion se lee cada linea que se toma como una variables con un string asignado\n",
        "\n",
        "with open(path, 'r') as archivo:\n",
        "    for linea in archivo.readlines():\n",
        "        exec(linea.strip(), globals())"
      ]
    },
    {
      "cell_type": "code",
      "execution_count": 10,
      "metadata": {
        "id": "VZrK4v2ne72O"
      },
      "outputs": [],
      "source": [
        "df_taxis_verdes = pd.read_csv(ETL)"
      ]
    },
    {
      "cell_type": "code",
      "execution_count": 11,
      "metadata": {
        "id": "seuzBwJQ0XdE"
      },
      "outputs": [
        {
          "name": "stdout",
          "output_type": "stream",
          "text": [
            "<class 'pandas.core.frame.DataFrame'>\n",
            "RangeIndex: 76518 entries, 0 to 76517\n",
            "Data columns (total 11 columns):\n",
            " #   Column           Non-Null Count  Dtype  \n",
            "---  ------           --------------  -----  \n",
            " 0   inicio           76518 non-null  object \n",
            " 1   fin              76518 non-null  object \n",
            " 2   zona_inicio      76518 non-null  int64  \n",
            " 3   zona_fin         76518 non-null  int64  \n",
            " 4   pasajeros        76518 non-null  int64  \n",
            " 5   distancia        76518 non-null  float64\n",
            " 6   tarifa_medida    76518 non-null  float64\n",
            " 7   propina          76518 non-null  float64\n",
            " 8   tarifa_total     76518 non-null  float64\n",
            " 9   modalidad_pago   76518 non-null  float64\n",
            " 10  recargo_trafico  76518 non-null  float64\n",
            "dtypes: float64(6), int64(3), object(2)\n",
            "memory usage: 6.4+ MB\n"
          ]
        }
      ],
      "source": [
        "df_taxis_verdes.info()"
      ]
    },
    {
      "cell_type": "markdown",
      "metadata": {
        "id": "2BGQaB-z1qtI"
      },
      "source": [
        "# Análisis"
      ]
    },
    {
      "cell_type": "markdown",
      "metadata": {},
      "source": [
        "## Verificamos nulos"
      ]
    },
    {
      "cell_type": "code",
      "execution_count": 12,
      "metadata": {},
      "outputs": [
        {
          "data": {
            "text/plain": [
              "inicio             0\n",
              "fin                0\n",
              "zona_inicio        0\n",
              "zona_fin           0\n",
              "pasajeros          0\n",
              "distancia          0\n",
              "tarifa_medida      0\n",
              "propina            0\n",
              "tarifa_total       0\n",
              "modalidad_pago     0\n",
              "recargo_trafico    0\n",
              "dtype: int64"
            ]
          },
          "execution_count": 12,
          "metadata": {},
          "output_type": "execute_result"
        }
      ],
      "source": [
        "df_taxis_verdes.isnull().sum()"
      ]
    },
    {
      "cell_type": "markdown",
      "metadata": {
        "id": "4X6WWEeOCBBa"
      },
      "source": [
        "## Verificamos duplicados:"
      ]
    },
    {
      "cell_type": "code",
      "execution_count": 13,
      "metadata": {
        "colab": {
          "base_uri": "https://localhost:8080/"
        },
        "id": "LsJnCy0qEWJQ",
        "outputId": "20ef99fd-ad0b-47d1-93a0-bea79c98a890"
      },
      "outputs": [
        {
          "name": "stdout",
          "output_type": "stream",
          "text": [
            "\n",
            "Cantidad de duplicados: 0            Porcentaje de duplicados: 0.0 %   \n",
            "\n"
          ]
        }
      ],
      "source": [
        "chequear_duplicados(df_taxis_verdes)"
      ]
    },
    {
      "cell_type": "markdown",
      "metadata": {
        "id": "o4HW_WsaExI8"
      },
      "source": [
        "## Verificamos outliers:"
      ]
    },
    {
      "cell_type": "code",
      "execution_count": 14,
      "metadata": {
        "colab": {
          "base_uri": "https://localhost:8080/",
          "height": 1000
        },
        "id": "mwPGN6KNK2IO",
        "outputId": "19cc666c-dec2-47ef-efde-7f6a5daf1f3c"
      },
      "outputs": [
        {
          "name": "stdout",
          "output_type": "stream",
          "text": [
            "\n",
            "Columna: pasajeros           \n",
            "\n",
            "Modal: 1                        Promedio: 1.19                     Mediana: 1.0                     \n",
            "\n",
            "Límite inferior: 1.0            Límite superior: 1.0               Outliers: 40072           \n",
            "\n",
            "\n"
          ]
        },
        {
          "data": {
            "image/png": "[encoded data removed]",
            "text/plain": [
              "<Figure size 300x300 with 1 Axes>"
            ]
          },
          "metadata": {},
          "output_type": "display_data"
        },
        {
          "name": "stdout",
          "output_type": "stream",
          "text": [
            "\n",
            "\n",
            "\n"
          ]
        },
        {
          "data": {
            "image/png": "[encoded data removed]",
            "text/plain": [
              "<Figure size 300x300 with 1 Axes>"
            ]
          },
          "metadata": {},
          "output_type": "display_data"
        },
        {
          "name": "stdout",
          "output_type": "stream",
          "text": [
            "\n",
            "\n",
            "\n",
            "\n",
            "\n",
            "\n",
            "Columna: distancia           \n",
            "\n",
            "Modal: 0.0                      Promedio: 40.86                    Mediana: 2.59                    \n",
            "\n",
            "Límite inferior: 0              Límite superior: 12.45             Outliers: 6773            \n",
            "\n",
            "\n"
          ]
        },
        {
          "data": {
            "image/png": "[encoded data removed]",
            "text/plain": [
              "<Figure size 300x300 with 1 Axes>"
            ]
          },
          "metadata": {},
          "output_type": "display_data"
        },
        {
          "name": "stdout",
          "output_type": "stream",
          "text": [
            "\n",
            "\n",
            "\n"
          ]
        },
        {
          "data": {
            "image/png": "[encoded data removed]",
            "text/plain": [
              "<Figure size 300x300 with 1 Axes>"
            ]
          },
          "metadata": {},
          "output_type": "display_data"
        },
        {
          "name": "stdout",
          "output_type": "stream",
          "text": [
            "\n",
            "\n",
            "\n",
            "\n",
            "\n",
            "\n",
            "Columna: tarifa_medida       \n",
            "\n",
            "Modal: 7.0                      Promedio: 19.97                    Mediana: 16.73                   \n",
            "\n",
            "Límite inferior: 0              Límite superior: 50.25             Outliers: 3523            \n",
            "\n",
            "\n"
          ]
        },
        {
          "data": {
            "image/png": "[encoded data removed]",
            "text/plain": [
              "<Figure size 300x300 with 1 Axes>"
            ]
          },
          "metadata": {},
          "output_type": "display_data"
        },
        {
          "name": "stdout",
          "output_type": "stream",
          "text": [
            "\n",
            "\n",
            "\n"
          ]
        },
        {
          "data": {
            "image/png": "[encoded data removed]",
            "text/plain": [
              "<Figure size 300x300 with 1 Axes>"
            ]
          },
          "metadata": {},
          "output_type": "display_data"
        },
        {
          "name": "stdout",
          "output_type": "stream",
          "text": [
            "\n",
            "\n",
            "\n",
            "\n",
            "\n",
            "\n",
            "Columna: propina             \n",
            "\n",
            "Modal: 0.0                      Promedio: 1.51                     Mediana: 1.16                    \n",
            "\n",
            "Límite inferior: 0              Límite superior: 6.88              Outliers: 931             \n",
            "\n",
            "\n"
          ]
        },
        {
          "data": {
            "image/png": "[encoded data removed]",
            "text/plain": [
              "<Figure size 300x300 with 1 Axes>"
            ]
          },
          "metadata": {},
          "output_type": "display_data"
        },
        {
          "name": "stdout",
          "output_type": "stream",
          "text": [
            "\n",
            "\n",
            "\n"
          ]
        },
        {
          "data": {
            "image/png": "[encoded data removed]",
            "text/plain": [
              "<Figure size 300x300 with 1 Axes>"
            ]
          },
          "metadata": {},
          "output_type": "display_data"
        },
        {
          "name": "stdout",
          "output_type": "stream",
          "text": [
            "\n",
            "\n",
            "\n",
            "\n",
            "\n",
            "\n",
            "Columna: tarifa_total        \n",
            "\n",
            "Modal: 7.8                      Promedio: 23.61                    Mediana: 20.64                   \n",
            "\n",
            "Límite inferior: 0              Límite superior: 55.6              Outliers: 3850            \n",
            "\n",
            "\n"
          ]
        },
        {
          "data": {
            "image/png": "[encoded data removed]",
            "text/plain": [
              "<Figure size 300x300 with 1 Axes>"
            ]
          },
          "metadata": {},
          "output_type": "display_data"
        },
        {
          "name": "stdout",
          "output_type": "stream",
          "text": [
            "\n",
            "\n",
            "\n"
          ]
        },
        {
          "data": {
            "image/png": "[encoded data removed]",
            "text/plain": [
              "<Figure size 300x300 with 1 Axes>"
            ]
          },
          "metadata": {},
          "output_type": "display_data"
        },
        {
          "name": "stdout",
          "output_type": "stream",
          "text": [
            "\n",
            "\n",
            "\n",
            "\n",
            "\n",
            "\n",
            "Columna: recargo_trafico     \n",
            "\n",
            "Modal: 0.0                      Promedio: 0.61                     Mediana: 0.0                     \n",
            "\n",
            "Límite inferior: 0.0            Límite superior: 0.0               Outliers: 45081           \n",
            "\n",
            "\n"
          ]
        },
        {
          "data": {
            "image/png": "[encoded data removed]",
            "text/plain": [
              "<Figure size 300x300 with 1 Axes>"
            ]
          },
          "metadata": {},
          "output_type": "display_data"
        },
        {
          "name": "stdout",
          "output_type": "stream",
          "text": [
            "\n",
            "\n",
            "\n"
          ]
        },
        {
          "data": {
            "image/png": "[encoded data removed]",
            "text/plain": [
              "<Figure size 300x300 with 1 Axes>"
            ]
          },
          "metadata": {},
          "output_type": "display_data"
        },
        {
          "name": "stdout",
          "output_type": "stream",
          "text": [
            "\n",
            "\n",
            "\n",
            "\n",
            "\n"
          ]
        }
      ],
      "source": [
        "testear_outliers(df_taxis_verdes)"
      ]
    },
    {
      "cell_type": "markdown",
      "metadata": {
        "id": "TzKkWs0hR7om"
      },
      "source": [
        "Vemos que hay varias cosas para revisar, por lo que debemos hacer un EDA más profundo para cada columna. Después hay que hacer una función para solucionar esos problemas y volver a revisar la función de outliers."
      ]
    },
    {
      "cell_type": "code",
      "execution_count": 15,
      "metadata": {
        "id": "y0KDZnu4R661"
      },
      "outputs": [],
      "source": [
        "# for columna in df_taxis_verdes.columns[2:]:\n",
        "#     print('\\n\\n')\n",
        "#     print(df_taxis_verdes[columna][df_taxis_verdes[columna] < 0])\n"
      ]
    },
    {
      "cell_type": "markdown",
      "metadata": {
        "id": "yd0-Pv6pS6Wq"
      },
      "source": [
        "Vemos que hay muchos valores negativos. Primero hay que pasarlos a positivos y después convertir a -1 los NaN. Tiene que ser en ese orden para que no existan errores."
      ]
    },
    {
      "cell_type": "markdown",
      "metadata": {
        "id": "SJIfOHAUTSe_"
      },
      "source": [
        "Replanteamos la transformación de datos, agregando el paso de pasar a positivos antes de la verificación de nulos."
      ]
    },
    {
      "cell_type": "markdown",
      "metadata": {
        "id": "TmdK9demK24o"
      },
      "source": [
        "## Exploración de outlier:"
      ]
    },
    {
      "cell_type": "markdown",
      "metadata": {
        "id": "6QDUQBcdK7vO"
      },
      "source": [
        "Vemos que hay muchos valores atípicos, por lo que es necesario hacer una exploración más profunda de las columnas con problemas. Para una primera revisión tomamos los valores de límite superior calculados analíticamente y luego veremos el ajuste de los rangos correspondientes."
      ]
    },
    {
      "cell_type": "markdown",
      "metadata": {
        "id": "HY64pUo9LdvA"
      },
      "source": [
        "### Columna 'pasajeros'"
      ]
    },
    {
      "cell_type": "code",
      "execution_count": 16,
      "metadata": {
        "colab": {
          "base_uri": "https://localhost:8080/",
          "height": 399
        },
        "id": "D3KytjKVS56W",
        "outputId": "c3c10c46-c520-4b9a-d859-6b165437f9c3"
      },
      "outputs": [
        {
          "data": {
            "text/html": [
              "<div>\n",
              "<style scoped>\n",
              "    .dataframe tbody tr th:only-of-type {\n",
              "        vertical-align: middle;\n",
              "    }\n",
              "\n",
              "    .dataframe tbody tr th {\n",
              "        vertical-align: top;\n",
              "    }\n",
              "\n",
              "    .dataframe thead th {\n",
              "        text-align: right;\n",
              "    }\n",
              "</style>\n",
              "<table border=\"1\" class=\"dataframe\">\n",
              "  <thead>\n",
              "    <tr style=\"text-align: right;\">\n",
              "      <th></th>\n",
              "      <th>inicio</th>\n",
              "      <th>fin</th>\n",
              "      <th>zona_inicio</th>\n",
              "      <th>zona_fin</th>\n",
              "      <th>pasajeros</th>\n",
              "      <th>distancia</th>\n",
              "      <th>tarifa_medida</th>\n",
              "      <th>propina</th>\n",
              "      <th>tarifa_total</th>\n",
              "      <th>modalidad_pago</th>\n",
              "      <th>recargo_trafico</th>\n",
              "    </tr>\n",
              "  </thead>\n",
              "  <tbody>\n",
              "    <tr>\n",
              "      <th>154</th>\n",
              "      <td>2021-01-01 09:53:06</td>\n",
              "      <td>2021-01-01 09:54:41</td>\n",
              "      <td>74</td>\n",
              "      <td>75</td>\n",
              "      <td>5</td>\n",
              "      <td>0.45</td>\n",
              "      <td>3.5</td>\n",
              "      <td>0.00</td>\n",
              "      <td>4.30</td>\n",
              "      <td>2.0</td>\n",
              "      <td>0.00</td>\n",
              "    </tr>\n",
              "    <tr>\n",
              "      <th>15532</th>\n",
              "      <td>2021-01-13 09:48:53</td>\n",
              "      <td>2021-01-13 09:56:13</td>\n",
              "      <td>75</td>\n",
              "      <td>236</td>\n",
              "      <td>5</td>\n",
              "      <td>1.41</td>\n",
              "      <td>7.0</td>\n",
              "      <td>2.11</td>\n",
              "      <td>12.66</td>\n",
              "      <td>1.0</td>\n",
              "      <td>2.75</td>\n",
              "    </tr>\n",
              "    <tr>\n",
              "      <th>29803</th>\n",
              "      <td>2021-01-23 17:34:44</td>\n",
              "      <td>2021-01-23 17:41:59</td>\n",
              "      <td>74</td>\n",
              "      <td>236</td>\n",
              "      <td>4</td>\n",
              "      <td>1.92</td>\n",
              "      <td>8.0</td>\n",
              "      <td>2.31</td>\n",
              "      <td>13.86</td>\n",
              "      <td>1.0</td>\n",
              "      <td>2.75</td>\n",
              "    </tr>\n",
              "    <tr>\n",
              "      <th>20657</th>\n",
              "      <td>2021-01-16 16:41:16</td>\n",
              "      <td>2021-01-16 16:53:41</td>\n",
              "      <td>75</td>\n",
              "      <td>116</td>\n",
              "      <td>6</td>\n",
              "      <td>2.81</td>\n",
              "      <td>11.0</td>\n",
              "      <td>0.00</td>\n",
              "      <td>11.80</td>\n",
              "      <td>2.0</td>\n",
              "      <td>0.00</td>\n",
              "    </tr>\n",
              "    <tr>\n",
              "      <th>1765</th>\n",
              "      <td>2021-01-02 21:28:47</td>\n",
              "      <td>2021-01-02 21:35:08</td>\n",
              "      <td>41</td>\n",
              "      <td>42</td>\n",
              "      <td>6</td>\n",
              "      <td>1.26</td>\n",
              "      <td>7.0</td>\n",
              "      <td>0.00</td>\n",
              "      <td>8.30</td>\n",
              "      <td>2.0</td>\n",
              "      <td>0.00</td>\n",
              "    </tr>\n",
              "  </tbody>\n",
              "</table>\n",
              "</div>"
            ],
            "text/plain": [
              "                    inicio                  fin  zona_inicio  zona_fin  \\\n",
              "154    2021-01-01 09:53:06  2021-01-01 09:54:41           74        75   \n",
              "15532  2021-01-13 09:48:53  2021-01-13 09:56:13           75       236   \n",
              "29803  2021-01-23 17:34:44  2021-01-23 17:41:59           74       236   \n",
              "20657  2021-01-16 16:41:16  2021-01-16 16:53:41           75       116   \n",
              "1765   2021-01-02 21:28:47  2021-01-02 21:35:08           41        42   \n",
              "\n",
              "       pasajeros  distancia  tarifa_medida  propina  tarifa_total  \\\n",
              "154            5       0.45            3.5     0.00          4.30   \n",
              "15532          5       1.41            7.0     2.11         12.66   \n",
              "29803          4       1.92            8.0     2.31         13.86   \n",
              "20657          6       2.81           11.0     0.00         11.80   \n",
              "1765           6       1.26            7.0     0.00          8.30   \n",
              "\n",
              "       modalidad_pago  recargo_trafico  \n",
              "154               2.0             0.00  \n",
              "15532             1.0             2.75  \n",
              "29803             1.0             2.75  \n",
              "20657             2.0             0.00  \n",
              "1765              2.0             0.00  "
            ]
          },
          "execution_count": 16,
          "metadata": {},
          "output_type": "execute_result"
        }
      ],
      "source": [
        "df_taxis_verdes[df_taxis_verdes['pasajeros'] >= 3.5].sample(5)"
      ]
    },
    {
      "cell_type": "markdown",
      "metadata": {
        "id": "m2R9YCWTAZUM"
      },
      "source": [
        "Vemos que hay registros con 5 o más pasajeros. Al no tener referncias sobre los vehículos, vamos a tomar 4 como el máximo permitido por norma en autos nuevos. Si es mayor, le asignamos -1."
      ]
    },
    {
      "cell_type": "code",
      "execution_count": 17,
      "metadata": {
        "id": "BYIwIsBH6Owx"
      },
      "outputs": [],
      "source": [
        "df_taxis_verdes['pasajeros'] = df_taxis_verdes['pasajeros'].apply(tope_pasajeros)"
      ]
    },
    {
      "cell_type": "markdown",
      "metadata": {
        "id": "98fbDxtWCCaT"
      },
      "source": [
        "### Columna 'distancia'\n",
        "\n",
        "En los gráficos podemos ver que en esta columna, claramente, hay valores erróneos."
      ]
    },
    {
      "cell_type": "code",
      "execution_count": 18,
      "metadata": {
        "colab": {
          "base_uri": "https://localhost:8080/"
        },
        "id": "HMxUtSRZ6Pmd",
        "outputId": "487f9963-4c10-48a0-fed8-6fabca6496fd"
      },
      "outputs": [
        {
          "data": {
            "text/plain": [
              "941"
            ]
          },
          "execution_count": 18,
          "metadata": {},
          "output_type": "execute_result"
        }
      ],
      "source": [
        "df_taxis_verdes['distancia'][df_taxis_verdes['distancia'] > 20].nunique()"
      ]
    },
    {
      "cell_type": "code",
      "execution_count": 19,
      "metadata": {
        "colab": {
          "base_uri": "https://localhost:8080/"
        },
        "id": "-Y8W-XCXDUGi",
        "outputId": "222d2ec5-bda1-485a-baff-1147cfdc7de4"
      },
      "outputs": [
        {
          "data": {
            "text/plain": [
              "array([1.5703000e+02, 2.4415201e+05, 1.2940250e+05, 7.6965000e+03,\n",
              "       7.7005100e+03, 7.7026300e+03, 7.7093300e+03, 5.9187710e+04,\n",
              "       4.0537960e+04, 2.3675000e+02, 3.7990540e+04, 6.2559750e+04,\n",
              "       7.6742000e+02, 7.9762800e+03, 6.7315810e+04, 9.9986000e+02,\n",
              "       6.2769500e+04, 1.8284032e+05, 6.7345570e+04, 6.2828790e+04,\n",
              "       1.1359200e+03, 1.1620900e+03, 1.1788900e+03, 7.6058910e+04,\n",
              "       1.3792100e+03, 1.3867900e+03, 1.5067201e+05, 8.3658800e+03,\n",
              "       8.3614500e+03, 1.0193000e+02, 8.4036900e+03, 1.0909000e+02,\n",
              "       8.4105700e+03, 1.3163000e+02, 1.1465363e+05, 8.4134500e+03,\n",
              "       1.5829000e+02, 6.0132040e+04, 1.1671000e+02, 1.2201000e+02,\n",
              "       2.7259490e+04, 3.4555600e+04, 6.4111730e+04, 4.0859880e+04,\n",
              "       1.0528683e+05, 6.8656840e+04, 1.4497247e+05, 6.8855430e+04,\n",
              "       1.1847320e+04, 3.1332100e+03, 5.1334010e+04, 2.7679860e+04,\n",
              "       6.9045730e+04, 3.3160800e+03, 3.5388850e+04, 3.5396500e+04,\n",
              "       6.0382700e+04, 1.4494819e+05, 3.1450040e+04])"
            ]
          },
          "execution_count": 19,
          "metadata": {},
          "output_type": "execute_result"
        }
      ],
      "source": [
        "df_taxis_verdes['distancia'][df_taxis_verdes['distancia'] > 100].unique()"
      ]
    },
    {
      "cell_type": "markdown",
      "metadata": {
        "id": "qXEWCenkDbxw"
      },
      "source": [
        "Chequeamos algunos valores erróneos:"
      ]
    },
    {
      "cell_type": "code",
      "execution_count": 20,
      "metadata": {
        "colab": {
          "base_uri": "https://localhost:8080/",
          "height": 1000
        },
        "id": "AqxUrtJw6Pii",
        "outputId": "48db191e-3936-4050-9cab-e10a4627d3be"
      },
      "outputs": [
        {
          "data": {
            "text/html": [
              "<div>\n",
              "<style scoped>\n",
              "    .dataframe tbody tr th:only-of-type {\n",
              "        vertical-align: middle;\n",
              "    }\n",
              "\n",
              "    .dataframe tbody tr th {\n",
              "        vertical-align: top;\n",
              "    }\n",
              "\n",
              "    .dataframe thead th {\n",
              "        text-align: right;\n",
              "    }\n",
              "</style>\n",
              "<table border=\"1\" class=\"dataframe\">\n",
              "  <thead>\n",
              "    <tr style=\"text-align: right;\">\n",
              "      <th></th>\n",
              "      <th>inicio</th>\n",
              "      <th>fin</th>\n",
              "      <th>zona_inicio</th>\n",
              "      <th>zona_fin</th>\n",
              "      <th>pasajeros</th>\n",
              "      <th>distancia</th>\n",
              "      <th>tarifa_medida</th>\n",
              "      <th>propina</th>\n",
              "      <th>tarifa_total</th>\n",
              "      <th>modalidad_pago</th>\n",
              "      <th>recargo_trafico</th>\n",
              "    </tr>\n",
              "  </thead>\n",
              "  <tbody>\n",
              "    <tr>\n",
              "      <th>9239</th>\n",
              "      <td>2021-01-08 14:10:14</td>\n",
              "      <td>2021-01-08 14:31:11</td>\n",
              "      <td>15</td>\n",
              "      <td>16</td>\n",
              "      <td>1</td>\n",
              "      <td>244152.01</td>\n",
              "      <td>8.00</td>\n",
              "      <td>2.75</td>\n",
              "      <td>11.05</td>\n",
              "      <td>1.0</td>\n",
              "      <td>0.0</td>\n",
              "    </tr>\n",
              "    <tr>\n",
              "      <th>41521</th>\n",
              "      <td>2021-01-02 20:48:00</td>\n",
              "      <td>2021-01-02 21:36:00</td>\n",
              "      <td>136</td>\n",
              "      <td>225</td>\n",
              "      <td>-1</td>\n",
              "      <td>129402.50</td>\n",
              "      <td>71.83</td>\n",
              "      <td>2.75</td>\n",
              "      <td>81.00</td>\n",
              "      <td>-1.0</td>\n",
              "      <td>-1.0</td>\n",
              "    </tr>\n",
              "    <tr>\n",
              "      <th>41934</th>\n",
              "      <td>2021-01-03 15:51:00</td>\n",
              "      <td>2021-01-03 16:21:00</td>\n",
              "      <td>32</td>\n",
              "      <td>43</td>\n",
              "      <td>-1</td>\n",
              "      <td>59187.71</td>\n",
              "      <td>35.79</td>\n",
              "      <td>2.75</td>\n",
              "      <td>38.84</td>\n",
              "      <td>-1.0</td>\n",
              "      <td>-1.0</td>\n",
              "    </tr>\n",
              "    <tr>\n",
              "      <th>43028</th>\n",
              "      <td>2021-01-04 13:38:00</td>\n",
              "      <td>2021-01-04 13:45:00</td>\n",
              "      <td>39</td>\n",
              "      <td>222</td>\n",
              "      <td>-1</td>\n",
              "      <td>40537.96</td>\n",
              "      <td>15.43</td>\n",
              "      <td>2.75</td>\n",
              "      <td>18.48</td>\n",
              "      <td>-1.0</td>\n",
              "      <td>-1.0</td>\n",
              "    </tr>\n",
              "    <tr>\n",
              "      <th>44748</th>\n",
              "      <td>2021-01-05 15:58:00</td>\n",
              "      <td>2021-01-05 16:33:00</td>\n",
              "      <td>197</td>\n",
              "      <td>155</td>\n",
              "      <td>-1</td>\n",
              "      <td>37990.54</td>\n",
              "      <td>48.85</td>\n",
              "      <td>2.75</td>\n",
              "      <td>51.90</td>\n",
              "      <td>-1.0</td>\n",
              "      <td>-1.0</td>\n",
              "    </tr>\n",
              "    <tr>\n",
              "      <th>45633</th>\n",
              "      <td>2021-01-06 10:53:00</td>\n",
              "      <td>2021-01-06 11:08:00</td>\n",
              "      <td>130</td>\n",
              "      <td>95</td>\n",
              "      <td>-1</td>\n",
              "      <td>62559.75</td>\n",
              "      <td>21.26</td>\n",
              "      <td>2.75</td>\n",
              "      <td>24.31</td>\n",
              "      <td>-1.0</td>\n",
              "      <td>-1.0</td>\n",
              "    </tr>\n",
              "    <tr>\n",
              "      <th>48242</th>\n",
              "      <td>2021-01-08 05:44:00</td>\n",
              "      <td>2021-01-08 06:03:00</td>\n",
              "      <td>174</td>\n",
              "      <td>250</td>\n",
              "      <td>-1</td>\n",
              "      <td>67315.81</td>\n",
              "      <td>29.45</td>\n",
              "      <td>2.75</td>\n",
              "      <td>32.50</td>\n",
              "      <td>-1.0</td>\n",
              "      <td>-1.0</td>\n",
              "    </tr>\n",
              "    <tr>\n",
              "      <th>49029</th>\n",
              "      <td>2021-01-08 13:01:00</td>\n",
              "      <td>2021-01-08 13:40:00</td>\n",
              "      <td>124</td>\n",
              "      <td>170</td>\n",
              "      <td>-1</td>\n",
              "      <td>62769.50</td>\n",
              "      <td>35.19</td>\n",
              "      <td>2.75</td>\n",
              "      <td>44.36</td>\n",
              "      <td>-1.0</td>\n",
              "      <td>-1.0</td>\n",
              "    </tr>\n",
              "    <tr>\n",
              "      <th>49258</th>\n",
              "      <td>2021-01-08 15:34:00</td>\n",
              "      <td>2021-01-08 16:27:00</td>\n",
              "      <td>159</td>\n",
              "      <td>189</td>\n",
              "      <td>-1</td>\n",
              "      <td>182840.32</td>\n",
              "      <td>50.83</td>\n",
              "      <td>2.75</td>\n",
              "      <td>60.00</td>\n",
              "      <td>-1.0</td>\n",
              "      <td>-1.0</td>\n",
              "    </tr>\n",
              "    <tr>\n",
              "      <th>49488</th>\n",
              "      <td>2021-01-08 19:22:00</td>\n",
              "      <td>2021-01-08 19:49:00</td>\n",
              "      <td>265</td>\n",
              "      <td>42</td>\n",
              "      <td>-1</td>\n",
              "      <td>67345.57</td>\n",
              "      <td>54.25</td>\n",
              "      <td>2.75</td>\n",
              "      <td>57.30</td>\n",
              "      <td>-1.0</td>\n",
              "      <td>-1.0</td>\n",
              "    </tr>\n",
              "    <tr>\n",
              "      <th>49514</th>\n",
              "      <td>2021-01-08 20:06:00</td>\n",
              "      <td>2021-01-08 20:36:00</td>\n",
              "      <td>218</td>\n",
              "      <td>89</td>\n",
              "      <td>-1</td>\n",
              "      <td>62828.79</td>\n",
              "      <td>34.23</td>\n",
              "      <td>0.00</td>\n",
              "      <td>34.53</td>\n",
              "      <td>-1.0</td>\n",
              "      <td>-1.0</td>\n",
              "    </tr>\n",
              "    <tr>\n",
              "      <th>49981</th>\n",
              "      <td>2021-01-09 13:04:00</td>\n",
              "      <td>2021-01-09 13:23:00</td>\n",
              "      <td>55</td>\n",
              "      <td>228</td>\n",
              "      <td>-1</td>\n",
              "      <td>76058.91</td>\n",
              "      <td>29.15</td>\n",
              "      <td>2.75</td>\n",
              "      <td>32.20</td>\n",
              "      <td>-1.0</td>\n",
              "      <td>-1.0</td>\n",
              "    </tr>\n",
              "    <tr>\n",
              "      <th>51307</th>\n",
              "      <td>2021-01-11 10:00:00</td>\n",
              "      <td>2021-01-11 10:24:00</td>\n",
              "      <td>155</td>\n",
              "      <td>14</td>\n",
              "      <td>-1</td>\n",
              "      <td>150672.01</td>\n",
              "      <td>28.82</td>\n",
              "      <td>2.75</td>\n",
              "      <td>31.87</td>\n",
              "      <td>-1.0</td>\n",
              "      <td>-1.0</td>\n",
              "    </tr>\n",
              "    <tr>\n",
              "      <th>54615</th>\n",
              "      <td>2021-01-13 11:54:00</td>\n",
              "      <td>2021-01-13 12:20:00</td>\n",
              "      <td>71</td>\n",
              "      <td>61</td>\n",
              "      <td>-1</td>\n",
              "      <td>114653.63</td>\n",
              "      <td>22.45</td>\n",
              "      <td>2.75</td>\n",
              "      <td>25.50</td>\n",
              "      <td>-1.0</td>\n",
              "      <td>-1.0</td>\n",
              "    </tr>\n",
              "    <tr>\n",
              "      <th>55436</th>\n",
              "      <td>2021-01-13 20:45:00</td>\n",
              "      <td>2021-01-13 20:57:00</td>\n",
              "      <td>242</td>\n",
              "      <td>51</td>\n",
              "      <td>-1</td>\n",
              "      <td>60132.04</td>\n",
              "      <td>18.96</td>\n",
              "      <td>2.75</td>\n",
              "      <td>22.01</td>\n",
              "      <td>-1.0</td>\n",
              "      <td>-1.0</td>\n",
              "    </tr>\n",
              "    <tr>\n",
              "      <th>58504</th>\n",
              "      <td>2021-01-16 00:08:00</td>\n",
              "      <td>2021-01-16 00:26:00</td>\n",
              "      <td>169</td>\n",
              "      <td>41</td>\n",
              "      <td>-1</td>\n",
              "      <td>27259.49</td>\n",
              "      <td>20.68</td>\n",
              "      <td>4.63</td>\n",
              "      <td>25.61</td>\n",
              "      <td>-1.0</td>\n",
              "      <td>-1.0</td>\n",
              "    </tr>\n",
              "    <tr>\n",
              "      <th>59686</th>\n",
              "      <td>2021-01-17 19:02:00</td>\n",
              "      <td>2021-01-17 19:12:00</td>\n",
              "      <td>136</td>\n",
              "      <td>47</td>\n",
              "      <td>-1</td>\n",
              "      <td>34555.60</td>\n",
              "      <td>13.88</td>\n",
              "      <td>2.75</td>\n",
              "      <td>16.93</td>\n",
              "      <td>-1.0</td>\n",
              "      <td>-1.0</td>\n",
              "    </tr>\n",
              "    <tr>\n",
              "      <th>59821</th>\n",
              "      <td>2021-01-18 06:26:00</td>\n",
              "      <td>2021-01-18 06:50:00</td>\n",
              "      <td>35</td>\n",
              "      <td>21</td>\n",
              "      <td>-1</td>\n",
              "      <td>64111.73</td>\n",
              "      <td>31.90</td>\n",
              "      <td>2.75</td>\n",
              "      <td>34.95</td>\n",
              "      <td>-1.0</td>\n",
              "      <td>-1.0</td>\n",
              "    </tr>\n",
              "    <tr>\n",
              "      <th>59948</th>\n",
              "      <td>2021-01-18 09:41:00</td>\n",
              "      <td>2021-01-18 09:54:00</td>\n",
              "      <td>51</td>\n",
              "      <td>213</td>\n",
              "      <td>-1</td>\n",
              "      <td>40859.88</td>\n",
              "      <td>27.65</td>\n",
              "      <td>2.75</td>\n",
              "      <td>30.70</td>\n",
              "      <td>-1.0</td>\n",
              "      <td>-1.0</td>\n",
              "    </tr>\n",
              "    <tr>\n",
              "      <th>60419</th>\n",
              "      <td>2021-01-18 14:53:00</td>\n",
              "      <td>2021-01-18 14:58:00</td>\n",
              "      <td>250</td>\n",
              "      <td>182</td>\n",
              "      <td>-1</td>\n",
              "      <td>105286.83</td>\n",
              "      <td>18.59</td>\n",
              "      <td>2.75</td>\n",
              "      <td>21.64</td>\n",
              "      <td>-1.0</td>\n",
              "      <td>-1.0</td>\n",
              "    </tr>\n",
              "    <tr>\n",
              "      <th>60659</th>\n",
              "      <td>2021-01-18 21:32:00</td>\n",
              "      <td>2021-01-18 21:51:00</td>\n",
              "      <td>51</td>\n",
              "      <td>213</td>\n",
              "      <td>-1</td>\n",
              "      <td>68656.84</td>\n",
              "      <td>29.45</td>\n",
              "      <td>2.75</td>\n",
              "      <td>32.50</td>\n",
              "      <td>-1.0</td>\n",
              "      <td>-1.0</td>\n",
              "    </tr>\n",
              "    <tr>\n",
              "      <th>61239</th>\n",
              "      <td>2021-01-19 10:19:00</td>\n",
              "      <td>2021-01-19 10:25:00</td>\n",
              "      <td>121</td>\n",
              "      <td>9</td>\n",
              "      <td>-1</td>\n",
              "      <td>144972.47</td>\n",
              "      <td>15.86</td>\n",
              "      <td>2.75</td>\n",
              "      <td>21.66</td>\n",
              "      <td>-1.0</td>\n",
              "      <td>-1.0</td>\n",
              "    </tr>\n",
              "    <tr>\n",
              "      <th>62334</th>\n",
              "      <td>2021-01-19 23:27:00</td>\n",
              "      <td>2021-01-19 23:49:00</td>\n",
              "      <td>244</td>\n",
              "      <td>232</td>\n",
              "      <td>-1</td>\n",
              "      <td>68855.43</td>\n",
              "      <td>48.85</td>\n",
              "      <td>0.00</td>\n",
              "      <td>51.90</td>\n",
              "      <td>-1.0</td>\n",
              "      <td>-1.0</td>\n",
              "    </tr>\n",
              "    <tr>\n",
              "      <th>64122</th>\n",
              "      <td>2021-01-21 08:25:00</td>\n",
              "      <td>2021-01-21 09:01:00</td>\n",
              "      <td>127</td>\n",
              "      <td>263</td>\n",
              "      <td>-1</td>\n",
              "      <td>51334.01</td>\n",
              "      <td>32.10</td>\n",
              "      <td>0.00</td>\n",
              "      <td>35.15</td>\n",
              "      <td>-1.0</td>\n",
              "      <td>-1.0</td>\n",
              "    </tr>\n",
              "    <tr>\n",
              "      <th>64908</th>\n",
              "      <td>2021-01-21 13:09:00</td>\n",
              "      <td>2021-01-21 13:33:00</td>\n",
              "      <td>18</td>\n",
              "      <td>119</td>\n",
              "      <td>-1</td>\n",
              "      <td>27679.86</td>\n",
              "      <td>19.70</td>\n",
              "      <td>0.00</td>\n",
              "      <td>25.50</td>\n",
              "      <td>-1.0</td>\n",
              "      <td>-1.0</td>\n",
              "    </tr>\n",
              "    <tr>\n",
              "      <th>65412</th>\n",
              "      <td>2021-01-21 23:45:00</td>\n",
              "      <td>2021-01-22 00:03:00</td>\n",
              "      <td>169</td>\n",
              "      <td>116</td>\n",
              "      <td>-1</td>\n",
              "      <td>69045.73</td>\n",
              "      <td>13.98</td>\n",
              "      <td>0.00</td>\n",
              "      <td>14.28</td>\n",
              "      <td>-1.0</td>\n",
              "      <td>-1.0</td>\n",
              "    </tr>\n",
              "    <tr>\n",
              "      <th>69182</th>\n",
              "      <td>2021-01-25 14:39:00</td>\n",
              "      <td>2021-01-25 14:49:00</td>\n",
              "      <td>14</td>\n",
              "      <td>22</td>\n",
              "      <td>-1</td>\n",
              "      <td>35388.85</td>\n",
              "      <td>19.83</td>\n",
              "      <td>0.00</td>\n",
              "      <td>29.00</td>\n",
              "      <td>-1.0</td>\n",
              "      <td>-1.0</td>\n",
              "    </tr>\n",
              "    <tr>\n",
              "      <th>69277</th>\n",
              "      <td>2021-01-25 15:11:00</td>\n",
              "      <td>2021-01-25 15:42:00</td>\n",
              "      <td>123</td>\n",
              "      <td>62</td>\n",
              "      <td>-1</td>\n",
              "      <td>35396.50</td>\n",
              "      <td>29.45</td>\n",
              "      <td>0.00</td>\n",
              "      <td>32.50</td>\n",
              "      <td>-1.0</td>\n",
              "      <td>-1.0</td>\n",
              "    </tr>\n",
              "    <tr>\n",
              "      <th>70620</th>\n",
              "      <td>2021-01-26 15:11:00</td>\n",
              "      <td>2021-01-26 15:45:00</td>\n",
              "      <td>74</td>\n",
              "      <td>32</td>\n",
              "      <td>-1</td>\n",
              "      <td>60382.70</td>\n",
              "      <td>33.04</td>\n",
              "      <td>0.00</td>\n",
              "      <td>38.84</td>\n",
              "      <td>-1.0</td>\n",
              "      <td>-1.0</td>\n",
              "    </tr>\n",
              "    <tr>\n",
              "      <th>74381</th>\n",
              "      <td>2021-01-29 10:14:00</td>\n",
              "      <td>2021-01-29 10:28:00</td>\n",
              "      <td>81</td>\n",
              "      <td>242</td>\n",
              "      <td>-1</td>\n",
              "      <td>60382.70</td>\n",
              "      <td>13.62</td>\n",
              "      <td>0.00</td>\n",
              "      <td>16.67</td>\n",
              "      <td>-1.0</td>\n",
              "      <td>-1.0</td>\n",
              "    </tr>\n",
              "    <tr>\n",
              "      <th>74382</th>\n",
              "      <td>2021-01-29 10:58:00</td>\n",
              "      <td>2021-01-29 11:13:00</td>\n",
              "      <td>213</td>\n",
              "      <td>208</td>\n",
              "      <td>-1</td>\n",
              "      <td>60382.70</td>\n",
              "      <td>22.79</td>\n",
              "      <td>0.00</td>\n",
              "      <td>25.84</td>\n",
              "      <td>-1.0</td>\n",
              "      <td>-1.0</td>\n",
              "    </tr>\n",
              "    <tr>\n",
              "      <th>74531</th>\n",
              "      <td>2021-01-29 11:39:00</td>\n",
              "      <td>2021-01-29 11:53:00</td>\n",
              "      <td>213</td>\n",
              "      <td>250</td>\n",
              "      <td>-1</td>\n",
              "      <td>60382.70</td>\n",
              "      <td>17.60</td>\n",
              "      <td>0.00</td>\n",
              "      <td>20.65</td>\n",
              "      <td>-1.0</td>\n",
              "      <td>-1.0</td>\n",
              "    </tr>\n",
              "    <tr>\n",
              "      <th>75445</th>\n",
              "      <td>2021-01-30 06:29:00</td>\n",
              "      <td>2021-01-30 06:48:00</td>\n",
              "      <td>62</td>\n",
              "      <td>229</td>\n",
              "      <td>-1</td>\n",
              "      <td>144948.19</td>\n",
              "      <td>34.62</td>\n",
              "      <td>0.00</td>\n",
              "      <td>37.67</td>\n",
              "      <td>-1.0</td>\n",
              "      <td>-1.0</td>\n",
              "    </tr>\n",
              "    <tr>\n",
              "      <th>75754</th>\n",
              "      <td>2021-01-30 13:18:00</td>\n",
              "      <td>2021-01-30 13:27:00</td>\n",
              "      <td>83</td>\n",
              "      <td>129</td>\n",
              "      <td>-1</td>\n",
              "      <td>31450.04</td>\n",
              "      <td>21.45</td>\n",
              "      <td>0.00</td>\n",
              "      <td>24.50</td>\n",
              "      <td>-1.0</td>\n",
              "      <td>-1.0</td>\n",
              "    </tr>\n",
              "    <tr>\n",
              "      <th>76492</th>\n",
              "      <td>2021-01-31 19:17:00</td>\n",
              "      <td>2021-01-31 19:58:00</td>\n",
              "      <td>174</td>\n",
              "      <td>79</td>\n",
              "      <td>-1</td>\n",
              "      <td>60382.70</td>\n",
              "      <td>45.77</td>\n",
              "      <td>0.00</td>\n",
              "      <td>48.82</td>\n",
              "      <td>-1.0</td>\n",
              "      <td>-1.0</td>\n",
              "    </tr>\n",
              "  </tbody>\n",
              "</table>\n",
              "</div>"
            ],
            "text/plain": [
              "                    inicio                  fin  zona_inicio  zona_fin  \\\n",
              "9239   2021-01-08 14:10:14  2021-01-08 14:31:11           15        16   \n",
              "41521  2021-01-02 20:48:00  2021-01-02 21:36:00          136       225   \n",
              "41934  2021-01-03 15:51:00  2021-01-03 16:21:00           32        43   \n",
              "43028  2021-01-04 13:38:00  2021-01-04 13:45:00           39       222   \n",
              "44748  2021-01-05 15:58:00  2021-01-05 16:33:00          197       155   \n",
              "45633  2021-01-06 10:53:00  2021-01-06 11:08:00          130        95   \n",
              "48242  2021-01-08 05:44:00  2021-01-08 06:03:00          174       250   \n",
              "49029  2021-01-08 13:01:00  2021-01-08 13:40:00          124       170   \n",
              "49258  2021-01-08 15:34:00  2021-01-08 16:27:00          159       189   \n",
              "49488  2021-01-08 19:22:00  2021-01-08 19:49:00          265        42   \n",
              "49514  2021-01-08 20:06:00  2021-01-08 20:36:00          218        89   \n",
              "49981  2021-01-09 13:04:00  2021-01-09 13:23:00           55       228   \n",
              "51307  2021-01-11 10:00:00  2021-01-11 10:24:00          155        14   \n",
              "54615  2021-01-13 11:54:00  2021-01-13 12:20:00           71        61   \n",
              "55436  2021-01-13 20:45:00  2021-01-13 20:57:00          242        51   \n",
              "58504  2021-01-16 00:08:00  2021-01-16 00:26:00          169        41   \n",
              "59686  2021-01-17 19:02:00  2021-01-17 19:12:00          136        47   \n",
              "59821  2021-01-18 06:26:00  2021-01-18 06:50:00           35        21   \n",
              "59948  2021-01-18 09:41:00  2021-01-18 09:54:00           51       213   \n",
              "60419  2021-01-18 14:53:00  2021-01-18 14:58:00          250       182   \n",
              "60659  2021-01-18 21:32:00  2021-01-18 21:51:00           51       213   \n",
              "61239  2021-01-19 10:19:00  2021-01-19 10:25:00          121         9   \n",
              "62334  2021-01-19 23:27:00  2021-01-19 23:49:00          244       232   \n",
              "64122  2021-01-21 08:25:00  2021-01-21 09:01:00          127       263   \n",
              "64908  2021-01-21 13:09:00  2021-01-21 13:33:00           18       119   \n",
              "65412  2021-01-21 23:45:00  2021-01-22 00:03:00          169       116   \n",
              "69182  2021-01-25 14:39:00  2021-01-25 14:49:00           14        22   \n",
              "69277  2021-01-25 15:11:00  2021-01-25 15:42:00          123        62   \n",
              "70620  2021-01-26 15:11:00  2021-01-26 15:45:00           74        32   \n",
              "74381  2021-01-29 10:14:00  2021-01-29 10:28:00           81       242   \n",
              "74382  2021-01-29 10:58:00  2021-01-29 11:13:00          213       208   \n",
              "74531  2021-01-29 11:39:00  2021-01-29 11:53:00          213       250   \n",
              "75445  2021-01-30 06:29:00  2021-01-30 06:48:00           62       229   \n",
              "75754  2021-01-30 13:18:00  2021-01-30 13:27:00           83       129   \n",
              "76492  2021-01-31 19:17:00  2021-01-31 19:58:00          174        79   \n",
              "\n",
              "       pasajeros  distancia  tarifa_medida  propina  tarifa_total  \\\n",
              "9239           1  244152.01           8.00     2.75         11.05   \n",
              "41521         -1  129402.50          71.83     2.75         81.00   \n",
              "41934         -1   59187.71          35.79     2.75         38.84   \n",
              "43028         -1   40537.96          15.43     2.75         18.48   \n",
              "44748         -1   37990.54          48.85     2.75         51.90   \n",
              "45633         -1   62559.75          21.26     2.75         24.31   \n",
              "48242         -1   67315.81          29.45     2.75         32.50   \n",
              "49029         -1   62769.50          35.19     2.75         44.36   \n",
              "49258         -1  182840.32          50.83     2.75         60.00   \n",
              "49488         -1   67345.57          54.25     2.75         57.30   \n",
              "49514         -1   62828.79          34.23     0.00         34.53   \n",
              "49981         -1   76058.91          29.15     2.75         32.20   \n",
              "51307         -1  150672.01          28.82     2.75         31.87   \n",
              "54615         -1  114653.63          22.45     2.75         25.50   \n",
              "55436         -1   60132.04          18.96     2.75         22.01   \n",
              "58504         -1   27259.49          20.68     4.63         25.61   \n",
              "59686         -1   34555.60          13.88     2.75         16.93   \n",
              "59821         -1   64111.73          31.90     2.75         34.95   \n",
              "59948         -1   40859.88          27.65     2.75         30.70   \n",
              "60419         -1  105286.83          18.59     2.75         21.64   \n",
              "60659         -1   68656.84          29.45     2.75         32.50   \n",
              "61239         -1  144972.47          15.86     2.75         21.66   \n",
              "62334         -1   68855.43          48.85     0.00         51.90   \n",
              "64122         -1   51334.01          32.10     0.00         35.15   \n",
              "64908         -1   27679.86          19.70     0.00         25.50   \n",
              "65412         -1   69045.73          13.98     0.00         14.28   \n",
              "69182         -1   35388.85          19.83     0.00         29.00   \n",
              "69277         -1   35396.50          29.45     0.00         32.50   \n",
              "70620         -1   60382.70          33.04     0.00         38.84   \n",
              "74381         -1   60382.70          13.62     0.00         16.67   \n",
              "74382         -1   60382.70          22.79     0.00         25.84   \n",
              "74531         -1   60382.70          17.60     0.00         20.65   \n",
              "75445         -1  144948.19          34.62     0.00         37.67   \n",
              "75754         -1   31450.04          21.45     0.00         24.50   \n",
              "76492         -1   60382.70          45.77     0.00         48.82   \n",
              "\n",
              "       modalidad_pago  recargo_trafico  \n",
              "9239              1.0              0.0  \n",
              "41521            -1.0             -1.0  \n",
              "41934            -1.0             -1.0  \n",
              "43028            -1.0             -1.0  \n",
              "44748            -1.0             -1.0  \n",
              "45633            -1.0             -1.0  \n",
              "48242            -1.0             -1.0  \n",
              "49029            -1.0             -1.0  \n",
              "49258            -1.0             -1.0  \n",
              "49488            -1.0             -1.0  \n",
              "49514            -1.0             -1.0  \n",
              "49981            -1.0             -1.0  \n",
              "51307            -1.0             -1.0  \n",
              "54615            -1.0             -1.0  \n",
              "55436            -1.0             -1.0  \n",
              "58504            -1.0             -1.0  \n",
              "59686            -1.0             -1.0  \n",
              "59821            -1.0             -1.0  \n",
              "59948            -1.0             -1.0  \n",
              "60419            -1.0             -1.0  \n",
              "60659            -1.0             -1.0  \n",
              "61239            -1.0             -1.0  \n",
              "62334            -1.0             -1.0  \n",
              "64122            -1.0             -1.0  \n",
              "64908            -1.0             -1.0  \n",
              "65412            -1.0             -1.0  \n",
              "69182            -1.0             -1.0  \n",
              "69277            -1.0             -1.0  \n",
              "70620            -1.0             -1.0  \n",
              "74381            -1.0             -1.0  \n",
              "74382            -1.0             -1.0  \n",
              "74531            -1.0             -1.0  \n",
              "75445            -1.0             -1.0  \n",
              "75754            -1.0             -1.0  \n",
              "76492            -1.0             -1.0  "
            ]
          },
          "execution_count": 20,
          "metadata": {},
          "output_type": "execute_result"
        }
      ],
      "source": [
        "df_taxis_verdes[df_taxis_verdes['distancia'] > 19000]"
      ]
    },
    {
      "cell_type": "markdown",
      "metadata": {
        "id": "_LMRuYcwD51X"
      },
      "source": [
        "Borramos estos registros."
      ]
    },
    {
      "cell_type": "code",
      "execution_count": 21,
      "metadata": {
        "id": "mJARP5aC6Pek"
      },
      "outputs": [],
      "source": [
        "df_taxis_verdes = df_taxis_verdes.drop(df_taxis_verdes[df_taxis_verdes['distancia'] > 19000].index)"
      ]
    },
    {
      "cell_type": "markdown",
      "metadata": {
        "id": "8ly5rbphEQQh"
      },
      "source": [
        "Vemos valores más chicos pero extraños."
      ]
    },
    {
      "cell_type": "code",
      "execution_count": 22,
      "metadata": {
        "colab": {
          "base_uri": "https://localhost:8080/"
        },
        "id": "b1Xgiw9q6Os_",
        "outputId": "5173517c-79ee-46a9-98db-247d91e741f6"
      },
      "outputs": [
        {
          "data": {
            "text/plain": [
              "28"
            ]
          },
          "execution_count": 22,
          "metadata": {},
          "output_type": "execute_result"
        }
      ],
      "source": [
        "df_taxis_verdes['distancia'][df_taxis_verdes['distancia'] > 100].nunique()"
      ]
    },
    {
      "cell_type": "code",
      "execution_count": 23,
      "metadata": {
        "colab": {
          "base_uri": "https://localhost:8080/"
        },
        "id": "XPeSsOUrE44L",
        "outputId": "113e3a13-b00f-41b2-df83-fca32164d33f"
      },
      "outputs": [
        {
          "data": {
            "text/plain": [
              "array([  157.03,  7696.5 ,  7700.51,  7702.63,  7709.33,   236.75,\n",
              "         767.42,  7976.28,   999.86,  1135.92,  1162.09,  1178.89,\n",
              "        1379.21,  1386.79,  8365.88,  8361.45,   101.93,  8403.69,\n",
              "         109.09,  8410.57,   131.63,  8413.45,   158.29,   116.71,\n",
              "         122.01, 11847.32,  3133.21,  3316.08])"
            ]
          },
          "execution_count": 23,
          "metadata": {},
          "output_type": "execute_result"
        }
      ],
      "source": [
        "df_taxis_verdes['distancia'][df_taxis_verdes['distancia'] > 100].unique()"
      ]
    },
    {
      "cell_type": "code",
      "execution_count": 24,
      "metadata": {
        "colab": {
          "base_uri": "https://localhost:8080/",
          "height": 267
        },
        "id": "b_AhQMfIFEFz",
        "outputId": "3518c417-cd94-43c1-9ccc-d9109e522f45"
      },
      "outputs": [
        {
          "data": {
            "text/html": [
              "<div>\n",
              "<style scoped>\n",
              "    .dataframe tbody tr th:only-of-type {\n",
              "        vertical-align: middle;\n",
              "    }\n",
              "\n",
              "    .dataframe tbody tr th {\n",
              "        vertical-align: top;\n",
              "    }\n",
              "\n",
              "    .dataframe thead th {\n",
              "        text-align: right;\n",
              "    }\n",
              "</style>\n",
              "<table border=\"1\" class=\"dataframe\">\n",
              "  <thead>\n",
              "    <tr style=\"text-align: right;\">\n",
              "      <th></th>\n",
              "      <th>inicio</th>\n",
              "      <th>fin</th>\n",
              "      <th>zona_inicio</th>\n",
              "      <th>zona_fin</th>\n",
              "      <th>pasajeros</th>\n",
              "      <th>distancia</th>\n",
              "      <th>tarifa_medida</th>\n",
              "      <th>propina</th>\n",
              "      <th>tarifa_total</th>\n",
              "      <th>modalidad_pago</th>\n",
              "      <th>recargo_trafico</th>\n",
              "    </tr>\n",
              "  </thead>\n",
              "  <tbody>\n",
              "    <tr>\n",
              "      <th>54663</th>\n",
              "      <td>2021-01-13 12:08:00</td>\n",
              "      <td>2021-01-13 12:12:00</td>\n",
              "      <td>97</td>\n",
              "      <td>97</td>\n",
              "      <td>-1</td>\n",
              "      <td>8413.45</td>\n",
              "      <td>19.15</td>\n",
              "      <td>2.75</td>\n",
              "      <td>22.20</td>\n",
              "      <td>-1.0</td>\n",
              "      <td>-1.0</td>\n",
              "    </tr>\n",
              "    <tr>\n",
              "      <th>65448</th>\n",
              "      <td>2021-01-22 05:09:00</td>\n",
              "      <td>2021-01-22 05:20:00</td>\n",
              "      <td>76</td>\n",
              "      <td>2</td>\n",
              "      <td>-1</td>\n",
              "      <td>3316.08</td>\n",
              "      <td>36.50</td>\n",
              "      <td>0.00</td>\n",
              "      <td>41.84</td>\n",
              "      <td>-1.0</td>\n",
              "      <td>-1.0</td>\n",
              "    </tr>\n",
              "    <tr>\n",
              "      <th>41701</th>\n",
              "      <td>2021-01-03 10:31:00</td>\n",
              "      <td>2021-01-03 10:43:00</td>\n",
              "      <td>35</td>\n",
              "      <td>61</td>\n",
              "      <td>-1</td>\n",
              "      <td>7700.51</td>\n",
              "      <td>16.73</td>\n",
              "      <td>2.75</td>\n",
              "      <td>19.78</td>\n",
              "      <td>-1.0</td>\n",
              "      <td>-1.0</td>\n",
              "    </tr>\n",
              "  </tbody>\n",
              "</table>\n",
              "</div>"
            ],
            "text/plain": [
              "                    inicio                  fin  zona_inicio  zona_fin  \\\n",
              "54663  2021-01-13 12:08:00  2021-01-13 12:12:00           97        97   \n",
              "65448  2021-01-22 05:09:00  2021-01-22 05:20:00           76         2   \n",
              "41701  2021-01-03 10:31:00  2021-01-03 10:43:00           35        61   \n",
              "\n",
              "       pasajeros  distancia  tarifa_medida  propina  tarifa_total  \\\n",
              "54663         -1    8413.45          19.15     2.75         22.20   \n",
              "65448         -1    3316.08          36.50     0.00         41.84   \n",
              "41701         -1    7700.51          16.73     2.75         19.78   \n",
              "\n",
              "       modalidad_pago  recargo_trafico  \n",
              "54663            -1.0             -1.0  \n",
              "65448            -1.0             -1.0  \n",
              "41701            -1.0             -1.0  "
            ]
          },
          "execution_count": 24,
          "metadata": {},
          "output_type": "execute_result"
        }
      ],
      "source": [
        "df_taxis_verdes[df_taxis_verdes['distancia'] > 100].sample(3)"
      ]
    },
    {
      "cell_type": "markdown",
      "metadata": {
        "id": "f6mGBMUbFYiB"
      },
      "source": [
        "Hay algunos valores que parecen erróneos. Revisamos todos."
      ]
    },
    {
      "cell_type": "code",
      "execution_count": 25,
      "metadata": {
        "colab": {
          "base_uri": "https://localhost:8080/",
          "height": 1000
        },
        "id": "A9nFd3_lFEB1",
        "outputId": "84e88bb2-88bb-4544-e241-b6e42d95c5c0"
      },
      "outputs": [
        {
          "data": {
            "text/html": [
              "<div>\n",
              "<style scoped>\n",
              "    .dataframe tbody tr th:only-of-type {\n",
              "        vertical-align: middle;\n",
              "    }\n",
              "\n",
              "    .dataframe tbody tr th {\n",
              "        vertical-align: top;\n",
              "    }\n",
              "\n",
              "    .dataframe thead th {\n",
              "        text-align: right;\n",
              "    }\n",
              "</style>\n",
              "<table border=\"1\" class=\"dataframe\">\n",
              "  <thead>\n",
              "    <tr style=\"text-align: right;\">\n",
              "      <th></th>\n",
              "      <th>inicio</th>\n",
              "      <th>fin</th>\n",
              "      <th>zona_inicio</th>\n",
              "      <th>zona_fin</th>\n",
              "      <th>pasajeros</th>\n",
              "      <th>distancia</th>\n",
              "      <th>tarifa_medida</th>\n",
              "      <th>propina</th>\n",
              "      <th>tarifa_total</th>\n",
              "      <th>modalidad_pago</th>\n",
              "      <th>recargo_trafico</th>\n",
              "    </tr>\n",
              "  </thead>\n",
              "  <tbody>\n",
              "    <tr>\n",
              "      <th>5772</th>\n",
              "      <td>2021-01-06 09:21:13</td>\n",
              "      <td>2021-01-07 08:22:57</td>\n",
              "      <td>235</td>\n",
              "      <td>250</td>\n",
              "      <td>1</td>\n",
              "      <td>157.03</td>\n",
              "      <td>10.00</td>\n",
              "      <td>0.00</td>\n",
              "      <td>10.30</td>\n",
              "      <td>2.0</td>\n",
              "      <td>0.0</td>\n",
              "    </tr>\n",
              "    <tr>\n",
              "      <th>41700</th>\n",
              "      <td>2021-01-03 10:00:00</td>\n",
              "      <td>2021-01-03 10:17:00</td>\n",
              "      <td>17</td>\n",
              "      <td>77</td>\n",
              "      <td>-1</td>\n",
              "      <td>7696.50</td>\n",
              "      <td>23.31</td>\n",
              "      <td>2.75</td>\n",
              "      <td>26.36</td>\n",
              "      <td>-1.0</td>\n",
              "      <td>-1.0</td>\n",
              "    </tr>\n",
              "    <tr>\n",
              "      <th>41701</th>\n",
              "      <td>2021-01-03 10:31:00</td>\n",
              "      <td>2021-01-03 10:43:00</td>\n",
              "      <td>35</td>\n",
              "      <td>61</td>\n",
              "      <td>-1</td>\n",
              "      <td>7700.51</td>\n",
              "      <td>16.73</td>\n",
              "      <td>2.75</td>\n",
              "      <td>19.78</td>\n",
              "      <td>-1.0</td>\n",
              "      <td>-1.0</td>\n",
              "    </tr>\n",
              "    <tr>\n",
              "      <th>41750</th>\n",
              "      <td>2021-01-03 11:04:00</td>\n",
              "      <td>2021-01-03 11:12:00</td>\n",
              "      <td>61</td>\n",
              "      <td>35</td>\n",
              "      <td>-1</td>\n",
              "      <td>7702.63</td>\n",
              "      <td>16.73</td>\n",
              "      <td>2.75</td>\n",
              "      <td>19.78</td>\n",
              "      <td>-1.0</td>\n",
              "      <td>-1.0</td>\n",
              "    </tr>\n",
              "    <tr>\n",
              "      <th>41751</th>\n",
              "      <td>2021-01-03 11:52:00</td>\n",
              "      <td>2021-01-03 12:03:00</td>\n",
              "      <td>188</td>\n",
              "      <td>89</td>\n",
              "      <td>-1</td>\n",
              "      <td>7709.33</td>\n",
              "      <td>21.37</td>\n",
              "      <td>2.75</td>\n",
              "      <td>24.42</td>\n",
              "      <td>-1.0</td>\n",
              "      <td>-1.0</td>\n",
              "    </tr>\n",
              "    <tr>\n",
              "      <th>43582</th>\n",
              "      <td>2021-01-05 04:03:00</td>\n",
              "      <td>2021-01-05 04:33:00</td>\n",
              "      <td>38</td>\n",
              "      <td>170</td>\n",
              "      <td>-1</td>\n",
              "      <td>236.75</td>\n",
              "      <td>46.29</td>\n",
              "      <td>2.75</td>\n",
              "      <td>55.46</td>\n",
              "      <td>-1.0</td>\n",
              "      <td>-1.0</td>\n",
              "    </tr>\n",
              "    <tr>\n",
              "      <th>46703</th>\n",
              "      <td>2021-01-07 05:05:00</td>\n",
              "      <td>2021-01-07 05:29:00</td>\n",
              "      <td>205</td>\n",
              "      <td>170</td>\n",
              "      <td>-1</td>\n",
              "      <td>767.42</td>\n",
              "      <td>46.29</td>\n",
              "      <td>2.75</td>\n",
              "      <td>55.46</td>\n",
              "      <td>-1.0</td>\n",
              "      <td>-1.0</td>\n",
              "    </tr>\n",
              "    <tr>\n",
              "      <th>47312</th>\n",
              "      <td>2021-01-07 11:21:00</td>\n",
              "      <td>2021-01-07 12:01:00</td>\n",
              "      <td>17</td>\n",
              "      <td>39</td>\n",
              "      <td>-1</td>\n",
              "      <td>7976.28</td>\n",
              "      <td>23.31</td>\n",
              "      <td>2.75</td>\n",
              "      <td>26.36</td>\n",
              "      <td>-1.0</td>\n",
              "      <td>-1.0</td>\n",
              "    </tr>\n",
              "    <tr>\n",
              "      <th>48330</th>\n",
              "      <td>2021-01-08 07:18:00</td>\n",
              "      <td>2021-01-08 07:42:00</td>\n",
              "      <td>117</td>\n",
              "      <td>154</td>\n",
              "      <td>-1</td>\n",
              "      <td>999.86</td>\n",
              "      <td>42.11</td>\n",
              "      <td>2.75</td>\n",
              "      <td>47.45</td>\n",
              "      <td>-1.0</td>\n",
              "      <td>-1.0</td>\n",
              "    </tr>\n",
              "    <tr>\n",
              "      <th>49615</th>\n",
              "      <td>2021-01-09 05:41:00</td>\n",
              "      <td>2021-01-09 05:58:00</td>\n",
              "      <td>216</td>\n",
              "      <td>194</td>\n",
              "      <td>-1</td>\n",
              "      <td>1135.92</td>\n",
              "      <td>50.62</td>\n",
              "      <td>2.75</td>\n",
              "      <td>59.79</td>\n",
              "      <td>-1.0</td>\n",
              "      <td>-1.0</td>\n",
              "    </tr>\n",
              "    <tr>\n",
              "      <th>49621</th>\n",
              "      <td>2021-01-09 06:21:00</td>\n",
              "      <td>2021-01-09 06:47:00</td>\n",
              "      <td>169</td>\n",
              "      <td>63</td>\n",
              "      <td>-1</td>\n",
              "      <td>1162.09</td>\n",
              "      <td>47.86</td>\n",
              "      <td>2.75</td>\n",
              "      <td>57.03</td>\n",
              "      <td>-1.0</td>\n",
              "      <td>-1.0</td>\n",
              "    </tr>\n",
              "    <tr>\n",
              "      <th>49634</th>\n",
              "      <td>2021-01-09 07:48:00</td>\n",
              "      <td>2021-01-09 07:59:00</td>\n",
              "      <td>4</td>\n",
              "      <td>195</td>\n",
              "      <td>-1</td>\n",
              "      <td>1178.89</td>\n",
              "      <td>28.25</td>\n",
              "      <td>2.75</td>\n",
              "      <td>37.42</td>\n",
              "      <td>-1.0</td>\n",
              "      <td>-1.0</td>\n",
              "    </tr>\n",
              "    <tr>\n",
              "      <th>50951</th>\n",
              "      <td>2021-01-11 07:30:00</td>\n",
              "      <td>2021-01-11 08:15:00</td>\n",
              "      <td>117</td>\n",
              "      <td>261</td>\n",
              "      <td>-1</td>\n",
              "      <td>1379.21</td>\n",
              "      <td>50.63</td>\n",
              "      <td>2.75</td>\n",
              "      <td>62.09</td>\n",
              "      <td>-1.0</td>\n",
              "      <td>-1.0</td>\n",
              "    </tr>\n",
              "    <tr>\n",
              "      <th>51057</th>\n",
              "      <td>2021-01-11 08:33:00</td>\n",
              "      <td>2021-01-11 09:00:00</td>\n",
              "      <td>232</td>\n",
              "      <td>61</td>\n",
              "      <td>-1</td>\n",
              "      <td>1386.79</td>\n",
              "      <td>25.93</td>\n",
              "      <td>2.75</td>\n",
              "      <td>28.98</td>\n",
              "      <td>-1.0</td>\n",
              "      <td>-1.0</td>\n",
              "    </tr>\n",
              "    <tr>\n",
              "      <th>53193</th>\n",
              "      <td>2021-01-12 13:57:00</td>\n",
              "      <td>2021-01-12 14:05:00</td>\n",
              "      <td>62</td>\n",
              "      <td>188</td>\n",
              "      <td>-1</td>\n",
              "      <td>8365.88</td>\n",
              "      <td>21.37</td>\n",
              "      <td>2.75</td>\n",
              "      <td>24.42</td>\n",
              "      <td>-1.0</td>\n",
              "      <td>-1.0</td>\n",
              "    </tr>\n",
              "    <tr>\n",
              "      <th>53194</th>\n",
              "      <td>2021-01-12 13:16:00</td>\n",
              "      <td>2021-01-12 13:26:00</td>\n",
              "      <td>225</td>\n",
              "      <td>17</td>\n",
              "      <td>-1</td>\n",
              "      <td>8361.45</td>\n",
              "      <td>16.73</td>\n",
              "      <td>2.75</td>\n",
              "      <td>19.78</td>\n",
              "      <td>-1.0</td>\n",
              "      <td>-1.0</td>\n",
              "    </tr>\n",
              "    <tr>\n",
              "      <th>54230</th>\n",
              "      <td>2021-01-13 09:15:00</td>\n",
              "      <td>2021-01-13 09:59:00</td>\n",
              "      <td>247</td>\n",
              "      <td>257</td>\n",
              "      <td>-1</td>\n",
              "      <td>101.93</td>\n",
              "      <td>48.42</td>\n",
              "      <td>2.75</td>\n",
              "      <td>57.59</td>\n",
              "      <td>-1.0</td>\n",
              "      <td>-1.0</td>\n",
              "    </tr>\n",
              "    <tr>\n",
              "      <th>54337</th>\n",
              "      <td>2021-01-13 10:29:00</td>\n",
              "      <td>2021-01-13 10:46:00</td>\n",
              "      <td>225</td>\n",
              "      <td>97</td>\n",
              "      <td>-1</td>\n",
              "      <td>8403.69</td>\n",
              "      <td>20.93</td>\n",
              "      <td>2.75</td>\n",
              "      <td>23.98</td>\n",
              "      <td>-1.0</td>\n",
              "      <td>-1.0</td>\n",
              "    </tr>\n",
              "    <tr>\n",
              "      <th>54402</th>\n",
              "      <td>2021-01-13 10:26:00</td>\n",
              "      <td>2021-01-13 10:38:00</td>\n",
              "      <td>72</td>\n",
              "      <td>91</td>\n",
              "      <td>-1</td>\n",
              "      <td>109.09</td>\n",
              "      <td>23.88</td>\n",
              "      <td>2.75</td>\n",
              "      <td>26.93</td>\n",
              "      <td>-1.0</td>\n",
              "      <td>-1.0</td>\n",
              "    </tr>\n",
              "    <tr>\n",
              "      <th>54512</th>\n",
              "      <td>2021-01-13 11:17:00</td>\n",
              "      <td>2021-01-13 11:54:00</td>\n",
              "      <td>61</td>\n",
              "      <td>148</td>\n",
              "      <td>-1</td>\n",
              "      <td>8410.57</td>\n",
              "      <td>25.93</td>\n",
              "      <td>2.75</td>\n",
              "      <td>28.98</td>\n",
              "      <td>-1.0</td>\n",
              "      <td>-1.0</td>\n",
              "    </tr>\n",
              "    <tr>\n",
              "      <th>54558</th>\n",
              "      <td>2021-01-13 11:47:00</td>\n",
              "      <td>2021-01-13 12:09:00</td>\n",
              "      <td>210</td>\n",
              "      <td>228</td>\n",
              "      <td>-1</td>\n",
              "      <td>131.63</td>\n",
              "      <td>42.63</td>\n",
              "      <td>2.75</td>\n",
              "      <td>51.80</td>\n",
              "      <td>-1.0</td>\n",
              "      <td>-1.0</td>\n",
              "    </tr>\n",
              "    <tr>\n",
              "      <th>54663</th>\n",
              "      <td>2021-01-13 12:08:00</td>\n",
              "      <td>2021-01-13 12:12:00</td>\n",
              "      <td>97</td>\n",
              "      <td>97</td>\n",
              "      <td>-1</td>\n",
              "      <td>8413.45</td>\n",
              "      <td>19.15</td>\n",
              "      <td>2.75</td>\n",
              "      <td>22.20</td>\n",
              "      <td>-1.0</td>\n",
              "      <td>-1.0</td>\n",
              "    </tr>\n",
              "    <tr>\n",
              "      <th>54710</th>\n",
              "      <td>2021-01-13 12:56:00</td>\n",
              "      <td>2021-01-13 13:13:00</td>\n",
              "      <td>74</td>\n",
              "      <td>93</td>\n",
              "      <td>-1</td>\n",
              "      <td>158.29</td>\n",
              "      <td>40.83</td>\n",
              "      <td>2.75</td>\n",
              "      <td>50.00</td>\n",
              "      <td>-1.0</td>\n",
              "      <td>-1.0</td>\n",
              "    </tr>\n",
              "    <tr>\n",
              "      <th>56460</th>\n",
              "      <td>2021-01-14 13:08:00</td>\n",
              "      <td>2021-01-14 13:43:00</td>\n",
              "      <td>247</td>\n",
              "      <td>76</td>\n",
              "      <td>-1</td>\n",
              "      <td>116.71</td>\n",
              "      <td>43.34</td>\n",
              "      <td>2.75</td>\n",
              "      <td>52.51</td>\n",
              "      <td>-1.0</td>\n",
              "      <td>-1.0</td>\n",
              "    </tr>\n",
              "    <tr>\n",
              "      <th>56607</th>\n",
              "      <td>2021-01-14 14:10:00</td>\n",
              "      <td>2021-01-14 14:19:00</td>\n",
              "      <td>222</td>\n",
              "      <td>222</td>\n",
              "      <td>-1</td>\n",
              "      <td>122.01</td>\n",
              "      <td>15.43</td>\n",
              "      <td>2.75</td>\n",
              "      <td>18.48</td>\n",
              "      <td>-1.0</td>\n",
              "      <td>-1.0</td>\n",
              "    </tr>\n",
              "    <tr>\n",
              "      <th>63224</th>\n",
              "      <td>2021-01-20 12:39:00</td>\n",
              "      <td>2021-01-20 12:58:00</td>\n",
              "      <td>128</td>\n",
              "      <td>41</td>\n",
              "      <td>-1</td>\n",
              "      <td>11847.32</td>\n",
              "      <td>25.79</td>\n",
              "      <td>0.00</td>\n",
              "      <td>28.84</td>\n",
              "      <td>-1.0</td>\n",
              "      <td>-1.0</td>\n",
              "    </tr>\n",
              "    <tr>\n",
              "      <th>64112</th>\n",
              "      <td>2021-01-21 08:56:00</td>\n",
              "      <td>2021-01-21 09:05:00</td>\n",
              "      <td>165</td>\n",
              "      <td>165</td>\n",
              "      <td>-1</td>\n",
              "      <td>3133.21</td>\n",
              "      <td>23.88</td>\n",
              "      <td>0.00</td>\n",
              "      <td>26.93</td>\n",
              "      <td>-1.0</td>\n",
              "      <td>-1.0</td>\n",
              "    </tr>\n",
              "    <tr>\n",
              "      <th>65448</th>\n",
              "      <td>2021-01-22 05:09:00</td>\n",
              "      <td>2021-01-22 05:20:00</td>\n",
              "      <td>76</td>\n",
              "      <td>2</td>\n",
              "      <td>-1</td>\n",
              "      <td>3316.08</td>\n",
              "      <td>36.50</td>\n",
              "      <td>0.00</td>\n",
              "      <td>41.84</td>\n",
              "      <td>-1.0</td>\n",
              "      <td>-1.0</td>\n",
              "    </tr>\n",
              "  </tbody>\n",
              "</table>\n",
              "</div>"
            ],
            "text/plain": [
              "                    inicio                  fin  zona_inicio  zona_fin  \\\n",
              "5772   2021-01-06 09:21:13  2021-01-07 08:22:57          235       250   \n",
              "41700  2021-01-03 10:00:00  2021-01-03 10:17:00           17        77   \n",
              "41701  2021-01-03 10:31:00  2021-01-03 10:43:00           35        61   \n",
              "41750  2021-01-03 11:04:00  2021-01-03 11:12:00           61        35   \n",
              "41751  2021-01-03 11:52:00  2021-01-03 12:03:00          188        89   \n",
              "43582  2021-01-05 04:03:00  2021-01-05 04:33:00           38       170   \n",
              "46703  2021-01-07 05:05:00  2021-01-07 05:29:00          205       170   \n",
              "47312  2021-01-07 11:21:00  2021-01-07 12:01:00           17        39   \n",
              "48330  2021-01-08 07:18:00  2021-01-08 07:42:00          117       154   \n",
              "49615  2021-01-09 05:41:00  2021-01-09 05:58:00          216       194   \n",
              "49621  2021-01-09 06:21:00  2021-01-09 06:47:00          169        63   \n",
              "49634  2021-01-09 07:48:00  2021-01-09 07:59:00            4       195   \n",
              "50951  2021-01-11 07:30:00  2021-01-11 08:15:00          117       261   \n",
              "51057  2021-01-11 08:33:00  2021-01-11 09:00:00          232        61   \n",
              "53193  2021-01-12 13:57:00  2021-01-12 14:05:00           62       188   \n",
              "53194  2021-01-12 13:16:00  2021-01-12 13:26:00          225        17   \n",
              "54230  2021-01-13 09:15:00  2021-01-13 09:59:00          247       257   \n",
              "54337  2021-01-13 10:29:00  2021-01-13 10:46:00          225        97   \n",
              "54402  2021-01-13 10:26:00  2021-01-13 10:38:00           72        91   \n",
              "54512  2021-01-13 11:17:00  2021-01-13 11:54:00           61       148   \n",
              "54558  2021-01-13 11:47:00  2021-01-13 12:09:00          210       228   \n",
              "54663  2021-01-13 12:08:00  2021-01-13 12:12:00           97        97   \n",
              "54710  2021-01-13 12:56:00  2021-01-13 13:13:00           74        93   \n",
              "56460  2021-01-14 13:08:00  2021-01-14 13:43:00          247        76   \n",
              "56607  2021-01-14 14:10:00  2021-01-14 14:19:00          222       222   \n",
              "63224  2021-01-20 12:39:00  2021-01-20 12:58:00          128        41   \n",
              "64112  2021-01-21 08:56:00  2021-01-21 09:05:00          165       165   \n",
              "65448  2021-01-22 05:09:00  2021-01-22 05:20:00           76         2   \n",
              "\n",
              "       pasajeros  distancia  tarifa_medida  propina  tarifa_total  \\\n",
              "5772           1     157.03          10.00     0.00         10.30   \n",
              "41700         -1    7696.50          23.31     2.75         26.36   \n",
              "41701         -1    7700.51          16.73     2.75         19.78   \n",
              "41750         -1    7702.63          16.73     2.75         19.78   \n",
              "41751         -1    7709.33          21.37     2.75         24.42   \n",
              "43582         -1     236.75          46.29     2.75         55.46   \n",
              "46703         -1     767.42          46.29     2.75         55.46   \n",
              "47312         -1    7976.28          23.31     2.75         26.36   \n",
              "48330         -1     999.86          42.11     2.75         47.45   \n",
              "49615         -1    1135.92          50.62     2.75         59.79   \n",
              "49621         -1    1162.09          47.86     2.75         57.03   \n",
              "49634         -1    1178.89          28.25     2.75         37.42   \n",
              "50951         -1    1379.21          50.63     2.75         62.09   \n",
              "51057         -1    1386.79          25.93     2.75         28.98   \n",
              "53193         -1    8365.88          21.37     2.75         24.42   \n",
              "53194         -1    8361.45          16.73     2.75         19.78   \n",
              "54230         -1     101.93          48.42     2.75         57.59   \n",
              "54337         -1    8403.69          20.93     2.75         23.98   \n",
              "54402         -1     109.09          23.88     2.75         26.93   \n",
              "54512         -1    8410.57          25.93     2.75         28.98   \n",
              "54558         -1     131.63          42.63     2.75         51.80   \n",
              "54663         -1    8413.45          19.15     2.75         22.20   \n",
              "54710         -1     158.29          40.83     2.75         50.00   \n",
              "56460         -1     116.71          43.34     2.75         52.51   \n",
              "56607         -1     122.01          15.43     2.75         18.48   \n",
              "63224         -1   11847.32          25.79     0.00         28.84   \n",
              "64112         -1    3133.21          23.88     0.00         26.93   \n",
              "65448         -1    3316.08          36.50     0.00         41.84   \n",
              "\n",
              "       modalidad_pago  recargo_trafico  \n",
              "5772              2.0              0.0  \n",
              "41700            -1.0             -1.0  \n",
              "41701            -1.0             -1.0  \n",
              "41750            -1.0             -1.0  \n",
              "41751            -1.0             -1.0  \n",
              "43582            -1.0             -1.0  \n",
              "46703            -1.0             -1.0  \n",
              "47312            -1.0             -1.0  \n",
              "48330            -1.0             -1.0  \n",
              "49615            -1.0             -1.0  \n",
              "49621            -1.0             -1.0  \n",
              "49634            -1.0             -1.0  \n",
              "50951            -1.0             -1.0  \n",
              "51057            -1.0             -1.0  \n",
              "53193            -1.0             -1.0  \n",
              "53194            -1.0             -1.0  \n",
              "54230            -1.0             -1.0  \n",
              "54337            -1.0             -1.0  \n",
              "54402            -1.0             -1.0  \n",
              "54512            -1.0             -1.0  \n",
              "54558            -1.0             -1.0  \n",
              "54663            -1.0             -1.0  \n",
              "54710            -1.0             -1.0  \n",
              "56460            -1.0             -1.0  \n",
              "56607            -1.0             -1.0  \n",
              "63224            -1.0             -1.0  \n",
              "64112            -1.0             -1.0  \n",
              "65448            -1.0             -1.0  "
            ]
          },
          "execution_count": 25,
          "metadata": {},
          "output_type": "execute_result"
        }
      ],
      "source": [
        "df_taxis_verdes[df_taxis_verdes['distancia'] > 100]"
      ]
    },
    {
      "cell_type": "markdown",
      "metadata": {
        "id": "obmSJnN8KXbB"
      },
      "source": [
        "Borramos estos registros, ya que no hay mucha coherencia entre algunas distancias y tiempos de viaje y es una cantidad irrelevante sobre el total."
      ]
    },
    {
      "cell_type": "code",
      "execution_count": 26,
      "metadata": {
        "id": "JPErR0MlE78c"
      },
      "outputs": [],
      "source": [
        "df_taxis_verdes = df_taxis_verdes.drop(df_taxis_verdes[df_taxis_verdes['distancia'] > 100].index)"
      ]
    },
    {
      "cell_type": "markdown",
      "metadata": {
        "id": "62iZykurKzkr"
      },
      "source": [
        "Ahora revisamos en función del límite superior (6.14)."
      ]
    },
    {
      "cell_type": "code",
      "execution_count": 27,
      "metadata": {
        "colab": {
          "base_uri": "https://localhost:8080/"
        },
        "id": "lHmifKtbNRZC",
        "outputId": "c3c5db61-fa5e-4cb8-f065-41ec125d8131"
      },
      "outputs": [
        {
          "data": {
            "text/plain": [
              "17758"
            ]
          },
          "execution_count": 27,
          "metadata": {},
          "output_type": "execute_result"
        }
      ],
      "source": [
        "df_taxis_verdes['distancia'][df_taxis_verdes['distancia'] > 6.14].count()"
      ]
    },
    {
      "cell_type": "code",
      "execution_count": 28,
      "metadata": {
        "colab": {
          "base_uri": "https://localhost:8080/"
        },
        "id": "VW920R_SE74Y",
        "outputId": "7590a381-251e-4877-8fc6-4ac43f68de4d"
      },
      "outputs": [
        {
          "data": {
            "text/plain": [
              "1713"
            ]
          },
          "execution_count": 28,
          "metadata": {},
          "output_type": "execute_result"
        }
      ],
      "source": [
        "df_taxis_verdes['distancia'][df_taxis_verdes['distancia'] > 20].count()"
      ]
    },
    {
      "cell_type": "code",
      "execution_count": 29,
      "metadata": {
        "colab": {
          "base_uri": "https://localhost:8080/",
          "height": 477
        },
        "id": "7YjzfBeGJAZ0",
        "outputId": "d9602f86-0ef1-4cec-9c97-b0e994efe93e"
      },
      "outputs": [
        {
          "name": "stdout",
          "output_type": "stream",
          "text": [
            "\n",
            "Columna: distancia\n",
            "\n",
            "Modal: 0.0                      Promedio: 4.09                     Mediana: 2.5                     \n",
            "\n",
            "Límite inferior: 0              Límite superior: 11.58             Outliers: 7590            \n",
            "\n",
            "\n"
          ]
        },
        {
          "data": {
            "image/png": "[encoded data removed]",
            "text/plain": [
              "<Figure size 300x300 with 1 Axes>"
            ]
          },
          "metadata": {},
          "output_type": "display_data"
        }
      ],
      "source": [
        "outliers_distancia(20)"
      ]
    },
    {
      "cell_type": "code",
      "execution_count": 30,
      "metadata": {
        "colab": {
          "base_uri": "https://localhost:8080/",
          "height": 477
        },
        "id": "arpKvG7oY0rz",
        "outputId": "02c8b71c-a96d-4049-8ade-92af562b5ec5"
      },
      "outputs": [
        {
          "name": "stdout",
          "output_type": "stream",
          "text": [
            "\n",
            "Columna: distancia\n",
            "\n",
            "Modal: 0.0                      Promedio: 4.36                     Mediana: 2.56                    \n",
            "\n",
            "Límite inferior: 0              Límite superior: 12.12             Outliers: 7047            \n",
            "\n",
            "\n"
          ]
        },
        {
          "data": {
            "image/png": "[encoded data removed]",
            "text/plain": [
              "<Figure size 300x300 with 1 Axes>"
            ]
          },
          "metadata": {},
          "output_type": "display_data"
        }
      ],
      "source": [
        "outliers_distancia(25)"
      ]
    },
    {
      "cell_type": "markdown",
      "metadata": {
        "id": "1lfyArOfTExC"
      },
      "source": [
        "Luego de revisar diversas fuentes para comprender mejor el contexto, entendemos que no es común tener viajes de más de 20 millas; estos viajes se realizan mediante otros medios de transporte. Además, nuestro análisis es para que una empresa de transporte de pasajeros de media y larga distancia (micros) evalúe la posibilidad de incorporar una flota de vehículos para viajes en la ciudad. Vamos a revisar el porcentaje de registros para distancias mayores a 20 millas:"
      ]
    },
    {
      "cell_type": "code",
      "execution_count": 31,
      "metadata": {
        "colab": {
          "base_uri": "https://localhost:8080/"
        },
        "id": "7zyZdpIEE7hn",
        "outputId": "d6f6b836-425c-496a-fb4e-25897e5f9bf8"
      },
      "outputs": [
        {
          "name": "stdout",
          "output_type": "stream",
          "text": [
            "Total de registros: 76455    Cantidad de registros con distancia mayor a 20 millas: 1713     Porcentaje: 2.24 %\n"
          ]
        }
      ],
      "source": [
        "cantidad = df_taxis_verdes['distancia'][df_taxis_verdes['distancia'] > 20].count()\n",
        "total = len(df_taxis_verdes)\n",
        "porcentaje = round(cantidad / total * 100,2)\n",
        "print(f'Total de registros: {total}    Cantidad de registros con distancia mayor a 20 millas: {cantidad}     Porcentaje: {porcentaje} %')\n"
      ]
    },
    {
      "cell_type": "markdown",
      "metadata": {
        "id": "G_zJAcplWGDf"
      },
      "source": [
        "Dado que, además de lo expuesto previamente, es un porcentaje insignificante, eliminamos los registros."
      ]
    },
    {
      "cell_type": "code",
      "execution_count": 32,
      "metadata": {
        "id": "sSlAnYXCE7dN"
      },
      "outputs": [],
      "source": [
        "df_taxis_verdes = df_taxis_verdes.drop(df_taxis_verdes['distancia'][df_taxis_verdes['distancia'] > 20].index)"
      ]
    },
    {
      "cell_type": "markdown",
      "metadata": {
        "id": "ICqBlUDfXuB9"
      },
      "source": [
        "### Columna 'tarifa medida'"
      ]
    },
    {
      "cell_type": "code",
      "execution_count": 33,
      "metadata": {
        "colab": {
          "base_uri": "https://localhost:8080/"
        },
        "id": "XqKvsuBq5dhB",
        "outputId": "a2c6ca63-b5e0-4e0d-c396-54d3ed453710"
      },
      "outputs": [
        {
          "data": {
            "text/plain": [
              "inicio             2445\n",
              "fin                2445\n",
              "zona_inicio        2445\n",
              "zona_fin           2445\n",
              "pasajeros          2445\n",
              "distancia          2445\n",
              "tarifa_medida      2445\n",
              "propina            2445\n",
              "tarifa_total       2445\n",
              "modalidad_pago     2445\n",
              "recargo_trafico    2445\n",
              "dtype: int64"
            ]
          },
          "execution_count": 33,
          "metadata": {},
          "output_type": "execute_result"
        }
      ],
      "source": [
        "df_taxis_verdes[(df_taxis_verdes['tarifa_medida']>0) & (df_taxis_verdes['distancia']==0)].count()"
      ]
    },
    {
      "cell_type": "code",
      "execution_count": 34,
      "metadata": {
        "id": "c7iNdQzscgyd"
      },
      "outputs": [],
      "source": [
        "df_taxis_verdes = df_taxis_verdes.drop(df_taxis_verdes[(df_taxis_verdes['tarifa_medida']>0) & (df_taxis_verdes['distancia']==0)].index)"
      ]
    },
    {
      "cell_type": "code",
      "execution_count": 35,
      "metadata": {
        "id": "TrAksZrE92Vf"
      },
      "outputs": [],
      "source": [
        "df_taxis_verdes = df_taxis_verdes.drop(df_taxis_verdes[(df_taxis_verdes['tarifa_medida']>300) & (df_taxis_verdes['distancia']<20)].index)"
      ]
    },
    {
      "cell_type": "code",
      "execution_count": 36,
      "metadata": {
        "colab": {
          "base_uri": "https://localhost:8080/",
          "height": 399
        },
        "id": "LjNo_wt-_ITO",
        "outputId": "a2e32c46-ea48-458c-d2d5-40a905aed594"
      },
      "outputs": [
        {
          "data": {
            "text/html": [
              "<div>\n",
              "<style scoped>\n",
              "    .dataframe tbody tr th:only-of-type {\n",
              "        vertical-align: middle;\n",
              "    }\n",
              "\n",
              "    .dataframe tbody tr th {\n",
              "        vertical-align: top;\n",
              "    }\n",
              "\n",
              "    .dataframe thead th {\n",
              "        text-align: right;\n",
              "    }\n",
              "</style>\n",
              "<table border=\"1\" class=\"dataframe\">\n",
              "  <thead>\n",
              "    <tr style=\"text-align: right;\">\n",
              "      <th></th>\n",
              "      <th>inicio</th>\n",
              "      <th>fin</th>\n",
              "      <th>zona_inicio</th>\n",
              "      <th>zona_fin</th>\n",
              "      <th>pasajeros</th>\n",
              "      <th>distancia</th>\n",
              "      <th>tarifa_medida</th>\n",
              "      <th>propina</th>\n",
              "      <th>tarifa_total</th>\n",
              "      <th>modalidad_pago</th>\n",
              "      <th>recargo_trafico</th>\n",
              "    </tr>\n",
              "  </thead>\n",
              "  <tbody>\n",
              "    <tr>\n",
              "      <th>7008</th>\n",
              "      <td>2021-01-06 22:26:44</td>\n",
              "      <td>2021-01-06 22:27:32</td>\n",
              "      <td>248</td>\n",
              "      <td>248</td>\n",
              "      <td>1</td>\n",
              "      <td>0.14</td>\n",
              "      <td>191.0</td>\n",
              "      <td>0.0</td>\n",
              "      <td>191.3</td>\n",
              "      <td>2.0</td>\n",
              "      <td>0.0</td>\n",
              "    </tr>\n",
              "    <tr>\n",
              "      <th>8411</th>\n",
              "      <td>2021-01-07 21:01:19</td>\n",
              "      <td>2021-01-07 21:01:40</td>\n",
              "      <td>42</td>\n",
              "      <td>42</td>\n",
              "      <td>1</td>\n",
              "      <td>0.11</td>\n",
              "      <td>138.0</td>\n",
              "      <td>0.0</td>\n",
              "      <td>138.3</td>\n",
              "      <td>2.0</td>\n",
              "      <td>0.0</td>\n",
              "    </tr>\n",
              "    <tr>\n",
              "      <th>32373</th>\n",
              "      <td>2021-01-25 23:29:27</td>\n",
              "      <td>2021-01-25 23:29:41</td>\n",
              "      <td>147</td>\n",
              "      <td>147</td>\n",
              "      <td>1</td>\n",
              "      <td>0.07</td>\n",
              "      <td>110.0</td>\n",
              "      <td>0.0</td>\n",
              "      <td>110.3</td>\n",
              "      <td>2.0</td>\n",
              "      <td>0.0</td>\n",
              "    </tr>\n",
              "    <tr>\n",
              "      <th>27245</th>\n",
              "      <td>2021-01-21 22:50:48</td>\n",
              "      <td>2021-01-21 22:51:02</td>\n",
              "      <td>42</td>\n",
              "      <td>42</td>\n",
              "      <td>1</td>\n",
              "      <td>0.01</td>\n",
              "      <td>124.0</td>\n",
              "      <td>0.0</td>\n",
              "      <td>124.3</td>\n",
              "      <td>2.0</td>\n",
              "      <td>0.0</td>\n",
              "    </tr>\n",
              "    <tr>\n",
              "      <th>38321</th>\n",
              "      <td>2021-01-29 22:33:04</td>\n",
              "      <td>2021-01-29 22:33:19</td>\n",
              "      <td>116</td>\n",
              "      <td>116</td>\n",
              "      <td>1</td>\n",
              "      <td>0.10</td>\n",
              "      <td>117.0</td>\n",
              "      <td>0.0</td>\n",
              "      <td>117.3</td>\n",
              "      <td>2.0</td>\n",
              "      <td>0.0</td>\n",
              "    </tr>\n",
              "  </tbody>\n",
              "</table>\n",
              "</div>"
            ],
            "text/plain": [
              "                    inicio                  fin  zona_inicio  zona_fin  \\\n",
              "7008   2021-01-06 22:26:44  2021-01-06 22:27:32          248       248   \n",
              "8411   2021-01-07 21:01:19  2021-01-07 21:01:40           42        42   \n",
              "32373  2021-01-25 23:29:27  2021-01-25 23:29:41          147       147   \n",
              "27245  2021-01-21 22:50:48  2021-01-21 22:51:02           42        42   \n",
              "38321  2021-01-29 22:33:04  2021-01-29 22:33:19          116       116   \n",
              "\n",
              "       pasajeros  distancia  tarifa_medida  propina  tarifa_total  \\\n",
              "7008           1       0.14          191.0      0.0         191.3   \n",
              "8411           1       0.11          138.0      0.0         138.3   \n",
              "32373          1       0.07          110.0      0.0         110.3   \n",
              "27245          1       0.01          124.0      0.0         124.3   \n",
              "38321          1       0.10          117.0      0.0         117.3   \n",
              "\n",
              "       modalidad_pago  recargo_trafico  \n",
              "7008              2.0              0.0  \n",
              "8411              2.0              0.0  \n",
              "32373             2.0              0.0  \n",
              "27245             2.0              0.0  \n",
              "38321             2.0              0.0  "
            ]
          },
          "execution_count": 36,
          "metadata": {},
          "output_type": "execute_result"
        }
      ],
      "source": [
        "df_taxis_verdes[(df_taxis_verdes['tarifa_medida']>100) & (df_taxis_verdes['distancia']<5)].sample(5)"
      ]
    },
    {
      "cell_type": "code",
      "execution_count": 37,
      "metadata": {
        "id": "W17rildX-t3d"
      },
      "outputs": [],
      "source": [
        "df_taxis_verdes = df_taxis_verdes.drop(df_taxis_verdes[(df_taxis_verdes['tarifa_medida']>100) & (df_taxis_verdes['distancia']<5)].index)"
      ]
    },
    {
      "cell_type": "code",
      "execution_count": 38,
      "metadata": {
        "colab": {
          "base_uri": "https://localhost:8080/"
        },
        "id": "BNrobJwL_THC",
        "outputId": "86e18857-dd26-4733-d008-4e520ddd2b4f"
      },
      "outputs": [
        {
          "data": {
            "text/plain": [
              "179.0"
            ]
          },
          "execution_count": 38,
          "metadata": {},
          "output_type": "execute_result"
        }
      ],
      "source": [
        "df_taxis_verdes['tarifa_medida'].max()"
      ]
    },
    {
      "cell_type": "code",
      "execution_count": 39,
      "metadata": {
        "colab": {
          "base_uri": "https://localhost:8080/",
          "height": 399
        },
        "id": "NNnwnf2p_Yad",
        "outputId": "36bb0448-dcf8-41f1-8a82-0e53a1487e31"
      },
      "outputs": [
        {
          "data": {
            "text/html": [
              "<div>\n",
              "<style scoped>\n",
              "    .dataframe tbody tr th:only-of-type {\n",
              "        vertical-align: middle;\n",
              "    }\n",
              "\n",
              "    .dataframe tbody tr th {\n",
              "        vertical-align: top;\n",
              "    }\n",
              "\n",
              "    .dataframe thead th {\n",
              "        text-align: right;\n",
              "    }\n",
              "</style>\n",
              "<table border=\"1\" class=\"dataframe\">\n",
              "  <thead>\n",
              "    <tr style=\"text-align: right;\">\n",
              "      <th></th>\n",
              "      <th>inicio</th>\n",
              "      <th>fin</th>\n",
              "      <th>zona_inicio</th>\n",
              "      <th>zona_fin</th>\n",
              "      <th>pasajeros</th>\n",
              "      <th>distancia</th>\n",
              "      <th>tarifa_medida</th>\n",
              "      <th>propina</th>\n",
              "      <th>tarifa_total</th>\n",
              "      <th>modalidad_pago</th>\n",
              "      <th>recargo_trafico</th>\n",
              "    </tr>\n",
              "  </thead>\n",
              "  <tbody>\n",
              "    <tr>\n",
              "      <th>33295</th>\n",
              "      <td>2021-01-26 17:56:15</td>\n",
              "      <td>2021-01-26 18:51:59</td>\n",
              "      <td>89</td>\n",
              "      <td>156</td>\n",
              "      <td>1</td>\n",
              "      <td>16.54</td>\n",
              "      <td>101.53</td>\n",
              "      <td>0.00</td>\n",
              "      <td>107.95</td>\n",
              "      <td>2.0</td>\n",
              "      <td>0.0</td>\n",
              "    </tr>\n",
              "    <tr>\n",
              "      <th>34210</th>\n",
              "      <td>2021-01-27 12:45:01</td>\n",
              "      <td>2021-01-27 18:18:48</td>\n",
              "      <td>29</td>\n",
              "      <td>123</td>\n",
              "      <td>1</td>\n",
              "      <td>11.95</td>\n",
              "      <td>179.00</td>\n",
              "      <td>1.20</td>\n",
              "      <td>181.00</td>\n",
              "      <td>1.0</td>\n",
              "      <td>0.0</td>\n",
              "    </tr>\n",
              "    <tr>\n",
              "      <th>17611</th>\n",
              "      <td>2021-01-14 15:42:58</td>\n",
              "      <td>2021-01-14 18:58:44</td>\n",
              "      <td>55</td>\n",
              "      <td>29</td>\n",
              "      <td>1</td>\n",
              "      <td>10.53</td>\n",
              "      <td>109.00</td>\n",
              "      <td>2.80</td>\n",
              "      <td>112.60</td>\n",
              "      <td>1.0</td>\n",
              "      <td>0.0</td>\n",
              "    </tr>\n",
              "    <tr>\n",
              "      <th>13926</th>\n",
              "      <td>2021-01-12 08:56:07</td>\n",
              "      <td>2021-01-12 11:49:46</td>\n",
              "      <td>185</td>\n",
              "      <td>241</td>\n",
              "      <td>1</td>\n",
              "      <td>17.04</td>\n",
              "      <td>110.00</td>\n",
              "      <td>2.75</td>\n",
              "      <td>113.55</td>\n",
              "      <td>1.0</td>\n",
              "      <td>0.0</td>\n",
              "    </tr>\n",
              "    <tr>\n",
              "      <th>25037</th>\n",
              "      <td>2021-01-20 13:49:54</td>\n",
              "      <td>2021-01-20 17:41:57</td>\n",
              "      <td>102</td>\n",
              "      <td>82</td>\n",
              "      <td>1</td>\n",
              "      <td>18.82</td>\n",
              "      <td>134.50</td>\n",
              "      <td>0.00</td>\n",
              "      <td>135.30</td>\n",
              "      <td>2.0</td>\n",
              "      <td>0.0</td>\n",
              "    </tr>\n",
              "  </tbody>\n",
              "</table>\n",
              "</div>"
            ],
            "text/plain": [
              "                    inicio                  fin  zona_inicio  zona_fin  \\\n",
              "33295  2021-01-26 17:56:15  2021-01-26 18:51:59           89       156   \n",
              "34210  2021-01-27 12:45:01  2021-01-27 18:18:48           29       123   \n",
              "17611  2021-01-14 15:42:58  2021-01-14 18:58:44           55        29   \n",
              "13926  2021-01-12 08:56:07  2021-01-12 11:49:46          185       241   \n",
              "25037  2021-01-20 13:49:54  2021-01-20 17:41:57          102        82   \n",
              "\n",
              "       pasajeros  distancia  tarifa_medida  propina  tarifa_total  \\\n",
              "33295          1      16.54         101.53     0.00        107.95   \n",
              "34210          1      11.95         179.00     1.20        181.00   \n",
              "17611          1      10.53         109.00     2.80        112.60   \n",
              "13926          1      17.04         110.00     2.75        113.55   \n",
              "25037          1      18.82         134.50     0.00        135.30   \n",
              "\n",
              "       modalidad_pago  recargo_trafico  \n",
              "33295             2.0              0.0  \n",
              "34210             1.0              0.0  \n",
              "17611             1.0              0.0  \n",
              "13926             1.0              0.0  \n",
              "25037             2.0              0.0  "
            ]
          },
          "execution_count": 39,
          "metadata": {},
          "output_type": "execute_result"
        }
      ],
      "source": [
        "df_taxis_verdes[df_taxis_verdes['tarifa_medida'] > 100].sample(5)"
      ]
    },
    {
      "cell_type": "code",
      "execution_count": 40,
      "metadata": {
        "colab": {
          "base_uri": "https://localhost:8080/",
          "height": 333
        },
        "id": "AZcE2b0w8-AV",
        "outputId": "d738715f-07d5-4c6d-bd06-4566606c13b2"
      },
      "outputs": [
        {
          "data": {
            "image/png": "[encoded data removed]",
            "text/plain": [
              "<Figure size 300x300 with 1 Axes>"
            ]
          },
          "metadata": {},
          "output_type": "display_data"
        }
      ],
      "source": [
        "plt.figure(figsize=(3,3))\n",
        "plt.hist(df_taxis_verdes['tarifa_medida'][df_taxis_verdes['tarifa_medida'] > -1], bins=50, edgecolor='black')\n",
        "plt.title(f'Histograma de distancia tarifa medida)')\n",
        "plt.xlabel('Valor')\n",
        "plt.ylabel('Frecuencia')\n",
        "plt.show()"
      ]
    },
    {
      "cell_type": "markdown",
      "metadata": {
        "id": "5yH5Uq0KBTq5"
      },
      "source": [
        "### Columna 'tarifa_total'"
      ]
    },
    {
      "cell_type": "code",
      "execution_count": 41,
      "metadata": {
        "colab": {
          "base_uri": "https://localhost:8080/",
          "height": 1000
        },
        "id": "HRlnJdoHcgtc",
        "outputId": "5692707b-7209-46a3-f1ef-2eae453129bf"
      },
      "outputs": [
        {
          "data": {
            "text/html": [
              "<div>\n",
              "<style scoped>\n",
              "    .dataframe tbody tr th:only-of-type {\n",
              "        vertical-align: middle;\n",
              "    }\n",
              "\n",
              "    .dataframe tbody tr th {\n",
              "        vertical-align: top;\n",
              "    }\n",
              "\n",
              "    .dataframe thead th {\n",
              "        text-align: right;\n",
              "    }\n",
              "</style>\n",
              "<table border=\"1\" class=\"dataframe\">\n",
              "  <thead>\n",
              "    <tr style=\"text-align: right;\">\n",
              "      <th></th>\n",
              "      <th>inicio</th>\n",
              "      <th>fin</th>\n",
              "      <th>zona_inicio</th>\n",
              "      <th>zona_fin</th>\n",
              "      <th>pasajeros</th>\n",
              "      <th>distancia</th>\n",
              "      <th>tarifa_medida</th>\n",
              "      <th>propina</th>\n",
              "      <th>tarifa_total</th>\n",
              "      <th>modalidad_pago</th>\n",
              "      <th>recargo_trafico</th>\n",
              "    </tr>\n",
              "  </thead>\n",
              "  <tbody>\n",
              "    <tr>\n",
              "      <th>34210</th>\n",
              "      <td>2021-01-27 12:45:01</td>\n",
              "      <td>2021-01-27 18:18:48</td>\n",
              "      <td>29</td>\n",
              "      <td>123</td>\n",
              "      <td>1</td>\n",
              "      <td>11.95</td>\n",
              "      <td>179.0</td>\n",
              "      <td>1.2</td>\n",
              "      <td>181.0</td>\n",
              "      <td>1.0</td>\n",
              "      <td>0.0</td>\n",
              "    </tr>\n",
              "    <tr>\n",
              "      <th>34210</th>\n",
              "      <td>2021-01-27 12:45:01</td>\n",
              "      <td>2021-01-27 18:18:48</td>\n",
              "      <td>29</td>\n",
              "      <td>123</td>\n",
              "      <td>1</td>\n",
              "      <td>11.95</td>\n",
              "      <td>179.0</td>\n",
              "      <td>1.2</td>\n",
              "      <td>181.0</td>\n",
              "      <td>1.0</td>\n",
              "      <td>0.0</td>\n",
              "    </tr>\n",
              "    <tr>\n",
              "      <th>34210</th>\n",
              "      <td>2021-01-27 12:45:01</td>\n",
              "      <td>2021-01-27 18:18:48</td>\n",
              "      <td>29</td>\n",
              "      <td>123</td>\n",
              "      <td>1</td>\n",
              "      <td>11.95</td>\n",
              "      <td>179.0</td>\n",
              "      <td>1.2</td>\n",
              "      <td>181.0</td>\n",
              "      <td>1.0</td>\n",
              "      <td>0.0</td>\n",
              "    </tr>\n",
              "    <tr>\n",
              "      <th>34210</th>\n",
              "      <td>2021-01-27 12:45:01</td>\n",
              "      <td>2021-01-27 18:18:48</td>\n",
              "      <td>29</td>\n",
              "      <td>123</td>\n",
              "      <td>1</td>\n",
              "      <td>11.95</td>\n",
              "      <td>179.0</td>\n",
              "      <td>1.2</td>\n",
              "      <td>181.0</td>\n",
              "      <td>1.0</td>\n",
              "      <td>0.0</td>\n",
              "    </tr>\n",
              "    <tr>\n",
              "      <th>34210</th>\n",
              "      <td>2021-01-27 12:45:01</td>\n",
              "      <td>2021-01-27 18:18:48</td>\n",
              "      <td>29</td>\n",
              "      <td>123</td>\n",
              "      <td>1</td>\n",
              "      <td>11.95</td>\n",
              "      <td>179.0</td>\n",
              "      <td>1.2</td>\n",
              "      <td>181.0</td>\n",
              "      <td>1.0</td>\n",
              "      <td>0.0</td>\n",
              "    </tr>\n",
              "    <tr>\n",
              "      <th>34210</th>\n",
              "      <td>2021-01-27 12:45:01</td>\n",
              "      <td>2021-01-27 18:18:48</td>\n",
              "      <td>29</td>\n",
              "      <td>123</td>\n",
              "      <td>1</td>\n",
              "      <td>11.95</td>\n",
              "      <td>179.0</td>\n",
              "      <td>1.2</td>\n",
              "      <td>181.0</td>\n",
              "      <td>1.0</td>\n",
              "      <td>0.0</td>\n",
              "    </tr>\n",
              "    <tr>\n",
              "      <th>34210</th>\n",
              "      <td>2021-01-27 12:45:01</td>\n",
              "      <td>2021-01-27 18:18:48</td>\n",
              "      <td>29</td>\n",
              "      <td>123</td>\n",
              "      <td>1</td>\n",
              "      <td>11.95</td>\n",
              "      <td>179.0</td>\n",
              "      <td>1.2</td>\n",
              "      <td>181.0</td>\n",
              "      <td>1.0</td>\n",
              "      <td>0.0</td>\n",
              "    </tr>\n",
              "    <tr>\n",
              "      <th>34210</th>\n",
              "      <td>2021-01-27 12:45:01</td>\n",
              "      <td>2021-01-27 18:18:48</td>\n",
              "      <td>29</td>\n",
              "      <td>123</td>\n",
              "      <td>1</td>\n",
              "      <td>11.95</td>\n",
              "      <td>179.0</td>\n",
              "      <td>1.2</td>\n",
              "      <td>181.0</td>\n",
              "      <td>1.0</td>\n",
              "      <td>0.0</td>\n",
              "    </tr>\n",
              "    <tr>\n",
              "      <th>34210</th>\n",
              "      <td>2021-01-27 12:45:01</td>\n",
              "      <td>2021-01-27 18:18:48</td>\n",
              "      <td>29</td>\n",
              "      <td>123</td>\n",
              "      <td>1</td>\n",
              "      <td>11.95</td>\n",
              "      <td>179.0</td>\n",
              "      <td>1.2</td>\n",
              "      <td>181.0</td>\n",
              "      <td>1.0</td>\n",
              "      <td>0.0</td>\n",
              "    </tr>\n",
              "    <tr>\n",
              "      <th>34210</th>\n",
              "      <td>2021-01-27 12:45:01</td>\n",
              "      <td>2021-01-27 18:18:48</td>\n",
              "      <td>29</td>\n",
              "      <td>123</td>\n",
              "      <td>1</td>\n",
              "      <td>11.95</td>\n",
              "      <td>179.0</td>\n",
              "      <td>1.2</td>\n",
              "      <td>181.0</td>\n",
              "      <td>1.0</td>\n",
              "      <td>0.0</td>\n",
              "    </tr>\n",
              "    <tr>\n",
              "      <th>34210</th>\n",
              "      <td>2021-01-27 12:45:01</td>\n",
              "      <td>2021-01-27 18:18:48</td>\n",
              "      <td>29</td>\n",
              "      <td>123</td>\n",
              "      <td>1</td>\n",
              "      <td>11.95</td>\n",
              "      <td>179.0</td>\n",
              "      <td>1.2</td>\n",
              "      <td>181.0</td>\n",
              "      <td>1.0</td>\n",
              "      <td>0.0</td>\n",
              "    </tr>\n",
              "    <tr>\n",
              "      <th>34210</th>\n",
              "      <td>2021-01-27 12:45:01</td>\n",
              "      <td>2021-01-27 18:18:48</td>\n",
              "      <td>29</td>\n",
              "      <td>123</td>\n",
              "      <td>1</td>\n",
              "      <td>11.95</td>\n",
              "      <td>179.0</td>\n",
              "      <td>1.2</td>\n",
              "      <td>181.0</td>\n",
              "      <td>1.0</td>\n",
              "      <td>0.0</td>\n",
              "    </tr>\n",
              "    <tr>\n",
              "      <th>34210</th>\n",
              "      <td>2021-01-27 12:45:01</td>\n",
              "      <td>2021-01-27 18:18:48</td>\n",
              "      <td>29</td>\n",
              "      <td>123</td>\n",
              "      <td>1</td>\n",
              "      <td>11.95</td>\n",
              "      <td>179.0</td>\n",
              "      <td>1.2</td>\n",
              "      <td>181.0</td>\n",
              "      <td>1.0</td>\n",
              "      <td>0.0</td>\n",
              "    </tr>\n",
              "    <tr>\n",
              "      <th>34210</th>\n",
              "      <td>2021-01-27 12:45:01</td>\n",
              "      <td>2021-01-27 18:18:48</td>\n",
              "      <td>29</td>\n",
              "      <td>123</td>\n",
              "      <td>1</td>\n",
              "      <td>11.95</td>\n",
              "      <td>179.0</td>\n",
              "      <td>1.2</td>\n",
              "      <td>181.0</td>\n",
              "      <td>1.0</td>\n",
              "      <td>0.0</td>\n",
              "    </tr>\n",
              "    <tr>\n",
              "      <th>34210</th>\n",
              "      <td>2021-01-27 12:45:01</td>\n",
              "      <td>2021-01-27 18:18:48</td>\n",
              "      <td>29</td>\n",
              "      <td>123</td>\n",
              "      <td>1</td>\n",
              "      <td>11.95</td>\n",
              "      <td>179.0</td>\n",
              "      <td>1.2</td>\n",
              "      <td>181.0</td>\n",
              "      <td>1.0</td>\n",
              "      <td>0.0</td>\n",
              "    </tr>\n",
              "    <tr>\n",
              "      <th>34210</th>\n",
              "      <td>2021-01-27 12:45:01</td>\n",
              "      <td>2021-01-27 18:18:48</td>\n",
              "      <td>29</td>\n",
              "      <td>123</td>\n",
              "      <td>1</td>\n",
              "      <td>11.95</td>\n",
              "      <td>179.0</td>\n",
              "      <td>1.2</td>\n",
              "      <td>181.0</td>\n",
              "      <td>1.0</td>\n",
              "      <td>0.0</td>\n",
              "    </tr>\n",
              "    <tr>\n",
              "      <th>34210</th>\n",
              "      <td>2021-01-27 12:45:01</td>\n",
              "      <td>2021-01-27 18:18:48</td>\n",
              "      <td>29</td>\n",
              "      <td>123</td>\n",
              "      <td>1</td>\n",
              "      <td>11.95</td>\n",
              "      <td>179.0</td>\n",
              "      <td>1.2</td>\n",
              "      <td>181.0</td>\n",
              "      <td>1.0</td>\n",
              "      <td>0.0</td>\n",
              "    </tr>\n",
              "    <tr>\n",
              "      <th>34210</th>\n",
              "      <td>2021-01-27 12:45:01</td>\n",
              "      <td>2021-01-27 18:18:48</td>\n",
              "      <td>29</td>\n",
              "      <td>123</td>\n",
              "      <td>1</td>\n",
              "      <td>11.95</td>\n",
              "      <td>179.0</td>\n",
              "      <td>1.2</td>\n",
              "      <td>181.0</td>\n",
              "      <td>1.0</td>\n",
              "      <td>0.0</td>\n",
              "    </tr>\n",
              "    <tr>\n",
              "      <th>34210</th>\n",
              "      <td>2021-01-27 12:45:01</td>\n",
              "      <td>2021-01-27 18:18:48</td>\n",
              "      <td>29</td>\n",
              "      <td>123</td>\n",
              "      <td>1</td>\n",
              "      <td>11.95</td>\n",
              "      <td>179.0</td>\n",
              "      <td>1.2</td>\n",
              "      <td>181.0</td>\n",
              "      <td>1.0</td>\n",
              "      <td>0.0</td>\n",
              "    </tr>\n",
              "    <tr>\n",
              "      <th>34210</th>\n",
              "      <td>2021-01-27 12:45:01</td>\n",
              "      <td>2021-01-27 18:18:48</td>\n",
              "      <td>29</td>\n",
              "      <td>123</td>\n",
              "      <td>1</td>\n",
              "      <td>11.95</td>\n",
              "      <td>179.0</td>\n",
              "      <td>1.2</td>\n",
              "      <td>181.0</td>\n",
              "      <td>1.0</td>\n",
              "      <td>0.0</td>\n",
              "    </tr>\n",
              "  </tbody>\n",
              "</table>\n",
              "</div>"
            ],
            "text/plain": [
              "                    inicio                  fin  zona_inicio  zona_fin  \\\n",
              "34210  2021-01-27 12:45:01  2021-01-27 18:18:48           29       123   \n",
              "34210  2021-01-27 12:45:01  2021-01-27 18:18:48           29       123   \n",
              "34210  2021-01-27 12:45:01  2021-01-27 18:18:48           29       123   \n",
              "34210  2021-01-27 12:45:01  2021-01-27 18:18:48           29       123   \n",
              "34210  2021-01-27 12:45:01  2021-01-27 18:18:48           29       123   \n",
              "34210  2021-01-27 12:45:01  2021-01-27 18:18:48           29       123   \n",
              "34210  2021-01-27 12:45:01  2021-01-27 18:18:48           29       123   \n",
              "34210  2021-01-27 12:45:01  2021-01-27 18:18:48           29       123   \n",
              "34210  2021-01-27 12:45:01  2021-01-27 18:18:48           29       123   \n",
              "34210  2021-01-27 12:45:01  2021-01-27 18:18:48           29       123   \n",
              "34210  2021-01-27 12:45:01  2021-01-27 18:18:48           29       123   \n",
              "34210  2021-01-27 12:45:01  2021-01-27 18:18:48           29       123   \n",
              "34210  2021-01-27 12:45:01  2021-01-27 18:18:48           29       123   \n",
              "34210  2021-01-27 12:45:01  2021-01-27 18:18:48           29       123   \n",
              "34210  2021-01-27 12:45:01  2021-01-27 18:18:48           29       123   \n",
              "34210  2021-01-27 12:45:01  2021-01-27 18:18:48           29       123   \n",
              "34210  2021-01-27 12:45:01  2021-01-27 18:18:48           29       123   \n",
              "34210  2021-01-27 12:45:01  2021-01-27 18:18:48           29       123   \n",
              "34210  2021-01-27 12:45:01  2021-01-27 18:18:48           29       123   \n",
              "34210  2021-01-27 12:45:01  2021-01-27 18:18:48           29       123   \n",
              "\n",
              "       pasajeros  distancia  tarifa_medida  propina  tarifa_total  \\\n",
              "34210          1      11.95          179.0      1.2         181.0   \n",
              "34210          1      11.95          179.0      1.2         181.0   \n",
              "34210          1      11.95          179.0      1.2         181.0   \n",
              "34210          1      11.95          179.0      1.2         181.0   \n",
              "34210          1      11.95          179.0      1.2         181.0   \n",
              "34210          1      11.95          179.0      1.2         181.0   \n",
              "34210          1      11.95          179.0      1.2         181.0   \n",
              "34210          1      11.95          179.0      1.2         181.0   \n",
              "34210          1      11.95          179.0      1.2         181.0   \n",
              "34210          1      11.95          179.0      1.2         181.0   \n",
              "34210          1      11.95          179.0      1.2         181.0   \n",
              "34210          1      11.95          179.0      1.2         181.0   \n",
              "34210          1      11.95          179.0      1.2         181.0   \n",
              "34210          1      11.95          179.0      1.2         181.0   \n",
              "34210          1      11.95          179.0      1.2         181.0   \n",
              "34210          1      11.95          179.0      1.2         181.0   \n",
              "34210          1      11.95          179.0      1.2         181.0   \n",
              "34210          1      11.95          179.0      1.2         181.0   \n",
              "34210          1      11.95          179.0      1.2         181.0   \n",
              "34210          1      11.95          179.0      1.2         181.0   \n",
              "\n",
              "       modalidad_pago  recargo_trafico  \n",
              "34210             1.0              0.0  \n",
              "34210             1.0              0.0  \n",
              "34210             1.0              0.0  \n",
              "34210             1.0              0.0  \n",
              "34210             1.0              0.0  \n",
              "34210             1.0              0.0  \n",
              "34210             1.0              0.0  \n",
              "34210             1.0              0.0  \n",
              "34210             1.0              0.0  \n",
              "34210             1.0              0.0  \n",
              "34210             1.0              0.0  \n",
              "34210             1.0              0.0  \n",
              "34210             1.0              0.0  \n",
              "34210             1.0              0.0  \n",
              "34210             1.0              0.0  \n",
              "34210             1.0              0.0  \n",
              "34210             1.0              0.0  \n",
              "34210             1.0              0.0  \n",
              "34210             1.0              0.0  \n",
              "34210             1.0              0.0  "
            ]
          },
          "execution_count": 41,
          "metadata": {},
          "output_type": "execute_result"
        }
      ],
      "source": [
        "df_taxis_verdes[df_taxis_verdes['tarifa_total']> 150].sample(20, replace=True)"
      ]
    },
    {
      "cell_type": "code",
      "execution_count": 42,
      "metadata": {
        "colab": {
          "base_uri": "https://localhost:8080/"
        },
        "id": "JLKWoHFbcgo6",
        "outputId": "fca61a62-a043-4236-d8d2-8cc0c7f30242"
      },
      "outputs": [
        {
          "data": {
            "text/plain": [
              "(72289, 11)"
            ]
          },
          "execution_count": 42,
          "metadata": {},
          "output_type": "execute_result"
        }
      ],
      "source": [
        "df_taxis_verdes.shape"
      ]
    },
    {
      "cell_type": "markdown",
      "metadata": {
        "id": "lM6QJjfkD3A1"
      },
      "source": [
        "Columna 'modalidad_pago'"
      ]
    },
    {
      "cell_type": "code",
      "execution_count": 43,
      "metadata": {
        "colab": {
          "base_uri": "https://localhost:8080/",
          "height": 135
        },
        "id": "Hvr7NbxkW_6d",
        "outputId": "a5ce38b8-7483-4bd1-eced-cba310ac6dcd"
      },
      "outputs": [
        {
          "data": {
            "text/html": [
              "<div>\n",
              "<style scoped>\n",
              "    .dataframe tbody tr th:only-of-type {\n",
              "        vertical-align: middle;\n",
              "    }\n",
              "\n",
              "    .dataframe tbody tr th {\n",
              "        vertical-align: top;\n",
              "    }\n",
              "\n",
              "    .dataframe thead th {\n",
              "        text-align: right;\n",
              "    }\n",
              "</style>\n",
              "<table border=\"1\" class=\"dataframe\">\n",
              "  <thead>\n",
              "    <tr style=\"text-align: right;\">\n",
              "      <th></th>\n",
              "      <th>inicio</th>\n",
              "      <th>fin</th>\n",
              "      <th>zona_inicio</th>\n",
              "      <th>zona_fin</th>\n",
              "      <th>pasajeros</th>\n",
              "      <th>distancia</th>\n",
              "      <th>tarifa_medida</th>\n",
              "      <th>propina</th>\n",
              "      <th>tarifa_total</th>\n",
              "      <th>modalidad_pago</th>\n",
              "      <th>recargo_trafico</th>\n",
              "    </tr>\n",
              "  </thead>\n",
              "  <tbody>\n",
              "    <tr>\n",
              "      <th>3691</th>\n",
              "      <td>2021-01-04 17:55:49</td>\n",
              "      <td>2021-01-04 18:05:30</td>\n",
              "      <td>263</td>\n",
              "      <td>238</td>\n",
              "      <td>1</td>\n",
              "      <td>1.45</td>\n",
              "      <td>8.5</td>\n",
              "      <td>0.0</td>\n",
              "      <td>13.05</td>\n",
              "      <td>2.0</td>\n",
              "      <td>2.75</td>\n",
              "    </tr>\n",
              "  </tbody>\n",
              "</table>\n",
              "</div>"
            ],
            "text/plain": [
              "                   inicio                  fin  zona_inicio  zona_fin  \\\n",
              "3691  2021-01-04 17:55:49  2021-01-04 18:05:30          263       238   \n",
              "\n",
              "      pasajeros  distancia  tarifa_medida  propina  tarifa_total  \\\n",
              "3691          1       1.45            8.5      0.0         13.05   \n",
              "\n",
              "      modalidad_pago  recargo_trafico  \n",
              "3691             2.0             2.75  "
            ]
          },
          "execution_count": 43,
          "metadata": {},
          "output_type": "execute_result"
        }
      ],
      "source": [
        "df_taxis_verdes[df_taxis_verdes['modalidad_pago']==2].sample()"
      ]
    },
    {
      "cell_type": "code",
      "execution_count": 44,
      "metadata": {
        "id": "0N7vzffSW_sj"
      },
      "outputs": [],
      "source": [
        "df_taxis_verdes['modalidad_pago'][df_taxis_verdes['modalidad_pago'] == 2] = -1"
      ]
    },
    {
      "cell_type": "code",
      "execution_count": 45,
      "metadata": {
        "colab": {
          "base_uri": "https://localhost:8080/",
          "height": 1000
        },
        "id": "EiQ2ln4jOF98",
        "outputId": "db2bbb85-32a7-4de6-c228-3aa37bfc15b9"
      },
      "outputs": [
        {
          "name": "stdout",
          "output_type": "stream",
          "text": [
            "\n",
            "Columna: pasajeros           \n",
            "\n",
            "Modal: 1                        Promedio: 1.08                     Mediana: 1.0                     \n",
            "\n",
            "Límite inferior: 1.0            Límite superior: 1.0               Outliers: 38228           \n",
            "\n",
            "\n"
          ]
        },
        {
          "data": {
            "image/png": "[encoded data removed]",
            "text/plain": [
              "<Figure size 300x300 with 1 Axes>"
            ]
          },
          "metadata": {},
          "output_type": "display_data"
        },
        {
          "name": "stdout",
          "output_type": "stream",
          "text": [
            "\n",
            "\n",
            "\n"
          ]
        },
        {
          "data": {
            "image/png": "[encoded data removed]",
            "text/plain": [
              "<Figure size 300x300 with 1 Axes>"
            ]
          },
          "metadata": {},
          "output_type": "display_data"
        },
        {
          "name": "stdout",
          "output_type": "stream",
          "text": [
            "\n",
            "\n",
            "\n",
            "\n",
            "\n",
            "\n",
            "Columna: distancia           \n",
            "\n",
            "Modal: 1.3                      Promedio: 4.23                     Mediana: 2.61                    \n",
            "\n",
            "Límite inferior: 0              Límite superior: 11.9              Outliers: 5568            \n",
            "\n",
            "\n"
          ]
        },
        {
          "data": {
            "image/png": "[encoded data removed]",
            "text/plain": [
              "<Figure size 300x300 with 1 Axes>"
            ]
          },
          "metadata": {},
          "output_type": "display_data"
        },
        {
          "name": "stdout",
          "output_type": "stream",
          "text": [
            "\n",
            "\n",
            "\n"
          ]
        },
        {
          "data": {
            "image/png": "[encoded data removed]",
            "text/plain": [
              "<Figure size 300x300 with 1 Axes>"
            ]
          },
          "metadata": {},
          "output_type": "display_data"
        },
        {
          "name": "stdout",
          "output_type": "stream",
          "text": [
            "\n",
            "\n",
            "\n",
            "\n",
            "\n",
            "\n",
            "Columna: tarifa_medida       \n",
            "\n",
            "Modal: 7.0                      Promedio: 18.9                     Mediana: 16.73                   \n",
            "\n",
            "Límite inferior: 0              Límite superior: 48.08             Outliers: 2652            \n",
            "\n",
            "\n"
          ]
        },
        {
          "data": {
            "image/png": "[encoded data removed]",
            "text/plain": [
              "<Figure size 300x300 with 1 Axes>"
            ]
          },
          "metadata": {},
          "output_type": "display_data"
        },
        {
          "name": "stdout",
          "output_type": "stream",
          "text": [
            "\n",
            "\n",
            "\n"
          ]
        },
        {
          "data": {
            "image/png": "[encoded data removed]",
            "text/plain": [
              "<Figure size 300x300 with 1 Axes>"
            ]
          },
          "metadata": {},
          "output_type": "display_data"
        },
        {
          "name": "stdout",
          "output_type": "stream",
          "text": [
            "\n",
            "\n",
            "\n",
            "\n",
            "\n",
            "\n",
            "Columna: propina             \n",
            "\n",
            "Modal: 0.0                      Promedio: 1.51                     Mediana: 1.26                    \n",
            "\n",
            "Límite inferior: 0              Límite superior: 6.88              Outliers: 823             \n",
            "\n",
            "\n"
          ]
        },
        {
          "data": {
            "image/png": "[encoded data removed]",
            "text/plain": [
              "<Figure size 300x300 with 1 Axes>"
            ]
          },
          "metadata": {},
          "output_type": "display_data"
        },
        {
          "name": "stdout",
          "output_type": "stream",
          "text": [
            "\n",
            "\n",
            "\n"
          ]
        },
        {
          "data": {
            "image/png": "[encoded data removed]",
            "text/plain": [
              "<Figure size 300x300 with 1 Axes>"
            ]
          },
          "metadata": {},
          "output_type": "display_data"
        },
        {
          "name": "stdout",
          "output_type": "stream",
          "text": [
            "\n",
            "\n",
            "\n",
            "\n",
            "\n",
            "\n",
            "Columna: tarifa_total        \n",
            "\n",
            "Modal: 7.8                      Promedio: 22.48                    Mediana: 20.06                   \n",
            "\n",
            "Límite inferior: 0              Límite superior: 53.96             Outliers: 2735            \n",
            "\n",
            "\n"
          ]
        },
        {
          "data": {
            "image/png": "[encoded data removed]",
            "text/plain": [
              "<Figure size 300x300 with 1 Axes>"
            ]
          },
          "metadata": {},
          "output_type": "display_data"
        },
        {
          "name": "stdout",
          "output_type": "stream",
          "text": [
            "\n",
            "\n",
            "\n"
          ]
        },
        {
          "data": {
            "image/png": "[encoded data removed]",
            "text/plain": [
              "<Figure size 300x300 with 1 Axes>"
            ]
          },
          "metadata": {},
          "output_type": "display_data"
        },
        {
          "name": "stdout",
          "output_type": "stream",
          "text": [
            "\n",
            "\n",
            "\n",
            "\n",
            "\n",
            "\n",
            "Columna: recargo_trafico     \n",
            "\n",
            "Modal: 0.0                      Promedio: 0.65                     Mediana: 0.0                     \n",
            "\n",
            "Límite inferior: 0.0            Límite superior: 0.0               Outliers: 43496           \n",
            "\n",
            "\n"
          ]
        },
        {
          "data": {
            "image/png": "[encoded data removed]",
            "text/plain": [
              "<Figure size 300x300 with 1 Axes>"
            ]
          },
          "metadata": {},
          "output_type": "display_data"
        },
        {
          "name": "stdout",
          "output_type": "stream",
          "text": [
            "\n",
            "\n",
            "\n"
          ]
        },
        {
          "data": {
            "image/png": "[encoded data removed]",
            "text/plain": [
              "<Figure size 300x300 with 1 Axes>"
            ]
          },
          "metadata": {},
          "output_type": "display_data"
        },
        {
          "name": "stdout",
          "output_type": "stream",
          "text": [
            "\n",
            "\n",
            "\n",
            "\n",
            "\n"
          ]
        }
      ],
      "source": [
        "testear_outliers(df_taxis_verdes)"
      ]
    },
    {
      "cell_type": "markdown",
      "metadata": {
        "id": "6_WCthErFbvM"
      },
      "source": [
        "### Creamos columnas con horas, tiempo de viaje, días de la semana, para tener más datos para ver algún tipo de correlación."
      ]
    },
    {
      "cell_type": "code",
      "execution_count": 46,
      "metadata": {
        "colab": {
          "base_uri": "https://localhost:8080/"
        },
        "id": "ffNx9EylnWIA",
        "outputId": "159404d9-04ab-48e1-df0b-f15c818ee344"
      },
      "outputs": [
        {
          "data": {
            "text/html": [
              "<div>\n",
              "<style scoped>\n",
              "    .dataframe tbody tr th:only-of-type {\n",
              "        vertical-align: middle;\n",
              "    }\n",
              "\n",
              "    .dataframe tbody tr th {\n",
              "        vertical-align: top;\n",
              "    }\n",
              "\n",
              "    .dataframe thead th {\n",
              "        text-align: right;\n",
              "    }\n",
              "</style>\n",
              "<table border=\"1\" class=\"dataframe\">\n",
              "  <thead>\n",
              "    <tr style=\"text-align: right;\">\n",
              "      <th></th>\n",
              "      <th>inicio</th>\n",
              "      <th>fin</th>\n",
              "      <th>zona_inicio</th>\n",
              "      <th>zona_fin</th>\n",
              "      <th>pasajeros</th>\n",
              "      <th>distancia</th>\n",
              "      <th>tarifa_medida</th>\n",
              "      <th>propina</th>\n",
              "      <th>tarifa_total</th>\n",
              "      <th>modalidad_pago</th>\n",
              "      <th>recargo_trafico</th>\n",
              "    </tr>\n",
              "  </thead>\n",
              "  <tbody>\n",
              "    <tr>\n",
              "      <th>0</th>\n",
              "      <td>2021-01-01 00:15:56</td>\n",
              "      <td>2021-01-01 00:19:52</td>\n",
              "      <td>43</td>\n",
              "      <td>151</td>\n",
              "      <td>1</td>\n",
              "      <td>1.01</td>\n",
              "      <td>5.50</td>\n",
              "      <td>0.00</td>\n",
              "      <td>6.80</td>\n",
              "      <td>-1.0</td>\n",
              "      <td>0.00</td>\n",
              "    </tr>\n",
              "    <tr>\n",
              "      <th>1</th>\n",
              "      <td>2021-01-01 00:25:59</td>\n",
              "      <td>2021-01-01 00:34:44</td>\n",
              "      <td>166</td>\n",
              "      <td>239</td>\n",
              "      <td>1</td>\n",
              "      <td>2.53</td>\n",
              "      <td>10.00</td>\n",
              "      <td>2.81</td>\n",
              "      <td>16.86</td>\n",
              "      <td>1.0</td>\n",
              "      <td>2.75</td>\n",
              "    </tr>\n",
              "    <tr>\n",
              "      <th>2</th>\n",
              "      <td>2021-01-01 00:45:57</td>\n",
              "      <td>2021-01-01 00:51:55</td>\n",
              "      <td>41</td>\n",
              "      <td>42</td>\n",
              "      <td>1</td>\n",
              "      <td>1.12</td>\n",
              "      <td>6.00</td>\n",
              "      <td>1.00</td>\n",
              "      <td>8.30</td>\n",
              "      <td>1.0</td>\n",
              "      <td>0.00</td>\n",
              "    </tr>\n",
              "    <tr>\n",
              "      <th>3</th>\n",
              "      <td>2020-12-31 23:57:51</td>\n",
              "      <td>2021-01-01 00:04:56</td>\n",
              "      <td>168</td>\n",
              "      <td>75</td>\n",
              "      <td>1</td>\n",
              "      <td>1.99</td>\n",
              "      <td>8.00</td>\n",
              "      <td>0.00</td>\n",
              "      <td>9.30</td>\n",
              "      <td>-1.0</td>\n",
              "      <td>0.00</td>\n",
              "    </tr>\n",
              "    <tr>\n",
              "      <th>7</th>\n",
              "      <td>2021-01-01 00:26:31</td>\n",
              "      <td>2021-01-01 00:28:50</td>\n",
              "      <td>75</td>\n",
              "      <td>75</td>\n",
              "      <td>-1</td>\n",
              "      <td>0.45</td>\n",
              "      <td>3.50</td>\n",
              "      <td>0.96</td>\n",
              "      <td>5.76</td>\n",
              "      <td>1.0</td>\n",
              "      <td>0.00</td>\n",
              "    </tr>\n",
              "    <tr>\n",
              "      <th>...</th>\n",
              "      <td>...</td>\n",
              "      <td>...</td>\n",
              "      <td>...</td>\n",
              "      <td>...</td>\n",
              "      <td>...</td>\n",
              "      <td>...</td>\n",
              "      <td>...</td>\n",
              "      <td>...</td>\n",
              "      <td>...</td>\n",
              "      <td>...</td>\n",
              "      <td>...</td>\n",
              "    </tr>\n",
              "    <tr>\n",
              "      <th>76513</th>\n",
              "      <td>2021-01-31 21:38:00</td>\n",
              "      <td>2021-01-31 22:16:00</td>\n",
              "      <td>81</td>\n",
              "      <td>90</td>\n",
              "      <td>-1</td>\n",
              "      <td>17.63</td>\n",
              "      <td>56.23</td>\n",
              "      <td>0.00</td>\n",
              "      <td>65.40</td>\n",
              "      <td>-1.0</td>\n",
              "      <td>-1.00</td>\n",
              "    </tr>\n",
              "    <tr>\n",
              "      <th>76514</th>\n",
              "      <td>2021-01-31 22:43:00</td>\n",
              "      <td>2021-01-31 23:21:00</td>\n",
              "      <td>35</td>\n",
              "      <td>213</td>\n",
              "      <td>-1</td>\n",
              "      <td>18.36</td>\n",
              "      <td>46.66</td>\n",
              "      <td>12.20</td>\n",
              "      <td>65.28</td>\n",
              "      <td>-1.0</td>\n",
              "      <td>-1.00</td>\n",
              "    </tr>\n",
              "    <tr>\n",
              "      <th>76515</th>\n",
              "      <td>2021-01-31 22:16:00</td>\n",
              "      <td>2021-01-31 22:27:00</td>\n",
              "      <td>74</td>\n",
              "      <td>69</td>\n",
              "      <td>-1</td>\n",
              "      <td>2.50</td>\n",
              "      <td>18.95</td>\n",
              "      <td>0.00</td>\n",
              "      <td>22.00</td>\n",
              "      <td>-1.0</td>\n",
              "      <td>-1.00</td>\n",
              "    </tr>\n",
              "    <tr>\n",
              "      <th>76516</th>\n",
              "      <td>2021-01-31 23:10:00</td>\n",
              "      <td>2021-01-31 23:37:00</td>\n",
              "      <td>168</td>\n",
              "      <td>215</td>\n",
              "      <td>-1</td>\n",
              "      <td>14.48</td>\n",
              "      <td>48.87</td>\n",
              "      <td>0.00</td>\n",
              "      <td>58.04</td>\n",
              "      <td>-1.0</td>\n",
              "      <td>-1.00</td>\n",
              "    </tr>\n",
              "    <tr>\n",
              "      <th>76517</th>\n",
              "      <td>2021-01-31 23:25:00</td>\n",
              "      <td>2021-01-31 23:35:00</td>\n",
              "      <td>119</td>\n",
              "      <td>244</td>\n",
              "      <td>-1</td>\n",
              "      <td>1.81</td>\n",
              "      <td>15.45</td>\n",
              "      <td>0.00</td>\n",
              "      <td>18.50</td>\n",
              "      <td>-1.0</td>\n",
              "      <td>-1.00</td>\n",
              "    </tr>\n",
              "  </tbody>\n",
              "</table>\n",
              "<p>72289 rows × 11 columns</p>\n",
              "</div>"
            ],
            "text/plain": [
              "                    inicio                  fin  zona_inicio  zona_fin  \\\n",
              "0      2021-01-01 00:15:56  2021-01-01 00:19:52           43       151   \n",
              "1      2021-01-01 00:25:59  2021-01-01 00:34:44          166       239   \n",
              "2      2021-01-01 00:45:57  2021-01-01 00:51:55           41        42   \n",
              "3      2020-12-31 23:57:51  2021-01-01 00:04:56          168        75   \n",
              "7      2021-01-01 00:26:31  2021-01-01 00:28:50           75        75   \n",
              "...                    ...                  ...          ...       ...   \n",
              "76513  2021-01-31 21:38:00  2021-01-31 22:16:00           81        90   \n",
              "76514  2021-01-31 22:43:00  2021-01-31 23:21:00           35       213   \n",
              "76515  2021-01-31 22:16:00  2021-01-31 22:27:00           74        69   \n",
              "76516  2021-01-31 23:10:00  2021-01-31 23:37:00          168       215   \n",
              "76517  2021-01-31 23:25:00  2021-01-31 23:35:00          119       244   \n",
              "\n",
              "       pasajeros  distancia  tarifa_medida  propina  tarifa_total  \\\n",
              "0              1       1.01           5.50     0.00          6.80   \n",
              "1              1       2.53          10.00     2.81         16.86   \n",
              "2              1       1.12           6.00     1.00          8.30   \n",
              "3              1       1.99           8.00     0.00          9.30   \n",
              "7             -1       0.45           3.50     0.96          5.76   \n",
              "...          ...        ...            ...      ...           ...   \n",
              "76513         -1      17.63          56.23     0.00         65.40   \n",
              "76514         -1      18.36          46.66    12.20         65.28   \n",
              "76515         -1       2.50          18.95     0.00         22.00   \n",
              "76516         -1      14.48          48.87     0.00         58.04   \n",
              "76517         -1       1.81          15.45     0.00         18.50   \n",
              "\n",
              "       modalidad_pago  recargo_trafico  \n",
              "0                -1.0             0.00  \n",
              "1                 1.0             2.75  \n",
              "2                 1.0             0.00  \n",
              "3                -1.0             0.00  \n",
              "7                 1.0             0.00  \n",
              "...               ...              ...  \n",
              "76513            -1.0            -1.00  \n",
              "76514            -1.0            -1.00  \n",
              "76515            -1.0            -1.00  \n",
              "76516            -1.0            -1.00  \n",
              "76517            -1.0            -1.00  \n",
              "\n",
              "[72289 rows x 11 columns]"
            ]
          },
          "execution_count": 46,
          "metadata": {},
          "output_type": "execute_result"
        }
      ],
      "source": [
        "df_taxis_verdes"
      ]
    },
    {
      "cell_type": "code",
      "execution_count": 47,
      "metadata": {},
      "outputs": [],
      "source": [
        "df_taxis_verdes['inicio'] = pd.to_datetime(df_taxis_verdes['inicio'])  # Convert if needed\n",
        "df_taxis_verdes['fin'] = pd.to_datetime(df_taxis_verdes['fin'])  # Convert if needed\n",
        "\n",
        "df_taxis_verdes['hora_inicio'] = df_taxis_verdes['inicio'].dt.hour\n",
        "df_taxis_verdes['hora_fin'] = df_taxis_verdes['fin'].dt.hour\n",
        "\n",
        "df_taxis_verdes['duracion_minutos'] = (df_taxis_verdes['fin'] - df_taxis_verdes['inicio']).dt.total_seconds() / 60\n"
      ]
    },
    {
      "cell_type": "code",
      "execution_count": 48,
      "metadata": {
        "colab": {
          "base_uri": "https://localhost:8080/",
          "height": 267
        },
        "id": "NOkuuF56HJYc",
        "outputId": "969dca2b-6304-41b9-99dc-c1fb151ca91c"
      },
      "outputs": [
        {
          "data": {
            "text/html": [
              "<div>\n",
              "<style scoped>\n",
              "    .dataframe tbody tr th:only-of-type {\n",
              "        vertical-align: middle;\n",
              "    }\n",
              "\n",
              "    .dataframe tbody tr th {\n",
              "        vertical-align: top;\n",
              "    }\n",
              "\n",
              "    .dataframe thead th {\n",
              "        text-align: right;\n",
              "    }\n",
              "</style>\n",
              "<table border=\"1\" class=\"dataframe\">\n",
              "  <thead>\n",
              "    <tr style=\"text-align: right;\">\n",
              "      <th></th>\n",
              "      <th>inicio</th>\n",
              "      <th>fin</th>\n",
              "      <th>zona_inicio</th>\n",
              "      <th>zona_fin</th>\n",
              "      <th>pasajeros</th>\n",
              "      <th>distancia</th>\n",
              "      <th>tarifa_medida</th>\n",
              "      <th>propina</th>\n",
              "      <th>tarifa_total</th>\n",
              "      <th>modalidad_pago</th>\n",
              "      <th>recargo_trafico</th>\n",
              "      <th>hora_inicio</th>\n",
              "      <th>hora_fin</th>\n",
              "      <th>duracion_minutos</th>\n",
              "    </tr>\n",
              "  </thead>\n",
              "  <tbody>\n",
              "    <tr>\n",
              "      <th>0</th>\n",
              "      <td>2021-01-01 00:15:56</td>\n",
              "      <td>2021-01-01 00:19:52</td>\n",
              "      <td>43</td>\n",
              "      <td>151</td>\n",
              "      <td>1</td>\n",
              "      <td>1.01</td>\n",
              "      <td>5.5</td>\n",
              "      <td>0.00</td>\n",
              "      <td>6.80</td>\n",
              "      <td>-1.0</td>\n",
              "      <td>0.00</td>\n",
              "      <td>0</td>\n",
              "      <td>0</td>\n",
              "      <td>3.933333</td>\n",
              "    </tr>\n",
              "    <tr>\n",
              "      <th>1</th>\n",
              "      <td>2021-01-01 00:25:59</td>\n",
              "      <td>2021-01-01 00:34:44</td>\n",
              "      <td>166</td>\n",
              "      <td>239</td>\n",
              "      <td>1</td>\n",
              "      <td>2.53</td>\n",
              "      <td>10.0</td>\n",
              "      <td>2.81</td>\n",
              "      <td>16.86</td>\n",
              "      <td>1.0</td>\n",
              "      <td>2.75</td>\n",
              "      <td>0</td>\n",
              "      <td>0</td>\n",
              "      <td>8.750000</td>\n",
              "    </tr>\n",
              "    <tr>\n",
              "      <th>2</th>\n",
              "      <td>2021-01-01 00:45:57</td>\n",
              "      <td>2021-01-01 00:51:55</td>\n",
              "      <td>41</td>\n",
              "      <td>42</td>\n",
              "      <td>1</td>\n",
              "      <td>1.12</td>\n",
              "      <td>6.0</td>\n",
              "      <td>1.00</td>\n",
              "      <td>8.30</td>\n",
              "      <td>1.0</td>\n",
              "      <td>0.00</td>\n",
              "      <td>0</td>\n",
              "      <td>0</td>\n",
              "      <td>5.966667</td>\n",
              "    </tr>\n",
              "  </tbody>\n",
              "</table>\n",
              "</div>"
            ],
            "text/plain": [
              "               inicio                 fin  zona_inicio  zona_fin  pasajeros  \\\n",
              "0 2021-01-01 00:15:56 2021-01-01 00:19:52           43       151          1   \n",
              "1 2021-01-01 00:25:59 2021-01-01 00:34:44          166       239          1   \n",
              "2 2021-01-01 00:45:57 2021-01-01 00:51:55           41        42          1   \n",
              "\n",
              "   distancia  tarifa_medida  propina  tarifa_total  modalidad_pago  \\\n",
              "0       1.01            5.5     0.00          6.80            -1.0   \n",
              "1       2.53           10.0     2.81         16.86             1.0   \n",
              "2       1.12            6.0     1.00          8.30             1.0   \n",
              "\n",
              "   recargo_trafico  hora_inicio  hora_fin  duracion_minutos  \n",
              "0             0.00            0         0          3.933333  \n",
              "1             2.75            0         0          8.750000  \n",
              "2             0.00            0         0          5.966667  "
            ]
          },
          "execution_count": 48,
          "metadata": {},
          "output_type": "execute_result"
        }
      ],
      "source": [
        "df_taxis_verdes.head(3)"
      ]
    },
    {
      "cell_type": "code",
      "execution_count": 49,
      "metadata": {
        "colab": {
          "base_uri": "https://localhost:8080/",
          "height": 333
        },
        "id": "dUB3PL21JVQG",
        "outputId": "f724f090-6ad3-4e4d-bb9f-414dad2dbe08"
      },
      "outputs": [
        {
          "data": {
            "image/png": "[encoded data removed]",
            "text/plain": [
              "<Figure size 300x300 with 1 Axes>"
            ]
          },
          "metadata": {},
          "output_type": "display_data"
        }
      ],
      "source": [
        "plt.figure(figsize=(3,3))\n",
        "plt.hist(df_taxis_verdes['hora_inicio'], bins=8, edgecolor='black')\n",
        "plt.title(f'Histograma de horas')\n",
        "plt.xlabel('Valor')\n",
        "plt.ylabel('Frecuencia')\n",
        "plt.show()"
      ]
    },
    {
      "cell_type": "code",
      "execution_count": 50,
      "metadata": {
        "colab": {
          "base_uri": "https://localhost:8080/",
          "height": 73
        },
        "id": "NEGwmx_OLrdo",
        "outputId": "7389bddd-7274-463f-e716-1dfd1709b83e"
      },
      "outputs": [
        {
          "data": {
            "text/html": [
              "<div>\n",
              "<style scoped>\n",
              "    .dataframe tbody tr th:only-of-type {\n",
              "        vertical-align: middle;\n",
              "    }\n",
              "\n",
              "    .dataframe tbody tr th {\n",
              "        vertical-align: top;\n",
              "    }\n",
              "\n",
              "    .dataframe thead th {\n",
              "        text-align: right;\n",
              "    }\n",
              "</style>\n",
              "<table border=\"1\" class=\"dataframe\">\n",
              "  <thead>\n",
              "    <tr style=\"text-align: right;\">\n",
              "      <th></th>\n",
              "      <th>inicio</th>\n",
              "      <th>fin</th>\n",
              "      <th>zona_inicio</th>\n",
              "      <th>zona_fin</th>\n",
              "      <th>pasajeros</th>\n",
              "      <th>distancia</th>\n",
              "      <th>tarifa_medida</th>\n",
              "      <th>propina</th>\n",
              "      <th>tarifa_total</th>\n",
              "      <th>modalidad_pago</th>\n",
              "      <th>recargo_trafico</th>\n",
              "      <th>hora_inicio</th>\n",
              "      <th>hora_fin</th>\n",
              "      <th>duracion_minutos</th>\n",
              "    </tr>\n",
              "  </thead>\n",
              "  <tbody>\n",
              "  </tbody>\n",
              "</table>\n",
              "</div>"
            ],
            "text/plain": [
              "Empty DataFrame\n",
              "Columns: [inicio, fin, zona_inicio, zona_fin, pasajeros, distancia, tarifa_medida, propina, tarifa_total, modalidad_pago, recargo_trafico, hora_inicio, hora_fin, duracion_minutos]\n",
              "Index: []"
            ]
          },
          "execution_count": 50,
          "metadata": {},
          "output_type": "execute_result"
        }
      ],
      "source": [
        "df_taxis_verdes[df_taxis_verdes['duracion_minutos']<0].head()"
      ]
    },
    {
      "cell_type": "code",
      "execution_count": 51,
      "metadata": {
        "colab": {
          "base_uri": "https://localhost:8080/"
        },
        "id": "WnabP9NLNVzm",
        "outputId": "e0d72b81-8995-469d-fea0-03518f7eabb0"
      },
      "outputs": [
        {
          "data": {
            "text/plain": [
              "inicio              216\n",
              "fin                 216\n",
              "zona_inicio         216\n",
              "zona_fin            216\n",
              "pasajeros           216\n",
              "distancia           216\n",
              "tarifa_medida       216\n",
              "propina             216\n",
              "tarifa_total        216\n",
              "modalidad_pago      216\n",
              "recargo_trafico     216\n",
              "hora_inicio         216\n",
              "hora_fin            216\n",
              "duracion_minutos    216\n",
              "dtype: int64"
            ]
          },
          "execution_count": 51,
          "metadata": {},
          "output_type": "execute_result"
        }
      ],
      "source": [
        "df_taxis_verdes[df_taxis_verdes['duracion_minutos']>100].count()"
      ]
    },
    {
      "cell_type": "code",
      "execution_count": 52,
      "metadata": {
        "id": "5Ll7AJu5NBCv"
      },
      "outputs": [],
      "source": [
        "df_taxis_verdes = df_taxis_verdes.drop(df_taxis_verdes[df_taxis_verdes['duracion_minutos']<0].index)\n",
        "df_taxis_verdes = df_taxis_verdes.drop(df_taxis_verdes[df_taxis_verdes['duracion_minutos']>100].index)"
      ]
    },
    {
      "cell_type": "code",
      "execution_count": 53,
      "metadata": {
        "colab": {
          "base_uri": "https://localhost:8080/",
          "height": 333
        },
        "id": "ztl6di8ALLvN",
        "outputId": "4b242d54-908b-43a7-d375-2bac4c954ff2"
      },
      "outputs": [
        {
          "data": {
            "image/png": "[encoded data removed]",
            "text/plain": [
              "<Figure size 300x300 with 1 Axes>"
            ]
          },
          "metadata": {},
          "output_type": "display_data"
        }
      ],
      "source": [
        "plt.figure(figsize=(3,3))\n",
        "plt.hist(df_taxis_verdes['duracion_minutos'], bins=20, edgecolor='black')\n",
        "plt.title(f'Histograma de tiempo de viaje')\n",
        "plt.xlabel('Valor')\n",
        "plt.ylabel('Frecuencia')\n",
        "plt.show()"
      ]
    },
    {
      "cell_type": "code",
      "execution_count": 54,
      "metadata": {
        "id": "tTBqKkV0AWG_"
      },
      "outputs": [],
      "source": [
        "nombres_normalizados = {'inicio_viaje':'tpep_pickup_datetime', 'fin_viaje':'tpep_dropoff_datetime', 'pasajeros':'passenger_count',\n",
        "                  'distancia':'trip_distance', 'zona_inicio':'pu_location_id', 'zona_fin':'do_location_id', 'tarifa_medida':'fare_amount',\n",
        "                  'tarifa_total':'total_amount', 'recargo_trafico':'congestion_surcharge', 'modalidad_pago':'payment_type',\n",
        "                  'propina':'tip_amount', 'hora_inicio':'star_time', 'hora_fin': 'end_time',  'duracion_minutos':'duration_minutes',\n",
        "                     'dia_viaje':'trip_day'}"
      ]
    },
    {
      "cell_type": "code",
      "execution_count": 55,
      "metadata": {
        "id": "_7GdpUW3CPNF"
      },
      "outputs": [],
      "source": [
        "df_taxis_verdes.rename(columns=nombres_normalizados, inplace=True)"
      ]
    },
    {
      "cell_type": "markdown",
      "metadata": {
        "id": "u2s-nsAz005D"
      },
      "source": [
        "## Archivo final de análisis"
      ]
    },
    {
      "cell_type": "code",
      "execution_count": 56,
      "metadata": {
        "id": "YkMn_2JlB_Oy"
      },
      "outputs": [],
      "source": [
        "df_taxis_verdes.to_csv(EDA, index=False)"
      ]
    },
    {
      "cell_type": "code",
      "execution_count": 57,
      "metadata": {
        "id": "TvJSZS9zDRya"
      },
      "outputs": [],
      "source": [
        "matriz = df_taxis_verdes.iloc[:,:-1].corr()"
      ]
    },
    {
      "cell_type": "code",
      "execution_count": 58,
      "metadata": {
        "colab": {
          "base_uri": "https://localhost:8080/",
          "height": 837
        },
        "id": "y6G4HC2BDZU5",
        "outputId": "8dd29681-84e7-4b74-e2d8-d09a216e7808"
      },
      "outputs": [
        {
          "data": {
            "image/png": "[encoded data removed]",
            "text/plain": [
              "<Figure size 800x800 with 2 Axes>"
            ]
          },
          "metadata": {},
          "output_type": "display_data"
        }
      ],
      "source": [
        "plt.figure(figsize=(8, 8))\n",
        "sns.heatmap(matriz, annot=True, cmap='coolwarm', fmt=\".2f\", linewidths=.5)\n",
        "plt.title('Matriz de Correlación')\n",
        "plt.show()"
      ]
    },
    {
      "cell_type": "markdown",
      "metadata": {
        "id": "sS50IuYqd5ip"
      },
      "source": [
        "No se observan correlaciones importantes, más allá de las obvias."
      ]
    }
  ],
  "metadata": {
    "colab": {
      "provenance": []
    },
    "kernelspec": {
      "display_name": "Python 3",
      "name": "python3"
    },
    "language_info": {
      "codemirror_mode": {
        "name": "ipython",
        "version": 3
      },
      "file_extension": ".py",
      "mimetype": "text/x-python",
      "name": "python",
      "nbconvert_exporter": "python",
      "pygments_lexer": "ipython3",
      "version": "3.11.4"
    }
  },
  "nbformat": 4,
  "nbformat_minor": 0
}
