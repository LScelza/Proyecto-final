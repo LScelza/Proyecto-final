{
 "cells": [
  {
   "cell_type": "markdown",
   "metadata": {},
   "source": [
    "<h2>Instalacion de librerias </h2>\n"
   ]
  },
  {
   "cell_type": "code",
   "execution_count": null,
   "metadata": {},
   "outputs": [],
   "source": [
    "#%pip install -r ../requirements.txt"
   ]
  },
  {
   "cell_type": "markdown",
   "metadata": {},
   "source": [
    "<h2> Importacion de libreria </h2>"
   ]
  },
  {
   "cell_type": "code",
   "execution_count": 2,
   "metadata": {},
   "outputs": [],
   "source": [
    "import pandas as pd\n",
    "import warnings\n",
    "warnings.filterwarnings(\"ignore\")\n",
    "import matplotlib.pyplot as plt\n",
    "import numpy as np\n",
    "import seaborn as sns"
   ]
  },
  {
   "cell_type": "markdown",
   "metadata": {},
   "source": [
    "## Rutas "
   ]
  },
  {
   "cell_type": "code",
   "execution_count": 3,
   "metadata": {},
   "outputs": [],
   "source": [
    "path = '../path.txt'"
   ]
  },
  {
   "cell_type": "markdown",
   "metadata": {},
   "source": [
    "## Funciones\n"
   ]
  },
  {
   "cell_type": "markdown",
   "metadata": {},
   "source": [
    "## Extraccion"
   ]
  },
  {
   "cell_type": "code",
   "execution_count": 7,
   "metadata": {},
   "outputs": [],
   "source": [
    "with open(path, 'r') as archivo:\n",
    "    for linea in archivo.readlines():\n",
    "        exec(linea.strip(), globals())"
   ]
  },
  {
   "cell_type": "code",
   "execution_count": 8,
   "metadata": {},
   "outputs": [
    {
     "data": {
      "text/html": [
       "<div>\n",
       "<style scoped>\n",
       "    .dataframe tbody tr th:only-of-type {\n",
       "        vertical-align: middle;\n",
       "    }\n",
       "\n",
       "    .dataframe tbody tr th {\n",
       "        vertical-align: top;\n",
       "    }\n",
       "\n",
       "    .dataframe thead th {\n",
       "        text-align: right;\n",
       "    }\n",
       "</style>\n",
       "<table border=\"1\" class=\"dataframe\">\n",
       "  <thead>\n",
       "    <tr style=\"text-align: right;\">\n",
       "      <th></th>\n",
       "      <th>Category</th>\n",
       "      <th>Model</th>\n",
       "      <th>Model Year</th>\n",
       "      <th>Manufacturer</th>\n",
       "      <th>Fuel</th>\n",
       "      <th>All-Electric Range</th>\n",
       "      <th>PHEV Total Range</th>\n",
       "      <th>Alternative Fuel Economy City</th>\n",
       "      <th>Alternative Fuel Economy Highway</th>\n",
       "      <th>Alternative Fuel Economy Combined</th>\n",
       "      <th>Conventional Fuel Economy City</th>\n",
       "      <th>Conventional Fuel Economy Highway</th>\n",
       "      <th>Conventional Fuel Economy Combined</th>\n",
       "      <th>Transmission Type</th>\n",
       "      <th>Transmission Make</th>\n",
       "      <th>Engine Type</th>\n",
       "      <th>Engine Size</th>\n",
       "      <th>Engine Cylinder Count</th>\n",
       "      <th>Number of Passengers</th>\n",
       "      <th>Heavy-Duty Power System</th>\n",
       "      <th>Notes</th>\n",
       "      <th>Drivetrain</th>\n",
       "    </tr>\n",
       "  </thead>\n",
       "  <tbody>\n",
       "    <tr>\n",
       "      <th>229</th>\n",
       "      <td>Sedan/Wagon</td>\n",
       "      <td>EQS 580 4MATIC</td>\n",
       "      <td>2022.0</td>\n",
       "      <td>Mercedes-Benz</td>\n",
       "      <td>Electric</td>\n",
       "      <td>340.0</td>\n",
       "      <td>NaN</td>\n",
       "      <td>92.0</td>\n",
       "      <td>99.0</td>\n",
       "      <td>95.0</td>\n",
       "      <td>NaN</td>\n",
       "      <td>NaN</td>\n",
       "      <td>NaN</td>\n",
       "      <td>Auto</td>\n",
       "      <td>NaN</td>\n",
       "      <td>e-motor</td>\n",
       "      <td>135 and 255 kW electric motors</td>\n",
       "      <td>NaN</td>\n",
       "      <td>NaN</td>\n",
       "      <td>NaN</td>\n",
       "      <td>NaN</td>\n",
       "      <td>AWD</td>\n",
       "    </tr>\n",
       "    <tr>\n",
       "      <th>404</th>\n",
       "      <td>Sedan/Wagon</td>\n",
       "      <td>Mustang Mach-E GT AWD</td>\n",
       "      <td>2021.0</td>\n",
       "      <td>Ford</td>\n",
       "      <td>Electric</td>\n",
       "      <td>270.0</td>\n",
       "      <td>NaN</td>\n",
       "      <td>90.0</td>\n",
       "      <td>77.0</td>\n",
       "      <td>84.0</td>\n",
       "      <td>NaN</td>\n",
       "      <td>NaN</td>\n",
       "      <td>NaN</td>\n",
       "      <td>Auto</td>\n",
       "      <td>NaN</td>\n",
       "      <td>e-motor</td>\n",
       "      <td>179  kW electric motors (X2)</td>\n",
       "      <td>NaN</td>\n",
       "      <td>NaN</td>\n",
       "      <td>NaN</td>\n",
       "      <td>NaN</td>\n",
       "      <td>AWD</td>\n",
       "    </tr>\n",
       "    <tr>\n",
       "      <th>438</th>\n",
       "      <td>SUV</td>\n",
       "      <td>CR-V AWD</td>\n",
       "      <td>2021.0</td>\n",
       "      <td>Honda</td>\n",
       "      <td>Hybrid Electric</td>\n",
       "      <td>NaN</td>\n",
       "      <td>NaN</td>\n",
       "      <td>NaN</td>\n",
       "      <td>NaN</td>\n",
       "      <td>NaN</td>\n",
       "      <td>40.0</td>\n",
       "      <td>35.0</td>\n",
       "      <td>38.0</td>\n",
       "      <td>Auto</td>\n",
       "      <td>NaN</td>\n",
       "      <td>SI</td>\n",
       "      <td>2.0L</td>\n",
       "      <td>4.0</td>\n",
       "      <td>NaN</td>\n",
       "      <td>NaN</td>\n",
       "      <td>NaN</td>\n",
       "      <td>NaN</td>\n",
       "    </tr>\n",
       "    <tr>\n",
       "      <th>509</th>\n",
       "      <td>Sedan/Wagon</td>\n",
       "      <td>E 450 4MATIC (Coupe)</td>\n",
       "      <td>2021.0</td>\n",
       "      <td>Mercedes-Benz</td>\n",
       "      <td>Hybrid Electric</td>\n",
       "      <td>NaN</td>\n",
       "      <td>NaN</td>\n",
       "      <td>NaN</td>\n",
       "      <td>NaN</td>\n",
       "      <td>NaN</td>\n",
       "      <td>23.0</td>\n",
       "      <td>30.0</td>\n",
       "      <td>25.0</td>\n",
       "      <td>Auto</td>\n",
       "      <td>NaN</td>\n",
       "      <td>SI</td>\n",
       "      <td>3.0L</td>\n",
       "      <td>6.0</td>\n",
       "      <td>NaN</td>\n",
       "      <td>NaN</td>\n",
       "      <td>NaN</td>\n",
       "      <td>NaN</td>\n",
       "    </tr>\n",
       "    <tr>\n",
       "      <th>851</th>\n",
       "      <td>Transit Bus</td>\n",
       "      <td>ZX5+ 40-Foot Bus - Class 8</td>\n",
       "      <td>NaN</td>\n",
       "      <td>Proterra</td>\n",
       "      <td>Electric</td>\n",
       "      <td>NaN</td>\n",
       "      <td>NaN</td>\n",
       "      <td>NaN</td>\n",
       "      <td>NaN</td>\n",
       "      <td>NaN</td>\n",
       "      <td>NaN</td>\n",
       "      <td>NaN</td>\n",
       "      <td>NaN</td>\n",
       "      <td>NaN</td>\n",
       "      <td>NaN</td>\n",
       "      <td>NaN</td>\n",
       "      <td>NaN</td>\n",
       "      <td>NaN</td>\n",
       "      <td>40</td>\n",
       "      <td>Proterra ProDrive™ 250kW permanent magnet moto...</td>\n",
       "      <td>According to manufacturer: 550HP peak; 440 kWh...</td>\n",
       "      <td>NaN</td>\n",
       "    </tr>\n",
       "  </tbody>\n",
       "</table>\n",
       "</div>"
      ],
      "text/plain": [
       "        Category                       Model  Model Year   Manufacturer  \\\n",
       "229  Sedan/Wagon              EQS 580 4MATIC      2022.0  Mercedes-Benz   \n",
       "404  Sedan/Wagon       Mustang Mach-E GT AWD      2021.0           Ford   \n",
       "438          SUV                    CR-V AWD      2021.0          Honda   \n",
       "509  Sedan/Wagon        E 450 4MATIC (Coupe)      2021.0  Mercedes-Benz   \n",
       "851  Transit Bus  ZX5+ 40-Foot Bus - Class 8         NaN       Proterra   \n",
       "\n",
       "                Fuel  All-Electric Range  PHEV Total Range  \\\n",
       "229         Electric               340.0               NaN   \n",
       "404         Electric               270.0               NaN   \n",
       "438  Hybrid Electric                 NaN               NaN   \n",
       "509  Hybrid Electric                 NaN               NaN   \n",
       "851         Electric                 NaN               NaN   \n",
       "\n",
       "     Alternative Fuel Economy City  Alternative Fuel Economy Highway  \\\n",
       "229                           92.0                              99.0   \n",
       "404                           90.0                              77.0   \n",
       "438                            NaN                               NaN   \n",
       "509                            NaN                               NaN   \n",
       "851                            NaN                               NaN   \n",
       "\n",
       "     Alternative Fuel Economy Combined  Conventional Fuel Economy City  \\\n",
       "229                               95.0                             NaN   \n",
       "404                               84.0                             NaN   \n",
       "438                                NaN                            40.0   \n",
       "509                                NaN                            23.0   \n",
       "851                                NaN                             NaN   \n",
       "\n",
       "     Conventional Fuel Economy Highway  Conventional Fuel Economy Combined  \\\n",
       "229                                NaN                                 NaN   \n",
       "404                                NaN                                 NaN   \n",
       "438                               35.0                                38.0   \n",
       "509                               30.0                                25.0   \n",
       "851                                NaN                                 NaN   \n",
       "\n",
       "    Transmission Type Transmission Make Engine Type  \\\n",
       "229              Auto               NaN     e-motor   \n",
       "404              Auto               NaN     e-motor   \n",
       "438              Auto               NaN          SI   \n",
       "509              Auto               NaN          SI   \n",
       "851               NaN               NaN         NaN   \n",
       "\n",
       "                        Engine Size  Engine Cylinder Count  \\\n",
       "229  135 and 255 kW electric motors                    NaN   \n",
       "404    179  kW electric motors (X2)                    NaN   \n",
       "438                            2.0L                    4.0   \n",
       "509                            3.0L                    6.0   \n",
       "851                             NaN                    NaN   \n",
       "\n",
       "    Number of Passengers                            Heavy-Duty Power System  \\\n",
       "229                  NaN                                                NaN   \n",
       "404                  NaN                                                NaN   \n",
       "438                  NaN                                                NaN   \n",
       "509                  NaN                                                NaN   \n",
       "851                   40  Proterra ProDrive™ 250kW permanent magnet moto...   \n",
       "\n",
       "                                                 Notes Drivetrain  \n",
       "229                                                NaN        AWD  \n",
       "404                                                NaN        AWD  \n",
       "438                                                NaN        NaN  \n",
       "509                                                NaN        NaN  \n",
       "851  According to manufacturer: 550HP peak; 440 kWh...        NaN  "
      ]
     },
     "execution_count": 8,
     "metadata": {},
     "output_type": "execute_result"
    }
   ],
   "source": [
    "df_afv = pd.read_csv(Alternative_Fuel, encoding='utf-8')\n",
    "pd.set_option('display.max_columns', None)\n",
    "df_afv.sample(5)"
   ]
  },
  {
   "cell_type": "markdown",
   "metadata": {},
   "source": [
    "## Transformacion de datos "
   ]
  },
  {
   "cell_type": "code",
   "execution_count": 9,
   "metadata": {},
   "outputs": [],
   "source": [
    "df_afv.columns\n",
    "df_afv.rename(columns={'Category':'category', 'Model': 'model', 'Model Year':'model_year', 'Manufacturer':'manufacturer'\n",
    "    , 'Fuel': 'fuel','All-Electric Range': 'all_electric_range', 'PHEV Total Range':'PHEV_total_range',\n",
    "       'Alternative Fuel Economy City': 'alternative_fuel_economy_city', 'Alternative Fuel Economy Highway':'alternative_fuel_economy_highway',\n",
    "       'Alternative Fuel Economy Combined': 'alternative_fuel_economy_combined', 'Conventional Fuel Economy City': 'conventional_fuel_economy_city',\n",
    "       'Conventional Fuel Economy Highway': 'conventional_fuel_economy_highway',\n",
    "       'Conventional Fuel Economy Combined': 'conventional_fuel_economy_combined'\n",
    "    }, inplace = True)"
   ]
  },
  {
   "cell_type": "code",
   "execution_count": 12,
   "metadata": {},
   "outputs": [
    {
     "name": "stdout",
     "output_type": "stream",
     "text": [
      "<class 'pandas.core.frame.DataFrame'>\n",
      "RangeIndex: 882 entries, 0 to 881\n",
      "Data columns (total 22 columns):\n",
      " #   Column                              Non-Null Count  Dtype  \n",
      "---  ------                              --------------  -----  \n",
      " 0   category                            882 non-null    object \n",
      " 1   model                               882 non-null    object \n",
      " 2   model_year                          594 non-null    float64\n",
      " 3   manufacturer                        882 non-null    object \n",
      " 4   fuel                                882 non-null    object \n",
      " 5   all_electric_range                  222 non-null    float64\n",
      " 6   PHEV_total_range                    43 non-null     float64\n",
      " 7   alternative_fuel_economy_city       169 non-null    float64\n",
      " 8   alternative_fuel_economy_highway    169 non-null    float64\n",
      " 9   alternative_fuel_economy_combined   262 non-null    float64\n",
      " 10  conventional_fuel_economy_city      444 non-null    float64\n",
      " 11  conventional_fuel_economy_highway   444 non-null    float64\n",
      " 12  conventional_fuel_economy_combined  444 non-null    float64\n",
      " 13  Transmission Type                   640 non-null    object \n",
      " 14  Transmission Make                   125 non-null    object \n",
      " 15  Engine Type                         589 non-null    object \n",
      " 16  Engine Size                         589 non-null    object \n",
      " 17  Engine Cylinder Count               449 non-null    float64\n",
      " 18  Number of Passengers                121 non-null    object \n",
      " 19  Heavy-Duty Power System             245 non-null    object \n",
      " 20  Notes                               179 non-null    object \n",
      " 21  Drivetrain                          329 non-null    object \n",
      "dtypes: float64(10), object(12)\n",
      "memory usage: 151.7+ KB\n"
     ]
    }
   ],
   "source": [
    "df_afv.info()"
   ]
  },
  {
   "cell_type": "markdown",
   "metadata": {},
   "source": [
    "### Eliminacion de columnas innecesarias"
   ]
  },
  {
   "cell_type": "code",
   "execution_count": 3,
   "metadata": {},
   "outputs": [],
   "source": [
    "df_afv = df_afv.drop(columns={'Transmission Type', 'Transmission Make', 'Number of Passengers','Engine Type', 'Engine Size', 'Engine Cylinder Count',\n",
    "                        'Heavy-Duty Power System', 'Notes', 'Drivetrain'})"
   ]
  },
  {
   "cell_type": "markdown",
   "metadata": {},
   "source": [
    "### Verificacion del tipo de dato de las columnas"
   ]
  },
  {
   "cell_type": "code",
   "execution_count": 6,
   "metadata": {},
   "outputs": [],
   "source": [
    "df_afv['model_year'] = df_afv['model_year'].astype('Int64')"
   ]
  },
  {
   "cell_type": "markdown",
   "metadata": {},
   "source": [
    "### Verificacion de valores nulos"
   ]
  },
  {
   "cell_type": "code",
   "execution_count": 7,
   "metadata": {},
   "outputs": [
    {
     "data": {
      "text/plain": [
       "category                                0\n",
       "model                                   0\n",
       "model_year                            288\n",
       "manufacturer                            0\n",
       "fuel                                    0\n",
       "all_electric_range                    660\n",
       "PHEV_total_range                      839\n",
       "alternative_fuel_economy_city         713\n",
       "alternative_fuel_economy_highway      713\n",
       "alternative_fuel_economy_combined     620\n",
       "conventional_fuel_economy_city        438\n",
       "conventional_fuel_economy_highway     438\n",
       "conventional_fuel_economy_combined    438\n",
       "dtype: int64"
      ]
     },
     "execution_count": 7,
     "metadata": {},
     "output_type": "execute_result"
    }
   ],
   "source": [
    "df_afv.isna().sum()"
   ]
  },
  {
   "cell_type": "markdown",
   "metadata": {},
   "source": [
    "Se elige conservar los valores nulos en lugar de eliminarlos, ya que eliminarlos afectaría otras columnas relevantes para el análisis. Esto significa que aunque haya datos faltantes en ciertas áreas, se prefieren mantener para evitar perder información valiosa que podría ser crucial para entender el conjunto de datos en su totalidad."
   ]
  },
  {
   "cell_type": "markdown",
   "metadata": {},
   "source": [
    "### Verficacion de duplicados"
   ]
  },
  {
   "cell_type": "code",
   "execution_count": 11,
   "metadata": {},
   "outputs": [
    {
     "data": {
      "text/plain": [
       "False    880\n",
       "True       2\n",
       "Name: count, dtype: int64"
      ]
     },
     "execution_count": 11,
     "metadata": {},
     "output_type": "execute_result"
    }
   ],
   "source": [
    "df_afv.duplicated().value_counts()"
   ]
  },
  {
   "cell_type": "code",
   "execution_count": 12,
   "metadata": {},
   "outputs": [],
   "source": [
    "# Eliminamos los duplicados\n",
    "df_afv.drop_duplicates(inplace=True)"
   ]
  },
  {
   "cell_type": "markdown",
   "metadata": {},
   "source": [
    "## Realizamos un Analisis descriptivo"
   ]
  },
  {
   "cell_type": "code",
   "execution_count": 13,
   "metadata": {},
   "outputs": [
    {
     "data": {
      "text/html": [
       "<div>\n",
       "<style scoped>\n",
       "    .dataframe tbody tr th:only-of-type {\n",
       "        vertical-align: middle;\n",
       "    }\n",
       "\n",
       "    .dataframe tbody tr th {\n",
       "        vertical-align: top;\n",
       "    }\n",
       "\n",
       "    .dataframe thead th {\n",
       "        text-align: right;\n",
       "    }\n",
       "</style>\n",
       "<table border=\"1\" class=\"dataframe\">\n",
       "  <thead>\n",
       "    <tr style=\"text-align: right;\">\n",
       "      <th></th>\n",
       "      <th>model_year</th>\n",
       "      <th>all_electric_range</th>\n",
       "      <th>PHEV_total_range</th>\n",
       "      <th>alternative_fuel_economy_city</th>\n",
       "      <th>alternative_fuel_economy_highway</th>\n",
       "      <th>alternative_fuel_economy_combined</th>\n",
       "      <th>conventional_fuel_economy_city</th>\n",
       "      <th>conventional_fuel_economy_highway</th>\n",
       "      <th>conventional_fuel_economy_combined</th>\n",
       "    </tr>\n",
       "  </thead>\n",
       "  <tbody>\n",
       "    <tr>\n",
       "      <th>count</th>\n",
       "      <td>593.0</td>\n",
       "      <td>222.000000</td>\n",
       "      <td>43.000000</td>\n",
       "      <td>169.000000</td>\n",
       "      <td>169.000000</td>\n",
       "      <td>262.000000</td>\n",
       "      <td>443.000000</td>\n",
       "      <td>443.000000</td>\n",
       "      <td>443.000000</td>\n",
       "    </tr>\n",
       "    <tr>\n",
       "      <th>mean</th>\n",
       "      <td>2021.539629</td>\n",
       "      <td>165.927928</td>\n",
       "      <td>450.465116</td>\n",
       "      <td>84.585799</td>\n",
       "      <td>77.591716</td>\n",
       "      <td>75.992366</td>\n",
       "      <td>25.907449</td>\n",
       "      <td>30.085779</td>\n",
       "      <td>27.264108</td>\n",
       "    </tr>\n",
       "    <tr>\n",
       "      <th>std</th>\n",
       "      <td>0.498848</td>\n",
       "      <td>132.992955</td>\n",
       "      <td>93.042578</td>\n",
       "      <td>39.430696</td>\n",
       "      <td>32.735123</td>\n",
       "      <td>32.303279</td>\n",
       "      <td>10.872066</td>\n",
       "      <td>12.830142</td>\n",
       "      <td>9.814812</td>\n",
       "    </tr>\n",
       "    <tr>\n",
       "      <th>min</th>\n",
       "      <td>2021.0</td>\n",
       "      <td>8.000000</td>\n",
       "      <td>290.000000</td>\n",
       "      <td>10.000000</td>\n",
       "      <td>12.000000</td>\n",
       "      <td>11.000000</td>\n",
       "      <td>13.000000</td>\n",
       "      <td>16.000000</td>\n",
       "      <td>15.000000</td>\n",
       "    </tr>\n",
       "    <tr>\n",
       "      <th>25%</th>\n",
       "      <td>2021.0</td>\n",
       "      <td>23.000000</td>\n",
       "      <td>380.000000</td>\n",
       "      <td>71.000000</td>\n",
       "      <td>66.000000</td>\n",
       "      <td>56.000000</td>\n",
       "      <td>19.000000</td>\n",
       "      <td>24.000000</td>\n",
       "      <td>21.000000</td>\n",
       "    </tr>\n",
       "    <tr>\n",
       "      <th>50%</th>\n",
       "      <td>2022.0</td>\n",
       "      <td>203.000000</td>\n",
       "      <td>460.000000</td>\n",
       "      <td>94.000000</td>\n",
       "      <td>85.000000</td>\n",
       "      <td>76.000000</td>\n",
       "      <td>22.000000</td>\n",
       "      <td>28.000000</td>\n",
       "      <td>24.000000</td>\n",
       "    </tr>\n",
       "    <tr>\n",
       "      <th>75%</th>\n",
       "      <td>2022.0</td>\n",
       "      <td>260.000000</td>\n",
       "      <td>520.000000</td>\n",
       "      <td>115.000000</td>\n",
       "      <td>99.000000</td>\n",
       "      <td>101.000000</td>\n",
       "      <td>28.000000</td>\n",
       "      <td>33.000000</td>\n",
       "      <td>30.000000</td>\n",
       "    </tr>\n",
       "    <tr>\n",
       "      <th>max</th>\n",
       "      <td>2022.0</td>\n",
       "      <td>520.000000</td>\n",
       "      <td>640.000000</td>\n",
       "      <td>150.000000</td>\n",
       "      <td>133.000000</td>\n",
       "      <td>142.000000</td>\n",
       "      <td>59.000000</td>\n",
       "      <td>231.000000</td>\n",
       "      <td>59.000000</td>\n",
       "    </tr>\n",
       "  </tbody>\n",
       "</table>\n",
       "</div>"
      ],
      "text/plain": [
       "        model_year  all_electric_range  PHEV_total_range  \\\n",
       "count        593.0          222.000000         43.000000   \n",
       "mean   2021.539629          165.927928        450.465116   \n",
       "std       0.498848          132.992955         93.042578   \n",
       "min         2021.0            8.000000        290.000000   \n",
       "25%         2021.0           23.000000        380.000000   \n",
       "50%         2022.0          203.000000        460.000000   \n",
       "75%         2022.0          260.000000        520.000000   \n",
       "max         2022.0          520.000000        640.000000   \n",
       "\n",
       "       alternative_fuel_economy_city  alternative_fuel_economy_highway  \\\n",
       "count                     169.000000                        169.000000   \n",
       "mean                       84.585799                         77.591716   \n",
       "std                        39.430696                         32.735123   \n",
       "min                        10.000000                         12.000000   \n",
       "25%                        71.000000                         66.000000   \n",
       "50%                        94.000000                         85.000000   \n",
       "75%                       115.000000                         99.000000   \n",
       "max                       150.000000                        133.000000   \n",
       "\n",
       "       alternative_fuel_economy_combined  conventional_fuel_economy_city  \\\n",
       "count                         262.000000                      443.000000   \n",
       "mean                           75.992366                       25.907449   \n",
       "std                            32.303279                       10.872066   \n",
       "min                            11.000000                       13.000000   \n",
       "25%                            56.000000                       19.000000   \n",
       "50%                            76.000000                       22.000000   \n",
       "75%                           101.000000                       28.000000   \n",
       "max                           142.000000                       59.000000   \n",
       "\n",
       "       conventional_fuel_economy_highway  conventional_fuel_economy_combined  \n",
       "count                         443.000000                          443.000000  \n",
       "mean                           30.085779                           27.264108  \n",
       "std                            12.830142                            9.814812  \n",
       "min                            16.000000                           15.000000  \n",
       "25%                            24.000000                           21.000000  \n",
       "50%                            28.000000                           24.000000  \n",
       "75%                            33.000000                           30.000000  \n",
       "max                           231.000000                           59.000000  "
      ]
     },
     "execution_count": 13,
     "metadata": {},
     "output_type": "execute_result"
    }
   ],
   "source": [
    "df_afv.describe()"
   ]
  },
  {
   "cell_type": "markdown",
   "metadata": {},
   "source": [
    "El objetivo es crear un conjunto de datos que enumere las categorías de vehículos aptos para la flota junto con su rendimiento en términos de autonomía. \n",
    "Según nuestra investigación, la autonomía promedio para vehículos totalmente eléctricos es de 166 millas, para híbridos enchufables es de 450 millas y para vehículos convencionales de combustible es de 443 millas. \n",
    "Queremos determinar qué categorías de vehículos son viables para nuestro modelo de negocio en función de estos datos. Esto implica comprender las diferencias de rendimiento entre las diferentes categorías de vehículos para tomar decisiones informadas sobre qué tipos de vehículos deberíamos considerar para nuestra flota."
   ]
  },
  {
   "cell_type": "code",
   "execution_count": 14,
   "metadata": {},
   "outputs": [
    {
     "data": {
      "text/plain": [
       "category\n",
       "Sedan/Wagon                      282\n",
       "SUV                              222\n",
       "Pickup                            79\n",
       "Transit Bus                       76\n",
       "Vocational/Cab Chassis            68\n",
       "Passenger Van/Shuttle Bus         46\n",
       "Van                               23\n",
       "Street Sweeper                    21\n",
       "School Bus                        21\n",
       "Refuse                            16\n",
       "Tractor                           15\n",
       "Step Van                           5\n",
       "TractorVocational/Cab Chassis      4\n",
       "Vocational/Cab ChassisVan          1\n",
       "Vocational/Cab ChassisTractor      1\n",
       "Name: count, dtype: int64"
      ]
     },
     "execution_count": 14,
     "metadata": {},
     "output_type": "execute_result"
    }
   ],
   "source": [
    "df_afv['category'].value_counts()"
   ]
  },
  {
   "cell_type": "markdown",
   "metadata": {},
   "source": [
    "Hemos restringido las categorías de vehículos a 'Sedan' y 'SUV' basándonos en el tamaño y la cantidad de pasajeros que pueden acomodar, ya que estas son las únicas categorías operativas para nuestro negocio. Por lo tanto, hemos creado un nuevo conjunto de datos que incluye solo vehículos de estas dos categorías. Esto nos permitirá centrarnos en los tipos de vehículos que mejor se adaptan a nuestras necesidades comerciales específicas, lo que facilitará la toma de decisiones relacionadas con la flota."
   ]
  },
  {
   "cell_type": "code",
   "execution_count": 15,
   "metadata": {},
   "outputs": [
    {
     "data": {
      "text/html": [
       "<div>\n",
       "<style scoped>\n",
       "    .dataframe tbody tr th:only-of-type {\n",
       "        vertical-align: middle;\n",
       "    }\n",
       "\n",
       "    .dataframe tbody tr th {\n",
       "        vertical-align: top;\n",
       "    }\n",
       "\n",
       "    .dataframe thead th {\n",
       "        text-align: right;\n",
       "    }\n",
       "</style>\n",
       "<table border=\"1\" class=\"dataframe\">\n",
       "  <thead>\n",
       "    <tr style=\"text-align: right;\">\n",
       "      <th></th>\n",
       "      <th>category</th>\n",
       "      <th>model</th>\n",
       "      <th>model_year</th>\n",
       "      <th>manufacturer</th>\n",
       "      <th>fuel</th>\n",
       "      <th>all_electric_range</th>\n",
       "      <th>PHEV_total_range</th>\n",
       "      <th>alternative_fuel_economy_city</th>\n",
       "      <th>alternative_fuel_economy_highway</th>\n",
       "      <th>alternative_fuel_economy_combined</th>\n",
       "      <th>conventional_fuel_economy_city</th>\n",
       "      <th>conventional_fuel_economy_highway</th>\n",
       "      <th>conventional_fuel_economy_combined</th>\n",
       "    </tr>\n",
       "  </thead>\n",
       "  <tbody>\n",
       "    <tr>\n",
       "      <th>0</th>\n",
       "      <td>Sedan/Wagon</td>\n",
       "      <td>NSX</td>\n",
       "      <td>2022</td>\n",
       "      <td>Acura</td>\n",
       "      <td>Hybrid Electric</td>\n",
       "      <td>NaN</td>\n",
       "      <td>NaN</td>\n",
       "      <td>NaN</td>\n",
       "      <td>NaN</td>\n",
       "      <td>NaN</td>\n",
       "      <td>21.0</td>\n",
       "      <td>22.0</td>\n",
       "      <td>21.0</td>\n",
       "    </tr>\n",
       "    <tr>\n",
       "      <th>1</th>\n",
       "      <td>Sedan/Wagon</td>\n",
       "      <td>A3</td>\n",
       "      <td>2022</td>\n",
       "      <td>Audi</td>\n",
       "      <td>Hybrid Electric</td>\n",
       "      <td>NaN</td>\n",
       "      <td>NaN</td>\n",
       "      <td>NaN</td>\n",
       "      <td>NaN</td>\n",
       "      <td>NaN</td>\n",
       "      <td>29.0</td>\n",
       "      <td>38.0</td>\n",
       "      <td>32.0</td>\n",
       "    </tr>\n",
       "    <tr>\n",
       "      <th>2</th>\n",
       "      <td>Sedan/Wagon</td>\n",
       "      <td>A3 quattro</td>\n",
       "      <td>2022</td>\n",
       "      <td>Audi</td>\n",
       "      <td>Hybrid Electric</td>\n",
       "      <td>NaN</td>\n",
       "      <td>NaN</td>\n",
       "      <td>NaN</td>\n",
       "      <td>NaN</td>\n",
       "      <td>NaN</td>\n",
       "      <td>28.0</td>\n",
       "      <td>36.0</td>\n",
       "      <td>31.0</td>\n",
       "    </tr>\n",
       "    <tr>\n",
       "      <th>3</th>\n",
       "      <td>Sedan/Wagon</td>\n",
       "      <td>A4 allroad quattro</td>\n",
       "      <td>2022</td>\n",
       "      <td>Audi</td>\n",
       "      <td>Hybrid Electric</td>\n",
       "      <td>NaN</td>\n",
       "      <td>NaN</td>\n",
       "      <td>NaN</td>\n",
       "      <td>NaN</td>\n",
       "      <td>NaN</td>\n",
       "      <td>24.0</td>\n",
       "      <td>30.0</td>\n",
       "      <td>26.0</td>\n",
       "    </tr>\n",
       "    <tr>\n",
       "      <th>4</th>\n",
       "      <td>Sedan/Wagon</td>\n",
       "      <td>A4 quattro</td>\n",
       "      <td>2022</td>\n",
       "      <td>Audi</td>\n",
       "      <td>Hybrid Electric</td>\n",
       "      <td>NaN</td>\n",
       "      <td>NaN</td>\n",
       "      <td>NaN</td>\n",
       "      <td>NaN</td>\n",
       "      <td>NaN</td>\n",
       "      <td>26.0</td>\n",
       "      <td>34.0</td>\n",
       "      <td>29.0</td>\n",
       "    </tr>\n",
       "  </tbody>\n",
       "</table>\n",
       "</div>"
      ],
      "text/plain": [
       "      category               model  model_year manufacturer             fuel  \\\n",
       "0  Sedan/Wagon                 NSX        2022        Acura  Hybrid Electric   \n",
       "1  Sedan/Wagon                 A3         2022         Audi  Hybrid Electric   \n",
       "2  Sedan/Wagon          A3 quattro        2022         Audi  Hybrid Electric   \n",
       "3  Sedan/Wagon  A4 allroad quattro        2022         Audi  Hybrid Electric   \n",
       "4  Sedan/Wagon          A4 quattro        2022         Audi  Hybrid Electric   \n",
       "\n",
       "   all_electric_range  PHEV_total_range  alternative_fuel_economy_city  \\\n",
       "0                 NaN               NaN                            NaN   \n",
       "1                 NaN               NaN                            NaN   \n",
       "2                 NaN               NaN                            NaN   \n",
       "3                 NaN               NaN                            NaN   \n",
       "4                 NaN               NaN                            NaN   \n",
       "\n",
       "   alternative_fuel_economy_highway  alternative_fuel_economy_combined  \\\n",
       "0                               NaN                                NaN   \n",
       "1                               NaN                                NaN   \n",
       "2                               NaN                                NaN   \n",
       "3                               NaN                                NaN   \n",
       "4                               NaN                                NaN   \n",
       "\n",
       "   conventional_fuel_economy_city  conventional_fuel_economy_highway  \\\n",
       "0                            21.0                               22.0   \n",
       "1                            29.0                               38.0   \n",
       "2                            28.0                               36.0   \n",
       "3                            24.0                               30.0   \n",
       "4                            26.0                               34.0   \n",
       "\n",
       "   conventional_fuel_economy_combined  \n",
       "0                                21.0  \n",
       "1                                32.0  \n",
       "2                                31.0  \n",
       "3                                26.0  \n",
       "4                                29.0  "
      ]
     },
     "execution_count": 15,
     "metadata": {},
     "output_type": "execute_result"
    }
   ],
   "source": [
    "df_categorias = df_afv.loc[df_afv['category'].isin(['Sedan/Wagon', 'SUV'])]\n",
    "df_categorias.head()"
   ]
  },
  {
   "cell_type": "code",
   "execution_count": 16,
   "metadata": {},
   "outputs": [
    {
     "data": {
      "text/plain": [
       "fuel\n",
       "Hybrid Electric            254\n",
       "Electric                   125\n",
       "Plug-in Hybrid Electric     91\n",
       "Biodiesel (B20)             22\n",
       "Hydrogen Fuel Cell          10\n",
       "Ethanol (E85)                2\n",
       "Name: count, dtype: int64"
      ]
     },
     "execution_count": 16,
     "metadata": {},
     "output_type": "execute_result"
    }
   ],
   "source": [
    "df_categorias['fuel'].value_counts()"
   ]
  },
  {
   "cell_type": "markdown",
   "metadata": {},
   "source": [
    "Los vehículos Sedan/Wagon y SUV mostramos sus detalles. También presentamos la distribución de tipos de combustible en estas categorías y sus opciones de combustible."
   ]
  },
  {
   "cell_type": "markdown",
   "metadata": {},
   "source": [
    "## Grafico de barras 'Rendimiento en millas por categoria de vehículo'"
   ]
  },
  {
   "cell_type": "code",
   "execution_count": 17,
   "metadata": {},
   "outputs": [
    {
     "data": {
      "text/plain": [
       "Text(0.5, 0, 'Categoria')"
      ]
     },
     "execution_count": 17,
     "metadata": {},
     "output_type": "execute_result"
    },
    {
     "data": {
      "image/png": "[encoded data removed]",
      "text/plain": [
       "<Figure size 640x480 with 1 Axes>"
      ]
     },
     "metadata": {},
     "output_type": "display_data"
    }
   ],
   "source": [
    "sns.barplot(x = df_categorias['category'] , y = df_categorias['all_electric_range'])\n",
    "plt.title('Rendimiento en millas por categoria de vehículo 100% electrico')\n",
    "plt.ylabel(ylabel='Rendimiento en millas')\n",
    "plt.xlabel(xlabel='Categoria')"
   ]
  },
  {
   "cell_type": "markdown",
   "metadata": {},
   "source": [
    "Este análisis indica que tanto los Sedan como los SUV totalmente eléctricos tienen autonomías similares. Esto sugiere que, en términos de autonomía, la elección entre estos dos tipos de vehículos eléctricos podría basarse más en las preferencias del cliente y en otros factores, en lugar de en la capacidad de viaje."
   ]
  },
  {
   "cell_type": "code",
   "execution_count": 18,
   "metadata": {},
   "outputs": [
    {
     "data": {
      "text/plain": [
       "Text(0.5, 0, 'Categoria')"
      ]
     },
     "execution_count": 18,
     "metadata": {},
     "output_type": "execute_result"
    },
    {
     "data": {
      "image/png": "[encoded data removed]",
      "text/plain": [
       "<Figure size 640x480 with 1 Axes>"
      ]
     },
     "metadata": {},
     "output_type": "display_data"
    }
   ],
   "source": [
    "sns.barplot(x = df_categorias['category'] , y = df_categorias['PHEV_total_range'])\n",
    "plt.title('Rendimiento en millas por categoria de vehículo hibrido enchufable')\n",
    "plt.ylabel(ylabel='Rendimiento en millas')\n",
    "plt.xlabel(xlabel='Categoria')"
   ]
  },
  {
   "cell_type": "markdown",
   "metadata": {},
   "source": [
    "El análisis revela que tanto los Sedan como los SUV tienen una autonomía cercana a las 450 millas, lo que sugiere que ambos tipos de vehículos eléctricos ofrecen una capacidad de viaje comparable."
   ]
  },
  {
   "cell_type": "code",
   "execution_count": 19,
   "metadata": {},
   "outputs": [
    {
     "data": {
      "text/plain": [
       "Text(0.5, 0, 'Categoria')"
      ]
     },
     "execution_count": 19,
     "metadata": {},
     "output_type": "execute_result"
    },
    {
     "data": {
      "image/png": "[encoded data removed]",
      "text/plain": [
       "<Figure size 640x480 with 1 Axes>"
      ]
     },
     "metadata": {},
     "output_type": "display_data"
    }
   ],
   "source": [
    "sns.barplot(x = df_categorias['category'] , y = df_categorias['conventional_fuel_economy_city'])\n",
    "plt.title('Rendimiento en millas por categoria de vehículo a combustible fosil')\n",
    "plt.ylabel(ylabel='Rendimiento en millas')\n",
    "plt.xlabel(xlabel='Categoria')"
   ]
  },
  {
   "cell_type": "markdown",
   "metadata": {},
   "source": [
    "El Sedan muestra una mejor autonomía, probablemente debido a características específicas del diseño o la tecnología empleada en este tipo de vehículo."
   ]
  },
  {
   "cell_type": "markdown",
   "metadata": {},
   "source": [
    "## Verificamos si hay presencia de Outliers"
   ]
  },
  {
   "cell_type": "code",
   "execution_count": 20,
   "metadata": {},
   "outputs": [
    {
     "data": {
      "text/plain": [
       "Text(0, 0.5, 'Rendimiento en millas ')"
      ]
     },
     "execution_count": 20,
     "metadata": {},
     "output_type": "execute_result"
    },
    {
     "data": {
      "image/png": "[encoded data removed]",
      "text/plain": [
       "<Figure size 1500x800 with 3 Axes>"
      ]
     },
     "metadata": {},
     "output_type": "display_data"
    }
   ],
   "source": [
    "# Se hace el grafico de caja de bigotes\n",
    "fig, axes = plt.subplots(nrows=1, ncols=3, figsize=(15, 8))\n",
    "sns.boxplot(x = df_categorias.category, y = df_categorias.all_electric_range, ax=axes[0])\n",
    "plt.suptitle('Diagrama de cajas y bigotes del rendimiento en millas de los vehiculos')\n",
    "axes[0].set_title('vehiculos 100% electricos')\n",
    "axes[0].set_xlabel('Categoria')\n",
    "axes[0].set_ylabel('Rendimiento en millas ')\n",
    "\n",
    "sns.boxplot(x = df_categorias.category, y = df_categorias.PHEV_total_range, ax=axes[1])\n",
    "axes[1].set_title('Vehiculos hibridos enchufables')\n",
    "axes[1].set_xlabel('Categoria')\n",
    "axes[1].set_ylabel('Rendimiento en millas')\n",
    "\n",
    "sns.boxplot(x = df_categorias.category, y = df_categorias.conventional_fuel_economy_combined, ax=axes[2])\n",
    "axes[2].set_title('Vehiculos de combustible fosil')\n",
    "axes[2].set_xlabel('Categoria')\n",
    "axes[2].set_ylabel('Rendimiento en millas ')"
   ]
  },
  {
   "cell_type": "code",
   "execution_count": 21,
   "metadata": {},
   "outputs": [
    {
     "data": {
      "text/html": [
       "<div>\n",
       "<style scoped>\n",
       "    .dataframe tbody tr th:only-of-type {\n",
       "        vertical-align: middle;\n",
       "    }\n",
       "\n",
       "    .dataframe tbody tr th {\n",
       "        vertical-align: top;\n",
       "    }\n",
       "\n",
       "    .dataframe thead th {\n",
       "        text-align: right;\n",
       "    }\n",
       "</style>\n",
       "<table border=\"1\" class=\"dataframe\">\n",
       "  <thead>\n",
       "    <tr style=\"text-align: right;\">\n",
       "      <th></th>\n",
       "      <th>category</th>\n",
       "      <th>model</th>\n",
       "      <th>model_year</th>\n",
       "      <th>manufacturer</th>\n",
       "      <th>fuel</th>\n",
       "      <th>all_electric_range</th>\n",
       "      <th>PHEV_total_range</th>\n",
       "      <th>alternative_fuel_economy_city</th>\n",
       "      <th>alternative_fuel_economy_highway</th>\n",
       "      <th>alternative_fuel_economy_combined</th>\n",
       "      <th>conventional_fuel_economy_city</th>\n",
       "      <th>conventional_fuel_economy_highway</th>\n",
       "      <th>conventional_fuel_economy_combined</th>\n",
       "    </tr>\n",
       "  </thead>\n",
       "  <tbody>\n",
       "    <tr>\n",
       "      <th>0</th>\n",
       "      <td>Sedan/Wagon</td>\n",
       "      <td>NSX</td>\n",
       "      <td>2022</td>\n",
       "      <td>Acura</td>\n",
       "      <td>Hybrid Electric</td>\n",
       "      <td>NaN</td>\n",
       "      <td>NaN</td>\n",
       "      <td>NaN</td>\n",
       "      <td>NaN</td>\n",
       "      <td>NaN</td>\n",
       "      <td>21.0</td>\n",
       "      <td>22.0</td>\n",
       "      <td>21.0</td>\n",
       "    </tr>\n",
       "  </tbody>\n",
       "</table>\n",
       "</div>"
      ],
      "text/plain": [
       "      category model  model_year manufacturer             fuel  \\\n",
       "0  Sedan/Wagon   NSX        2022        Acura  Hybrid Electric   \n",
       "\n",
       "   all_electric_range  PHEV_total_range  alternative_fuel_economy_city  \\\n",
       "0                 NaN               NaN                            NaN   \n",
       "\n",
       "   alternative_fuel_economy_highway  alternative_fuel_economy_combined  \\\n",
       "0                               NaN                                NaN   \n",
       "\n",
       "   conventional_fuel_economy_city  conventional_fuel_economy_highway  \\\n",
       "0                            21.0                               22.0   \n",
       "\n",
       "   conventional_fuel_economy_combined  \n",
       "0                                21.0  "
      ]
     },
     "execution_count": 21,
     "metadata": {},
     "output_type": "execute_result"
    }
   ],
   "source": [
    "df_categorias.head(1)"
   ]
  },
  {
   "cell_type": "markdown",
   "metadata": {},
   "source": [
    "Se detectan valores atípicos en los vehículos de combustión de fósiles, lo que sugiere que algunos de estos vehículos pueden tener rendimientos inusuales o fuera de lo común en comparación con el resto de la muestra."
   ]
  },
  {
   "cell_type": "code",
   "execution_count": 22,
   "metadata": {},
   "outputs": [
    {
     "data": {
      "text/html": [
       "<div>\n",
       "<style scoped>\n",
       "    .dataframe tbody tr th:only-of-type {\n",
       "        vertical-align: middle;\n",
       "    }\n",
       "\n",
       "    .dataframe tbody tr th {\n",
       "        vertical-align: top;\n",
       "    }\n",
       "\n",
       "    .dataframe thead th {\n",
       "        text-align: right;\n",
       "    }\n",
       "</style>\n",
       "<table border=\"1\" class=\"dataframe\">\n",
       "  <thead>\n",
       "    <tr style=\"text-align: right;\">\n",
       "      <th></th>\n",
       "      <th>category</th>\n",
       "      <th>model</th>\n",
       "      <th>model_year</th>\n",
       "      <th>manufacturer</th>\n",
       "      <th>fuel</th>\n",
       "      <th>all_electric_range</th>\n",
       "      <th>PHEV_total_range</th>\n",
       "      <th>alternative_fuel_economy_city</th>\n",
       "      <th>alternative_fuel_economy_highway</th>\n",
       "      <th>alternative_fuel_economy_combined</th>\n",
       "      <th>conventional_fuel_economy_city</th>\n",
       "      <th>conventional_fuel_economy_highway</th>\n",
       "      <th>conventional_fuel_economy_combined</th>\n",
       "    </tr>\n",
       "  </thead>\n",
       "  <tbody>\n",
       "    <tr>\n",
       "      <th>90</th>\n",
       "      <td>SUV</td>\n",
       "      <td>Escape FWD PHEV</td>\n",
       "      <td>2022</td>\n",
       "      <td>Ford</td>\n",
       "      <td>Plug-in Hybrid Electric</td>\n",
       "      <td>37.0</td>\n",
       "      <td>520.0</td>\n",
       "      <td>NaN</td>\n",
       "      <td>NaN</td>\n",
       "      <td>105.0</td>\n",
       "      <td>43.0</td>\n",
       "      <td>38.0</td>\n",
       "      <td>41.0</td>\n",
       "    </tr>\n",
       "    <tr>\n",
       "      <th>134</th>\n",
       "      <td>SUV</td>\n",
       "      <td>CR-V AWD</td>\n",
       "      <td>2022</td>\n",
       "      <td>Honda</td>\n",
       "      <td>Hybrid Electric</td>\n",
       "      <td>NaN</td>\n",
       "      <td>NaN</td>\n",
       "      <td>NaN</td>\n",
       "      <td>NaN</td>\n",
       "      <td>NaN</td>\n",
       "      <td>40.0</td>\n",
       "      <td>35.0</td>\n",
       "      <td>38.0</td>\n",
       "    </tr>\n",
       "    <tr>\n",
       "      <th>174</th>\n",
       "      <td>SUV</td>\n",
       "      <td>Sorento Hybrid FWD</td>\n",
       "      <td>2022</td>\n",
       "      <td>Kia</td>\n",
       "      <td>Hybrid Electric</td>\n",
       "      <td>NaN</td>\n",
       "      <td>NaN</td>\n",
       "      <td>NaN</td>\n",
       "      <td>NaN</td>\n",
       "      <td>NaN</td>\n",
       "      <td>39.0</td>\n",
       "      <td>35.0</td>\n",
       "      <td>37.0</td>\n",
       "    </tr>\n",
       "    <tr>\n",
       "      <th>194</th>\n",
       "      <td>SUV</td>\n",
       "      <td>NX 350h AWD</td>\n",
       "      <td>2022</td>\n",
       "      <td>Lexus</td>\n",
       "      <td>Hybrid Electric</td>\n",
       "      <td>NaN</td>\n",
       "      <td>NaN</td>\n",
       "      <td>NaN</td>\n",
       "      <td>NaN</td>\n",
       "      <td>NaN</td>\n",
       "      <td>41.0</td>\n",
       "      <td>37.0</td>\n",
       "      <td>39.0</td>\n",
       "    </tr>\n",
       "    <tr>\n",
       "      <th>297</th>\n",
       "      <td>SUV</td>\n",
       "      <td>RAV4 Hybrid AWD</td>\n",
       "      <td>2022</td>\n",
       "      <td>Toyota</td>\n",
       "      <td>Hybrid Electric</td>\n",
       "      <td>NaN</td>\n",
       "      <td>NaN</td>\n",
       "      <td>NaN</td>\n",
       "      <td>NaN</td>\n",
       "      <td>NaN</td>\n",
       "      <td>41.0</td>\n",
       "      <td>38.0</td>\n",
       "      <td>40.0</td>\n",
       "    </tr>\n",
       "    <tr>\n",
       "      <th>303</th>\n",
       "      <td>SUV</td>\n",
       "      <td>Venza AWD</td>\n",
       "      <td>2022</td>\n",
       "      <td>Toyota</td>\n",
       "      <td>Hybrid Electric</td>\n",
       "      <td>NaN</td>\n",
       "      <td>NaN</td>\n",
       "      <td>NaN</td>\n",
       "      <td>NaN</td>\n",
       "      <td>NaN</td>\n",
       "      <td>40.0</td>\n",
       "      <td>37.0</td>\n",
       "      <td>39.0</td>\n",
       "    </tr>\n",
       "    <tr>\n",
       "      <th>390</th>\n",
       "      <td>SUV</td>\n",
       "      <td>Escape FWD PHEV</td>\n",
       "      <td>2021</td>\n",
       "      <td>Ford</td>\n",
       "      <td>Plug-in Hybrid Electric</td>\n",
       "      <td>37.0</td>\n",
       "      <td>NaN</td>\n",
       "      <td>NaN</td>\n",
       "      <td>NaN</td>\n",
       "      <td>105.0</td>\n",
       "      <td>43.0</td>\n",
       "      <td>38.0</td>\n",
       "      <td>40.0</td>\n",
       "    </tr>\n",
       "    <tr>\n",
       "      <th>438</th>\n",
       "      <td>SUV</td>\n",
       "      <td>CR-V AWD</td>\n",
       "      <td>2021</td>\n",
       "      <td>Honda</td>\n",
       "      <td>Hybrid Electric</td>\n",
       "      <td>NaN</td>\n",
       "      <td>NaN</td>\n",
       "      <td>NaN</td>\n",
       "      <td>NaN</td>\n",
       "      <td>NaN</td>\n",
       "      <td>40.0</td>\n",
       "      <td>35.0</td>\n",
       "      <td>38.0</td>\n",
       "    </tr>\n",
       "    <tr>\n",
       "      <th>469</th>\n",
       "      <td>SUV</td>\n",
       "      <td>Sorento Hybrid</td>\n",
       "      <td>2021</td>\n",
       "      <td>Kia</td>\n",
       "      <td>Hybrid Electric</td>\n",
       "      <td>NaN</td>\n",
       "      <td>NaN</td>\n",
       "      <td>NaN</td>\n",
       "      <td>NaN</td>\n",
       "      <td>NaN</td>\n",
       "      <td>39.0</td>\n",
       "      <td>35.0</td>\n",
       "      <td>37.0</td>\n",
       "    </tr>\n",
       "    <tr>\n",
       "      <th>578</th>\n",
       "      <td>SUV</td>\n",
       "      <td>RAV4 Hybrid AWD</td>\n",
       "      <td>2021</td>\n",
       "      <td>Toyota</td>\n",
       "      <td>Hybrid Electric</td>\n",
       "      <td>NaN</td>\n",
       "      <td>NaN</td>\n",
       "      <td>NaN</td>\n",
       "      <td>NaN</td>\n",
       "      <td>NaN</td>\n",
       "      <td>41.0</td>\n",
       "      <td>38.0</td>\n",
       "      <td>40.0</td>\n",
       "    </tr>\n",
       "    <tr>\n",
       "      <th>582</th>\n",
       "      <td>SUV</td>\n",
       "      <td>Venza AWD</td>\n",
       "      <td>2021</td>\n",
       "      <td>Toyota</td>\n",
       "      <td>Hybrid Electric</td>\n",
       "      <td>NaN</td>\n",
       "      <td>NaN</td>\n",
       "      <td>NaN</td>\n",
       "      <td>NaN</td>\n",
       "      <td>NaN</td>\n",
       "      <td>40.0</td>\n",
       "      <td>37.0</td>\n",
       "      <td>39.0</td>\n",
       "    </tr>\n",
       "  </tbody>\n",
       "</table>\n",
       "</div>"
      ],
      "text/plain": [
       "    category               model  model_year manufacturer  \\\n",
       "90       SUV     Escape FWD PHEV        2022         Ford   \n",
       "134      SUV            CR-V AWD        2022        Honda   \n",
       "174      SUV  Sorento Hybrid FWD        2022          Kia   \n",
       "194      SUV         NX 350h AWD        2022        Lexus   \n",
       "297      SUV     RAV4 Hybrid AWD        2022       Toyota   \n",
       "303      SUV           Venza AWD        2022       Toyota   \n",
       "390      SUV     Escape FWD PHEV        2021         Ford   \n",
       "438      SUV            CR-V AWD        2021        Honda   \n",
       "469      SUV      Sorento Hybrid        2021          Kia   \n",
       "578      SUV     RAV4 Hybrid AWD        2021       Toyota   \n",
       "582      SUV           Venza AWD        2021       Toyota   \n",
       "\n",
       "                        fuel  all_electric_range  PHEV_total_range  \\\n",
       "90   Plug-in Hybrid Electric                37.0             520.0   \n",
       "134          Hybrid Electric                 NaN               NaN   \n",
       "174          Hybrid Electric                 NaN               NaN   \n",
       "194          Hybrid Electric                 NaN               NaN   \n",
       "297          Hybrid Electric                 NaN               NaN   \n",
       "303          Hybrid Electric                 NaN               NaN   \n",
       "390  Plug-in Hybrid Electric                37.0               NaN   \n",
       "438          Hybrid Electric                 NaN               NaN   \n",
       "469          Hybrid Electric                 NaN               NaN   \n",
       "578          Hybrid Electric                 NaN               NaN   \n",
       "582          Hybrid Electric                 NaN               NaN   \n",
       "\n",
       "     alternative_fuel_economy_city  alternative_fuel_economy_highway  \\\n",
       "90                             NaN                               NaN   \n",
       "134                            NaN                               NaN   \n",
       "174                            NaN                               NaN   \n",
       "194                            NaN                               NaN   \n",
       "297                            NaN                               NaN   \n",
       "303                            NaN                               NaN   \n",
       "390                            NaN                               NaN   \n",
       "438                            NaN                               NaN   \n",
       "469                            NaN                               NaN   \n",
       "578                            NaN                               NaN   \n",
       "582                            NaN                               NaN   \n",
       "\n",
       "     alternative_fuel_economy_combined  conventional_fuel_economy_city  \\\n",
       "90                               105.0                            43.0   \n",
       "134                                NaN                            40.0   \n",
       "174                                NaN                            39.0   \n",
       "194                                NaN                            41.0   \n",
       "297                                NaN                            41.0   \n",
       "303                                NaN                            40.0   \n",
       "390                              105.0                            43.0   \n",
       "438                                NaN                            40.0   \n",
       "469                                NaN                            39.0   \n",
       "578                                NaN                            41.0   \n",
       "582                                NaN                            40.0   \n",
       "\n",
       "     conventional_fuel_economy_highway  conventional_fuel_economy_combined  \n",
       "90                                38.0                                41.0  \n",
       "134                               35.0                                38.0  \n",
       "174                               35.0                                37.0  \n",
       "194                               37.0                                39.0  \n",
       "297                               38.0                                40.0  \n",
       "303                               37.0                                39.0  \n",
       "390                               38.0                                40.0  \n",
       "438                               35.0                                38.0  \n",
       "469                               35.0                                37.0  \n",
       "578                               38.0                                40.0  \n",
       "582                               37.0                                39.0  "
      ]
     },
     "execution_count": 22,
     "metadata": {},
     "output_type": "execute_result"
    }
   ],
   "source": [
    "df_outliers = df_categorias[(df_categorias['category']== 'SUV') & (df_categorias['conventional_fuel_economy_combined'] >36)]\n",
    "df_outliers"
   ]
  },
  {
   "cell_type": "markdown",
   "metadata": {},
   "source": [
    "## Comparación de Costos: Evaluando el Gasto en Dólares por Opción de Vehículo"
   ]
  },
  {
   "cell_type": "markdown",
   "metadata": {},
   "source": [
    "### Carro hibrido enchufable"
   ]
  },
  {
   "cell_type": "code",
   "execution_count": 23,
   "metadata": {},
   "outputs": [
    {
     "data": {
      "text/plain": [
       "56.459999999999994"
      ]
     },
     "execution_count": 23,
     "metadata": {},
     "output_type": "execute_result"
    }
   ],
   "source": [
    "# Automia de 450 km\n",
    "galones = 13.2\n",
    "valor_galon = 4.05\n",
    "cant_kwatts = 20\n",
    "valor_kwatts = 0.15\n",
    "gasto_hev = galones* valor_galon + cant_kwatts * valor_kwatts\n",
    "gasto_hev"
   ]
  },
  {
   "cell_type": "markdown",
   "metadata": {},
   "source": [
    "### Carro electrico 100%"
   ]
  },
  {
   "cell_type": "code",
   "execution_count": 24,
   "metadata": {},
   "outputs": [
    {
     "data": {
      "text/plain": [
       "67.5"
      ]
     },
     "execution_count": 24,
     "metadata": {},
     "output_type": "execute_result"
    }
   ],
   "source": [
    "# Automia de 450 km\n",
    "gasto_ev = valor_kwatts * 450\n",
    "gasto_ev"
   ]
  },
  {
   "cell_type": "markdown",
   "metadata": {},
   "source": [
    "### Carro a combustible"
   ]
  },
  {
   "cell_type": "code",
   "execution_count": 25,
   "metadata": {},
   "outputs": [
    {
     "data": {
      "text/plain": [
       "60.75"
      ]
     },
     "execution_count": 25,
     "metadata": {},
     "output_type": "execute_result"
    }
   ],
   "source": [
    "# para recorrer 450 millas es necesario 15 galones\n",
    "gasto_conv = valor_galon * 15\n",
    "gasto_conv"
   ]
  },
  {
   "cell_type": "markdown",
   "metadata": {},
   "source": [
    "## Guardamos un dataset limpio"
   ]
  },
  {
   "cell_type": "code",
   "execution_count": 27,
   "metadata": {},
   "outputs": [],
   "source": [
    "df_afv.to_csv(\"../Datasets/Alternative_Fuel_VehiclesUS_cleaned.csv\")"
   ]
  }
 ],
 "metadata": {
  "kernelspec": {
   "display_name": "Python 3",
   "language": "python",
   "name": "python3"
  },
  "language_info": {
   "codemirror_mode": {
    "name": "ipython",
    "version": 3
   },
   "file_extension": ".py",
   "mimetype": "text/x-python",
   "name": "python",
   "nbconvert_exporter": "python",
   "pygments_lexer": "ipython3",
   "version": "3.11.9"
  }
 },
 "nbformat": 4,
 "nbformat_minor": 2
}
