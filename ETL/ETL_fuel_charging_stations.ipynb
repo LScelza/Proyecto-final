{
  "cells": [
    {
      "cell_type": "markdown",
      "metadata": {
        "id": "W5ajkmlvgamn"
      },
      "source": [
        "# Proceso de ETL"
      ]
    },
    {
      "cell_type": "markdown",
      "metadata": {
        "id": "obw2gYVHF1Ip"
      },
      "source": [
        "## Instalación de librerias\n"
      ]
    },
    {
      "cell_type": "code",
      "execution_count": 277,
      "metadata": {
        "colab": {
          "base_uri": "https://localhost:8080/"
        },
        "id": "vddY9BDHCjbd",
        "outputId": "d0582199-f498-4abc-cf84-b2e24eecc6cb"
      },
      "outputs": [
        {
          "name": "stdout",
          "output_type": "stream",
          "text": [
            "Note: you may need to restart the kernel to use updated packages.\n"
          ]
        },
        {
          "name": "stderr",
          "output_type": "stream",
          "text": [
            "ERROR: Could not open requirements file: [Errno 2] No such file or directory: 'requirements.txt'\n",
            "\n",
            "[notice] A new release of pip is available: 23.1.2 -> 24.0\n",
            "[notice] To update, run: python.exe -m pip install --upgrade pip\n"
          ]
        }
      ],
      "source": [
        "%pip install -r requirements.txt"
      ]
    },
    {
      "cell_type": "code",
      "execution_count": 278,
      "metadata": {
        "id": "eOxpKmjqVFKA"
      },
      "outputs": [],
      "source": [
        "# !pip install pandas\n",
        "# !pip install pyarrow\n",
        "# !pip install gzip\n",
        "# !pip install matplotlib\n",
        "# !pip install folium\n",
        "# !pip install numpy"
      ]
    },
    {
      "cell_type": "markdown",
      "metadata": {
        "id": "AT-j8lqYrjKB"
      },
      "source": [
        "## Importación de librerías"
      ]
    },
    {
      "cell_type": "code",
      "execution_count": 279,
      "metadata": {
        "id": "a3IbBkKSbkv1"
      },
      "outputs": [],
      "source": [
        "import pandas as pd\n",
        "import pyarrow\n",
        "import gzip\n",
        "import warnings\n",
        "warnings.filterwarnings(\"ignore\")\n",
        "import matplotlib.pyplot as plt\n",
        "import folium\n",
        "import numpy as np\n"
      ]
    },
    {
      "cell_type": "code",
      "execution_count": 280,
      "metadata": {
        "id": "4vMeBiLeEhb4"
      },
      "outputs": [],
      "source": [
        "path = 'path.txt'"
      ]
    },
    {
      "cell_type": "markdown",
      "metadata": {
        "id": "nDemhfVrISFr"
      },
      "source": [
        "## Funciones\n"
      ]
    },
    {
      "cell_type": "code",
      "execution_count": 281,
      "metadata": {
        "id": "5WDa-qDgiiHO"
      },
      "outputs": [],
      "source": [
        "def reemplazar_24_horas(horario:str) -> str:\n",
        "    if '24' in horario:\n",
        "        return '24 hours daily'\n",
        "    else:\n",
        "        return horario"
      ]
    },
    {
      "cell_type": "markdown",
      "metadata": {
        "id": "esgAVbHJgXWB"
      },
      "source": [
        "## Extraccion"
      ]
    },
    {
      "cell_type": "code",
      "execution_count": 282,
      "metadata": {
        "id": "t8XOiGWlH9Ie"
      },
      "outputs": [],
      "source": [
        "# Con esta funcion se lee cada linea que se toma como una variables con un string asignado\n",
        "with open(path, 'r') as archivo:\n",
        "    for linea in archivo.readlines():\n",
        "        exec(linea.strip(), globals())"
      ]
    },
    {
      "cell_type": "code",
      "execution_count": 283,
      "metadata": {
        "id": "iEideC0gcUGR"
      },
      "outputs": [],
      "source": [
        "df = pd.read_csv(estaciones_carga, encoding='utf-8')"
      ]
    },
    {
      "cell_type": "markdown",
      "metadata": {
        "id": "fIwYHAYWcc4R"
      },
      "source": [
        "Realizamos un análisis preliminar del df."
      ]
    },
    {
      "cell_type": "code",
      "execution_count": 284,
      "metadata": {
        "colab": {
          "base_uri": "https://localhost:8080/",
          "height": 418
        },
        "id": "P_Fe0CCYcb1i",
        "outputId": "0a31a584-f6e9-411a-b854-1cb1f69998f5"
      },
      "outputs": [
        {
          "data": {
            "text/html": [
              "<div>\n",
              "<style scoped>\n",
              "    .dataframe tbody tr th:only-of-type {\n",
              "        vertical-align: middle;\n",
              "    }\n",
              "\n",
              "    .dataframe tbody tr th {\n",
              "        vertical-align: top;\n",
              "    }\n",
              "\n",
              "    .dataframe thead th {\n",
              "        text-align: right;\n",
              "    }\n",
              "</style>\n",
              "<table border=\"1\" class=\"dataframe\">\n",
              "  <thead>\n",
              "    <tr style=\"text-align: right;\">\n",
              "      <th></th>\n",
              "      <th>Fuel Type Code</th>\n",
              "      <th>Station Name</th>\n",
              "      <th>Street Address</th>\n",
              "      <th>Intersection Directions</th>\n",
              "      <th>City</th>\n",
              "      <th>State</th>\n",
              "      <th>ZIP</th>\n",
              "      <th>Plus4</th>\n",
              "      <th>Station Phone</th>\n",
              "      <th>Status Code</th>\n",
              "      <th>...</th>\n",
              "      <th>EV Pricing (French)</th>\n",
              "      <th>LPG Nozzle Types</th>\n",
              "      <th>Hydrogen Pressures</th>\n",
              "      <th>Hydrogen Standards</th>\n",
              "      <th>CNG Fill Type Code</th>\n",
              "      <th>CNG PSI</th>\n",
              "      <th>CNG Vehicle Class</th>\n",
              "      <th>LNG Vehicle Class</th>\n",
              "      <th>EV On-Site Renewable Source</th>\n",
              "      <th>Restricted Access</th>\n",
              "    </tr>\n",
              "  </thead>\n",
              "  <tbody>\n",
              "    <tr>\n",
              "      <th>0</th>\n",
              "      <td>CNG</td>\n",
              "      <td>Spire - Montgomery Operations Center</td>\n",
              "      <td>2951 Chestnut St</td>\n",
              "      <td>NaN</td>\n",
              "      <td>Montgomery</td>\n",
              "      <td>AL</td>\n",
              "      <td>36107</td>\n",
              "      <td>NaN</td>\n",
              "      <td>NaN</td>\n",
              "      <td>E</td>\n",
              "      <td>...</td>\n",
              "      <td>NaN</td>\n",
              "      <td>NaN</td>\n",
              "      <td>NaN</td>\n",
              "      <td>NaN</td>\n",
              "      <td>B</td>\n",
              "      <td>3600</td>\n",
              "      <td>MD</td>\n",
              "      <td>NaN</td>\n",
              "      <td>NaN</td>\n",
              "      <td>NaN</td>\n",
              "    </tr>\n",
              "    <tr>\n",
              "      <th>1</th>\n",
              "      <td>CNG</td>\n",
              "      <td>PS Energy - Atlanta</td>\n",
              "      <td>340 Whitehall St</td>\n",
              "      <td>From I-7585 N, exit 91 to Central Ave, left on...</td>\n",
              "      <td>Atlanta</td>\n",
              "      <td>GA</td>\n",
              "      <td>30303</td>\n",
              "      <td>NaN</td>\n",
              "      <td>770-350-3000</td>\n",
              "      <td>E</td>\n",
              "      <td>...</td>\n",
              "      <td>NaN</td>\n",
              "      <td>NaN</td>\n",
              "      <td>NaN</td>\n",
              "      <td>NaN</td>\n",
              "      <td>Q</td>\n",
              "      <td>3600</td>\n",
              "      <td>MD</td>\n",
              "      <td>NaN</td>\n",
              "      <td>NaN</td>\n",
              "      <td>False</td>\n",
              "    </tr>\n",
              "    <tr>\n",
              "      <th>2</th>\n",
              "      <td>CNG</td>\n",
              "      <td>Metropolitan Atlanta Rapid Transit Authority</td>\n",
              "      <td>2424 Piedmont Rd NE</td>\n",
              "      <td>NaN</td>\n",
              "      <td>Atlanta</td>\n",
              "      <td>GA</td>\n",
              "      <td>30324</td>\n",
              "      <td>NaN</td>\n",
              "      <td>NaN</td>\n",
              "      <td>E</td>\n",
              "      <td>...</td>\n",
              "      <td>NaN</td>\n",
              "      <td>NaN</td>\n",
              "      <td>NaN</td>\n",
              "      <td>NaN</td>\n",
              "      <td>Q</td>\n",
              "      <td>3000</td>\n",
              "      <td>LD</td>\n",
              "      <td>NaN</td>\n",
              "      <td>NaN</td>\n",
              "      <td>NaN</td>\n",
              "    </tr>\n",
              "  </tbody>\n",
              "</table>\n",
              "<p>3 rows × 65 columns</p>\n",
              "</div>"
            ],
            "text/plain": [
              "  Fuel Type Code                                  Station Name  \\\n",
              "0            CNG          Spire - Montgomery Operations Center   \n",
              "1            CNG                           PS Energy - Atlanta   \n",
              "2            CNG  Metropolitan Atlanta Rapid Transit Authority   \n",
              "\n",
              "        Street Address                            Intersection Directions  \\\n",
              "0     2951 Chestnut St                                                NaN   \n",
              "1     340 Whitehall St  From I-7585 N, exit 91 to Central Ave, left on...   \n",
              "2  2424 Piedmont Rd NE                                                NaN   \n",
              "\n",
              "         City State    ZIP  Plus4 Station Phone Status Code  ...  \\\n",
              "0  Montgomery    AL  36107    NaN           NaN           E  ...   \n",
              "1     Atlanta    GA  30303    NaN  770-350-3000           E  ...   \n",
              "2     Atlanta    GA  30324    NaN           NaN           E  ...   \n",
              "\n",
              "  EV Pricing (French) LPG Nozzle Types Hydrogen Pressures Hydrogen Standards  \\\n",
              "0                 NaN              NaN                NaN                NaN   \n",
              "1                 NaN              NaN                NaN                NaN   \n",
              "2                 NaN              NaN                NaN                NaN   \n",
              "\n",
              "  CNG Fill Type Code CNG PSI CNG Vehicle Class  LNG Vehicle Class  \\\n",
              "0                  B    3600                MD                NaN   \n",
              "1                  Q    3600                MD                NaN   \n",
              "2                  Q    3000                LD                NaN   \n",
              "\n",
              "   EV On-Site Renewable Source  Restricted Access  \n",
              "0                          NaN                NaN  \n",
              "1                          NaN              False  \n",
              "2                          NaN                NaN  \n",
              "\n",
              "[3 rows x 65 columns]"
            ]
          },
          "execution_count": 284,
          "metadata": {},
          "output_type": "execute_result"
        }
      ],
      "source": [
        "df.head(3)"
      ]
    },
    {
      "cell_type": "code",
      "execution_count": 285,
      "metadata": {
        "colab": {
          "base_uri": "https://localhost:8080/"
        },
        "id": "SLdKBangcqn3",
        "outputId": "6dfbbc34-8724-4bad-f199-41c5acb4ba22"
      },
      "outputs": [
        {
          "name": "stdout",
          "output_type": "stream",
          "text": [
            "<class 'pandas.core.frame.DataFrame'>\n",
            "RangeIndex: 70406 entries, 0 to 70405\n",
            "Data columns (total 65 columns):\n",
            " #   Column                            Non-Null Count  Dtype  \n",
            "---  ------                            --------------  -----  \n",
            " 0   Fuel Type Code                    70406 non-null  object \n",
            " 1   Station Name                      70406 non-null  object \n",
            " 2   Street Address                    70405 non-null  object \n",
            " 3   Intersection Directions           4492 non-null   object \n",
            " 4   City                              70406 non-null  object \n",
            " 5   State                             70406 non-null  object \n",
            " 6   ZIP                               70405 non-null  object \n",
            " 7   Plus4                             0 non-null      float64\n",
            " 8   Station Phone                     65204 non-null  object \n",
            " 9   Status Code                       70406 non-null  object \n",
            " 10  Expected Date                     1218 non-null   object \n",
            " 11  Groups With Access Code           70406 non-null  object \n",
            " 12  Access Days Time                  66628 non-null  object \n",
            " 13  Cards Accepted                    11289 non-null  object \n",
            " 14  BD Blends                         1217 non-null   object \n",
            " 15  NG Fill Type Code                 1603 non-null   object \n",
            " 16  NG PSI                            1597 non-null   object \n",
            " 17  EV Level1 EVSE Num                286 non-null    float64\n",
            " 18  EV Level2 EVSE Num                54144 non-null  float64\n",
            " 19  EV DC Fast Count                  8307 non-null   float64\n",
            " 20  EV Other Info                     49 non-null     object \n",
            " 21  EV Network                        60907 non-null  object \n",
            " 22  EV Network Web                    50305 non-null  object \n",
            " 23  Geocode Status                    70391 non-null  object \n",
            " 24  Latitude                          70406 non-null  float64\n",
            " 25  Longitude                         70406 non-null  float64\n",
            " 26  Date Last Confirmed               70188 non-null  object \n",
            " 27  ID                                70406 non-null  int64  \n",
            " 28  Updated At                        70406 non-null  object \n",
            " 29  Owner Type Code                   30190 non-null  object \n",
            " 30  Federal Agency ID                 955 non-null    float64\n",
            " 31  Federal Agency Name               955 non-null    object \n",
            " 32  Open Date                         69310 non-null  object \n",
            " 33  Hydrogen Status Link              83 non-null     object \n",
            " 34  NG Vehicle Class                  1780 non-null   object \n",
            " 35  LPG Primary                       1867 non-null   object \n",
            " 36  E85 Blender Pump                  4508 non-null   object \n",
            " 37  EV Connector Types                60690 non-null  object \n",
            " 38  Country                           70406 non-null  object \n",
            " 39  Intersection Directions (French)  188 non-null    object \n",
            " 40  Access Days Time (French)         6591 non-null   object \n",
            " 41  BD Blends (French)                2 non-null      object \n",
            " 42  Groups With Access Code (French)  70406 non-null  object \n",
            " 43  Hydrogen Is Retail                117 non-null    object \n",
            " 44  Access Code                       70406 non-null  object \n",
            " 45  Access Detail Code                7423 non-null   object \n",
            " 46  Federal Agency Code               955 non-null    object \n",
            " 47  Facility Type                     27665 non-null  object \n",
            " 48  CNG Dispenser Num                 1039 non-null   float64\n",
            " 49  CNG On-Site Renewable Source      716 non-null    object \n",
            " 50  CNG Total Compression Capacity    708 non-null    float64\n",
            " 51  CNG Storage Capacity              357 non-null    float64\n",
            " 52  LNG On-Site Renewable Source      62 non-null     object \n",
            " 53  E85 Other Ethanol Blends          1458 non-null   object \n",
            " 54  EV Pricing                        16961 non-null  object \n",
            " 55  EV Pricing (French)               2032 non-null   object \n",
            " 56  LPG Nozzle Types                  1826 non-null   object \n",
            " 57  Hydrogen Pressures                116 non-null    object \n",
            " 58  Hydrogen Standards                116 non-null    object \n",
            " 59  CNG Fill Type Code                1603 non-null   object \n",
            " 60  CNG PSI                           1597 non-null   object \n",
            " 61  CNG Vehicle Class                 1622 non-null   object \n",
            " 62  LNG Vehicle Class                 158 non-null    object \n",
            " 63  EV On-Site Renewable Source       370 non-null    object \n",
            " 64  Restricted Access                 53435 non-null  object \n",
            "dtypes: float64(10), int64(1), object(54)\n",
            "memory usage: 34.9+ MB\n"
          ]
        }
      ],
      "source": [
        "df.info()"
      ]
    },
    {
      "cell_type": "code",
      "execution_count": 286,
      "metadata": {
        "colab": {
          "base_uri": "https://localhost:8080/",
          "height": 355
        },
        "id": "OrBKbmmjct49",
        "outputId": "22b19581-2657-4d00-bb9d-dc6d3352ef03"
      },
      "outputs": [
        {
          "data": {
            "text/html": [
              "<div>\n",
              "<style scoped>\n",
              "    .dataframe tbody tr th:only-of-type {\n",
              "        vertical-align: middle;\n",
              "    }\n",
              "\n",
              "    .dataframe tbody tr th {\n",
              "        vertical-align: top;\n",
              "    }\n",
              "\n",
              "    .dataframe thead th {\n",
              "        text-align: right;\n",
              "    }\n",
              "</style>\n",
              "<table border=\"1\" class=\"dataframe\">\n",
              "  <thead>\n",
              "    <tr style=\"text-align: right;\">\n",
              "      <th></th>\n",
              "      <th>Plus4</th>\n",
              "      <th>EV Level1 EVSE Num</th>\n",
              "      <th>EV Level2 EVSE Num</th>\n",
              "      <th>EV DC Fast Count</th>\n",
              "      <th>Latitude</th>\n",
              "      <th>Longitude</th>\n",
              "      <th>ID</th>\n",
              "      <th>Federal Agency ID</th>\n",
              "      <th>CNG Dispenser Num</th>\n",
              "      <th>CNG Total Compression Capacity</th>\n",
              "      <th>CNG Storage Capacity</th>\n",
              "    </tr>\n",
              "  </thead>\n",
              "  <tbody>\n",
              "    <tr>\n",
              "      <th>count</th>\n",
              "      <td>0.0</td>\n",
              "      <td>286.000000</td>\n",
              "      <td>54144.000000</td>\n",
              "      <td>8307.000000</td>\n",
              "      <td>70406.000000</td>\n",
              "      <td>70406.000000</td>\n",
              "      <td>70406.000000</td>\n",
              "      <td>955.000000</td>\n",
              "      <td>1039.000000</td>\n",
              "      <td>708.000000</td>\n",
              "      <td>357.000000</td>\n",
              "    </tr>\n",
              "    <tr>\n",
              "      <th>mean</th>\n",
              "      <td>NaN</td>\n",
              "      <td>3.461538</td>\n",
              "      <td>2.315289</td>\n",
              "      <td>3.576381</td>\n",
              "      <td>38.929309</td>\n",
              "      <td>-96.061447</td>\n",
              "      <td>148730.326066</td>\n",
              "      <td>13.905759</td>\n",
              "      <td>2.731473</td>\n",
              "      <td>873.766949</td>\n",
              "      <td>47866.787115</td>\n",
              "    </tr>\n",
              "    <tr>\n",
              "      <th>std</th>\n",
              "      <td>NaN</td>\n",
              "      <td>6.548356</td>\n",
              "      <td>3.157387</td>\n",
              "      <td>4.129470</td>\n",
              "      <td>5.628458</td>\n",
              "      <td>19.545273</td>\n",
              "      <td>54261.672118</td>\n",
              "      <td>6.767439</td>\n",
              "      <td>8.333492</td>\n",
              "      <td>1032.371466</td>\n",
              "      <td>54327.698853</td>\n",
              "    </tr>\n",
              "    <tr>\n",
              "      <th>min</th>\n",
              "      <td>NaN</td>\n",
              "      <td>1.000000</td>\n",
              "      <td>1.000000</td>\n",
              "      <td>1.000000</td>\n",
              "      <td>0.000000</td>\n",
              "      <td>-159.788556</td>\n",
              "      <td>17.000000</td>\n",
              "      <td>2.000000</td>\n",
              "      <td>0.000000</td>\n",
              "      <td>2.000000</td>\n",
              "      <td>0.000000</td>\n",
              "    </tr>\n",
              "    <tr>\n",
              "      <th>25%</th>\n",
              "      <td>NaN</td>\n",
              "      <td>1.000000</td>\n",
              "      <td>2.000000</td>\n",
              "      <td>1.000000</td>\n",
              "      <td>34.182981</td>\n",
              "      <td>-117.860563</td>\n",
              "      <td>113723.250000</td>\n",
              "      <td>8.000000</td>\n",
              "      <td>1.000000</td>\n",
              "      <td>215.750000</td>\n",
              "      <td>30000.000000</td>\n",
              "    </tr>\n",
              "    <tr>\n",
              "      <th>50%</th>\n",
              "      <td>NaN</td>\n",
              "      <td>1.000000</td>\n",
              "      <td>2.000000</td>\n",
              "      <td>2.000000</td>\n",
              "      <td>39.105989</td>\n",
              "      <td>-92.002897</td>\n",
              "      <td>165247.500000</td>\n",
              "      <td>14.000000</td>\n",
              "      <td>2.000000</td>\n",
              "      <td>632.000000</td>\n",
              "      <td>36000.000000</td>\n",
              "    </tr>\n",
              "    <tr>\n",
              "      <th>75%</th>\n",
              "      <td>NaN</td>\n",
              "      <td>2.000000</td>\n",
              "      <td>2.000000</td>\n",
              "      <td>4.000000</td>\n",
              "      <td>42.702185</td>\n",
              "      <td>-78.881493</td>\n",
              "      <td>190653.750000</td>\n",
              "      <td>17.000000</td>\n",
              "      <td>2.000000</td>\n",
              "      <td>1100.000000</td>\n",
              "      <td>60000.000000</td>\n",
              "    </tr>\n",
              "    <tr>\n",
              "      <th>max</th>\n",
              "      <td>NaN</td>\n",
              "      <td>51.000000</td>\n",
              "      <td>311.000000</td>\n",
              "      <td>56.000000</td>\n",
              "      <td>64.852466</td>\n",
              "      <td>40.432278</td>\n",
              "      <td>224382.000000</td>\n",
              "      <td>60.000000</td>\n",
              "      <td>202.000000</td>\n",
              "      <td>10620.000000</td>\n",
              "      <td>593136.000000</td>\n",
              "    </tr>\n",
              "  </tbody>\n",
              "</table>\n",
              "</div>"
            ],
            "text/plain": [
              "       Plus4  EV Level1 EVSE Num  EV Level2 EVSE Num  EV DC Fast Count  \\\n",
              "count    0.0          286.000000        54144.000000       8307.000000   \n",
              "mean     NaN            3.461538            2.315289          3.576381   \n",
              "std      NaN            6.548356            3.157387          4.129470   \n",
              "min      NaN            1.000000            1.000000          1.000000   \n",
              "25%      NaN            1.000000            2.000000          1.000000   \n",
              "50%      NaN            1.000000            2.000000          2.000000   \n",
              "75%      NaN            2.000000            2.000000          4.000000   \n",
              "max      NaN           51.000000          311.000000         56.000000   \n",
              "\n",
              "           Latitude     Longitude             ID  Federal Agency ID  \\\n",
              "count  70406.000000  70406.000000   70406.000000         955.000000   \n",
              "mean      38.929309    -96.061447  148730.326066          13.905759   \n",
              "std        5.628458     19.545273   54261.672118           6.767439   \n",
              "min        0.000000   -159.788556      17.000000           2.000000   \n",
              "25%       34.182981   -117.860563  113723.250000           8.000000   \n",
              "50%       39.105989    -92.002897  165247.500000          14.000000   \n",
              "75%       42.702185    -78.881493  190653.750000          17.000000   \n",
              "max       64.852466     40.432278  224382.000000          60.000000   \n",
              "\n",
              "       CNG Dispenser Num  CNG Total Compression Capacity  CNG Storage Capacity  \n",
              "count        1039.000000                      708.000000            357.000000  \n",
              "mean            2.731473                      873.766949          47866.787115  \n",
              "std             8.333492                     1032.371466          54327.698853  \n",
              "min             0.000000                        2.000000              0.000000  \n",
              "25%             1.000000                      215.750000          30000.000000  \n",
              "50%             2.000000                      632.000000          36000.000000  \n",
              "75%             2.000000                     1100.000000          60000.000000  \n",
              "max           202.000000                    10620.000000         593136.000000  "
            ]
          },
          "execution_count": 286,
          "metadata": {},
          "output_type": "execute_result"
        }
      ],
      "source": [
        "df.describe()"
      ]
    },
    {
      "cell_type": "code",
      "execution_count": 287,
      "metadata": {
        "colab": {
          "base_uri": "https://localhost:8080/"
        },
        "id": "662kla5Pc12b",
        "outputId": "396309b9-65d1-4634-eb88-4318230f8b3a"
      },
      "outputs": [
        {
          "data": {
            "text/plain": [
              "(70406, 65)"
            ]
          },
          "execution_count": 287,
          "metadata": {},
          "output_type": "execute_result"
        }
      ],
      "source": [
        "df.shape"
      ]
    },
    {
      "cell_type": "code",
      "execution_count": 288,
      "metadata": {
        "colab": {
          "base_uri": "https://localhost:8080/"
        },
        "id": "GW63ZgnJdJR0",
        "outputId": "aebe7eac-9308-4dd1-906f-c0920b7da7ce"
      },
      "outputs": [
        {
          "data": {
            "text/plain": [
              "Index(['Fuel Type Code', 'Station Name', 'Street Address',\n",
              "       'Intersection Directions', 'City', 'State', 'ZIP', 'Plus4',\n",
              "       'Station Phone', 'Status Code', 'Expected Date',\n",
              "       'Groups With Access Code', 'Access Days Time', 'Cards Accepted',\n",
              "       'BD Blends', 'NG Fill Type Code', 'NG PSI', 'EV Level1 EVSE Num',\n",
              "       'EV Level2 EVSE Num', 'EV DC Fast Count', 'EV Other Info', 'EV Network',\n",
              "       'EV Network Web', 'Geocode Status', 'Latitude', 'Longitude',\n",
              "       'Date Last Confirmed', 'ID', 'Updated At', 'Owner Type Code',\n",
              "       'Federal Agency ID', 'Federal Agency Name', 'Open Date',\n",
              "       'Hydrogen Status Link', 'NG Vehicle Class', 'LPG Primary',\n",
              "       'E85 Blender Pump', 'EV Connector Types', 'Country',\n",
              "       'Intersection Directions (French)', 'Access Days Time (French)',\n",
              "       'BD Blends (French)', 'Groups With Access Code (French)',\n",
              "       'Hydrogen Is Retail', 'Access Code', 'Access Detail Code',\n",
              "       'Federal Agency Code', 'Facility Type', 'CNG Dispenser Num',\n",
              "       'CNG On-Site Renewable Source', 'CNG Total Compression Capacity',\n",
              "       'CNG Storage Capacity', 'LNG On-Site Renewable Source',\n",
              "       'E85 Other Ethanol Blends', 'EV Pricing', 'EV Pricing (French)',\n",
              "       'LPG Nozzle Types', 'Hydrogen Pressures', 'Hydrogen Standards',\n",
              "       'CNG Fill Type Code', 'CNG PSI', 'CNG Vehicle Class',\n",
              "       'LNG Vehicle Class', 'EV On-Site Renewable Source',\n",
              "       'Restricted Access'],\n",
              "      dtype='object')"
            ]
          },
          "execution_count": 288,
          "metadata": {},
          "output_type": "execute_result"
        }
      ],
      "source": [
        "df.columns"
      ]
    },
    {
      "cell_type": "markdown",
      "metadata": {
        "id": "dBw4UNbeIiHX"
      },
      "source": [
        "## Transformacion de datos\n",
        "\n"
      ]
    },
    {
      "cell_type": "markdown",
      "metadata": {
        "id": "Pih_Ntqvc3oA"
      },
      "source": [
        "#### columnas irrelevantes\n"
      ]
    },
    {
      "cell_type": "markdown",
      "metadata": {
        "id": "h-XbyoaDowzH"
      },
      "source": [
        "Vemos, a priori, que hay muchas columnas que no nos van a servir para el proyecto, por lo que procedemos a borrarlas."
      ]
    },
    {
      "cell_type": "code",
      "execution_count": 289,
      "metadata": {
        "id": "WB9KbGFDdC4J"
      },
      "outputs": [],
      "source": [
        "columnas_a_borrar = ['Station Name', 'Street Address', 'ZIP', 'Plus4', 'Station Phone', 'EV Network Web', 'Open Date', 'Hydrogen Status Link',\n",
        "                     'Intersection Directions (French)', 'Access Days Time (French)', 'BD Blends (French)', 'Groups With Access Code (French)',\n",
        "                     'Hydrogen Is Retail', 'EV Pricing (French)', ]"
      ]
    },
    {
      "cell_type": "code",
      "execution_count": 290,
      "metadata": {
        "id": "UFRogcUodMlo"
      },
      "outputs": [],
      "source": [
        "df = df.drop(columnas_a_borrar, axis=1)"
      ]
    },
    {
      "cell_type": "markdown",
      "metadata": {
        "id": "hm6kM6njdR9M"
      },
      "source": [
        "Hay otras columnas que no sabemos. Antes de borrarlas, analizamos su contenido."
      ]
    },
    {
      "cell_type": "code",
      "execution_count": 291,
      "metadata": {
        "id": "A9pfrC4JdY31"
      },
      "outputs": [],
      "source": [
        "columnas_a_analizar = ['Groups With Access Code', 'Intersection Directions', 'Cards Accepted', 'NG PSI', 'EV Other Info', 'EV Network', 'Geocode Status',\n",
        "              'Date Last Confirmed', 'Updated At', 'Owner Type Code', 'Federal Agency ID', 'Federal Agency Name',\n",
        "              'NG Vehicle Class', 'LPG Primary',  'Access Code', 'Access Detail Code', 'Federal Agency Code',\n",
        "              'Facility Type', 'CNG Fill Type Code', 'EV On-Site Renewable Source', 'Restricted Access']"
      ]
    },
    {
      "cell_type": "code",
      "execution_count": 292,
      "metadata": {
        "colab": {
          "base_uri": "https://localhost:8080/"
        },
        "id": "qcvT8Dhkd2bg",
        "outputId": "8fc931a3-bc4e-4bcc-94d9-f5b25cdc5223"
      },
      "outputs": [
        {
          "name": "stdout",
          "output_type": "stream",
          "text": [
            "\n",
            "\n",
            "Columna: Groups With Access Code\n",
            "['Private' 'Public - Card key at all times' 'Private - Government only'\n",
            " 'Public - Credit card at all times' 'TEMPORARILY UNAVAILABLE (Public)'\n",
            " 'TEMPORARILY UNAVAILABLE (Public - Credit card at all times)'\n",
            " 'Private - Fleet customers only' 'Public'\n",
            " 'Public - Credit card after hours' 'TEMPORARILY UNAVAILABLE (Private)'\n",
            " 'Private - Card key at all times' 'Public - Call ahead'\n",
            " 'Public - Card key after hours'\n",
            " 'TEMPORARILY UNAVAILABLE (Public - Credit card after hours)'\n",
            " 'TEMPORARILY UNAVAILABLE (Public - Call ahead)'\n",
            " 'TEMPORARILY UNAVAILABLE (Private - Government only)'\n",
            " 'PLANNED - not yet accessible (Public - Credit card at all times)'\n",
            " 'PLANNED - not yet accessible (Private - Government only)'\n",
            " 'Public - Limited hours' 'PLANNED - not yet accessible (Public)'\n",
            " 'PLANNED - not yet accessible (Public - Call ahead)'\n",
            " 'Private - Call ahead' 'Private - Credit card at all times'\n",
            " 'PLANNED - not yet accessible (Private)' 'Public - Fleet customers only'\n",
            " 'TEMPORARILY UNAVAILABLE (Public - Card key at all times)'\n",
            " 'Private - Credit card after hours' 'Private - Residential']\n",
            "\n",
            "\n",
            "\n",
            "Columna: Intersection Directions\n",
            "[nan\n",
            " 'From I-7585 N, exit 91 to Central Ave, left on Memorial, left on Whitehall, and the station is on the left'\n",
            " 'From Route 1, take the first exit after Callahan Tunnel. Located near the Massachusetts State Police Troop F building on Service Rd.'\n",
            " ...\n",
            " 'Stations located at the shuttle parking area by the Elkmont Activities Center.'\n",
            " 'Stations are located just past the Greenbrier check-in building by the splash pad.'\n",
            " 'Leasing Office']\n",
            "\n",
            "\n",
            "\n",
            "Columna: Cards Accepted\n",
            "[nan 'Comdata FleetOne FuelMan Voyager Wright_Exp'\n",
            " 'FuelMan M V Wright_Exp'\n",
            " 'A CleanEnergy Comdata D FuelMan M V Voyager Wright_Exp'\n",
            " 'CleanEnergy D FleetOne FuelMan M V Voyager Wright_Exp'\n",
            " 'CleanEnergy D FuelMan M V Voyager Wright_Exp'\n",
            " 'CleanEnergy D FleetOne FuelMan M Proprietor V Voyager Wright_Exp'\n",
            " 'D M V Wright_Exp' 'CleanEnergy'\n",
            " 'A Cash Comdata D FuelMan M V Voyager Wright_Exp'\n",
            " 'Comdata FuelMan GasCard M V Wright_Exp'\n",
            " 'A CleanEnergy D FleetOne FuelMan M Proprietor V Voyager Wright_Exp'\n",
            " 'A D M V Voyager Wright_Exp' 'D FuelMan M V Wright_Exp'\n",
            " 'CleanEnergy D FuelMan M Proprietor V Voyager Wright_Exp'\n",
            " 'A CleanEnergy Comdata D FleetOne FuelMan M V Voyager Wright_Exp'\n",
            " 'GasCard M V Wright_Exp' 'Comdata D GasCard M Proprietor V Wright_Exp'\n",
            " 'Comdata GasCard M V Wright_Exp' 'A D M Proprietor V Voyager Wright_Exp'\n",
            " 'A CleanEnergy Comdata D FleetOne FuelMan M Proprietor V Voyager Wright_Exp'\n",
            " 'Debit M V' 'D FuelMan M V Voyager Wright_Exp'\n",
            " 'A Cash D EFS FuelMan M V Voyager Wright_Exp' 'Proprietor' 'M V'\n",
            " 'A Cash Checks FuelMan M V'\n",
            " 'A Comdata D EFS FleetOne FuelMan M TCH Tchek V Voyager Wright_Exp'\n",
            " 'M V Voyager Wright_Exp' 'A D M V' 'CleanEnergy D M V Voyager Wright_Exp'\n",
            " 'A CleanEnergy Comdata D FuelMan M Proprietor V Voyager Wright_Exp'\n",
            " 'A D Debit FuelMan M Proprietor V Voyager Wright_Exp' 'A M V'\n",
            " 'A D M V Wright_Exp' 'A Cash Checks D M V Voyager Wright_Exp'\n",
            " 'A Cash D M V Wright_Exp' 'A Cash D FuelMan M V Voyager Wright_Exp'\n",
            " 'A Cash D M V' 'A Cash D M V Voyager Wright_Exp'\n",
            " 'A ANDROID_PAY APPLE_PAY Cash Checks Comdata CREDIT D EFS FleetOne FuelMan M TCH Tchek V Voyager Wright_Exp'\n",
            " 'A ANDROID_PAY APPLE_PAY Cash Checks CREDIT D M V Voyager Wright_Exp'\n",
            " 'A Cash D Debit M V Voyager Wright_Exp' 'A Cash D M V Voyager'\n",
            " 'A CleanEnergy D FleetOne FuelMan M V Voyager Wright_Exp'\n",
            " 'D M V Voyager Wright_Exp' 'A Cash Checks D M V' 'Cash Checks D M V'\n",
            " 'A ALLIANCE Cash Checks D M V' 'Cash D M V' 'A ALLIANCE Cash D M V'\n",
            " 'Cash M V' 'A Cash Checks D Debit M V'\n",
            " 'A Cash D FuelMan GasCard M V Wright_Exp'\n",
            " 'Cash Checks CREDIT D Debit M V' 'Cash Checks D Debit M V'\n",
            " 'ALLIANCE Cash Checks D M V' 'ALLIANCE Cash Checks M V'\n",
            " 'ALLIANCE Cash Checks M V Voyager' 'A ALLIANCE Cash Checks D M V Voyager'\n",
            " 'Cash Checks M V' 'ALLIANCE' 'Cash D Debit M V' 'Cash CREDIT M V'\n",
            " 'M PHH V Voyager Wright_Exp' 'Trillium'\n",
            " 'A CleanEnergy D FuelMan M V Wright_Exp' 'A Cash D Debit M V'\n",
            " 'Cash Checks Debit M V' 'A Cash Checks D M V Voyager'\n",
            " 'M Proprietor V Voyager' 'A Cash D Debit M V Wright_Exp' 'Comdata'\n",
            " 'Cash M V Voyager' 'Cash M V Voyager Wright_Exp' 'Cash Voyager'\n",
            " 'A Cash M V' 'Wright_Exp' 'A Cash CFN D M V Voyager Wright_Exp'\n",
            " 'FuelMan GasCard Wright_Exp' 'Cash D M V Voyager Wright_Exp'\n",
            " 'A Cash D FleetOne M V Voyager Wright_Exp'\n",
            " 'A D EFS M TCH Tchek Trillium V Voyager Wright_Exp'\n",
            " 'A D M Trillium V Voyager Wright_Exp' 'A ALLIANCE Cash CFN Checks D M V'\n",
            " 'A D GasCard M Proprietor V Voyager Wright_Exp'\n",
            " 'A ANDROID_PAY APPLE_PAY Cash Checks D FuelMan M Proprietor V Voyager Wright_Exp'\n",
            " 'A Cash Checks D FuelMan M V Voyager Wright_Exp'\n",
            " 'A Cash Checks D FuelMan GasCard M V Voyager Wright_Exp'\n",
            " 'Proprietor Wright_Exp' 'A Cash Checks D M PHH V Voyager Wright_Exp'\n",
            " 'A Cash Checks D FuelMan GasCard M PHH V Voyager Wright_Exp'\n",
            " 'A Cash Checks D GasCard M V Voyager Wright_Exp'\n",
            " 'A Cash Checks D Debit FuelMan M V Voyager Wright_Exp' 'A D M'\n",
            " 'A Cash Checks D FuelMan GasCard M Proprietor V Voyager Wright_Exp'\n",
            " 'A Cash Checks D M V Wright_Exp'\n",
            " 'A Cash Checks D Debit M V Voyager Wright_Exp'\n",
            " 'A Cash Checks D Debit GasCard M V Voyager Wright_Exp' 'Checks M V'\n",
            " 'A Comdata D FleetOne FuelMan GasCard M Proprietor V Voyager Wright_Exp'\n",
            " 'A Cash D Debit FuelMan GasCard M V Voyager Wright_Exp'\n",
            " 'A Cash Checks D Debit FuelMan GasCard M V Voyager Wright_Exp' 'D M V'\n",
            " 'A M Trillium V Voyager' 'A D GasCard M Proprietor V Wright_Exp'\n",
            " 'A D FleetOne M V Voyager Wright_Exp' 'Cash Checks'\n",
            " 'A D Debit M V Wright_Exp' 'A CFN D M V Voyager Wright_Exp'\n",
            " 'Comdata FuelMan Proprietor Voyager Wright_Exp'\n",
            " 'A Cash D Debit FleetOne M V Voyager Wright_Exp' 'D M V Voyager'\n",
            " 'PacificPride Voyager Wright_Exp'\n",
            " 'A Cash Comdata D EFS M TCH Tchek V Voyager Wright_Exp'\n",
            " 'A ANDROID_PAY APPLE_PAY Cash Comdata CREDIT D EFS FleetOne FuelMan M TCH Tchek V Voyager Wright_Exp'\n",
            " 'A Cash CREDIT D Debit M V Voyager Wright_Exp' 'Cash D M Proprietor V'\n",
            " 'A Comdata D Debit M V Wright_Exp' 'A D Debit M V'\n",
            " 'A Cash Checks CREDIT D M V Voyager Wright_Exp' 'Cash Checks D Debit'\n",
            " 'A CleanEnergy Comdata D Debit FleetOne FuelMan M V Voyager Wright_Exp'\n",
            " 'PacificPride' 'A D M V Voyager' 'A D M Proprietor V Wright_Exp'\n",
            " 'A Cash Comdata D Debit FleetOne M TCH V Voyager Wright_Exp' 'CFN'\n",
            " 'A Comdata EFS FuelMan M V Voyager Wright_Exp'\n",
            " 'A Cash D FuelMan M V Wright_Exp' 'ALLIANCE Cash D M V'\n",
            " 'Cash D FuelMan M V Voyager Wright_Exp'\n",
            " 'A CREDIT D Debit M V Voyager Wright_Exp'\n",
            " 'A D FuelMan M V Voyager Wright_Exp'\n",
            " 'Cash D FuelMan M Proprietor V Voyager Wright_Exp'\n",
            " 'Cash D M V Wright_Exp'\n",
            " 'A Comdata D Debit M PacificPride V Voyager Wright_Exp'\n",
            " 'A Cash D FleetOne M V'\n",
            " 'A Cash D FleetOne FuelMan M V Voyager Wright_Exp'\n",
            " 'A ANDROID_PAY APPLE_PAY Cash Checks D EFS FleetOne FuelMan M TCH Tchek V Voyager Wright_Exp'\n",
            " 'A ANDROID_PAY APPLE_PAY D FleetOne FuelMan GasCard M Proprietor V Voyager Wright_Exp'\n",
            " 'A Cash CFN Checks D M V Voyager Wright_Exp'\n",
            " 'A D FuelMan M Proprietor V Voyager Wright_Exp'\n",
            " 'A CleanEnergy Comdata D EFS FleetOne FuelMan M Tchek V Voyager Wright_Exp'\n",
            " 'A Cash D Debit FuelMan M V Voyager Wright_Exp'\n",
            " 'A Cash Comdata D EFS M V Voyager Wright_Exp'\n",
            " 'A Cash Checks D M Proprietor V Wright_Exp' 'Cash Debit'\n",
            " 'Comdata FuelMan PacificPride Tchek Voyager Wright_Exp'\n",
            " 'M Proprietor V Voyager Wright_Exp' 'A D Debit M V Voyager'\n",
            " 'D FuelMan M Proprietor V Voyager Wright_Exp'\n",
            " 'A Cash Checks D FuelMan M V Wright_Exp'\n",
            " 'A CleanEnergy Comdata D EFS FleetOne FuelMan M TCH V Voyager Wright_Exp'\n",
            " 'A Cash Comdata D Debit FuelMan M PacificPride V' 'Cash Debit M V'\n",
            " 'M Proprietor V' 'Cash CREDIT D M V' 'EFS'\n",
            " 'A CleanEnergy Comdata D FleetOne FuelMan M TCH V Voyager Wright_Exp'\n",
            " 'A ANDROID_PAY APPLE_PAY Cash Checks CREDIT D Debit M V Voyager Wright_Exp'\n",
            " 'A D FuelMan M V Wright_Exp' 'Cash Checks M V Voyager Wright_Exp'\n",
            " 'A Checks D M V Wright_Exp'\n",
            " 'A ANDROID_PAY APPLE_PAY Cash CFN Checks D EFS FleetOne FuelMan M Proprietor TCH Tchek V Voyager Wright_Exp'\n",
            " 'A Cash D M PacificPride V'\n",
            " 'A ANDROID_PAY APPLE_PAY Cash Checks Comdata D EFS FleetOne FuelMan M TCH Tchek V Voyager Wright_Exp'\n",
            " 'CREDIT Debit V' 'A Cash D FuelMan GasCard M V Voyager Wright_Exp'\n",
            " 'A Cash Checks D FleetOne M V Voyager Wright_Exp'\n",
            " 'A CFN D FuelMan M V Voyager Wright_Exp' 'A D GasCard M V Wright_Exp'\n",
            " 'A Cash Checks M V' 'A CFN D Debit M V' 'A D M Proprietor V'\n",
            " 'Cash Debit Voyager Wright_Exp' 'Comdata M V Wright_Exp'\n",
            " 'A D FuelMan M Proprietor V Wright_Exp'\n",
            " 'A CleanEnergy D FuelMan M V Voyager Wright_Exp' 'M V Wright_Exp'\n",
            " 'A Cash Checks D FuelMan M V Voyager'\n",
            " 'A D FuelMan GasCard M V Voyager Wright_Exp'\n",
            " 'A CleanEnergy D Debit FuelMan M V Voyager Wright_Exp'\n",
            " 'Comdata FuelMan M V Wright_Exp' 'Cash FuelMan M V Voyager Wright_Exp'\n",
            " 'FuelMan M V Voyager Wright_Exp'\n",
            " 'A Cash Checks D EFS FleetOne FuelMan M TCH Tchek V Voyager Wright_Exp'\n",
            " 'A ARI Cash Checks D Debit FuelMan M Proprietor V Voyager Wright_Exp'\n",
            " 'GasCard M V' 'A Cash D FuelMan M V Voyager'\n",
            " 'A CleanEnergy Comdata D EFS FleetOne FuelMan M TCH Tchek V Voyager Wright_Exp'\n",
            " 'A Cash CFN D FuelMan M V Voyager Wright_Exp' 'A Cash Checks Debit M V'\n",
            " 'A CleanEnergy D EFS FleetOne FuelMan M V Voyager Wright_Exp'\n",
            " 'A Cash D Debit M V Voyager' 'Cash' 'CREDIT'\n",
            " 'A Cash D FleetOne M V Wright_Exp' 'A D M Proprietor V Voyager'\n",
            " 'A Cash D GasCard M V Voyager' 'A Cash Checks D Debit M V Wright_Exp'\n",
            " 'A Cash D M Proprietor V'\n",
            " 'A Cash Comdata D EFS FleetOne FuelMan GasCard M TCH Tchek V Voyager Wright_Exp'\n",
            " 'A CleanEnergy Comdata D EFS FuelMan M Speedway TCH Tchek V Voyager Wright_Exp'\n",
            " 'ALLIANCE Cash M V' 'A Cash D Debit M Proprietor V'\n",
            " 'A CleanEnergy Comdata D EFS FleetOne FuelMan M Proprietor TCH V Voyager Wright_Exp'\n",
            " 'A D FuelMan M V'\n",
            " 'A Cash Checks D Debit FleetOne FuelMan M Proprietor V Voyager Wright_Exp'\n",
            " 'A Cash Checks D FleetOne FuelMan M V Voyager Wright_Exp'\n",
            " 'A Cash Comdata D Debit EFS FleetOne FuelMan M PHH TCH Tchek V Voyager Wright_Exp'\n",
            " 'A CFN Comdata D EFS FleetOne FuelMan GasCard M TCH Tchek V Voyager Wright_Exp'\n",
            " 'A Cash CFN Checks D FuelMan GasCard M PHH V Voyager Wright_Exp'\n",
            " 'A Cash D GasCard M V Voyager Wright_Exp'\n",
            " 'A CleanEnergy Comdata D EFS FleetOne FuelMan M Speedway TCH Tchek V Voyager Wright_Exp'\n",
            " 'CleanEnergy D FleetOne M V Voyager Wright_Exp'\n",
            " 'A D FleetOne FuelMan GasCard M V Voyager Wright_Exp'\n",
            " 'A CleanEnergy D FleetOne M V Voyager Wright_Exp'\n",
            " 'A CFN Comdata D EFS FleetOne FuelMan GasCard M TCH Tchek V Wright_Exp'\n",
            " 'A CleanEnergy Comdata D EFS FleetOne FuelMan M Speedway TCH V Voyager Wright_Exp'\n",
            " 'A CleanEnergy D EFS M Speedway TCH Tchek V Voyager' 'CREDIT Debit'\n",
            " 'A Cash Checks D M Proprietor V Voyager Wright_Exp'\n",
            " 'A D GasCard M V Voyager Wright_Exp'\n",
            " 'A Cash Checks D EFS M V Voyager Wright_Exp'\n",
            " 'A ANDROID_PAY APPLE_PAY Cash Checks D Debit EFS FleetOne FuelMan M TCH Tchek V Voyager Wright_Exp'\n",
            " 'A Cash Checks D EFS FleetOne FuelMan GasCard M TCH Tchek V Voyager Wright_Exp'\n",
            " 'A Comdata D EFS M TCH Trillium V Voyager Wright_Exp'\n",
            " 'A Comdata D EFS M TCH Tchek Trillium V Voyager Wright_Exp'\n",
            " 'A Cash Checks Comdata D EFS FleetOne M PHH V Wright_Exp' 'FuelMan'\n",
            " 'FuelMan Proprietor Voyager Wright_Exp'\n",
            " 'CleanEnergy FuelMan M Proprietor V Voyager Wright_Exp'\n",
            " 'A Cash D EFS FleetOne FuelMan M TCH Tchek V Voyager Wright_Exp'\n",
            " 'A ANDROID_PAY APPLE_PAY Cash Checks Comdata D Debit EFS FleetOne FuelMan M TCH Tchek V Voyager Wright_Exp'\n",
            " 'A Comdata D EFS FleetOne M V Voyager Wright_Exp'\n",
            " 'A Comdata D FuelMan M V Voyager Wright_Exp'\n",
            " 'A Cash Checks Comdata D Debit EFS FleetOne FuelMan M TCH Tchek V Voyager Wright_Exp'\n",
            " 'A ALLIANCE D M V Voyager Wright_Exp' 'M V Voyager'\n",
            " 'A Comdata D M V Voyager Wright_Exp'\n",
            " 'A Cash D FuelMan M Proprietor V Voyager Wright_Exp'\n",
            " 'D FleetOne FuelMan M V Voyager Wright_Exp'\n",
            " 'A CFN D Debit M Proprietor V Wright_Exp' 'Voyager Wright_Exp'\n",
            " 'Comdata FleetOne PacificPride TCH Tchek Voyager'\n",
            " 'Comdata D EFS FuelMan M Proprietor TCH Tchek V Voyager Wright_Exp'\n",
            " 'A Cash Checks Comdata D EFS FleetOne FuelMan M TCH Tchek V Voyager Wright_Exp'\n",
            " 'A D Debit FleetOne FuelMan GasCard M Proprietor V Voyager Wright_Exp'\n",
            " 'A Cash Comdata D M V Voyager Wright_Exp'\n",
            " 'A Cash Comdata D Debit M V Voyager Wright_Exp'\n",
            " 'A Cash Comdata D M PacificPride V Voyager Wright_Exp'\n",
            " 'A Cash Checks CREDIT D Debit M V'\n",
            " 'A Comdata D EFS FleetOne FuelMan M TCH V Voyager Wright_Exp'\n",
            " 'A Comdata D EFS FuelMan M Proprietor Speedway V Voyager Wright_Exp'\n",
            " 'A CleanEnergy D M V Voyager Wright_Exp'\n",
            " 'A D EFS FuelMan M V Voyager Wright_Exp' 'A Cash Comdata D M Tchek V'\n",
            " 'D FleetOne FuelMan GasCard M V Voyager Wright_Exp'\n",
            " 'A Cash Checks D FuelMan M PHH V Voyager Wright_Exp'\n",
            " 'A Comdata D EFS FuelMan M V Voyager Wright_Exp'\n",
            " 'A Cash D EFS FuelMan M V Wright_Exp'\n",
            " 'A Cash D Debit FuelMan M Proprietor V Voyager Wright_Exp'\n",
            " 'A Cash Checks GasCard M V Voyager Wright_Exp'\n",
            " 'A Cash D M Proprietor V Voyager Wright_Exp'\n",
            " 'A Comdata D FuelMan M V Wright_Exp'\n",
            " 'A Comdata D EFS M TCH Tchek V Wright_Exp'\n",
            " 'A CFN CleanEnergy Comdata D FleetOne FuelMan M V Voyager Wright_Exp'\n",
            " 'A Cash Comdata D FleetOne FuelMan M V Voyager Wright_Exp'\n",
            " 'Comdata D EFS M V Voyager Wright_Exp'\n",
            " 'A CFN Comdata D EFS FleetOne FuelMan GasCard M Tchek V Voyager Wright_Exp'\n",
            " 'A Cash Checks Comdata D EFS FleetOne M TCH Tchek V Voyager Wright_Exp'\n",
            " 'A D EFS FuelMan M Proprietor Trillium V Voyager Wright_Exp'\n",
            " 'A Comdata D EFS FuelMan M Proprietor Trillium V Voyager Wright_Exp'\n",
            " 'A Cash D M Tchek V Wright_Exp' 'D FuelMan M V'\n",
            " 'FuelMan M Proprietor V Wright_Exp'\n",
            " 'A Comdata D EFS FuelMan M TCH Tchek V Wright_Exp'\n",
            " 'A Comdata EFS FuelMan M TCH Tchek V Wright_Exp'\n",
            " 'A ANDROID_PAY APPLE_PAY Cash Comdata D Debit EFS FleetOne FuelMan M TCH Tchek V Voyager Wright_Exp'\n",
            " 'A Cash Checks D Debit EFS FleetOne FuelMan M TCH Tchek V Voyager Wright_Exp'\n",
            " 'A M V Voyager Wright_Exp' 'A D Debit EFS M V Wright_Exp'\n",
            " 'Comdata FuelMan GasCard Proprietor Voyager Wright_Exp'\n",
            " 'A CFN CleanEnergy D M PHH V Voyager'\n",
            " 'A Cash Checks Comdata D EFS FuelMan GasCard M Proprietor TCH V Voyager Wright_Exp'\n",
            " 'A D EFS M V Voyager Wright_Exp' 'A D M TCH V Voyager Wright_Exp'\n",
            " 'A D M TCH Tchek Trillium V Voyager Wright_Exp'\n",
            " 'A D EFS FuelMan M TCH Tchek Trillium V Voyager Wright_Exp'\n",
            " 'A Cash Checks D FuelMan M V'\n",
            " 'A Cash Checks Comdata D M V Voyager Wright_Exp' 'A Cash D Debit M'\n",
            " 'A Cash GasCard M V' 'A Comdata D EFS M TCH Tchek V Voyager Wright_Exp'\n",
            " 'A Comdata D EFS FuelMan M Tchek V Wright_Exp'\n",
            " 'A Comdata D M V Wright_Exp'\n",
            " 'A Cash D EFS FuelMan M TCH Tchek Trillium V Voyager Wright_Exp'\n",
            " 'A D FuelMan M Trillium V Voyager Wright_Exp'\n",
            " 'A CFN Comdata D EFS FuelMan M V Voyager Wright_Exp'\n",
            " 'A CleanEnergy Comdata D EFS FleetOne FuelMan M Proprietor Speedway TCH Tchek V Voyager Wright_Exp'\n",
            " 'A CleanEnergy Comdata D EFS FuelMan M TCH Tchek V Voyager'\n",
            " 'A Comdata D FleetOne FuelMan M V Voyager Wright_Exp'\n",
            " 'A CFN Comdata M Tchek V Voyager Wright_Exp'\n",
            " 'A Comdata D FuelMan M Proprietor V Voyager Wright_Exp'\n",
            " 'A ANDROID_PAY APPLE_PAY Cash Checks Comdata D EFS FleetOne FuelMan M V Voyager Wright_Exp'\n",
            " 'A CFN CleanEnergy Comdata D Debit EFS FleetOne FuelMan GasCard M PacificPride PHH Speedway TCH Tchek V Voyager Wright_Exp'\n",
            " 'A CFN Comdata D EFS FleetOne M TCH Tchek V Wright_Exp'\n",
            " 'A Cash CFN D M V' 'A Cash D FuelMan M V' 'A D M Voyager' 'A FuelMan M V'\n",
            " 'A Cash Comdata D EFS FleetOne FuelMan M TCH Tchek V Voyager Wright_Exp'\n",
            " 'A Cash D GasCard M V' 'A Cash D M PHH V Voyager Wright_Exp'\n",
            " 'A Comdata D EFS FleetOne FuelMan M V Voyager Wright_Exp' 'A D V'\n",
            " 'A Cash Checks Comdata D FleetOne FuelMan M V Voyager Wright_Exp'\n",
            " 'Proprietor Voyager' 'FuelMan GasCard M V Wright_Exp'\n",
            " 'A D FuelMan M TCH Tchek Trillium V Voyager Wright_Exp'\n",
            " 'A CleanEnergy D FuelMan M TCH Tchek V Voyager Wright_Exp'\n",
            " 'A D EFS M Proprietor Trillium V Voyager Wright_Exp'\n",
            " 'A Comdata D EFS FuelMan M TCH Tchek Trillium V Voyager Wright_Exp'\n",
            " 'A CFN Comdata D EFS FleetOne GasCard M TCH Tchek V Voyager Wright_Exp'\n",
            " 'A Cash Checks CleanEnergy Comdata D EFS FleetOne FuelMan M Proprietor TCH V Voyager Wright_Exp'\n",
            " 'A CleanEnergy Comdata D EFS FleetOne FuelMan M Proprietor TCH Tchek V Voyager Wright_Exp'\n",
            " 'A Cash CREDIT D Debit FuelMan M V Voyager Wright_Exp'\n",
            " 'A CFN Comdata D EFS FleetOne FuelMan GasCard M Proprietor TCH Tchek V Voyager Wright_Exp'\n",
            " 'A Comdata D M Proprietor V Voyager Wright_Exp' 'A Comdata D FuelMan M V'\n",
            " 'A Cash D M Voyager Wright_Exp' 'A Cash CFN D M PHH V Voyager Wright_Exp'\n",
            " 'D M Proprietor V Voyager Wright_Exp' 'Proprietor Voyager Wright_Exp'\n",
            " 'CFN CREDIT FuelMan V'\n",
            " 'A Cash Checks Comdata D FleetOne FuelMan M Tchek V Voyager Wright_Exp'\n",
            " 'A CFN Comdata D FuelMan M PHH V Voyager Wright_Exp'\n",
            " 'FuelMan GasCard M V Voyager Wright_Exp'\n",
            " 'A CleanEnergy Comdata D EFS FuelMan M Speedway TCH Tchek V'\n",
            " 'A CleanEnergy Comdata D EFS FleetOne FuelMan M Speedway TCH Tchek Voyager Wright_Exp'\n",
            " 'A Cash CFN Checks D M V'\n",
            " 'A CFN D FleetOne FuelMan GasCard M V Voyager Wright_Exp' 'D Debit M V'\n",
            " 'A D Debit M V Voyager Wright_Exp'\n",
            " 'CleanEnergy Comdata FleetOne FuelMan M V Voyager Wright_Exp'\n",
            " 'Cash M V Wright_Exp'\n",
            " 'A Comdata D EFS FleetOne FuelMan GasCard M PacificPride PHH Speedway V Voyager Wright_Exp'\n",
            " 'A Cash Comdata D FleetOne M V Wright_Exp'\n",
            " 'A Cash D FuelMan M Proprietor V Wright_Exp'\n",
            " 'A D EFS FuelMan M Trillium V Voyager Wright_Exp'\n",
            " 'A CFN D EFS FleetOne FuelMan GasCard M TCH Tchek V Voyager Wright_Exp'\n",
            " 'A Comdata EFS FuelMan GasCard M TCH Tchek V Wright_Exp'\n",
            " 'Comdata D FuelMan M V Voyager Wright_Exp'\n",
            " 'A D EFS M TCH Tchek Trillium V Voyager'\n",
            " 'A CleanEnergy Comdata D EFS FleetOne FuelMan M Proprietor Speedway SuperPass TCH V Voyager Wright_Exp'\n",
            " 'A Cash Comdata D EFS FleetOne M Tchek V'\n",
            " 'A CleanEnergy D EFS M Proprietor Tchek V Voyager Wright_Exp'\n",
            " 'A Cash Comdata D M V' 'A Cash Checks D FuelMan GasCard M V'\n",
            " 'A Cash Checks Comdata D M V Wright_Exp'\n",
            " 'A Comdata D EFS FleetOne FuelMan M Proprietor TCH Tchek V Voyager Wright_Exp'\n",
            " 'A Cash Checks D M Speedway V Voyager Wright_Exp'\n",
            " 'A APPLE_PAY Cash D Debit EFS FleetOne M TCH Tchek V Voyager Wright_Exp'\n",
            " 'A Comdata D M V' 'A Cash D Debit FuelMan M V'\n",
            " 'A Cash Comdata D FleetOne M V Voyager Wright_Exp'\n",
            " 'A CleanEnergy Comdata D M V Voyager Wright_Exp'\n",
            " 'A Cash Checks D Debit M V Voyager' 'A D FleetOne M V'\n",
            " 'A ANDROID_PAY APPLE_PAY Cash Checks D M Proprietor V Voyager Wright_Exp'\n",
            " 'A Debit M V' 'Cash CREDIT' 'A D FuelMan M V Voyager'\n",
            " 'A Cash CFN D Debit EFS FleetOne FuelMan M PacificPride TCH Tchek V Voyager Wright_Exp'\n",
            " 'A Cash CFN D Debit EFS FuelMan M PacificPride TCH Tchek V Voyager Wright_Exp'\n",
            " 'A Comdata D M V Voyager' 'Comdata M V'\n",
            " 'A Comdata D Debit FuelMan M V Wright_Exp'\n",
            " 'A Cash Checks D Debit FuelMan M V'\n",
            " 'A ALLIANCE Cash D M V Voyager Wright_Exp'\n",
            " 'A CleanEnergy D FleetOne M Proprietor Tchek V Voyager Wright_Exp'\n",
            " 'A Cash CFN Checks D FleetOne GasCard M V Voyager Wright_Exp'\n",
            " 'A ANDROID_PAY APPLE_PAY Cash D EFS FleetOne FuelMan M TCH Tchek V Voyager Wright_Exp'\n",
            " 'A Cash Checks CREDIT D Debit M V Voyager' 'A CleanEnergy D M V'\n",
            " 'Cash Checks D M V Voyager Wright_Exp'\n",
            " 'A Cash CFN Checks D Debit M V Voyager Wright_Exp'\n",
            " 'A Cash Checks M V Voyager Wright_Exp'\n",
            " 'A Cash Checks D M Voyager Wright_Exp'\n",
            " 'A Cash Checks Comdata D Debit FleetOne FuelMan M V Voyager Wright_Exp'\n",
            " 'Cash Checks D FleetOne FuelMan M PHH Tchek Voyager Wright_Exp'\n",
            " 'APPLE_PAY' 'A Cash Checks D GasCard M PHH V Voyager Wright_Exp'\n",
            " 'A D M Trillium V' 'FuelMan M Proprietor V Voyager Wright_Exp'\n",
            " 'A ANDROID_PAY APPLE_PAY Cash D FuelMan M Proprietor V Voyager Wright_Exp'\n",
            " 'CREDIT D FuelMan M V' 'A Cash Checks D M' 'M Trillium V Voyager'\n",
            " 'A D EFS FuelMan GasCard M Tchek V Voyager Wright_Exp'\n",
            " 'A Cash D FuelMan M PacificPride V Voyager Wright_Exp'\n",
            " 'A Comdata D FleetOne M V Voyager' 'A D M Trillium Voyager Wright_Exp'\n",
            " 'A Comdata D EFS FuelMan M Proprietor V Voyager Wright_Exp'\n",
            " 'A Cash CREDIT D M V Voyager Wright_Exp'\n",
            " 'A CleanEnergy FleetOne M V Voyager Wright_Exp'\n",
            " 'A Comdata D EFS M V Voyager Wright_Exp'\n",
            " 'A Cash D FuelMan M Voyager Wright_Exp'\n",
            " 'CFN Comdata FleetOne FuelMan M V Voyager Wright_Exp'\n",
            " 'A Cash CFN D FleetOne FuelMan M V Voyager Wright_Exp' 'A Cash Debit M V'\n",
            " 'A ARI Cash Comdata Debit M PHH Proprietor TCH V'\n",
            " 'A ARI Cash CFN D Debit EFS FleetOne M PHH Proprietor Speedway SuperPass V Voyager Wright_Exp'\n",
            " 'A Cash Debit FleetOne M TCH Tchek V'\n",
            " 'A ARI Cash Comdata D Debit M PHH V Wright_Exp'\n",
            " 'A Cash Comdata Debit EFS M PHH TCH Tchek V Wright_Exp'\n",
            " 'A ARI Cash CFN Comdata D Debit EFS M PacificPride TCH V Wright_Exp'\n",
            " 'A Cash D Debit FleetOne M V' 'A ARI Cash D Debit M PHH V'\n",
            " 'A ALLIANCE ARI Cash CFN Comdata D Debit EFS FleetOne FuelMan GasCard M PacificPride PHH Proprietor Speedway SuperPass TCH Tchek V Voyager Wright_Exp'\n",
            " 'A Cash CFN Comdata Debit EFS M PacificPride PHH TCH Tchek V Wright_Exp'\n",
            " 'A ARI Cash Comdata D Debit M PHH Proprietor V'\n",
            " 'A ARI Cash CFN Comdata Debit M PHH Proprietor TCH V Wright_Exp'\n",
            " 'A Cash CFN Comdata D Debit EFS M PacificPride Proprietor V Wright_Exp'\n",
            " 'A ARI Cash CFN Comdata Debit EFS M PacificPride TCH Tchek V Wright_Exp'\n",
            " 'A ARI Cash CFN Comdata D Debit EFS M PacificPride PHH V Wright_Exp'\n",
            " 'Speedway' 'A ARI Cash Debit M PHH Proprietor V'\n",
            " 'A Cash CFN Comdata D EFS M PacificPride PHH Proprietor TCH Tchek V Wright_Exp'\n",
            " 'A Cash CFN Comdata Debit EFS M PacificPride Proprietor TCH Tchek V Wright_Exp'\n",
            " 'A Cash CFN Comdata Debit EFS M PacificPride TCH Tchek V Wright_Exp'\n",
            " 'A Cash Debit M Proprietor V'\n",
            " 'A ARI Cash Debit EFS M PacificPride Proprietor SuperPass V Wright_Exp'\n",
            " 'A Cash CFN Comdata D Debit EFS M PacificPride PHH TCH Tchek V Wright_Exp'\n",
            " 'A Cash CFN Comdata Debit EFS M PacificPride Proprietor V Wright_Exp'\n",
            " 'A ARI Cash CFN Comdata D Debit EFS M PacificPride SuperPass Tchek V Wright_Exp'\n",
            " 'A ARI Cash CFN Comdata D Debit EFS M PacificPride SuperPass TCH Tchek V Wright_Exp'\n",
            " 'A ARI Cash CFN CleanEnergy Debit M PHH Proprietor SuperPass V'\n",
            " 'A Cash Debit M PHH V'\n",
            " 'A ARI Cash CFN Comdata Debit EFS M PacificPride PHH Proprietor TCH V Wright_Exp'\n",
            " 'A Cash CFN Comdata D Debit EFS M PacificPride PHH TCH Tchek V'\n",
            " 'A Cash CFN Comdata Debit EFS M PacificPride PHH Proprietor TCH V Wright_Exp'\n",
            " 'A ARI Cash CFN Comdata Debit EFS FleetOne M PacificPride PHH Proprietor TCH Tchek V Wright_Exp'\n",
            " 'A Cash Comdata Debit M V' 'Cash Debit M Proprietor V' 'CREDIT Debit M'\n",
            " 'A ARI Cash Debit M PHH V' 'A Cash Comdata D Debit EFS M V'\n",
            " 'A ARI Cash D Debit M PHH SuperPass V'\n",
            " 'A ARI Cash CFN Comdata D Debit EFS M SuperPass TCH Tchek V'\n",
            " 'A Cash Debit M Proprietor SuperPass V' 'A Cash Debit EFS M SuperPass V'\n",
            " 'A Cash D Debit M PHH V' 'A GasCard M V' 'GasCard'\n",
            " 'A Cash Debit M PHH Proprietor V'\n",
            " 'A ARI Cash Checks D Debit EFS M PacificPride PHH Proprietor V Wright_Exp'\n",
            " 'A Cash CFN Comdata D Debit EFS M PacificPride V Wright_Exp'\n",
            " 'A ARI Cash Debit M V' 'A Cash CREDIT Debit M V'\n",
            " 'A ARI Cash Comdata D Debit M PHH Proprietor V Wright_Exp'\n",
            " 'A Cash CFN Comdata Debit EFS M PacificPride SuperPass V Wright_Exp'\n",
            " 'A Cash CFN Comdata D Debit EFS M PacificPride PHH SuperPass V Wright_Exp'\n",
            " 'A ARI Cash CFN Comdata D Debit EFS M PacificPride PHH SuperPass TCH Tchek V Wright_Exp'\n",
            " 'A Cash Debit M SuperPass V'\n",
            " 'A Cash CFN Comdata Debit EFS M PacificPride V Wright_Exp'\n",
            " 'A Cash D Debit M SuperPass V' 'A Cash Debit M PHH SuperPass V'\n",
            " 'A ARI Cash CFN Comdata Debit M PHH Proprietor V Wright_Exp'\n",
            " 'A ARI Cash CFN Comdata D Debit EFS M PacificPride PHH Proprietor TCH Tchek V Wright_Exp'\n",
            " 'A Cash CFN Comdata CREDIT D Debit EFS M PacificPride PHH TCH Tchek V Wright_Exp'\n",
            " 'A ARI Cash CFN Comdata CREDIT Debit EFS M PacificPride PHH TCH Tchek V'\n",
            " 'A ARI Cash CREDIT Debit M V'\n",
            " 'A ARI Cash Comdata CREDIT Debit EFS FleetOne M TCH Tchek V'\n",
            " 'A ARI Cash Comdata CREDIT Debit EFS FleetOne M PHH TCH Tchek V'\n",
            " 'A ARI Cash CFN Comdata CREDIT D Debit EFS FleetOne M PacificPride PHH SuperPass TCH Tchek V Wright_Exp'\n",
            " 'A ARI Cash CREDIT Debit M PHH Proprietor V'\n",
            " 'A Cash CFN Comdata CREDIT D Debit EFS M PacificPride PHH Proprietor TCH Tchek V Wright_Exp'\n",
            " 'A ARI Cash CFN Comdata Debit EFS M PacificPride PHH TCH Tchek V Wright_Exp'\n",
            " 'A ARI Cash CREDIT Debit EFS M TCH V Wright_Exp'\n",
            " 'A ARI Cash CFN Comdata Debit EFS M PacificPride SuperPass TCH Tchek V Wright_Exp'\n",
            " 'A ARI Cash CFN Comdata Debit EFS M PacificPride PHH SuperPass TCH Tchek V Wright_Exp'\n",
            " 'A ARI Cash Debit EFS M PacificPride PHH Proprietor SuperPass TCH Tchek V Wright_Exp'\n",
            " 'A ARI Cash CFN Comdata Debit EFS M PacificPride PHH V Wright_Exp'\n",
            " 'A Cash D Debit M PHH Proprietor V'\n",
            " 'A Cash CFN Comdata D Debit EFS M PacificPride Proprietor TCH Tchek V Wright_Exp'\n",
            " 'A Cash CFN Comdata Debit EFS M Proprietor V Wright_Exp'\n",
            " 'A Cash CFN Debit M PacificPride PHH Proprietor V'\n",
            " 'A ARI Cash CFN Comdata D Debit EFS FleetOne M PacificPride PHH SuperPass TCH Tchek V Wright_Exp'\n",
            " 'Comdata EFS TCH Tchek'\n",
            " 'A Cash CFN Debit M Proprietor TCH Tchek V Wright_Exp'\n",
            " 'A ARI Cash CFN Checks CleanEnergy Comdata D Debit M PHH Proprietor SuperPass TCH V'\n",
            " 'A Cash CREDIT D Debit M V'\n",
            " 'A Cash CFN Comdata Debit EFS M PacificPride PHH Proprietor TCH Tchek V Wright_Exp'\n",
            " 'A ARI Cash Comdata D Debit EFS FleetOne M PHH TCH Tchek V'\n",
            " 'A ARI Cash Comdata Debit EFS FleetOne M PHH Proprietor TCH Tchek V'\n",
            " 'A Cash Comdata Debit FleetOne M Tchek V'\n",
            " 'ARI Cash CFN Comdata D Debit EFS FleetOne M PacificPride PHH TCH Tchek V Wright_Exp'\n",
            " 'A ARI Cash Comdata CREDIT D Debit M V'\n",
            " 'A ARI Cash CFN Comdata Debit EFS FleetOne M PacificPride PHH TCH Tchek V Wright_Exp'\n",
            " 'A ARI Cash CFN Comdata CREDIT Debit EFS FleetOne M PacificPride PHH Proprietor SuperPass TCH Tchek V Wright_Exp'\n",
            " 'A ARI Cash Debit M Proprietor SuperPass V'\n",
            " 'A ARI Cash CFN Comdata D Debit EFS FleetOne M PacificPride PHH TCH Tchek V Wright_Exp'\n",
            " 'A Cash CFN Comdata Debit EFS M PacificPride PHH Proprietor SuperPass TCH Tchek V Wright_Exp'\n",
            " 'A ARI Cash CREDIT Debit EFS M PacificPride TCH V Wright_Exp'\n",
            " 'A Cash CREDIT Debit M PHH SuperPass V' 'Cash CREDIT Debit M V'\n",
            " 'Cash CREDIT Debit' 'Cash Debit EFS M V' 'V'\n",
            " 'A ARI Cash CFN Comdata Debit EFS M PacificPride V Wright_Exp'\n",
            " 'ARI Cash Debit M PHH V'\n",
            " 'A Cash CFN Comdata Debit EFS M PHH SuperPass TCH Tchek V Wright_Exp'\n",
            " 'A Cash CFN Comdata D Debit EFS M PacificPride PHH Proprietor TCH Tchek V Wright_Exp'\n",
            " 'A ARI Cash Comdata Debit M PHH V'\n",
            " 'Cash CFN Comdata Debit EFS M PacificPride PHH TCH Tchek V Wright_Exp'\n",
            " 'CFN Debit M PacificPride V Wright_Exp'\n",
            " 'A Cash CFN Comdata D Debit EFS M PacificPride PHH V Wright_Exp'\n",
            " 'A ARI Cash Comdata Debit M PHH V Wright_Exp'\n",
            " 'A Cash CFN Checks D Debit M PHH TCH V'\n",
            " 'A ARI Cash CFN Comdata D Debit EFS M PacificPride Proprietor Speedway SuperPass TCH Tchek V Wright_Exp'\n",
            " 'A ARI Cash CFN Comdata CREDIT Debit EFS M PacificPride PHH Proprietor TCH Tchek V Wright_Exp'\n",
            " 'A ARI Cash D Debit M PHH Proprietor V'\n",
            " 'A Cash CFN Comdata Debit M PacificPride PHH TCH Tchek V'\n",
            " 'A ARI Cash CFN Comdata D Debit EFS FleetOne M PacificPride PHH Proprietor TCH Tchek V Wright_Exp'\n",
            " 'A D FuelMan M Voyager Wright_Exp'\n",
            " 'A Comdata D Debit EFS FuelMan M Proprietor TCH Tchek V Wright_Exp'\n",
            " 'A D Debit FuelMan M V'\n",
            " 'A ANDROID_PAY APPLE_PAY Cash D Debit EFS M V Voyager Wright_Exp'\n",
            " 'Cash Comdata Debit M V' 'Cash Debit M Proprietor TCH V'\n",
            " 'A ARI Cash D Debit EFS M V'\n",
            " 'A ARI Cash CFN Comdata Debit EFS M PHH SuperPass TCH Tchek V Wright_Exp'\n",
            " 'A ARI Cash CFN D Debit EFS M PHH Speedway SuperPass V'\n",
            " 'A ARI Cash D Debit M Proprietor V' 'A ARI D Debit M V'\n",
            " 'A ARI Cash CFN Comdata Debit EFS M PacificPride PHH TCH Tchek V'\n",
            " 'Cash M PHH V' 'Cash Debit M PHH Proprietor V'\n",
            " 'A Cash CREDIT Debit M SuperPass V' 'Cash Debit M PHH V'\n",
            " 'Cash Debit M PHH Proprietor Speedway SuperPass V'\n",
            " 'Cash CREDIT Debit M Proprietor V' 'A Cash CREDIT D Debit M Proprietor V'\n",
            " 'A Cash CREDIT Debit M PHH V' 'A Cash Checks CREDIT Debit M V'\n",
            " 'A ARI Cash CFN Comdata CREDIT D Debit EFS FleetOne M PacificPride PHH V Wright_Exp'\n",
            " 'A ALLIANCE ARI Cash CFN Checks CleanEnergy Comdata EFS FleetOne FuelMan GasCard M PacificPride PHH Proprietor Speedway SuperPass TCH Tchek Trillium V Voyager Wright_Exp'\n",
            " 'ARI Cash CFN Comdata Debit M PHH Proprietor V'\n",
            " 'A ARI Cash Checks D Debit M V' 'Cash Checks CREDIT Debit Proprietor'\n",
            " 'A ARI Cash CFN Comdata Debit M SuperPass V'\n",
            " 'ARI Cash Debit M PHH Proprietor V' 'ARI Comdata Proprietor'\n",
            " 'Cash CREDIT Debit M PHH Proprietor V' 'Cash CREDIT D Debit M'\n",
            " 'A ARI Cash Debit M PacificPride PHH V'\n",
            " 'A ARI Cash D Debit M PacificPride PHH V' 'ARI Cash Debit M V'\n",
            " 'ARI Cash CFN Comdata Debit M PHH TCH V'\n",
            " 'A ARI Cash D Debit M PacificPride Proprietor TCH V'\n",
            " 'A ARI Cash CFN CleanEnergy Debit M PHH Proprietor SuperPass TCH V'\n",
            " 'ALLIANCE Cash Checks CREDIT Debit M Proprietor V'\n",
            " 'A ALLIANCE Cash Checks CREDIT Debit Proprietor'\n",
            " 'ARI Cash Checks Comdata Debit M PHH Proprietor V'\n",
            " 'A ARI Cash Checks Comdata Debit M PacificPride PHH V'\n",
            " 'A ARI Cash Comdata Debit M PHH Proprietor V'\n",
            " 'A CFN Comdata D Debit FuelMan M V Voyager Wright_Exp'\n",
            " 'A ANDROID_PAY APPLE_PAY Cash D Debit M V Voyager Wright_Exp'\n",
            " 'A CleanEnergy Comdata FleetOne M Proprietor V Voyager Wright_Exp'\n",
            " 'A CleanEnergy Comdata D EFS FuelMan M TCH Tchek V Voyager Wright_Exp'\n",
            " 'A CFN Comdata D FleetOne GasCard M V Voyager Wright_Exp'\n",
            " 'A Cash D Debit M Proprietor V Voyager Wright_Exp'\n",
            " 'A Cash Checks Debit M Proprietor V'\n",
            " 'Comdata D Debit M V Voyager Wright_Exp'\n",
            " 'A Comdata D FleetOne FuelMan M Proprietor V Voyager Wright_Exp'\n",
            " 'A Comdata D Debit M V Voyager Wright_Exp' 'A Debit M Proprietor V'\n",
            " 'ARI Cash Comdata Debit EFS FleetOne M PacificPride PHH Proprietor V'\n",
            " 'Cash Checks CREDIT Debit M V'\n",
            " 'A Cash Checks Comdata D Debit M V Voyager Wright_Exp' 'CFN PacificPride'\n",
            " 'A ARI D Debit EFS M V'\n",
            " 'A ANDROID_PAY APPLE_PAY Cash Checks Comdata CREDIT D Debit EFS FleetOne FuelMan M TCH Tchek V Voyager Wright_Exp'\n",
            " 'A Cash Checks Debit M' 'A Cash Debit FleetOne M Proprietor V'\n",
            " 'A Cash D Debit M PHH Proprietor TCH V'\n",
            " 'A Cash CFN Comdata Debit M PHH Proprietor TCH V'\n",
            " 'A ARI Cash CFN Debit M PHH Proprietor TCH V'\n",
            " 'A Cash CFN CleanEnergy Debit M Proprietor TCH V'\n",
            " 'A Cash CFN CleanEnergy Comdata Debit M PHH Proprietor TCH V'\n",
            " 'A ARI Cash CFN Comdata Debit M PHH Proprietor SuperPass TCH V'\n",
            " 'A ARI Cash CFN Comdata Debit M PHH Proprietor TCH V'\n",
            " 'A Cash Debit M PacificPride Proprietor TCH V'\n",
            " 'A Cash CleanEnergy Debit M PacificPride Proprietor TCH V'\n",
            " 'A ARI Cash CFN Comdata Debit M PHH Proprietor V'\n",
            " 'A Cash CFN Comdata Debit M Proprietor TCH V'\n",
            " 'A Cash CFN CleanEnergy Comdata D Debit EFS M PHH V'\n",
            " 'A Cash CFN CleanEnergy Comdata Debit M PHH Proprietor SuperPass TCH V'\n",
            " 'A ARI Cash CFN Comdata Debit EFS M PHH Proprietor V'\n",
            " 'A Cash CFN Comdata Debit EFS M PHH Proprietor TCH V'\n",
            " 'A ARI Cash CFN Checks Comdata Debit EFS M PHH Proprietor V Wright_Exp'\n",
            " 'A ARI Cash D Debit M PHH Proprietor TCH V'\n",
            " 'A ARI Cash CFN Debit EFS M PHH Proprietor TCH V'\n",
            " 'A ARI Cash Comdata Debit M PHH Proprietor V Wright_Exp'\n",
            " 'A Cash CFN CleanEnergy Comdata Debit M PHH Proprietor SuperPass V'\n",
            " 'A Cash CFN CleanEnergy Comdata Debit M Proprietor TCH V'\n",
            " 'A ARI Cash CFN CleanEnergy Comdata Debit M PHH Proprietor V'\n",
            " 'A Cash Comdata Debit M PacificPride Proprietor TCH V'\n",
            " 'A Cash CleanEnergy Comdata Debit M PHH Proprietor TCH V'\n",
            " 'A Cash D Debit M Proprietor TCH V'\n",
            " 'A Cash CFN CleanEnergy Comdata Debit M PacificPride PHH Proprietor SuperPass V'\n",
            " 'A ARI Cash CFN Comdata Debit M Proprietor V'\n",
            " 'A Cash CFN Comdata Debit M PHH V'\n",
            " 'A ARI Cash Debit M PHH Proprietor TCH V'\n",
            " 'A Cash CFN CleanEnergy Comdata Debit M PHH Proprietor V'\n",
            " 'A Cash CFN Comdata Debit EFS M PHH Proprietor V'\n",
            " 'A Cash Checks Comdata Debit M PacificPride Proprietor TCH V'\n",
            " 'A ARI Cash CFN Comdata Debit M PHH Proprietor SuperPass TCH V Wright_Exp'\n",
            " 'A Cash CFN Comdata Debit M PHH Proprietor V'\n",
            " 'A Cash Debit EFS M V Wright_Exp'\n",
            " 'A ARI Cash CFN Debit M Proprietor TCH V'\n",
            " 'A Cash D Debit FuelMan M TCH Tchek V Wright_Exp'\n",
            " 'A APPLE_PAY Cash Checks D Debit EFS FleetOne M TCH Tchek V Voyager Wright_Exp'\n",
            " 'A D Debit V'\n",
            " 'A Cash CFN Checks Comdata D Debit EFS FleetOne FuelMan M Proprietor TCH Tchek V Voyager Wright_Exp'\n",
            " 'A Cash D Debit FleetOne FuelMan M V Voyager Wright_Exp'\n",
            " 'A CFN Comdata D EFS FleetOne FuelMan M Proprietor TCH Tchek V Voyager Wright_Exp'\n",
            " 'A Cash Checks D Debit FleetOne FuelMan M V Voyager Wright_Exp'\n",
            " 'A Cash Comdata D Debit EFS FleetOne M Tchek V Voyager Wright_Exp'\n",
            " 'A Cash CFN D Debit M V Wright_Exp'\n",
            " 'A Cash D Debit GasCard M V Wright_Exp'\n",
            " 'A Cash D Debit FleetOne M TCH Tchek V Voyager Wright_Exp'\n",
            " 'A Cash Checks CREDIT D Debit FleetOne FuelMan M V Voyager Wright_Exp'\n",
            " 'A Cash D Debit FleetOne FuelMan M V' 'Checks'\n",
            " 'Cash Checks Debit M PHH V' 'A ALLIANCE Cash Checks D Debit M V'\n",
            " 'A Cash Checks D Debit M Proprietor V'\n",
            " 'A Cash Checks Comdata D Debit FuelMan M V Voyager Wright_Exp'\n",
            " 'A Comdata D Debit FuelMan M V Voyager Wright_Exp'\n",
            " 'A D Debit FuelMan M V Voyager Wright_Exp' 'Comdata Proprietor'\n",
            " 'A Cash Comdata D Debit EFS M TCH Tchek V Wright_Exp' 'CFN V'\n",
            " 'A D Debit FleetOne M V Voyager Wright_Exp'\n",
            " 'A ANDROID_PAY APPLE_PAY Cash Checks CREDIT D Debit FleetOne M V Voyager Wright_Exp'\n",
            " 'A Cash D Debit FleetOne GasCard M V Voyager Wright_Exp'\n",
            " 'A ARI Cash CFN Comdata D Debit EFS M PHH Proprietor SuperPass TCH V Wright_Exp'\n",
            " 'A M V Wright_Exp' 'A ARI Cash Debit FleetOne M PHH V'\n",
            " 'A APPLE_PAY Cash Checks Comdata D Debit EFS FleetOne M TCH Tchek V Voyager Wright_Exp'\n",
            " 'A Cash Comdata D Debit FleetOne M TCH Tchek V' 'Cash Debit V'\n",
            " 'A Cash CFN D Debit FleetOne M V'\n",
            " 'A Cash Checks D Debit EFS FleetOne M TCH Tchek V Voyager Wright_Exp'\n",
            " 'A ANDROID_PAY APPLE_PAY Cash Checks D Debit EFS FleetOne M TCH Tchek V Voyager Wright_Exp'\n",
            " 'A ANDROID_PAY APPLE_PAY Cash Comdata D EFS FleetOne M TCH Tchek Trillium V Voyager Wright_Exp'\n",
            " 'Cash CFN Checks M Proprietor V Voyager Wright_Exp'\n",
            " 'A Cash CFN Comdata D Debit EFS FleetOne FuelMan GasCard M PacificPride PHH Proprietor Speedway SuperPass TCH Tchek V Voyager Wright_Exp'\n",
            " 'A ANDROID_PAY APPLE_PAY Cash CFN Checks D Debit EFS FleetOne FuelMan M Proprietor TCH Tchek V Voyager Wright_Exp'\n",
            " 'A CFN Comdata D FleetOne FuelMan GasCard M Proprietor V Voyager Wright_Exp'\n",
            " 'ACCOUNT_BALANCE' 'A ANDROID_PAY APPLE_PAY Cash D Debit M V'\n",
            " 'A CFN Comdata D Debit EFS FleetOne FuelMan M PacificPride TCH Tchek V Voyager'\n",
            " 'A ANDROID_PAY APPLE_PAY Cash Comdata D Debit EFS FleetOne FuelMan M TCH Tchek V Wright_Exp'\n",
            " 'A ANDROID_PAY APPLE_PAY Cash Comdata CREDIT D EFS FleetOne FuelMan M V Voyager Wright_Exp'\n",
            " 'CFN Debit M V' 'Debit M Proprietor V' 'A D Debit M Proprietor V'\n",
            " 'A Cash M V Voyager Wright_Exp' 'A APPLE_PAY D M V'\n",
            " 'Cash Debit M V Wright_Exp' 'A D Debit M' 'A CREDIT D Debit M Tchek V'\n",
            " 'A CREDIT D Debit M V'\n",
            " 'A ANDROID_PAY APPLE_PAY Cash Comdata D Debit EFS FleetOne M TCH Tchek V Voyager Wright_Exp'\n",
            " 'ANDROID_PAY APPLE_PAY D Debit M V' 'A D M Proprietor'\n",
            " 'A ANDROID_PAY APPLE_PAY Cash CREDIT D M V Voyager Wright_Exp'\n",
            " 'Cash Checks CREDIT'\n",
            " 'A D FuelMan M SuperPass Trillium V Voyager Wright_Exp'\n",
            " 'A Cash D Debit M Trillium V'\n",
            " 'A CREDIT D Debit FleetOne M V Voyager Wright_Exp' 'CFN FuelMan V'\n",
            " 'A ANDROID_PAY APPLE_PAY ARI Cash CREDIT D Debit M V'\n",
            " 'A ANDROID_PAY APPLE_PAY Cash CREDIT D Debit M V'\n",
            " 'A ACCOUNT_BALANCE ANDROID_PAY APPLE_PAY Cash CREDIT D Debit M V'\n",
            " 'A ACCOUNT_BALANCE CREDIT D Debit M V' 'APPLE_PAY Cash D Debit GasCard M'\n",
            " 'A Cash Checks D FleetOne M Proprietor TCH Tchek V Wright_Exp'\n",
            " 'CREDIT Debit Voyager' 'A ANDROID_PAY APPLE_PAY CREDIT D Debit M V'\n",
            " 'A ACCOUNT_BALANCE Cash Checks CREDIT D Debit M V'\n",
            " 'A Cash CREDIT D Debit M V Wright_Exp' 'Cash CREDIT D'\n",
            " 'ACCOUNT_BALANCE CREDIT D Debit M V' 'Cash CREDIT D Debit M V'\n",
            " 'A ACCOUNT_BALANCE D M V' 'ANDROID_PAY APPLE_PAY CREDIT'\n",
            " 'ANDROID_PAY APPLE_PAY' 'A Cash CREDIT D M V'\n",
            " 'A Cash Checks CREDIT D FleetOne M V Wright_Exp' 'APPLE_PAY CREDIT'\n",
            " 'A Cash CFN Checks Comdata CREDIT D Debit EFS FleetOne GasCard M TCH Tchek V Voyager Wright_Exp'\n",
            " 'A APPLE_PAY Cash CREDIT D Debit M V'\n",
            " 'A ANDROID_PAY APPLE_PAY Cash Checks CREDIT D Debit M V'\n",
            " 'A ANDROID_PAY APPLE_PAY Cash Checks Comdata CREDIT D FuelMan M TCH Tchek V Voyager'\n",
            " 'A ANDROID_PAY APPLE_PAY Cash Checks Comdata CREDIT D FleetOne FuelMan M TCH Tchek V Voyager'\n",
            " 'A Cash Comdata CREDIT D Debit EFS FleetOne FuelMan M TCH Tchek V Voyager'\n",
            " 'A ANDROID_PAY APPLE_PAY Cash CREDIT D Debit FleetOne FuelMan M V'\n",
            " 'A ANDROID_PAY APPLE_PAY Cash CREDIT Debit FleetOne FuelMan M V'\n",
            " 'A ANDROID_PAY APPLE_PAY Cash CREDIT D Debit FuelMan M V Voyager Wright_Exp'\n",
            " 'A ACCOUNT_BALANCE ALLIANCE Cash Checks CREDIT D Debit FuelMan GasCard M V'\n",
            " 'ANDROID_PAY APPLE_PAY Debit M V'\n",
            " 'ANDROID_PAY APPLE_PAY CREDIT D Debit M V'\n",
            " 'A ANDROID_PAY APPLE_PAY Cash CREDIT D Debit FuelMan M Proprietor V Voyager Wright_Exp'\n",
            " 'CREDIT M' 'A Cash Debit FuelMan M V Voyager Wright_Exp'\n",
            " 'A ANDROID_PAY APPLE_PAY CREDIT D M V'\n",
            " 'A CleanEnergy Debit M V Wright_Exp' 'ACCOUNT_BALANCE CREDIT'\n",
            " 'ACCOUNT_BALANCE APPLE_PAY CREDIT Debit' 'A CFN CREDIT D Debit M V'\n",
            " 'A Cash CREDIT M V' 'A ANDROID_PAY APPLE_PAY CREDIT Debit M V'\n",
            " 'A CREDIT D M V' 'ANDROID_PAY APPLE_PAY CREDIT Debit']\n",
            "\n",
            "\n",
            "\n",
            "Columna: NG PSI\n",
            "['3600' '3000' '3000 3600' nan 3600.0 3000.0]\n",
            "\n",
            "\n",
            "\n",
            "Columna: EV Other Info\n",
            "[nan '1 SP Inductive' '3 SP Inductive' '2 Tesla Conductive'\n",
            " '1 Tesla Conductive' '1 Conductive 120V' '7 Conductive 120V'\n",
            " '1 LP Inductive' 'DCFC' 'L2']\n",
            "\n",
            "\n",
            "\n",
            "Columna: EV Network\n",
            "[nan 'Non-Networked' 'Volta' 'EV Connect' 'POWERFLEX'\n",
            " 'ChargePoint Network' 'OpConnect' 'SemaCharge Network'\n",
            " 'Tesla Destination' 'Greenlots' 'EVGATEWAY' 'eVgo Network' 'Webasto'\n",
            " 'CHARGELAB' 'AMPUP' 'PETROCAN' 'FLO' 'Sun Country Highway'\n",
            " 'AddÉnergie Technologies' 'Tesla' 'BCHYDRO' 'SWTCH' 'EVCS'\n",
            " 'Blink Network' 'FCN' 'Electrify America' 'Circuit électrique'\n",
            " 'eCharge Network' 'IVY' 'Electrify Canada' 'FPLEV' 'ZEFNET' 'LIVINGSTON'\n",
            " 'RIVIAN_WAYPOINTS' 'RIVIAN_ADVENTURE']\n",
            "\n",
            "\n",
            "\n",
            "Columna: Geocode Status\n",
            "['200-9' '200-8' 'GPS' '200-6' '200-7' nan '200-5' '200-4']\n",
            "\n",
            "\n",
            "\n",
            "Columna: Date Last Confirmed\n",
            "['2022-06-14' '2021-08-04' '2021-05-06' '2021-09-10' '2021-10-12'\n",
            " '2022-07-12' '2022-05-05' '2021-11-04' '2021-12-09' '2022-04-06'\n",
            " '2020-08-05' '2021-04-08' '2022-03-07' '2022-01-10' '2021-07-14'\n",
            " '2021-06-07' '2021-03-15' '2020-11-09' '2020-02-06' '2020-12-03'\n",
            " '2021-01-14' '2020-07-13' '2020-05-06' '2020-04-08' '2020-09-03'\n",
            " '2022-02-10' '2020-03-03' '2019-12-12' '2021-02-22' '2020-06-09'\n",
            " '2017-06-02' '2020-10-09' '2021-02-15' '2022-07-25' '2019-07-09'\n",
            " '2019-10-04' '2022-05-07' '2020-01-13' '2019-02-06' '2020-03-30'\n",
            " '2021-11-02' '2022-04-13' '2020-10-07' '2021-12-13' '2018-05-07'\n",
            " '2022-07-08' '2022-01-11' '2022-03-04' '2019-04-09' '2019-08-09'\n",
            " '2018-06-11' '2019-11-08' '2020-04-10' '2022-06-10' '2021-09-09'\n",
            " '2021-07-15' '2021-08-03' '2020-01-06' '2019-01-14' '2017-09-06'\n",
            " '2018-03-29' '2019-10-10' '2017-05-11' '2019-09-11' '2021-02-12'\n",
            " '2021-04-12' '2020-01-30' '2018-11-12' '2019-12-09' '2020-03-05'\n",
            " '2019-06-06' '2020-08-10' '2021-03-11' '2018-02-06' '2021-10-11'\n",
            " '2017-10-03' '2018-03-08' '2018-01-03' '2019-07-10' '2017-12-05'\n",
            " '2019-03-11' '2020-06-08' '2021-01-07' '2018-08-07' '2020-05-15'\n",
            " '2022-07-24' '2019-09-09' '2020-11-03' '2019-09-30' '2019-03-07' nan\n",
            " '2019-05-07' '2020-12-08']\n",
            "\n",
            "\n",
            "\n",
            "Columna: Updated At\n",
            "['2022-06-14 16:22:47 UTC' '2022-02-10 19:42:29 UTC'\n",
            " '2022-07-12 20:31:42 UTC' ... '2022-07-21 23:36:41 UTC'\n",
            " '2022-07-21 23:39:19 UTC' '2022-07-25 01:14:30 UTC']\n",
            "\n",
            "\n",
            "\n",
            "Columna: Owner Type Code\n",
            "['T' 'P' 'LG' 'SG' 'FG' nan 'J']\n",
            "\n",
            "\n",
            "\n",
            "Columna: Federal Agency ID\n",
            "[nan 26. 16.  5. 22.  6.  8. 14.  9. 24. 19. 23. 12. 10.  7.  4. 21. 29.\n",
            " 18.  3. 20. 17. 25. 15. 60.  2. 13.]\n",
            "\n",
            "\n",
            "\n",
            "Columna: Federal Agency Name\n",
            "[nan 'United States Marine Corps' 'Department of the Interior'\n",
            " 'Department of Air Force' 'National Aeronautics and Space Administration'\n",
            " 'Department of Army' 'U.S. Department of Energy' 'Department of Navy'\n",
            " 'Department of Health and Human Services'\n",
            " 'Social Security Administration' 'Department of Veterans Affairs'\n",
            " 'Smithsonian Institution' 'Department of Justice'\n",
            " 'Department of Homeland Security' 'Department of Commerce'\n",
            " 'U.S. Department of Agriculture' 'General Services Administration'\n",
            " 'U.S. Department of Defense' 'Department of Treasury' 'Defense Agencies'\n",
            " 'U.S. Environmental Protection Agency' 'Department of Transportation'\n",
            " 'U.S. Postal Service' 'Department of State' 'Transport'\n",
            " 'Corps of Engineers, Civil Works' 'Department of Labor']\n",
            "\n",
            "\n",
            "\n",
            "Columna: NG Vehicle Class\n",
            "['MD' 'LD' 'HD' nan]\n",
            "\n",
            "\n",
            "\n",
            "Columna: LPG Primary\n",
            "[nan True]\n",
            "\n",
            "\n",
            "\n",
            "Columna: Access Code\n",
            "['private' 'public']\n",
            "\n",
            "\n",
            "\n",
            "Columna: Access Detail Code\n",
            "[nan 'KEY_ALWAYS' 'GOVERNMENT' 'CREDIT_CARD_ALWAYS' 'FLEET'\n",
            " 'CREDIT_CARD_AFTER_HOURS' 'CALL' 'KEY_AFTER_HOURS' 'LIMITED_HOURS'\n",
            " 'RESIDENTIAL']\n",
            "\n",
            "\n",
            "\n",
            "Columna: Federal Agency Code\n",
            "[nan 'USMC' 'DOI' 'DAF' 'NASA' 'DA' 'DOE' 'DON' 'HHS' 'SSA' 'VA' 'SI'\n",
            " 'DOJ' 'DHS' 'DOC' 'USDA' 'GSA' 'DOD' 'DTS' 'DEF' 'EPA' 'DOT' 'USPS' 'DOS'\n",
            " 'TRANS' 'USACE_CW' 'DOL']\n",
            "\n",
            "\n",
            "\n",
            "Columna: Facility Type\n",
            "['STANDALONE_STATION' 'FLEET_GARAGE' 'UTILITY' 'AIRPORT'\n",
            " 'CONVENIENCE_STORE' 'MUNI_GOV' 'GAS_STATION' 'SCHOOL' 'OFFICE_BLDG'\n",
            " 'RENTAL_CAR_RETURN' 'STATE_GOV' 'TRAVEL_CENTER' 'COLLEGE_CAMPUS'\n",
            " 'MIL_BASE' 'COOP' 'TRUCK_STOP' 'PARKING_GARAGE' 'HOSPITAL' 'CAR_DEALER'\n",
            " 'SHOPPING_MALL' 'HOTEL' 'SHOPPING_CENTER' 'PARKING_LOT' 'FUEL_RESELLER'\n",
            " 'RV_PARK' 'PAY_GARAGE' 'REC_SPORTS_FACILITY' 'PARK' 'CARWASH' 'NATL_PARK'\n",
            " 'HARDWARE_STORE' 'LIBRARY' 'RESEARCH_FACILITY' 'FED_GOV' 'PRISON'\n",
            " 'GROCERY' 'OTHER_ENTERTAINMENT' 'MUSEUM' 'REST_STOP' 'PAY_LOT'\n",
            " 'PLACE_OF_WORSHIP' nan 'RESTAURANT' 'BANK' 'B_AND_B' 'STREET_PARKING'\n",
            " 'FIRE_STATION' 'BREWERY_DISTILLERY_WINERY' 'STORAGE' 'CAMPGROUND'\n",
            " 'AUTO_REPAIR' 'CONVENTION_CENTER' 'OTHER' 'INN' 'MULTI_UNIT_DWELLING'\n",
            " 'ARENA' 'PHARMACY' 'MOTOR_POOL' 'RETAIL' 'FACTORY' 'STADIUM' 'PUBLIC'\n",
            " 'WORKPLACE']\n",
            "\n",
            "\n",
            "\n",
            "Columna: CNG Fill Type Code\n",
            "['B' 'Q' 'T' nan]\n",
            "\n",
            "\n",
            "\n",
            "Columna: EV On-Site Renewable Source\n",
            "[nan 'SOLAR' 'WIND' 'HYDRO' 'NONE' 'WASTEWATER' 'LANDFILL']\n",
            "\n",
            "\n",
            "\n",
            "Columna: Restricted Access\n",
            "[nan False True]\n",
            "\n"
          ]
        }
      ],
      "source": [
        "for columna in columnas_a_analizar:\n",
        "    print(f'\\n\\nColumna: {columna}\\n{df[columna].unique()}\\n')"
      ]
    },
    {
      "cell_type": "markdown",
      "metadata": {
        "id": "0Ctt434iegwg"
      },
      "source": [
        "Vemos que algunas pueden llegar a servir:\n",
        "\n",
        "'Geocode Status'\n",
        "\n",
        "'Access Code'\n",
        "\n",
        "Pero podemos borrar las otras."
      ]
    },
    {
      "cell_type": "code",
      "execution_count": 293,
      "metadata": {
        "id": "BZzDZM9XggsO"
      },
      "outputs": [],
      "source": [
        "columnas_a_borrar = ['Groups With Access Code', 'Intersection Directions', 'Cards Accepted', 'NG PSI', 'EV Other Info', 'EV Network',\n",
        "              'Date Last Confirmed', 'Updated At', 'Owner Type Code', 'Federal Agency ID', 'Federal Agency Name',\n",
        "              'NG Vehicle Class', 'LPG Primary', 'Access Detail Code', 'Federal Agency Code',\n",
        "              'Facility Type', 'CNG Fill Type Code', 'EV On-Site Renewable Source', 'Restricted Access']"
      ]
    },
    {
      "cell_type": "code",
      "execution_count": 294,
      "metadata": {
        "id": "d9SF9ZBNhZF7"
      },
      "outputs": [],
      "source": [
        "df = df.drop(columnas_a_borrar, axis=1)"
      ]
    },
    {
      "cell_type": "markdown",
      "metadata": {
        "id": "NeY88fSvhl8D"
      },
      "source": [
        "La columna 'Acces Days Time' indica los horarios de atención. Vamos a analizarla:"
      ]
    },
    {
      "cell_type": "code",
      "execution_count": 295,
      "metadata": {
        "colab": {
          "base_uri": "https://localhost:8080/"
        },
        "id": "VYrtXEPiiKlf",
        "outputId": "fae473de-3272-45fb-88cb-330fc2ec8334"
      },
      "outputs": [
        {
          "data": {
            "text/plain": [
              "array([nan, '24 hours daily',\n",
              "       '24 hours daily; call 866-809-4869 for Clean Energy card', ...,\n",
              "       '7:30am-7pm M-F; 8am-6pm Sat; Closed Sunday',\n",
              "       '24 hours daily; Phone App',\n",
              "       'Mon 7:00am - 6:00pm; Tue 7:00am - 6:00pm; Wed 7:00am - 6:00pm; Thu 7:00am - 6:00pm; Fri 7:00am - 6:00pm'],\n",
              "      dtype=object)"
            ]
          },
          "execution_count": 295,
          "metadata": {},
          "output_type": "execute_result"
        }
      ],
      "source": [
        "df['Access Days Time'].unique()"
      ]
    },
    {
      "cell_type": "code",
      "execution_count": 296,
      "metadata": {
        "colab": {
          "base_uri": "https://localhost:8080/"
        },
        "id": "xgTIA890iPDc",
        "outputId": "4c992eca-b2c4-455e-ec34-77ddb5095146"
      },
      "outputs": [
        {
          "data": {
            "text/plain": [
              "2552"
            ]
          },
          "execution_count": 296,
          "metadata": {},
          "output_type": "execute_result"
        }
      ],
      "source": [
        "df['Access Days Time'].nunique()"
      ]
    },
    {
      "cell_type": "markdown",
      "metadata": {
        "id": "pu56PI0RiSG3"
      },
      "source": [
        "Vemos que tiene muchos valores únicos. Vamos a reemplazar todos los que contengan '24' y luego volvemos a analizar."
      ]
    },
    {
      "cell_type": "code",
      "execution_count": 297,
      "metadata": {
        "id": "k2L690YFieOs"
      },
      "outputs": [],
      "source": [
        "df['Access Days Time'] = df['Access Days Time'].astype(str)"
      ]
    },
    {
      "cell_type": "code",
      "execution_count": 298,
      "metadata": {
        "id": "VqdplCQAilLi"
      },
      "outputs": [],
      "source": [
        "df['Access Days Time'] = df['Access Days Time'].apply(reemplazar_24_horas)"
      ]
    },
    {
      "cell_type": "code",
      "execution_count": 299,
      "metadata": {
        "colab": {
          "base_uri": "https://localhost:8080/"
        },
        "id": "U9rqm4Luipmn",
        "outputId": "7e2259e9-413c-4ff0-95a3-73ef974b6020"
      },
      "outputs": [
        {
          "data": {
            "text/plain": [
              "1914"
            ]
          },
          "execution_count": 299,
          "metadata": {},
          "output_type": "execute_result"
        }
      ],
      "source": [
        "df['Access Days Time'].nunique()"
      ]
    },
    {
      "cell_type": "markdown",
      "metadata": {
        "id": "ez5X3hnnirJL"
      },
      "source": [
        "Vemos que sigue teniendo muchos valores únicos y, para el contexto de nuestro proyecto, no va a ser una columna relevante."
      ]
    },
    {
      "cell_type": "code",
      "execution_count": 300,
      "metadata": {
        "id": "aXY3L1Tqi1ml"
      },
      "outputs": [],
      "source": [
        "df = df.drop(['Access Days Time'], axis=1)"
      ]
    },
    {
      "cell_type": "markdown",
      "metadata": {
        "id": "TztQV5EIjJzm"
      },
      "source": [
        "Verificamos valores únicos de estados y ciudades:"
      ]
    },
    {
      "cell_type": "code",
      "execution_count": 301,
      "metadata": {
        "colab": {
          "base_uri": "https://localhost:8080/"
        },
        "id": "-3c_8t3ljO-W",
        "outputId": "bd0be35d-1cd2-452a-9b1f-46318260990f"
      },
      "outputs": [
        {
          "data": {
            "text/plain": [
              "array(['Montgomery', 'Atlanta', 'Fort Smith', ..., 'New Minas',\n",
              "       'Herriman', 'Bluffdale'], dtype=object)"
            ]
          },
          "execution_count": 301,
          "metadata": {},
          "output_type": "execute_result"
        }
      ],
      "source": [
        "df['City'].unique()"
      ]
    },
    {
      "cell_type": "code",
      "execution_count": 302,
      "metadata": {
        "colab": {
          "base_uri": "https://localhost:8080/"
        },
        "id": "UyoFjXLGjZl3",
        "outputId": "b00e34cf-fb7a-4a08-e14c-22605c54254c"
      },
      "outputs": [
        {
          "data": {
            "text/plain": [
              "8278"
            ]
          },
          "execution_count": 302,
          "metadata": {},
          "output_type": "execute_result"
        }
      ],
      "source": [
        "df['City'].nunique()"
      ]
    },
    {
      "cell_type": "code",
      "execution_count": 303,
      "metadata": {
        "colab": {
          "base_uri": "https://localhost:8080/"
        },
        "id": "Dxu2e4cejbxO",
        "outputId": "8d41db73-cf2d-4b9c-c00b-5d4b6059f31a"
      },
      "outputs": [
        {
          "data": {
            "text/plain": [
              "array(['AL', 'GA', 'AR', 'MA', 'NY', 'IN', 'WY', 'CT', 'LA', 'NM', 'KS',\n",
              "       'ID', 'MO', 'TX', 'UT', 'MN', 'NE', 'CO', 'OR', 'OK', 'PA', 'CA',\n",
              "       'FL', 'SC', 'NC', 'AZ', 'NV', 'VA', 'MD', 'WA', 'TN', 'SD', 'IA',\n",
              "       'IL', 'MI', 'ND', 'NJ', 'MS', 'OH', 'MT', 'RI', 'NH', 'WV', 'WI',\n",
              "       'HI', 'VT', 'AK', 'ME', 'KY', 'DC', 'DE', 'AB', 'QC', 'MB', 'SK',\n",
              "       'ON', 'BC', 'NL', 'PE', 'NB', 'NS', 'NT', 'YT', 'PR', 'MX'],\n",
              "      dtype=object)"
            ]
          },
          "execution_count": 303,
          "metadata": {},
          "output_type": "execute_result"
        }
      ],
      "source": [
        "df['State'].unique()"
      ]
    },
    {
      "cell_type": "markdown",
      "metadata": {
        "id": "qVuX0T5ljfwy"
      },
      "source": [
        "Como el alcance de nuestro proyecto es la Ciudad de New York y viajes de corta distancia, no necesitamos datos de estaciones de carga de todo el país. En principio, dejamos solo los datos del estado de New York y estados limítrofes (New York, Connecticut, Massachusetts, New Jersey, Rhode Island, Pensilvania, Vermont). La idea es ir filtrando más a medida que avanza el proyecto."
      ]
    },
    {
      "cell_type": "code",
      "execution_count": 304,
      "metadata": {
        "id": "RYIRbQRQkINC"
      },
      "outputs": [],
      "source": [
        "estados_cercanos = ['NY', 'CT', 'MA', 'NJ', 'RI', 'PA', 'VT']"
      ]
    },
    {
      "cell_type": "code",
      "execution_count": 305,
      "metadata": {
        "colab": {
          "base_uri": "https://localhost:8080/"
        },
        "id": "zGkBrEmxkyWJ",
        "outputId": "0eb0bf5b-b25f-44a1-a6b2-5c77f3c88961"
      },
      "outputs": [
        {
          "data": {
            "text/plain": [
              "(70406, 31)"
            ]
          },
          "execution_count": 305,
          "metadata": {},
          "output_type": "execute_result"
        }
      ],
      "source": [
        "df.shape"
      ]
    },
    {
      "cell_type": "markdown",
      "metadata": {
        "id": "SJYccf4zk7Lp"
      },
      "source": [
        "Verificamos cuántos registros tenemos en esos estados:"
      ]
    },
    {
      "cell_type": "code",
      "execution_count": 306,
      "metadata": {
        "colab": {
          "base_uri": "https://localhost:8080/"
        },
        "id": "0ZVKhzbuk1fc",
        "outputId": "cfea8d93-2d46-46e0-96a4-323f0868c7e8"
      },
      "outputs": [
        {
          "data": {
            "text/plain": [
              "(9479, 31)"
            ]
          },
          "execution_count": 306,
          "metadata": {},
          "output_type": "execute_result"
        }
      ],
      "source": [
        "df[df['State'].isin(estados_cercanos)].shape"
      ]
    },
    {
      "cell_type": "markdown",
      "metadata": {
        "id": "McEZ76v9lE1c"
      },
      "source": [
        "De los 70406 registros solo 9479 son del estado de NY y estados limítrofes. Borramos los otros."
      ]
    },
    {
      "cell_type": "code",
      "execution_count": 307,
      "metadata": {
        "id": "6qADjdhakxAs"
      },
      "outputs": [],
      "source": [
        "df = df.drop(df[~df['State'].isin(estados_cercanos)].index)"
      ]
    },
    {
      "cell_type": "code",
      "execution_count": 308,
      "metadata": {
        "colab": {
          "base_uri": "https://localhost:8080/"
        },
        "id": "RaiSj0PglQl8",
        "outputId": "94b45889-f32a-4ac9-9036-2f483632ae06"
      },
      "outputs": [
        {
          "data": {
            "text/plain": [
              "(9479, 31)"
            ]
          },
          "execution_count": 308,
          "metadata": {},
          "output_type": "execute_result"
        }
      ],
      "source": [
        "df.shape"
      ]
    },
    {
      "cell_type": "markdown",
      "metadata": {
        "id": "FIaUT8S4mJc8"
      },
      "source": [
        "Exploramos la columna 'Expected Date'."
      ]
    },
    {
      "cell_type": "code",
      "execution_count": 309,
      "metadata": {
        "colab": {
          "base_uri": "https://localhost:8080/"
        },
        "id": "MJH8Vg9BmOta",
        "outputId": "955192be-b889-43e6-fed0-f728c18287d9"
      },
      "outputs": [
        {
          "data": {
            "text/plain": [
              "array([nan, '2022-07-15', '2022-05-15', '2022-06-15', '2022-03-15',\n",
              "       '2022-04-15', '2022-06-13', '2022-07-31', '2022-12-01',\n",
              "       '2023-02-15', '2023-05-24', '2022-07-01', '2022-07-10',\n",
              "       '2023-05-15', '2022-03-30', '2021-04-30', '2022-02-01',\n",
              "       '2021-07-31', '2021-04-29', '2021-06-30', '2021-11-30',\n",
              "       '2022-04-14', '2022-06-30'], dtype=object)"
            ]
          },
          "execution_count": 309,
          "metadata": {},
          "output_type": "execute_result"
        }
      ],
      "source": [
        "df['Expected Date'].unique()"
      ]
    },
    {
      "cell_type": "code",
      "execution_count": 310,
      "metadata": {
        "colab": {
          "base_uri": "https://localhost:8080/"
        },
        "id": "fGx859mamXsA",
        "outputId": "d79209ba-0bf5-4c72-ed14-8aef68fa7d5c"
      },
      "outputs": [
        {
          "data": {
            "text/plain": [
              "22"
            ]
          },
          "execution_count": 310,
          "metadata": {},
          "output_type": "execute_result"
        }
      ],
      "source": [
        "df['Expected Date'].nunique()"
      ]
    },
    {
      "cell_type": "markdown",
      "metadata": {
        "id": "6AtrNrromdxP"
      },
      "source": [
        "Observarmos que no hay fechas esperadas posteriores a 2023, por lo que borramos la columna."
      ]
    },
    {
      "cell_type": "code",
      "execution_count": 311,
      "metadata": {
        "id": "Rsqr4oAkmrVb"
      },
      "outputs": [],
      "source": [
        "df = df.drop('Expected Date', axis=1)"
      ]
    },
    {
      "cell_type": "markdown",
      "metadata": {
        "id": "_pNQFz1onJYw"
      },
      "source": [
        "Exploramos la columna 'Status Code'."
      ]
    },
    {
      "cell_type": "code",
      "execution_count": 312,
      "metadata": {
        "colab": {
          "base_uri": "https://localhost:8080/"
        },
        "id": "ThDs4AqvnI5S",
        "outputId": "3ff207e8-08ab-4d5c-9a83-fa5599d1f719"
      },
      "outputs": [
        {
          "data": {
            "text/plain": [
              "array(['E', 'T', 'P'], dtype=object)"
            ]
          },
          "execution_count": 312,
          "metadata": {},
          "output_type": "execute_result"
        }
      ],
      "source": [
        "df['Status Code'].unique()"
      ]
    },
    {
      "cell_type": "markdown",
      "metadata": {
        "id": "uXoCXiSknSqx"
      },
      "source": [
        "'Status Code' es un dato temporal que se refiere al estado de la estación de carga. E: en uso; T: disponible; P: fuera de servicio. Puede servir para la carga de datos, pero solo si se actualizan con mucha frecuencia. No va a ser el caso, por lo que también la borramos."
      ]
    },
    {
      "cell_type": "code",
      "execution_count": 313,
      "metadata": {
        "id": "JQ4oda_SnEGA"
      },
      "outputs": [],
      "source": [
        "df = df.drop('Status Code', axis=1)"
      ]
    },
    {
      "cell_type": "code",
      "execution_count": 314,
      "metadata": {
        "colab": {
          "base_uri": "https://localhost:8080/"
        },
        "id": "pDvNG0gwqs2b",
        "outputId": "64d59e45-9b82-4193-9d5f-bba8d2c70fce"
      },
      "outputs": [
        {
          "name": "stdout",
          "output_type": "stream",
          "text": [
            "<class 'pandas.core.frame.DataFrame'>\n",
            "Index: 9479 entries, 5 to 70395\n",
            "Data columns (total 29 columns):\n",
            " #   Column                          Non-Null Count  Dtype  \n",
            "---  ------                          --------------  -----  \n",
            " 0   Fuel Type Code                  9479 non-null   object \n",
            " 1   City                            9479 non-null   object \n",
            " 2   State                           9479 non-null   object \n",
            " 3   BD Blends                       36 non-null     object \n",
            " 4   NG Fill Type Code               203 non-null    object \n",
            " 5   EV Level1 EVSE Num              34 non-null     float64\n",
            " 6   EV Level2 EVSE Num              8197 non-null   float64\n",
            " 7   EV DC Fast Count                799 non-null    float64\n",
            " 8   Geocode Status                  9479 non-null   object \n",
            " 9   Latitude                        9479 non-null   float64\n",
            " 10  Longitude                       9479 non-null   float64\n",
            " 11  ID                              9479 non-null   int64  \n",
            " 12  E85 Blender Pump                275 non-null    object \n",
            " 13  EV Connector Types              8853 non-null   object \n",
            " 14  Country                         9479 non-null   object \n",
            " 15  Access Code                     9479 non-null   object \n",
            " 16  CNG Dispenser Num               131 non-null    float64\n",
            " 17  CNG On-Site Renewable Source    87 non-null     object \n",
            " 18  CNG Total Compression Capacity  98 non-null     float64\n",
            " 19  CNG Storage Capacity            40 non-null     float64\n",
            " 20  LNG On-Site Renewable Source    2 non-null      object \n",
            " 21  E85 Other Ethanol Blends        96 non-null     object \n",
            " 22  EV Pricing                      2283 non-null   object \n",
            " 23  LPG Nozzle Types                96 non-null     object \n",
            " 24  Hydrogen Pressures              5 non-null      object \n",
            " 25  Hydrogen Standards              5 non-null      object \n",
            " 26  CNG PSI                         203 non-null    object \n",
            " 27  CNG Vehicle Class               207 non-null    object \n",
            " 28  LNG Vehicle Class               5 non-null      object \n",
            "dtypes: float64(8), int64(1), object(20)\n",
            "memory usage: 2.2+ MB\n"
          ]
        }
      ],
      "source": [
        "df.info()"
      ]
    },
    {
      "cell_type": "markdown",
      "metadata": {
        "id": "uRGZiXKNqb0F"
      },
      "source": [
        "Verificamos las columnas de latitud y longitud. Sabemos por el método info que no hay valores nulos, pero chequeamos valores atípicos o errores."
      ]
    },
    {
      "cell_type": "markdown",
      "metadata": {
        "id": "jxRqT_7Eq8Du"
      },
      "source": [
        "El área que vamos a evaluar antes de un filtrado final está delimitada, aproximadamente, por las siguientes coordenadas:\n",
        "\n",
        "Latitud mínima: 36\n",
        "\n",
        "Latitud máxima: 45\n",
        "\n",
        "Longitud mínima: -110\n",
        "\n",
        "Longitud máxima: -69"
      ]
    },
    {
      "cell_type": "code",
      "execution_count": 315,
      "metadata": {
        "colab": {
          "base_uri": "https://localhost:8080/"
        },
        "id": "YdhHN0HCqgJC",
        "outputId": "d53f5262-9553-41d5-ab9e-cdc2047174a2"
      },
      "outputs": [
        {
          "data": {
            "text/plain": [
              "(0, 29)"
            ]
          },
          "execution_count": 315,
          "metadata": {},
          "output_type": "execute_result"
        }
      ],
      "source": [
        "df[df['Latitude'] < 36].shape"
      ]
    },
    {
      "cell_type": "code",
      "execution_count": 316,
      "metadata": {
        "colab": {
          "base_uri": "https://localhost:8080/"
        },
        "id": "7wb26vRgql1i",
        "outputId": "2bed69b5-bf2b-4ce2-a4a2-9c1157136bc8"
      },
      "outputs": [
        {
          "data": {
            "text/plain": [
              "(3, 29)"
            ]
          },
          "execution_count": 316,
          "metadata": {},
          "output_type": "execute_result"
        }
      ],
      "source": [
        "df[df['Latitude'] > 45].shape"
      ]
    },
    {
      "cell_type": "code",
      "execution_count": 317,
      "metadata": {
        "colab": {
          "base_uri": "https://localhost:8080/"
        },
        "id": "4bpuLHTgr5rR",
        "outputId": "76906079-5169-4262-c9e7-69e971b62811"
      },
      "outputs": [
        {
          "data": {
            "text/plain": [
              "10082    45.004475\n",
              "29456    45.513643\n",
              "68491    45.457863\n",
              "Name: Latitude, dtype: float64"
            ]
          },
          "execution_count": 317,
          "metadata": {},
          "output_type": "execute_result"
        }
      ],
      "source": [
        "df['Latitude'][df['Latitude'] > 45]"
      ]
    },
    {
      "cell_type": "markdown",
      "metadata": {
        "id": "_CuGZJZdsT6n"
      },
      "source": [
        "Vemos que las latitudes están bien."
      ]
    },
    {
      "cell_type": "code",
      "execution_count": 318,
      "metadata": {
        "colab": {
          "base_uri": "https://localhost:8080/"
        },
        "id": "lHZ8xnvosX6J",
        "outputId": "a9aae333-2276-47ec-ddb3-227cc6994500"
      },
      "outputs": [
        {
          "data": {
            "text/plain": [
              "(1, 29)"
            ]
          },
          "execution_count": 318,
          "metadata": {},
          "output_type": "execute_result"
        }
      ],
      "source": [
        "df[df['Longitude'] < -110].shape"
      ]
    },
    {
      "cell_type": "code",
      "execution_count": 319,
      "metadata": {
        "colab": {
          "base_uri": "https://localhost:8080/"
        },
        "id": "NvIZoUfysjLY",
        "outputId": "cf4e958d-a9aa-477d-b231-f26f2314f6ec"
      },
      "outputs": [
        {
          "data": {
            "text/plain": [
              "29456   -122.833936\n",
              "Name: Longitude, dtype: float64"
            ]
          },
          "execution_count": 319,
          "metadata": {},
          "output_type": "execute_result"
        }
      ],
      "source": [
        "df['Longitude'][df['Longitude'] < -110]"
      ]
    },
    {
      "cell_type": "code",
      "execution_count": 320,
      "metadata": {
        "colab": {
          "base_uri": "https://localhost:8080/",
          "height": 81
        },
        "id": "qilhYcPtsrxs",
        "outputId": "574bae90-ab52-4a83-c108-b149582ebabc"
      },
      "outputs": [
        {
          "data": {
            "text/html": [
              "<div>\n",
              "<style scoped>\n",
              "    .dataframe tbody tr th:only-of-type {\n",
              "        vertical-align: middle;\n",
              "    }\n",
              "\n",
              "    .dataframe tbody tr th {\n",
              "        vertical-align: top;\n",
              "    }\n",
              "\n",
              "    .dataframe thead th {\n",
              "        text-align: right;\n",
              "    }\n",
              "</style>\n",
              "<table border=\"1\" class=\"dataframe\">\n",
              "  <thead>\n",
              "    <tr style=\"text-align: right;\">\n",
              "      <th></th>\n",
              "      <th>Latitude</th>\n",
              "      <th>Longitude</th>\n",
              "    </tr>\n",
              "  </thead>\n",
              "  <tbody>\n",
              "    <tr>\n",
              "      <th>29456</th>\n",
              "      <td>45.513643</td>\n",
              "      <td>-122.833936</td>\n",
              "    </tr>\n",
              "  </tbody>\n",
              "</table>\n",
              "</div>"
            ],
            "text/plain": [
              "        Latitude   Longitude\n",
              "29456  45.513643 -122.833936"
            ]
          },
          "execution_count": 320,
          "metadata": {},
          "output_type": "execute_result"
        }
      ],
      "source": [
        "df[['Latitude','Longitude']][df['Longitude'] < -110]"
      ]
    },
    {
      "cell_type": "code",
      "execution_count": 321,
      "metadata": {
        "colab": {
          "base_uri": "https://localhost:8080/",
          "height": 182
        },
        "id": "IuTmyUuLwJw2",
        "outputId": "c0775499-f0ce-46e5-9d27-c55f28d6d9bd"
      },
      "outputs": [
        {
          "data": {
            "text/html": [
              "<div>\n",
              "<style scoped>\n",
              "    .dataframe tbody tr th:only-of-type {\n",
              "        vertical-align: middle;\n",
              "    }\n",
              "\n",
              "    .dataframe tbody tr th {\n",
              "        vertical-align: top;\n",
              "    }\n",
              "\n",
              "    .dataframe thead th {\n",
              "        text-align: right;\n",
              "    }\n",
              "</style>\n",
              "<table border=\"1\" class=\"dataframe\">\n",
              "  <thead>\n",
              "    <tr style=\"text-align: right;\">\n",
              "      <th></th>\n",
              "      <th>Fuel Type Code</th>\n",
              "      <th>City</th>\n",
              "      <th>State</th>\n",
              "      <th>BD Blends</th>\n",
              "      <th>NG Fill Type Code</th>\n",
              "      <th>EV Level1 EVSE Num</th>\n",
              "      <th>EV Level2 EVSE Num</th>\n",
              "      <th>EV DC Fast Count</th>\n",
              "      <th>Geocode Status</th>\n",
              "      <th>Latitude</th>\n",
              "      <th>...</th>\n",
              "      <th>CNG Storage Capacity</th>\n",
              "      <th>LNG On-Site Renewable Source</th>\n",
              "      <th>E85 Other Ethanol Blends</th>\n",
              "      <th>EV Pricing</th>\n",
              "      <th>LPG Nozzle Types</th>\n",
              "      <th>Hydrogen Pressures</th>\n",
              "      <th>Hydrogen Standards</th>\n",
              "      <th>CNG PSI</th>\n",
              "      <th>CNG Vehicle Class</th>\n",
              "      <th>LNG Vehicle Class</th>\n",
              "    </tr>\n",
              "  </thead>\n",
              "  <tbody>\n",
              "    <tr>\n",
              "      <th>29456</th>\n",
              "      <td>ELEC</td>\n",
              "      <td>Beaverton</td>\n",
              "      <td>RI</td>\n",
              "      <td>NaN</td>\n",
              "      <td>NaN</td>\n",
              "      <td>NaN</td>\n",
              "      <td>2.0</td>\n",
              "      <td>NaN</td>\n",
              "      <td>GPS</td>\n",
              "      <td>45.513643</td>\n",
              "      <td>...</td>\n",
              "      <td>NaN</td>\n",
              "      <td>NaN</td>\n",
              "      <td>NaN</td>\n",
              "      <td>NaN</td>\n",
              "      <td>NaN</td>\n",
              "      <td>NaN</td>\n",
              "      <td>NaN</td>\n",
              "      <td>NaN</td>\n",
              "      <td>NaN</td>\n",
              "      <td>NaN</td>\n",
              "    </tr>\n",
              "  </tbody>\n",
              "</table>\n",
              "<p>1 rows × 29 columns</p>\n",
              "</div>"
            ],
            "text/plain": [
              "      Fuel Type Code       City State BD Blends NG Fill Type Code  \\\n",
              "29456           ELEC  Beaverton    RI       NaN               NaN   \n",
              "\n",
              "       EV Level1 EVSE Num  EV Level2 EVSE Num  EV DC Fast Count  \\\n",
              "29456                 NaN                 2.0               NaN   \n",
              "\n",
              "      Geocode Status   Latitude  ...  CNG Storage Capacity  \\\n",
              "29456            GPS  45.513643  ...                   NaN   \n",
              "\n",
              "       LNG On-Site Renewable Source E85 Other Ethanol Blends EV Pricing  \\\n",
              "29456                           NaN                      NaN        NaN   \n",
              "\n",
              "      LPG Nozzle Types Hydrogen Pressures  Hydrogen Standards CNG PSI  \\\n",
              "29456              NaN                NaN                 NaN     NaN   \n",
              "\n",
              "       CNG Vehicle Class  LNG Vehicle Class  \n",
              "29456                NaN                NaN  \n",
              "\n",
              "[1 rows x 29 columns]"
            ]
          },
          "execution_count": 321,
          "metadata": {},
          "output_type": "execute_result"
        }
      ],
      "source": [
        "df[df['Longitude'] < -122]"
      ]
    },
    {
      "cell_type": "markdown",
      "metadata": {
        "id": "J1WAkGKUwQWm"
      },
      "source": [
        "Vemos que el estado está bien pero no la longitud. Como no tenemos el dato exacto, borramos el registro."
      ]
    },
    {
      "cell_type": "code",
      "execution_count": 322,
      "metadata": {
        "colab": {
          "base_uri": "https://localhost:8080/"
        },
        "id": "HnRdTgbKwl0j",
        "outputId": "5e33b45f-34af-4265-fb64-68b874bee606"
      },
      "outputs": [
        {
          "data": {
            "text/plain": [
              "(9479, 29)"
            ]
          },
          "execution_count": 322,
          "metadata": {},
          "output_type": "execute_result"
        }
      ],
      "source": [
        "df.shape"
      ]
    },
    {
      "cell_type": "code",
      "execution_count": 323,
      "metadata": {
        "id": "s03xLvq8wc6I"
      },
      "outputs": [],
      "source": [
        "df = df.drop(df[df['Longitude'] < -122].index)"
      ]
    },
    {
      "cell_type": "code",
      "execution_count": 324,
      "metadata": {
        "colab": {
          "base_uri": "https://localhost:8080/"
        },
        "id": "Iyqmaj8YwuPm",
        "outputId": "e9936cba-ed02-4755-9dc4-3cbbddab5667"
      },
      "outputs": [
        {
          "data": {
            "text/plain": [
              "(9478, 29)"
            ]
          },
          "execution_count": 324,
          "metadata": {},
          "output_type": "execute_result"
        }
      ],
      "source": [
        "df.shape"
      ]
    },
    {
      "cell_type": "code",
      "execution_count": 325,
      "metadata": {
        "colab": {
          "base_uri": "https://localhost:8080/"
        },
        "id": "WqonR34Bw0zA",
        "outputId": "61ee4310-3da0-41ed-d8d7-a4fbcf9fdbf5"
      },
      "outputs": [
        {
          "data": {
            "text/plain": [
              "(2, 29)"
            ]
          },
          "execution_count": 325,
          "metadata": {},
          "output_type": "execute_result"
        }
      ],
      "source": [
        "df[df['Longitude'] > -69].shape"
      ]
    },
    {
      "cell_type": "code",
      "execution_count": 326,
      "metadata": {
        "colab": {
          "base_uri": "https://localhost:8080/",
          "height": 112
        },
        "id": "R5-z5UaBw8gM",
        "outputId": "4b61716c-22b0-420f-defd-03031aa68a9f"
      },
      "outputs": [
        {
          "data": {
            "text/html": [
              "<div>\n",
              "<style scoped>\n",
              "    .dataframe tbody tr th:only-of-type {\n",
              "        vertical-align: middle;\n",
              "    }\n",
              "\n",
              "    .dataframe tbody tr th {\n",
              "        vertical-align: top;\n",
              "    }\n",
              "\n",
              "    .dataframe thead th {\n",
              "        text-align: right;\n",
              "    }\n",
              "</style>\n",
              "<table border=\"1\" class=\"dataframe\">\n",
              "  <thead>\n",
              "    <tr style=\"text-align: right;\">\n",
              "      <th></th>\n",
              "      <th>Latitude</th>\n",
              "      <th>Longitude</th>\n",
              "    </tr>\n",
              "  </thead>\n",
              "  <tbody>\n",
              "    <tr>\n",
              "      <th>53136</th>\n",
              "      <td>42.868419</td>\n",
              "      <td>0.000000</td>\n",
              "    </tr>\n",
              "    <tr>\n",
              "      <th>69951</th>\n",
              "      <td>40.432278</td>\n",
              "      <td>40.432278</td>\n",
              "    </tr>\n",
              "  </tbody>\n",
              "</table>\n",
              "</div>"
            ],
            "text/plain": [
              "        Latitude  Longitude\n",
              "53136  42.868419   0.000000\n",
              "69951  40.432278  40.432278"
            ]
          },
          "execution_count": 326,
          "metadata": {},
          "output_type": "execute_result"
        }
      ],
      "source": [
        "df[['Latitude', 'Longitude']][df['Longitude'] > -69]"
      ]
    },
    {
      "cell_type": "code",
      "execution_count": 327,
      "metadata": {
        "colab": {
          "base_uri": "https://localhost:8080/",
          "height": 265
        },
        "id": "6DpR2pWvxEwS",
        "outputId": "fba5600b-884a-43a0-bd26-2ec927585bee"
      },
      "outputs": [
        {
          "data": {
            "text/html": [
              "<div>\n",
              "<style scoped>\n",
              "    .dataframe tbody tr th:only-of-type {\n",
              "        vertical-align: middle;\n",
              "    }\n",
              "\n",
              "    .dataframe tbody tr th {\n",
              "        vertical-align: top;\n",
              "    }\n",
              "\n",
              "    .dataframe thead th {\n",
              "        text-align: right;\n",
              "    }\n",
              "</style>\n",
              "<table border=\"1\" class=\"dataframe\">\n",
              "  <thead>\n",
              "    <tr style=\"text-align: right;\">\n",
              "      <th></th>\n",
              "      <th>Fuel Type Code</th>\n",
              "      <th>City</th>\n",
              "      <th>State</th>\n",
              "      <th>BD Blends</th>\n",
              "      <th>NG Fill Type Code</th>\n",
              "      <th>EV Level1 EVSE Num</th>\n",
              "      <th>EV Level2 EVSE Num</th>\n",
              "      <th>EV DC Fast Count</th>\n",
              "      <th>Geocode Status</th>\n",
              "      <th>Latitude</th>\n",
              "      <th>...</th>\n",
              "      <th>CNG Storage Capacity</th>\n",
              "      <th>LNG On-Site Renewable Source</th>\n",
              "      <th>E85 Other Ethanol Blends</th>\n",
              "      <th>EV Pricing</th>\n",
              "      <th>LPG Nozzle Types</th>\n",
              "      <th>Hydrogen Pressures</th>\n",
              "      <th>Hydrogen Standards</th>\n",
              "      <th>CNG PSI</th>\n",
              "      <th>CNG Vehicle Class</th>\n",
              "      <th>LNG Vehicle Class</th>\n",
              "    </tr>\n",
              "  </thead>\n",
              "  <tbody>\n",
              "    <tr>\n",
              "      <th>53136</th>\n",
              "      <td>ELEC</td>\n",
              "      <td>Clifton Park</td>\n",
              "      <td>NY</td>\n",
              "      <td>NaN</td>\n",
              "      <td>NaN</td>\n",
              "      <td>NaN</td>\n",
              "      <td>4.0</td>\n",
              "      <td>NaN</td>\n",
              "      <td>GPS</td>\n",
              "      <td>42.868419</td>\n",
              "      <td>...</td>\n",
              "      <td>NaN</td>\n",
              "      <td>NaN</td>\n",
              "      <td>NaN</td>\n",
              "      <td>NaN</td>\n",
              "      <td>NaN</td>\n",
              "      <td>NaN</td>\n",
              "      <td>NaN</td>\n",
              "      <td>NaN</td>\n",
              "      <td>NaN</td>\n",
              "      <td>NaN</td>\n",
              "    </tr>\n",
              "    <tr>\n",
              "      <th>69951</th>\n",
              "      <td>ELEC</td>\n",
              "      <td>Pittsburgh</td>\n",
              "      <td>PA</td>\n",
              "      <td>NaN</td>\n",
              "      <td>NaN</td>\n",
              "      <td>NaN</td>\n",
              "      <td>2.0</td>\n",
              "      <td>NaN</td>\n",
              "      <td>GPS</td>\n",
              "      <td>40.432278</td>\n",
              "      <td>...</td>\n",
              "      <td>NaN</td>\n",
              "      <td>NaN</td>\n",
              "      <td>NaN</td>\n",
              "      <td>Level 2: $0.49 per kWh</td>\n",
              "      <td>NaN</td>\n",
              "      <td>NaN</td>\n",
              "      <td>NaN</td>\n",
              "      <td>NaN</td>\n",
              "      <td>NaN</td>\n",
              "      <td>NaN</td>\n",
              "    </tr>\n",
              "  </tbody>\n",
              "</table>\n",
              "<p>2 rows × 29 columns</p>\n",
              "</div>"
            ],
            "text/plain": [
              "      Fuel Type Code          City State BD Blends NG Fill Type Code  \\\n",
              "53136           ELEC  Clifton Park    NY       NaN               NaN   \n",
              "69951           ELEC    Pittsburgh    PA       NaN               NaN   \n",
              "\n",
              "       EV Level1 EVSE Num  EV Level2 EVSE Num  EV DC Fast Count  \\\n",
              "53136                 NaN                 4.0               NaN   \n",
              "69951                 NaN                 2.0               NaN   \n",
              "\n",
              "      Geocode Status   Latitude  ...  CNG Storage Capacity  \\\n",
              "53136            GPS  42.868419  ...                   NaN   \n",
              "69951            GPS  40.432278  ...                   NaN   \n",
              "\n",
              "       LNG On-Site Renewable Source E85 Other Ethanol Blends  \\\n",
              "53136                           NaN                      NaN   \n",
              "69951                           NaN                      NaN   \n",
              "\n",
              "                   EV Pricing LPG Nozzle Types Hydrogen Pressures  \\\n",
              "53136                     NaN              NaN                NaN   \n",
              "69951  Level 2: $0.49 per kWh              NaN                NaN   \n",
              "\n",
              "       Hydrogen Standards CNG PSI  CNG Vehicle Class  LNG Vehicle Class  \n",
              "53136                 NaN     NaN                NaN                NaN  \n",
              "69951                 NaN     NaN                NaN                NaN  \n",
              "\n",
              "[2 rows x 29 columns]"
            ]
          },
          "execution_count": 327,
          "metadata": {},
          "output_type": "execute_result"
        }
      ],
      "source": [
        "df[df['Longitude'] > -69]"
      ]
    },
    {
      "cell_type": "markdown",
      "metadata": {
        "id": "An7UP4crxbbp"
      },
      "source": [
        "De nuevo, los estados están bien, pero no las coordenadas. Como no tenemos el dato exacto, borramos los registros."
      ]
    },
    {
      "cell_type": "code",
      "execution_count": 328,
      "metadata": {
        "colab": {
          "base_uri": "https://localhost:8080/"
        },
        "id": "bUScl052x6XH",
        "outputId": "f3878477-c164-4a1f-a7e5-4b9747e4c3f5"
      },
      "outputs": [
        {
          "data": {
            "text/plain": [
              "(9478, 29)"
            ]
          },
          "execution_count": 328,
          "metadata": {},
          "output_type": "execute_result"
        }
      ],
      "source": [
        "df.shape"
      ]
    },
    {
      "cell_type": "code",
      "execution_count": 329,
      "metadata": {
        "id": "q26tKvjyxjT8"
      },
      "outputs": [],
      "source": [
        "df = df.drop(df[df['Longitude'] > -69].index)"
      ]
    },
    {
      "cell_type": "code",
      "execution_count": 330,
      "metadata": {
        "colab": {
          "base_uri": "https://localhost:8080/"
        },
        "id": "0ZGpZldtx99X",
        "outputId": "60a86220-81fc-4b7f-f393-a3dc92ddc927"
      },
      "outputs": [
        {
          "data": {
            "text/plain": [
              "(9476, 29)"
            ]
          },
          "execution_count": 330,
          "metadata": {},
          "output_type": "execute_result"
        }
      ],
      "source": [
        "df.shape"
      ]
    },
    {
      "cell_type": "markdown",
      "metadata": {
        "id": "3MCOCZbHyO3-"
      },
      "source": [
        "Verificamos:"
      ]
    },
    {
      "cell_type": "code",
      "execution_count": 331,
      "metadata": {
        "colab": {
          "base_uri": "https://localhost:8080/"
        },
        "id": "5jdBINmryJS_",
        "outputId": "a3e6560e-6fc6-4488-d0af-1ed6d21a8f5d"
      },
      "outputs": [
        {
          "name": "stdout",
          "output_type": "stream",
          "text": [
            "45.004475\n",
            "45.45786273\n"
          ]
        }
      ],
      "source": [
        "for latitud in df['Latitude']:\n",
        "    if latitud < 36 or latitud > 45:\n",
        "        print(latitud)"
      ]
    },
    {
      "cell_type": "code",
      "execution_count": 332,
      "metadata": {
        "id": "OfJlX3dSygw_"
      },
      "outputs": [],
      "source": [
        "for latitud in df['Longitude']:\n",
        "    if latitud < -110 or latitud > -69:\n",
        "        print(latitud)"
      ]
    },
    {
      "cell_type": "markdown",
      "metadata": {
        "id": "IE5LDfZiy5Qm"
      },
      "source": [
        "Seguimos explorando columnas:"
      ]
    },
    {
      "cell_type": "code",
      "execution_count": 333,
      "metadata": {
        "colab": {
          "base_uri": "https://localhost:8080/"
        },
        "id": "q27qV3jlyy6I",
        "outputId": "af65b2f6-7008-45f1-c476-326f73e4c499"
      },
      "outputs": [
        {
          "name": "stdout",
          "output_type": "stream",
          "text": [
            "<class 'pandas.core.frame.DataFrame'>\n",
            "Index: 9476 entries, 5 to 70395\n",
            "Data columns (total 29 columns):\n",
            " #   Column                          Non-Null Count  Dtype  \n",
            "---  ------                          --------------  -----  \n",
            " 0   Fuel Type Code                  9476 non-null   object \n",
            " 1   City                            9476 non-null   object \n",
            " 2   State                           9476 non-null   object \n",
            " 3   BD Blends                       36 non-null     object \n",
            " 4   NG Fill Type Code               203 non-null    object \n",
            " 5   EV Level1 EVSE Num              34 non-null     float64\n",
            " 6   EV Level2 EVSE Num              8194 non-null   float64\n",
            " 7   EV DC Fast Count                799 non-null    float64\n",
            " 8   Geocode Status                  9476 non-null   object \n",
            " 9   Latitude                        9476 non-null   float64\n",
            " 10  Longitude                       9476 non-null   float64\n",
            " 11  ID                              9476 non-null   int64  \n",
            " 12  E85 Blender Pump                275 non-null    object \n",
            " 13  EV Connector Types              8850 non-null   object \n",
            " 14  Country                         9476 non-null   object \n",
            " 15  Access Code                     9476 non-null   object \n",
            " 16  CNG Dispenser Num               131 non-null    float64\n",
            " 17  CNG On-Site Renewable Source    87 non-null     object \n",
            " 18  CNG Total Compression Capacity  98 non-null     float64\n",
            " 19  CNG Storage Capacity            40 non-null     float64\n",
            " 20  LNG On-Site Renewable Source    2 non-null      object \n",
            " 21  E85 Other Ethanol Blends        96 non-null     object \n",
            " 22  EV Pricing                      2282 non-null   object \n",
            " 23  LPG Nozzle Types                96 non-null     object \n",
            " 24  Hydrogen Pressures              5 non-null      object \n",
            " 25  Hydrogen Standards              5 non-null      object \n",
            " 26  CNG PSI                         203 non-null    object \n",
            " 27  CNG Vehicle Class               207 non-null    object \n",
            " 28  LNG Vehicle Class               5 non-null      object \n",
            "dtypes: float64(8), int64(1), object(20)\n",
            "memory usage: 2.2+ MB\n"
          ]
        }
      ],
      "source": [
        "df.info()"
      ]
    },
    {
      "cell_type": "markdown",
      "metadata": {
        "id": "E8gjvuZC5qSp"
      },
      "source": [
        "Borramos las columnas que no son importantes para el alcance del proyecto. Dejamos algunas relacionadas con vehículos eléctricos (como precio de carga) porque pueden llegar a servir, para hacer una transformación de datos."
      ]
    },
    {
      "cell_type": "code",
      "execution_count": 334,
      "metadata": {
        "id": "YcIYb7sw4VOm"
      },
      "outputs": [],
      "source": [
        "columnas_a_borrar = ['BD Blends', 'NG Fill Type Code', 'E85 Blender Pump', 'CNG On-Site Renewable Source',\n",
        "                     'CNG Total Compression Capacity', 'CNG Storage Capacity', 'LNG On-Site Renewable Source',\n",
        "                     'E85 Other Ethanol Blends', 'Hydrogen Pressures', 'Hydrogen Standards',\n",
        "                     'CNG PSI', 'CNG Vehicle Class', 'LNG Vehicle Class']"
      ]
    },
    {
      "cell_type": "code",
      "execution_count": 335,
      "metadata": {
        "colab": {
          "base_uri": "https://localhost:8080/"
        },
        "id": "Puq-jZag6EUk",
        "outputId": "f1c1932e-d413-43c4-e025-8b4a6abcc48c"
      },
      "outputs": [
        {
          "data": {
            "text/plain": [
              "(9476, 29)"
            ]
          },
          "execution_count": 335,
          "metadata": {},
          "output_type": "execute_result"
        }
      ],
      "source": [
        "df.shape"
      ]
    },
    {
      "cell_type": "code",
      "execution_count": 336,
      "metadata": {
        "id": "8JfR0Vr-6GEA"
      },
      "outputs": [],
      "source": [
        "df = df.drop(columnas_a_borrar, axis=1)"
      ]
    },
    {
      "cell_type": "code",
      "execution_count": 337,
      "metadata": {
        "colab": {
          "base_uri": "https://localhost:8080/"
        },
        "id": "PUxWP7ZZ6LFX",
        "outputId": "7bab755c-8105-4a9e-bd30-23af6d528390"
      },
      "outputs": [
        {
          "data": {
            "text/plain": [
              "(9476, 16)"
            ]
          },
          "execution_count": 337,
          "metadata": {},
          "output_type": "execute_result"
        }
      ],
      "source": [
        "df.shape"
      ]
    },
    {
      "cell_type": "markdown",
      "metadata": {
        "id": "hio5o_lM7yS2"
      },
      "source": [
        "Ordenamos las columnas y borramos algunas que notamos que son irrelevantes al ir avanzando con el análisis."
      ]
    },
    {
      "cell_type": "code",
      "execution_count": 338,
      "metadata": {
        "colab": {
          "base_uri": "https://localhost:8080/"
        },
        "id": "hPZrw83Q75t5",
        "outputId": "a954c6eb-ff1b-48d5-fefc-4b23bbe63dbf"
      },
      "outputs": [
        {
          "data": {
            "text/plain": [
              "Index(['Fuel Type Code', 'City', 'State', 'EV Level1 EVSE Num',\n",
              "       'EV Level2 EVSE Num', 'EV DC Fast Count', 'Geocode Status', 'Latitude',\n",
              "       'Longitude', 'ID', 'EV Connector Types', 'Country', 'Access Code',\n",
              "       'CNG Dispenser Num', 'EV Pricing', 'LPG Nozzle Types'],\n",
              "      dtype='object')"
            ]
          },
          "execution_count": 338,
          "metadata": {},
          "output_type": "execute_result"
        }
      ],
      "source": [
        "df.columns"
      ]
    },
    {
      "cell_type": "code",
      "execution_count": 339,
      "metadata": {
        "id": "myzK1z5J79Xz"
      },
      "outputs": [],
      "source": [
        "df = df[['ID', 'Fuel Type Code', 'Access Code', 'Geocode Status', 'Latitude', 'Longitude', 'City', 'State',\n",
        "         'EV Level1 EVSE Num', 'EV Level2 EVSE Num', 'EV DC Fast Count', 'EV Connector Types', 'EV Pricing',\n",
        "         'CNG Dispenser Num', 'LPG Nozzle Types']]"
      ]
    },
    {
      "cell_type": "code",
      "execution_count": 340,
      "metadata": {
        "colab": {
          "base_uri": "https://localhost:8080/",
          "height": 313
        },
        "id": "YhAtbVeZ-9jV",
        "outputId": "666ee79f-a182-4377-fe8e-1e7c86aa92e1"
      },
      "outputs": [
        {
          "data": {
            "text/html": [
              "<div>\n",
              "<style scoped>\n",
              "    .dataframe tbody tr th:only-of-type {\n",
              "        vertical-align: middle;\n",
              "    }\n",
              "\n",
              "    .dataframe tbody tr th {\n",
              "        vertical-align: top;\n",
              "    }\n",
              "\n",
              "    .dataframe thead th {\n",
              "        text-align: right;\n",
              "    }\n",
              "</style>\n",
              "<table border=\"1\" class=\"dataframe\">\n",
              "  <thead>\n",
              "    <tr style=\"text-align: right;\">\n",
              "      <th></th>\n",
              "      <th>ID</th>\n",
              "      <th>Fuel Type Code</th>\n",
              "      <th>Access Code</th>\n",
              "      <th>Geocode Status</th>\n",
              "      <th>Latitude</th>\n",
              "      <th>Longitude</th>\n",
              "      <th>City</th>\n",
              "      <th>State</th>\n",
              "      <th>EV Level1 EVSE Num</th>\n",
              "      <th>EV Level2 EVSE Num</th>\n",
              "      <th>EV DC Fast Count</th>\n",
              "      <th>EV Connector Types</th>\n",
              "      <th>EV Pricing</th>\n",
              "      <th>CNG Dispenser Num</th>\n",
              "      <th>LPG Nozzle Types</th>\n",
              "    </tr>\n",
              "  </thead>\n",
              "  <tbody>\n",
              "    <tr>\n",
              "      <th>5</th>\n",
              "      <td>81</td>\n",
              "      <td>CNG</td>\n",
              "      <td>public</td>\n",
              "      <td>GPS</td>\n",
              "      <td>42.374706</td>\n",
              "      <td>-71.026549</td>\n",
              "      <td>East Boston</td>\n",
              "      <td>MA</td>\n",
              "      <td>NaN</td>\n",
              "      <td>NaN</td>\n",
              "      <td>NaN</td>\n",
              "      <td>NaN</td>\n",
              "      <td>NaN</td>\n",
              "      <td>4.0</td>\n",
              "      <td>NaN</td>\n",
              "    </tr>\n",
              "    <tr>\n",
              "      <th>6</th>\n",
              "      <td>84</td>\n",
              "      <td>CNG</td>\n",
              "      <td>public</td>\n",
              "      <td>200-8</td>\n",
              "      <td>42.393167</td>\n",
              "      <td>-71.064352</td>\n",
              "      <td>Everett</td>\n",
              "      <td>MA</td>\n",
              "      <td>NaN</td>\n",
              "      <td>NaN</td>\n",
              "      <td>NaN</td>\n",
              "      <td>NaN</td>\n",
              "      <td>NaN</td>\n",
              "      <td>1.0</td>\n",
              "      <td>NaN</td>\n",
              "    </tr>\n",
              "    <tr>\n",
              "      <th>7</th>\n",
              "      <td>108</td>\n",
              "      <td>CNG</td>\n",
              "      <td>public</td>\n",
              "      <td>200-8</td>\n",
              "      <td>40.718037</td>\n",
              "      <td>-73.932309</td>\n",
              "      <td>Brooklyn</td>\n",
              "      <td>NY</td>\n",
              "      <td>NaN</td>\n",
              "      <td>NaN</td>\n",
              "      <td>NaN</td>\n",
              "      <td>NaN</td>\n",
              "      <td>NaN</td>\n",
              "      <td>1.0</td>\n",
              "      <td>NaN</td>\n",
              "    </tr>\n",
              "    <tr>\n",
              "      <th>8</th>\n",
              "      <td>112</td>\n",
              "      <td>CNG</td>\n",
              "      <td>public</td>\n",
              "      <td>200-8</td>\n",
              "      <td>40.645540</td>\n",
              "      <td>-73.918344</td>\n",
              "      <td>Brooklyn</td>\n",
              "      <td>NY</td>\n",
              "      <td>NaN</td>\n",
              "      <td>NaN</td>\n",
              "      <td>NaN</td>\n",
              "      <td>NaN</td>\n",
              "      <td>NaN</td>\n",
              "      <td>1.0</td>\n",
              "      <td>NaN</td>\n",
              "    </tr>\n",
              "    <tr>\n",
              "      <th>9</th>\n",
              "      <td>124</td>\n",
              "      <td>CNG</td>\n",
              "      <td>public</td>\n",
              "      <td>200-9</td>\n",
              "      <td>40.752903</td>\n",
              "      <td>-74.005831</td>\n",
              "      <td>New York</td>\n",
              "      <td>NY</td>\n",
              "      <td>NaN</td>\n",
              "      <td>NaN</td>\n",
              "      <td>NaN</td>\n",
              "      <td>NaN</td>\n",
              "      <td>NaN</td>\n",
              "      <td>1.0</td>\n",
              "      <td>NaN</td>\n",
              "    </tr>\n",
              "  </tbody>\n",
              "</table>\n",
              "</div>"
            ],
            "text/plain": [
              "    ID Fuel Type Code Access Code Geocode Status   Latitude  Longitude  \\\n",
              "5   81            CNG      public            GPS  42.374706 -71.026549   \n",
              "6   84            CNG      public          200-8  42.393167 -71.064352   \n",
              "7  108            CNG      public          200-8  40.718037 -73.932309   \n",
              "8  112            CNG      public          200-8  40.645540 -73.918344   \n",
              "9  124            CNG      public          200-9  40.752903 -74.005831   \n",
              "\n",
              "          City State  EV Level1 EVSE Num  EV Level2 EVSE Num  \\\n",
              "5  East Boston    MA                 NaN                 NaN   \n",
              "6      Everett    MA                 NaN                 NaN   \n",
              "7     Brooklyn    NY                 NaN                 NaN   \n",
              "8     Brooklyn    NY                 NaN                 NaN   \n",
              "9     New York    NY                 NaN                 NaN   \n",
              "\n",
              "   EV DC Fast Count EV Connector Types EV Pricing  CNG Dispenser Num  \\\n",
              "5               NaN                NaN        NaN                4.0   \n",
              "6               NaN                NaN        NaN                1.0   \n",
              "7               NaN                NaN        NaN                1.0   \n",
              "8               NaN                NaN        NaN                1.0   \n",
              "9               NaN                NaN        NaN                1.0   \n",
              "\n",
              "  LPG Nozzle Types  \n",
              "5              NaN  \n",
              "6              NaN  \n",
              "7              NaN  \n",
              "8              NaN  \n",
              "9              NaN  "
            ]
          },
          "execution_count": 340,
          "metadata": {},
          "output_type": "execute_result"
        }
      ],
      "source": [
        "df.head()"
      ]
    },
    {
      "cell_type": "code",
      "execution_count": 341,
      "metadata": {
        "colab": {
          "base_uri": "https://localhost:8080/"
        },
        "id": "IAZksMv37djC",
        "outputId": "710d7aa4-3468-4cbe-e2cd-c4d22b742c5a"
      },
      "outputs": [
        {
          "data": {
            "text/plain": [
              "(9476, 15)"
            ]
          },
          "execution_count": 341,
          "metadata": {},
          "output_type": "execute_result"
        }
      ],
      "source": [
        "df.shape"
      ]
    },
    {
      "cell_type": "code",
      "execution_count": 342,
      "metadata": {
        "colab": {
          "base_uri": "https://localhost:8080/"
        },
        "id": "UZAJKbq3_HPv",
        "outputId": "18c01347-52d4-475b-d572-ce96d8dbea08"
      },
      "outputs": [
        {
          "name": "stdout",
          "output_type": "stream",
          "text": [
            "<class 'pandas.core.frame.DataFrame'>\n",
            "Index: 9476 entries, 5 to 70395\n",
            "Data columns (total 15 columns):\n",
            " #   Column              Non-Null Count  Dtype  \n",
            "---  ------              --------------  -----  \n",
            " 0   ID                  9476 non-null   int64  \n",
            " 1   Fuel Type Code      9476 non-null   object \n",
            " 2   Access Code         9476 non-null   object \n",
            " 3   Geocode Status      9476 non-null   object \n",
            " 4   Latitude            9476 non-null   float64\n",
            " 5   Longitude           9476 non-null   float64\n",
            " 6   City                9476 non-null   object \n",
            " 7   State               9476 non-null   object \n",
            " 8   EV Level1 EVSE Num  34 non-null     float64\n",
            " 9   EV Level2 EVSE Num  8194 non-null   float64\n",
            " 10  EV DC Fast Count    799 non-null    float64\n",
            " 11  EV Connector Types  8850 non-null   object \n",
            " 12  EV Pricing          2282 non-null   object \n",
            " 13  CNG Dispenser Num   131 non-null    float64\n",
            " 14  LPG Nozzle Types    96 non-null     object \n",
            "dtypes: float64(6), int64(1), object(8)\n",
            "memory usage: 1.2+ MB\n"
          ]
        }
      ],
      "source": [
        "df.info()"
      ]
    },
    {
      "cell_type": "markdown",
      "metadata": {
        "id": "TmtzrR8Y_LM6"
      },
      "source": [
        "Observamos que tenemos muchos valores nulos, pero es porque algunas columnas no aplican para todos los combustibles. Vamos a crear un df para cada tipo de combustible y analizarlo en función de esa clasificación."
      ]
    },
    {
      "cell_type": "code",
      "execution_count": 343,
      "metadata": {
        "id": "7e2oFVEY_g5d"
      },
      "outputs": [],
      "source": [
        "df.to_csv(estaciones_ETL, encoding='utf-8')"
      ]
    }
  ],
  "metadata": {
    "colab": {
      "provenance": []
    },
    "kernelspec": {
      "display_name": "Python 3",
      "name": "python3"
    },
    "language_info": {
      "codemirror_mode": {
        "name": "ipython",
        "version": 3
      },
      "file_extension": ".py",
      "mimetype": "text/x-python",
      "name": "python",
      "nbconvert_exporter": "python",
      "pygments_lexer": "ipython3",
      "version": "3.11.4"
    }
  },
  "nbformat": 4,
  "nbformat_minor": 0
}
