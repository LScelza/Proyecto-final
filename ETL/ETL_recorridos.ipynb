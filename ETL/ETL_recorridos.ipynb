{
  "cells": [
    {
      "cell_type": "markdown",
      "metadata": {
        "id": "5-pwFOT6Fi8e"
      },
      "source": [
        "<h1 align=center> Proceso de ETL </h1>"
      ]
    },
    {
      "cell_type": "markdown",
      "metadata": {
        "id": "obw2gYVHF1Ip"
      },
      "source": [
        "<h2>Instalacion de librerias </h2>\n"
      ]
    },
    {
      "cell_type": "code",
      "execution_count": null,
      "metadata": {
        "colab": {
          "base_uri": "https://localhost:8080/"
        },
        "id": "vddY9BDHCjbd",
        "outputId": "d0582199-f498-4abc-cf84-b2e24eecc6cb"
      },
      "outputs": [],
      "source": [
        "%pip install -r ../requirements.txt"
      ]
    },
    {
      "cell_type": "markdown",
      "metadata": {
        "id": "AT-j8lqYrjKB"
      },
      "source": [
        "<h2> Importacion de libreria </h2>"
      ]
    },
    {
      "cell_type": "code",
      "execution_count": 18,
      "metadata": {
        "id": "5wQeiQ7nIaAM"
      },
      "outputs": [],
      "source": [
        "import pandas as pd\n",
        "\n",
        "import pyarrow\n",
        "import gzip\n",
        "import warnings\n",
        "warnings.filterwarnings(\"ignore\")\n",
        "import numpy as np"
      ]
    },
    {
      "cell_type": "markdown",
      "metadata": {
        "id": "MYR-JbB8t9aM"
      },
      "source": [
        "<h2>Rutas </h2>"
      ]
    },
    {
      "cell_type": "code",
      "execution_count": 19,
      "metadata": {
        "id": "254Folz_IiEA"
      },
      "outputs": [],
      "source": [
        "path = '../path.txt'"
      ]
    },
    {
      "cell_type": "markdown",
      "metadata": {
        "id": "nDemhfVrISFr"
      },
      "source": [
        "<h3 align=left> Funciones</h3>\n"
      ]
    },
    {
      "cell_type": "code",
      "execution_count": 20,
      "metadata": {
        "id": "r4-G4nOSURhN"
      },
      "outputs": [],
      "source": [
        "def positivos(valor:float|int) -> float|int:\n",
        "    if type(valor) == float:\n",
        "        return float(abs(valor))\n",
        "    else:\n",
        "        return int(abs(valor))"
      ]
    },
    {
      "cell_type": "code",
      "execution_count": 21,
      "metadata": {
        "id": "p-UNp1Nmc1bY"
      },
      "outputs": [],
      "source": [
        "def verificacion_nulos(data:pd.DataFrame) -> dict:\n",
        "    porcentaje_nulos_dict = {}\n",
        "    for columna in data.columns:\n",
        "        nulos = data[columna].isnull().sum()\n",
        "        total = len(data[columna])\n",
        "        porcentaje = round(nulos/total*100,2)\n",
        "        porcentaje_nulos_dict[columna] = porcentaje\n",
        "        print(f'\\nColumna: {columna:<20}      Cantidad de nulos: {nulos:<7}      Porcentaje de nulos: {str(porcentaje) + \" %\":<8}\\n')\n",
        "    return porcentaje_nulos_dict\n"
      ]
    },
    {
      "cell_type": "code",
      "execution_count": 22,
      "metadata": {
        "id": "hszboYKh0Yph"
      },
      "outputs": [],
      "source": [
        "def corregir_NaN_float(valor:float) -> float:\n",
        "    if pd.isnull(valor):\n",
        "        return float(-1)\n",
        "    else:\n",
        "        return float(valor)"
      ]
    },
    {
      "cell_type": "code",
      "execution_count": 23,
      "metadata": {
        "id": "GDSx3G-N1QI5"
      },
      "outputs": [],
      "source": [
        "def corregir_NaN_int(valor:float) -> int:\n",
        "    if pd.isnull(valor):\n",
        "        return int(-1)\n",
        "    else:\n",
        "        return int(valor)"
      ]
    },
    {
      "cell_type": "code",
      "execution_count": 24,
      "metadata": {
        "id": "63ydpFbL44jw"
      },
      "outputs": [],
      "source": [
        "def calcular_mediana_float(data:pd.Series) -> float:\n",
        "    return float(round(data.median(), 2))\n"
      ]
    },
    {
      "cell_type": "code",
      "execution_count": 25,
      "metadata": {
        "id": "Km1BvP6z5V3I"
      },
      "outputs": [],
      "source": [
        "def calcular_mediana_int(data:pd.Series) -> int:\n",
        "    return int(data.median())"
      ]
    },
    {
      "cell_type": "code",
      "execution_count": 26,
      "metadata": {
        "id": "2lAn4v6P4TaU"
      },
      "outputs": [],
      "source": [
        "def corregir_NaN_mediana_int(columna:str, data:pd.DataFrame) -> None:\n",
        "    mediana = mediana_columna_int(data[columna][~data[columna].isnull()])\n",
        "    def mediana_f(valor:float) -> int:\n",
        "        if pd.isnull(valor):\n",
        "            return int(mediana)\n",
        "        else:\n",
        "            return int(valor)\n",
        "    data[columna] = data[columna].apply(mediana_f)\n"
      ]
    },
    {
      "cell_type": "code",
      "execution_count": 27,
      "metadata": {
        "id": "j0dskd7y4cpC"
      },
      "outputs": [],
      "source": [
        "def corregir_NaN_mediana_float(columna:str, data:pd.DataFrame) -> None:\n",
        "    mediana = mediana_columna_float(data[columna][~data[columna].isnull()])\n",
        "    def mediana_f(valor:float) -> float:\n",
        "        if pd.isnull(valor):\n",
        "            return float(mediana)\n",
        "        else:\n",
        "            return float(valor)\n",
        "    data[columna] = data[columna].apply(mediana_f)\n"
      ]
    },
    {
      "cell_type": "code",
      "execution_count": 28,
      "metadata": {
        "id": "wyPzTf1mCENf"
      },
      "outputs": [],
      "source": [
        "def chequear_duplicados(data:pd.DataFrame) -> None:\n",
        "    duplicados = data.duplicated().sum()\n",
        "    total = len(data)\n",
        "    porcentaje = round(duplicados/total*100,2)\n",
        "    print(f'\\nCantidad de duplicados: {duplicados:<7}      Porcentaje de duplicados: {str(porcentaje) + \" %\":<8}\\n')\n",
        "    if duplicados > 0:\n",
        "         data = data.drop_duplicates()\n",
        "         print(f'Se eliminaron {duplicados} registros duplicados.')\n"
      ]
    },
    {
      "cell_type": "code",
      "execution_count": 29,
      "metadata": {
        "id": "LQjDMlTA8IyY"
      },
      "outputs": [],
      "source": [
        "def testear_outliers(data: pd.DataFrame) -> None:\n",
        "    columnas_outliers = []\n",
        "    for columna in data.columns[2:]:\n",
        "        omitir_columnas = ['zona_inicio', 'zona_fin', 'modalidad_pago', 'hora_inicio', 'hora_fin']\n",
        "        if columna in omitir_columnas:\n",
        "            continue\n",
        "        q1 = data[columna][data[columna] > -1].quantile(0.25)\n",
        "        q3 = data[columna][data[columna] > -1].quantile(0.75)\n",
        "        iqr = q3 - q1\n",
        "        modal = ''\n",
        "        for valor in data[columna][data[columna] > -1].mode().to_list():\n",
        "            modal += str(valor) + ', '\n",
        "        modal = modal[:-2]\n",
        "        promedio = round(data[columna][data[columna] > -1].mean(), 2)\n",
        "        mediana = round(data[columna][data[columna] > -1].median(), 2)\n",
        "        limite_superior = round(q3 + 1.5 * iqr, 2)\n",
        "        limite_inferior = round(q1 - 1.5 * iqr, 2)\n",
        "        if limite_inferior < 0:\n",
        "            limite_inferior = 0\n",
        "        outliers = data[columna][(data[columna] > limite_superior) | (data[columna] < limite_inferior)].count()\n",
        "        if outliers > 0:\n",
        "            columnas_outliers.append({'Columna': columna, 'Cantidad de outliers': outliers,\n",
        "                                    'Límite inferior': limite_inferior, 'Límite superior': limite_superior,\n",
        "                                    'Índices': data[(data[columna] < limite_inferior) | (data[columna] > limite_superior)].index.to_list()})\n",
        "        print(f'\\nColumna: {columna:<20}\\n\\nModal: {modal:<24} Promedio: {promedio:<24} Mediana: {mediana:<24}\\n\\nLímite inferior: {limite_inferior:<14} Límite superior: {limite_superior:<17} Outliers: {outliers:<16}\\n\\n')\n",
        "        bins = (int(data[columna].max() +1) if data[columna].max() <= 40 else 40)\n",
        "        plt.figure(figsize=(3,3))\n",
        "        plt.hist(data[columna][data[columna] > -1], bins=bins, edgecolor='black')\n",
        "        plt.title(f'Histograma de {columna}')\n",
        "        plt.xlabel('Valor')\n",
        "        plt.ylabel('Frecuencia')\n",
        "        plt.show()\n",
        "        print('\\n\\n')\n",
        "        plt.figure(figsize=(3,3))\n",
        "        plt.boxplot(data[columna][data[columna] > -1])\n",
        "        plt.title(f'Boxplot de {columna}')\n",
        "        plt.xlabel('Valor')\n",
        "        plt.ylabel('Frecuencia')\n",
        "        plt.show()\n",
        "        print('\\n\\n\\n\\n')"
      ]
    },
    {
      "cell_type": "markdown",
      "metadata": {
        "id": "TzKkWs0hR7om"
      },
      "source": [
        "Vemos que hay varias cosas para revisar, por lo que debemos hacer un EDA más profundo para cada columna. Después hay que hacer una función para solucionar esos problemas y volver a revisar la función de outliers."
      ]
    },
    {
      "cell_type": "markdown",
      "metadata": {
        "id": "esgAVbHJgXWB"
      },
      "source": [
        "<h2 align=left> Extraccion</h2>"
      ]
    },
    {
      "cell_type": "code",
      "execution_count": 30,
      "metadata": {
        "id": "A7vQcHgaW7zP"
      },
      "outputs": [],
      "source": [
        "  # Con esta funcion se lee cada linea que se toma como una variables con un string asignado\n",
        "\n",
        "  with open(path, 'r') as archivo:\n",
        "      for linea in archivo.readlines():\n",
        "          exec(linea.strip(), globals())"
      ]
    },
    {
      "cell_type": "code",
      "execution_count": 31,
      "metadata": {
        "id": "CPJQ_n-xTqk9"
      },
      "outputs": [],
      "source": [
        "df_taxis_verdes = pd.read_parquet(verdes_01_21, engine='pyarrow')"
      ]
    },
    {
      "cell_type": "markdown",
      "metadata": {
        "id": "NCwl7IYxSzWe"
      },
      "source": [
        "<h1>Taxis</h2>"
      ]
    },
    {
      "cell_type": "markdown",
      "metadata": {
        "id": "dBw4UNbeIiHX"
      },
      "source": [
        "<h2 align=Center> Transformacion de datos</h2>\n",
        "\n"
      ]
    },
    {
      "cell_type": "code",
      "execution_count": 32,
      "metadata": {
        "colab": {
          "base_uri": "https://localhost:8080/"
        },
        "id": "wXFUjIMmUElq",
        "outputId": "3fff7fbf-e6ae-42e7-9c2b-0f12a364c014"
      },
      "outputs": [
        {
          "data": {
            "text/plain": [
              "Index(['VendorID', 'lpep_pickup_datetime', 'lpep_dropoff_datetime',\n",
              "       'store_and_fwd_flag', 'RatecodeID', 'PULocationID', 'DOLocationID',\n",
              "       'passenger_count', 'trip_distance', 'fare_amount', 'extra', 'mta_tax',\n",
              "       'tip_amount', 'tolls_amount', 'ehail_fee', 'improvement_surcharge',\n",
              "       'total_amount', 'payment_type', 'trip_type', 'congestion_surcharge'],\n",
              "      dtype='object')"
            ]
          },
          "execution_count": 32,
          "metadata": {},
          "output_type": "execute_result"
        }
      ],
      "source": [
        "df_taxis_verdes.columns\n"
      ]
    },
    {
      "cell_type": "code",
      "execution_count": 33,
      "metadata": {
        "id": "P-QVVVnCJUG_"
      },
      "outputs": [],
      "source": [
        "renombre_columnas = {'tpep_pickup_datetime': 'inicio', 'tpep_dropoff_datetime': 'fin', 'passenger_count': 'pasajeros',\n",
        "                  'trip_distance': 'distancia', 'PULocationID': 'zona_inicio', 'DOLocationID': 'zona_fin', 'fare_amount': 'tarifa_medida',\n",
        "                  'total_amount': 'tarifa_total', 'congestion_surcharge': 'recargo_trafico', 'payment_type': 'modalidad_pago',\n",
        "                  'tip_amount': 'propina', 'lpep_pickup_datetime': 'inicio', 'lpep_dropoff_datetime': 'fin'}"
      ]
    },
    {
      "cell_type": "code",
      "execution_count": 34,
      "metadata": {
        "colab": {
          "base_uri": "https://localhost:8080/"
        },
        "id": "fIAhGIR6Td9o",
        "outputId": "2ab031ea-f4bd-4c43-96cc-162d5aa870b0"
      },
      "outputs": [
        {
          "data": {
            "text/plain": [
              "Index(['VendorID', 'lpep_pickup_datetime', 'lpep_dropoff_datetime',\n",
              "       'store_and_fwd_flag', 'RatecodeID', 'PULocationID', 'DOLocationID',\n",
              "       'passenger_count', 'trip_distance', 'fare_amount', 'extra', 'mta_tax',\n",
              "       'tip_amount', 'tolls_amount', 'ehail_fee', 'improvement_surcharge',\n",
              "       'total_amount', 'payment_type', 'trip_type', 'congestion_surcharge'],\n",
              "      dtype='object')"
            ]
          },
          "execution_count": 34,
          "metadata": {},
          "output_type": "execute_result"
        }
      ],
      "source": [
        "df_taxis_verdes.columns"
      ]
    },
    {
      "cell_type": "code",
      "execution_count": 35,
      "metadata": {
        "id": "weSRUBZfbLAK"
      },
      "outputs": [],
      "source": [
        "df_taxis_verdes.rename(columns = renombre_columnas, inplace=True)"
      ]
    },
    {
      "cell_type": "code",
      "execution_count": 36,
      "metadata": {
        "colab": {
          "base_uri": "https://localhost:8080/"
        },
        "id": "fapxvuIBUR1X",
        "outputId": "4aa0a427-b76b-4e52-f052-656775de9c81"
      },
      "outputs": [
        {
          "data": {
            "text/plain": [
              "Index(['VendorID', 'inicio', 'fin', 'store_and_fwd_flag', 'RatecodeID',\n",
              "       'zona_inicio', 'zona_fin', 'pasajeros', 'distancia', 'tarifa_medida',\n",
              "       'extra', 'mta_tax', 'propina', 'tolls_amount', 'ehail_fee',\n",
              "       'improvement_surcharge', 'tarifa_total', 'modalidad_pago', 'trip_type',\n",
              "       'recargo_trafico'],\n",
              "      dtype='object')"
            ]
          },
          "execution_count": 36,
          "metadata": {},
          "output_type": "execute_result"
        }
      ],
      "source": [
        "df_taxis_verdes.columns"
      ]
    },
    {
      "cell_type": "code",
      "execution_count": 37,
      "metadata": {
        "id": "Sj2zwnGlbk51"
      },
      "outputs": [],
      "source": [
        "columnas_a_borrar = []\n",
        "for columna in df_taxis_verdes.columns:\n",
        "    if columna not in renombre_columnas.values():\n",
        "        columnas_a_borrar.append(columna)"
      ]
    },
    {
      "cell_type": "code",
      "execution_count": 38,
      "metadata": {
        "id": "NX3Tr3nsb4Ll"
      },
      "outputs": [],
      "source": [
        "df_taxis_verdes.drop(columnas_a_borrar, axis=1, inplace=True)"
      ]
    },
    {
      "cell_type": "code",
      "execution_count": 39,
      "metadata": {
        "colab": {
          "base_uri": "https://localhost:8080/"
        },
        "id": "wiOHGqaMb5p3",
        "outputId": "49edd269-b844-4ac3-e091-6338c0bb1479"
      },
      "outputs": [
        {
          "name": "stdout",
          "output_type": "stream",
          "text": [
            "<class 'pandas.core.frame.DataFrame'>\n",
            "RangeIndex: 76518 entries, 0 to 76517\n",
            "Data columns (total 11 columns):\n",
            " #   Column           Non-Null Count  Dtype         \n",
            "---  ------           --------------  -----         \n",
            " 0   inicio           76518 non-null  datetime64[us]\n",
            " 1   fin              76518 non-null  datetime64[us]\n",
            " 2   zona_inicio      76518 non-null  int64         \n",
            " 3   zona_fin         76518 non-null  int64         \n",
            " 4   pasajeros        40471 non-null  float64       \n",
            " 5   distancia        76518 non-null  float64       \n",
            " 6   tarifa_medida    76518 non-null  float64       \n",
            " 7   propina          76518 non-null  float64       \n",
            " 8   tarifa_total     76518 non-null  float64       \n",
            " 9   modalidad_pago   40471 non-null  float64       \n",
            " 10  recargo_trafico  40471 non-null  float64       \n",
            "dtypes: datetime64[us](2), float64(7), int64(2)\n",
            "memory usage: 6.4 MB\n"
          ]
        }
      ],
      "source": [
        "df_taxis_verdes.info()"
      ]
    },
    {
      "cell_type": "markdown",
      "metadata": {
        "id": "y2My-JWNTpoG"
      },
      "source": [
        "## Manejo de datos nulos\n",
        "\n",
        "Avanzando con el EDA nos econtramos con valores negativos en varias columnas. Antes de convertir los NaN a -1, normalizamos esos valores."
      ]
    },
    {
      "cell_type": "code",
      "execution_count": 40,
      "metadata": {
        "colab": {
          "base_uri": "https://localhost:8080/"
        },
        "id": "AsQcGbz3TmQw",
        "outputId": "debfaf5b-4be7-41e6-aac8-9db81c9c4202"
      },
      "outputs": [
        {
          "data": {
            "text/plain": [
              "False"
            ]
          },
          "execution_count": 40,
          "metadata": {},
          "output_type": "execute_result"
        }
      ],
      "source": [
        "df_taxis_verdes.isnull().sum().all()\n"
      ]
    },
    {
      "cell_type": "code",
      "execution_count": 41,
      "metadata": {
        "id": "Tf1eSUWWUnPe"
      },
      "outputs": [],
      "source": [
        "for columna in df_taxis_verdes.columns[2:]:\n",
        "    df_taxis_verdes[columna] = df_taxis_verdes[columna].apply(positivos)\n"
      ]
    },
    {
      "cell_type": "markdown",
      "metadata": {
        "id": "5FIjnv_wcnMO"
      },
      "source": [
        "## Verificamos nulos o faltantes en cada columna:"
      ]
    },
    {
      "cell_type": "code",
      "execution_count": 42,
      "metadata": {
        "colab": {
          "base_uri": "https://localhost:8080/"
        },
        "id": "XgHnXtRA1-F-",
        "outputId": "1fbdf792-474c-4a9c-e5e7-2dc92424e472"
      },
      "outputs": [
        {
          "name": "stdout",
          "output_type": "stream",
          "text": [
            "\n",
            "Columna: inicio                    Cantidad de nulos: 0            Porcentaje de nulos: 0.0 %   \n",
            "\n",
            "\n",
            "Columna: fin                       Cantidad de nulos: 0            Porcentaje de nulos: 0.0 %   \n",
            "\n",
            "\n",
            "Columna: zona_inicio               Cantidad de nulos: 0            Porcentaje de nulos: 0.0 %   \n",
            "\n",
            "\n",
            "Columna: zona_fin                  Cantidad de nulos: 0            Porcentaje de nulos: 0.0 %   \n",
            "\n",
            "\n",
            "Columna: pasajeros                 Cantidad de nulos: 36047        Porcentaje de nulos: 47.11 % \n",
            "\n",
            "\n",
            "Columna: distancia                 Cantidad de nulos: 0            Porcentaje de nulos: 0.0 %   \n",
            "\n",
            "\n",
            "Columna: tarifa_medida             Cantidad de nulos: 0            Porcentaje de nulos: 0.0 %   \n",
            "\n",
            "\n",
            "Columna: propina                   Cantidad de nulos: 0            Porcentaje de nulos: 0.0 %   \n",
            "\n",
            "\n",
            "Columna: tarifa_total              Cantidad de nulos: 0            Porcentaje de nulos: 0.0 %   \n",
            "\n",
            "\n",
            "Columna: modalidad_pago            Cantidad de nulos: 36047        Porcentaje de nulos: 47.11 % \n",
            "\n",
            "\n",
            "Columna: recargo_trafico           Cantidad de nulos: 36047        Porcentaje de nulos: 47.11 % \n",
            "\n"
          ]
        }
      ],
      "source": [
        "nulos_dict = verificacion_nulos(df_taxis_verdes)"
      ]
    },
    {
      "cell_type": "markdown",
      "metadata": {
        "id": "hzhQf1z6m4LK"
      },
      "source": [
        "Dado que todas las columnas son numéricas a excepción de la columna fecha, los nulos de esas columnas los reemplazamos por -1. Las columnas 'pasajeros', 'zona_inicio' y 'zona_fin' tienen que ser enteros, el resto float.\n",
        "\n",
        "Se tomó la decision de establecer un limite de hasta el 10% en cuanto AL porcentaje de nulos permitido para no realizar cambio. En caso de ser menor los nulos seran reemplazados por la mediana de la columna. En el caso contrario tomarán el valor de -1. Esta medida no se aplicará en las columnas 'zona_inicio' y 'zona_fin', ya que estas representan una numeración que se relaciona con los datos del mapa. Si las columnas mencionadas contienen NaN, se reemplazarán estos valores por -1."
      ]
    },
    {
      "cell_type": "code",
      "execution_count": 43,
      "metadata": {
        "id": "gFb-QNGLxZrX"
      },
      "outputs": [],
      "source": [
        "for columna in df_taxis_verdes.columns[2:]:\n",
        "    if df_taxis_verdes[columna].isnull().sum() == 0:\n",
        "        continue\n",
        "    else:\n",
        "        if columna == 'zona_inicio' or columna == 'zona_fin':\n",
        "            df_taxis_verdes[columna] = df_taxis_verdes[columna].apply(corregir_NaN_int)\n",
        "        elif columna == 'pasajeros':\n",
        "            if nulos_dict[columna] >= 10:\n",
        "                df_taxis_verdes[columna] = df_taxis_verdes[columna].apply(corregir_NaN_int)\n",
        "            else:\n",
        "                corregir_NaN_mediana_int(columna, df_taxis_verdes)\n",
        "        else:\n",
        "            if nulos_dict[columna] >= 10:\n",
        "                df_taxis_verdes[columna] = df_taxis_verdes[columna].apply(corregir_NaN_float)\n",
        "            else:\n",
        "                corregir_NaN_mediana_float(columna, df_taxis_verdes)\n",
        "\n",
        "\n",
        "\n"
      ]
    },
    {
      "cell_type": "code",
      "execution_count": 44,
      "metadata": {
        "id": "ffp9JlJxa1VE"
      },
      "outputs": [
        {
          "data": {
            "text/plain": [
              "(76518, 11)"
            ]
          },
          "execution_count": 44,
          "metadata": {},
          "output_type": "execute_result"
        }
      ],
      "source": [
        "df_taxis_verdes.shape"
      ]
    },
    {
      "cell_type": "code",
      "execution_count": 45,
      "metadata": {
        "id": "erWvxpaRaW4j"
      },
      "outputs": [],
      "source": [
        "df_taxis_verdes.to_csv(ETL,index=False)"
      ]
    },
    {
      "cell_type": "code",
      "execution_count": 46,
      "metadata": {
        "colab": {
          "base_uri": "https://localhost:8080/",
          "height": 399
        },
        "id": "DKTTP7izxUBX",
        "outputId": "f63d14f0-8e15-4bff-ec61-123dbb8497a9"
      },
      "outputs": [
        {
          "data": {
            "text/html": [
              "<div>\n",
              "<style scoped>\n",
              "    .dataframe tbody tr th:only-of-type {\n",
              "        vertical-align: middle;\n",
              "    }\n",
              "\n",
              "    .dataframe tbody tr th {\n",
              "        vertical-align: top;\n",
              "    }\n",
              "\n",
              "    .dataframe thead th {\n",
              "        text-align: right;\n",
              "    }\n",
              "</style>\n",
              "<table border=\"1\" class=\"dataframe\">\n",
              "  <thead>\n",
              "    <tr style=\"text-align: right;\">\n",
              "      <th></th>\n",
              "      <th>inicio</th>\n",
              "      <th>fin</th>\n",
              "      <th>zona_inicio</th>\n",
              "      <th>zona_fin</th>\n",
              "      <th>pasajeros</th>\n",
              "      <th>distancia</th>\n",
              "      <th>tarifa_medida</th>\n",
              "      <th>propina</th>\n",
              "      <th>tarifa_total</th>\n",
              "      <th>modalidad_pago</th>\n",
              "      <th>recargo_trafico</th>\n",
              "    </tr>\n",
              "  </thead>\n",
              "  <tbody>\n",
              "    <tr>\n",
              "      <th>0</th>\n",
              "      <td>2021-01-01 00:15:56</td>\n",
              "      <td>2021-01-01 00:19:52</td>\n",
              "      <td>43</td>\n",
              "      <td>151</td>\n",
              "      <td>1</td>\n",
              "      <td>1.01</td>\n",
              "      <td>5.5</td>\n",
              "      <td>0.00</td>\n",
              "      <td>6.80</td>\n",
              "      <td>2.0</td>\n",
              "      <td>0.00</td>\n",
              "    </tr>\n",
              "    <tr>\n",
              "      <th>1</th>\n",
              "      <td>2021-01-01 00:25:59</td>\n",
              "      <td>2021-01-01 00:34:44</td>\n",
              "      <td>166</td>\n",
              "      <td>239</td>\n",
              "      <td>1</td>\n",
              "      <td>2.53</td>\n",
              "      <td>10.0</td>\n",
              "      <td>2.81</td>\n",
              "      <td>16.86</td>\n",
              "      <td>1.0</td>\n",
              "      <td>2.75</td>\n",
              "    </tr>\n",
              "    <tr>\n",
              "      <th>2</th>\n",
              "      <td>2021-01-01 00:45:57</td>\n",
              "      <td>2021-01-01 00:51:55</td>\n",
              "      <td>41</td>\n",
              "      <td>42</td>\n",
              "      <td>1</td>\n",
              "      <td>1.12</td>\n",
              "      <td>6.0</td>\n",
              "      <td>1.00</td>\n",
              "      <td>8.30</td>\n",
              "      <td>1.0</td>\n",
              "      <td>0.00</td>\n",
              "    </tr>\n",
              "    <tr>\n",
              "      <th>3</th>\n",
              "      <td>2020-12-31 23:57:51</td>\n",
              "      <td>2021-01-01 00:04:56</td>\n",
              "      <td>168</td>\n",
              "      <td>75</td>\n",
              "      <td>1</td>\n",
              "      <td>1.99</td>\n",
              "      <td>8.0</td>\n",
              "      <td>0.00</td>\n",
              "      <td>9.30</td>\n",
              "      <td>2.0</td>\n",
              "      <td>0.00</td>\n",
              "    </tr>\n",
              "    <tr>\n",
              "      <th>4</th>\n",
              "      <td>2021-01-01 00:16:36</td>\n",
              "      <td>2021-01-01 00:16:40</td>\n",
              "      <td>265</td>\n",
              "      <td>265</td>\n",
              "      <td>3</td>\n",
              "      <td>0.00</td>\n",
              "      <td>52.0</td>\n",
              "      <td>0.00</td>\n",
              "      <td>52.80</td>\n",
              "      <td>3.0</td>\n",
              "      <td>0.00</td>\n",
              "    </tr>\n",
              "  </tbody>\n",
              "</table>\n",
              "</div>"
            ],
            "text/plain": [
              "               inicio                 fin  zona_inicio  zona_fin  pasajeros  \\\n",
              "0 2021-01-01 00:15:56 2021-01-01 00:19:52           43       151          1   \n",
              "1 2021-01-01 00:25:59 2021-01-01 00:34:44          166       239          1   \n",
              "2 2021-01-01 00:45:57 2021-01-01 00:51:55           41        42          1   \n",
              "3 2020-12-31 23:57:51 2021-01-01 00:04:56          168        75          1   \n",
              "4 2021-01-01 00:16:36 2021-01-01 00:16:40          265       265          3   \n",
              "\n",
              "   distancia  tarifa_medida  propina  tarifa_total  modalidad_pago  \\\n",
              "0       1.01            5.5     0.00          6.80             2.0   \n",
              "1       2.53           10.0     2.81         16.86             1.0   \n",
              "2       1.12            6.0     1.00          8.30             1.0   \n",
              "3       1.99            8.0     0.00          9.30             2.0   \n",
              "4       0.00           52.0     0.00         52.80             3.0   \n",
              "\n",
              "   recargo_trafico  \n",
              "0             0.00  \n",
              "1             2.75  \n",
              "2             0.00  \n",
              "3             0.00  \n",
              "4             0.00  "
            ]
          },
          "execution_count": 46,
          "metadata": {},
          "output_type": "execute_result"
        }
      ],
      "source": [
        "df_taxis_verdes.head()"
      ]
    },
    {
      "cell_type": "code",
      "execution_count": 47,
      "metadata": {
        "colab": {
          "base_uri": "https://localhost:8080/"
        },
        "id": "XiVgZwjCSVHq",
        "outputId": "8fa5e7cc-01a6-4f73-ef70-74db59c202a1"
      },
      "outputs": [
        {
          "data": {
            "text/plain": [
              "Index(['inicio', 'fin', 'zona_inicio', 'zona_fin', 'pasajeros', 'distancia',\n",
              "       'tarifa_medida', 'propina', 'tarifa_total', 'modalidad_pago',\n",
              "       'recargo_trafico'],\n",
              "      dtype='object')"
            ]
          },
          "execution_count": 47,
          "metadata": {},
          "output_type": "execute_result"
        }
      ],
      "source": [
        "df_taxis_verdes.columns"
      ]
    },
    {
      "cell_type": "code",
      "execution_count": 48,
      "metadata": {
        "colab": {
          "base_uri": "https://localhost:8080/"
        },
        "id": "TsA38QFhq3aW",
        "outputId": "a85b524c-e812-4c4c-9270-19cfc7902982"
      },
      "outputs": [
        {
          "data": {
            "text/plain": [
              "inicio             2670\n",
              "fin                2670\n",
              "zona_inicio        2670\n",
              "zona_fin           2670\n",
              "pasajeros          2670\n",
              "distancia          2670\n",
              "tarifa_medida      2670\n",
              "propina            2670\n",
              "tarifa_total       2670\n",
              "modalidad_pago     2670\n",
              "recargo_trafico    2670\n",
              "dtype: int64"
            ]
          },
          "execution_count": 48,
          "metadata": {},
          "output_type": "execute_result"
        }
      ],
      "source": [
        "df_taxis_verdes[(df_taxis_verdes['pasajeros'] == 0) | (df_taxis_verdes['distancia'] == 0)].count()"
      ]
    },
    {
      "cell_type": "code",
      "execution_count": null,
      "metadata": {
        "id": "ukRhsEUQaOqG"
      },
      "outputs": [],
      "source": []
    },
    {
      "cell_type": "markdown",
      "metadata": {
        "id": "jbzL3tVA9IqC"
      },
      "source": [
        "Vemos que hay varias cosas para revisar, por lo que debemos hacer un EDA más profundo para cada columna. Después hay que hacer una función para solucionar esos problemas y volver a revisar la función de outliers."
      ]
    },
    {
      "cell_type": "markdown",
      "metadata": {
        "id": "6O0IeghTJTu2"
      },
      "source": [
        "<h2 align=Center> Carga de datos</h2>\n",
        "\n",
        "\n"
      ]
    },
    {
      "cell_type": "code",
      "execution_count": null,
      "metadata": {
        "id": "cUjBt8ylKWQM"
      },
      "outputs": [],
      "source": []
    }
  ],
  "metadata": {
    "colab": {
      "provenance": []
    },
    "kernelspec": {
      "display_name": "Python 3",
      "name": "python3"
    },
    "language_info": {
      "codemirror_mode": {
        "name": "ipython",
        "version": 3
      },
      "file_extension": ".py",
      "mimetype": "text/x-python",
      "name": "python",
      "nbconvert_exporter": "python",
      "pygments_lexer": "ipython3",
      "version": "3.11.4"
    }
  },
  "nbformat": 4,
  "nbformat_minor": 0
}
