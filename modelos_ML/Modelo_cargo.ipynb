{
 "cells": [
  {
   "cell_type": "code",
   "execution_count": 10,
   "metadata": {},
   "outputs": [
    {
     "name": "stdout",
     "output_type": "stream",
     "text": [
      "Collecting asttokens==2.4.1 (from -r ../requirements.txt (line 1))Note: you may need to restart the kernel to use updated packages.\n",
      "\n",
      "  Using cached asttokens-2.4.1-py2.py3-none-any.whl (27 kB)\n",
      "Collecting branca==0.7.2 (from -r ../requirements.txt (line 2))\n",
      "  Using cached branca-0.7.2-py3-none-any.whl (25 kB)\n",
      "Requirement already satisfied: certifi==2024.2.2 in c:\\users\\angel\\appdata\\local\\programs\\python\\python311\\lib\\site-packages (from -r ../requirements.txt (line 3)) (2024.2.2)\n",
      "Requirement already satisfied: charset-normalizer==3.3.2 in c:\\users\\angel\\appdata\\local\\programs\\python\\python311\\lib\\site-packages (from -r ../requirements.txt (line 4)) (3.3.2)\n",
      "Requirement already satisfied: colorama==0.4.6 in c:\\users\\angel\\appdata\\roaming\\python\\python311\\site-packages (from -r ../requirements.txt (line 5)) (0.4.6)\n",
      "Collecting comm==0.2.2 (from -r ../requirements.txt (line 6))\n",
      "  Using cached comm-0.2.2-py3-none-any.whl (7.2 kB)\n",
      "Collecting contourpy==1.2.1 (from -r ../requirements.txt (line 7))\n",
      "  Using cached contourpy-1.2.1-cp311-cp311-win_amd64.whl (188 kB)\n",
      "Requirement already satisfied: cycler==0.12.1 in c:\\users\\angel\\appdata\\local\\programs\\python\\python311\\lib\\site-packages (from -r ../requirements.txt (line 8)) (0.12.1)\n",
      "Collecting debugpy==1.8.1 (from -r ../requirements.txt (line 9))\n",
      "  Using cached debugpy-1.8.1-cp311-cp311-win_amd64.whl (4.7 MB)\n",
      "Requirement already satisfied: decorator==5.1.1 in c:\\users\\angel\\appdata\\roaming\\python\\python311\\site-packages (from -r ../requirements.txt (line 10)) (5.1.1)\n",
      "Collecting executing==2.0.1 (from -r ../requirements.txt (line 11))\n",
      "  Using cached executing-2.0.1-py2.py3-none-any.whl (24 kB)\n",
      "Requirement already satisfied: folium==0.16.0 in c:\\users\\angel\\appdata\\local\\programs\\python\\python311\\lib\\site-packages (from -r ../requirements.txt (line 12)) (0.16.0)\n",
      "Collecting fonttools==4.51.0 (from -r ../requirements.txt (line 13))\n",
      "  Using cached fonttools-4.51.0-cp311-cp311-win_amd64.whl (2.2 MB)\n",
      "Requirement already satisfied: idna==3.7 in c:\\users\\angel\\appdata\\local\\programs\\python\\python311\\lib\\site-packages (from -r ../requirements.txt (line 14)) (3.7)\n",
      "Collecting ipykernel==6.29.4 (from -r ../requirements.txt (line 15))\n",
      "  Using cached ipykernel-6.29.4-py3-none-any.whl (117 kB)\n",
      "Collecting ipython==8.24.0 (from -r ../requirements.txt (line 16))\n",
      "  Using cached ipython-8.24.0-py3-none-any.whl (816 kB)\n",
      "Collecting jedi==0.19.1 (from -r ../requirements.txt (line 17))\n",
      "  Using cached jedi-0.19.1-py2.py3-none-any.whl (1.6 MB)\n",
      "Collecting Jinja2==3.1.4 (from -r ../requirements.txt (line 18))\n",
      "  Using cached jinja2-3.1.4-py3-none-any.whl (133 kB)\n",
      "Collecting jupyter_client==8.6.1 (from -r ../requirements.txt (line 19))\n",
      "  Using cached jupyter_client-8.6.1-py3-none-any.whl (105 kB)\n",
      "Collecting jupyter_core==5.7.2 (from -r ../requirements.txt (line 20))\n",
      "  Using cached jupyter_core-5.7.2-py3-none-any.whl (28 kB)\n",
      "Requirement already satisfied: kiwisolver==1.4.5 in c:\\users\\angel\\appdata\\local\\programs\\python\\python311\\lib\\site-packages (from -r ../requirements.txt (line 21)) (1.4.5)\n",
      "Requirement already satisfied: MarkupSafe==2.1.5 in c:\\users\\angel\\appdata\\local\\programs\\python\\python311\\lib\\site-packages (from -r ../requirements.txt (line 22)) (2.1.5)\n",
      "Collecting matplotlib==3.8.4 (from -r ../requirements.txt (line 23))\n",
      "  Using cached matplotlib-3.8.4-cp311-cp311-win_amd64.whl (7.7 MB)\n",
      "Collecting matplotlib-inline==0.1.7 (from -r ../requirements.txt (line 24))\n",
      "  Using cached matplotlib_inline-0.1.7-py3-none-any.whl (9.9 kB)\n",
      "Collecting nest-asyncio==1.6.0 (from -r ../requirements.txt (line 25))\n",
      "  Using cached nest_asyncio-1.6.0-py3-none-any.whl (5.2 kB)\n",
      "Collecting numpy==1.26.4 (from -r ../requirements.txt (line 26))\n",
      "  Using cached numpy-1.26.4-cp311-cp311-win_amd64.whl (15.8 MB)\n",
      "Collecting packaging==24.0 (from -r ../requirements.txt (line 27))\n",
      "  Using cached packaging-24.0-py3-none-any.whl (53 kB)\n",
      "Collecting pandas==2.0.3 (from -r ../requirements.txt (line 28))\n",
      "  Using cached pandas-2.0.3-cp311-cp311-win_amd64.whl (10.6 MB)\n",
      "Collecting parso==0.8.4 (from -r ../requirements.txt (line 29))\n",
      "  Using cached parso-0.8.4-py2.py3-none-any.whl (103 kB)\n",
      "Collecting pillow==10.3.0 (from -r ../requirements.txt (line 30))\n",
      "  Using cached pillow-10.3.0-cp311-cp311-win_amd64.whl (2.5 MB)\n",
      "Collecting platformdirs==4.2.1 (from -r ../requirements.txt (line 31))\n",
      "  Using cached platformdirs-4.2.1-py3-none-any.whl (17 kB)\n",
      "Collecting prompt-toolkit==3.0.43 (from -r ../requirements.txt (line 32))\n",
      "  Using cached prompt_toolkit-3.0.43-py3-none-any.whl (386 kB)\n",
      "Requirement already satisfied: psutil==5.9.8 in c:\\users\\angel\\appdata\\local\\programs\\python\\python311\\lib\\site-packages (from -r ../requirements.txt (line 33)) (5.9.8)\n",
      "Requirement already satisfied: pure-eval==0.2.2 in c:\\users\\angel\\appdata\\roaming\\python\\python311\\site-packages (from -r ../requirements.txt (line 34)) (0.2.2)\n",
      "Collecting pyarrow==16.0.0 (from -r ../requirements.txt (line 35))\n",
      "  Using cached pyarrow-16.0.0-cp311-cp311-win_amd64.whl (25.9 MB)\n",
      "Requirement already satisfied: Pygments==2.18.0 in c:\\users\\angel\\appdata\\local\\programs\\python\\python311\\lib\\site-packages (from -r ../requirements.txt (line 36)) (2.18.0)\n",
      "Requirement already satisfied: pyparsing==3.1.2 in c:\\users\\angel\\appdata\\local\\programs\\python\\python311\\lib\\site-packages (from -r ../requirements.txt (line 37)) (3.1.2)\n",
      "Requirement already satisfied: python-dateutil==2.9.0.post0 in c:\\users\\angel\\appdata\\local\\programs\\python\\python311\\lib\\site-packages (from -r ../requirements.txt (line 38)) (2.9.0.post0)\n",
      "Requirement already satisfied: pytz==2024.1 in c:\\users\\angel\\appdata\\local\\programs\\python\\python311\\lib\\site-packages (from -r ../requirements.txt (line 39)) (2024.1)\n",
      "Requirement already satisfied: pyzmq==26.0.3 in c:\\users\\angel\\appdata\\local\\programs\\python\\python311\\lib\\site-packages (from -r ../requirements.txt (line 41)) (26.0.3)\n",
      "Requirement already satisfied: requests==2.31.0 in c:\\users\\angel\\appdata\\local\\programs\\python\\python311\\lib\\site-packages (from -r ../requirements.txt (line 42)) (2.31.0)\n",
      "Requirement already satisfied: seaborn==0.13.2 in c:\\users\\angel\\appdata\\local\\programs\\python\\python311\\lib\\site-packages (from -r ../requirements.txt (line 43)) (0.13.2)\n",
      "Requirement already satisfied: six==1.16.0 in c:\\users\\angel\\appdata\\roaming\\python\\python311\\site-packages (from -r ../requirements.txt (line 44)) (1.16.0)\n",
      "Collecting stack-data==0.6.3 (from -r ../requirements.txt (line 45))\n",
      "  Using cached stack_data-0.6.3-py3-none-any.whl (24 kB)\n",
      "Requirement already satisfied: tornado==6.4 in c:\\users\\angel\\appdata\\local\\programs\\python\\python311\\lib\\site-packages (from -r ../requirements.txt (line 46)) (6.4)\n",
      "Requirement already satisfied: traitlets==5.14.3 in c:\\users\\angel\\appdata\\local\\programs\\python\\python311\\lib\\site-packages (from -r ../requirements.txt (line 47)) (5.14.3)\n",
      "Requirement already satisfied: typing_extensions==4.11.0 in c:\\users\\angel\\appdata\\local\\programs\\python\\python311\\lib\\site-packages (from -r ../requirements.txt (line 48)) (4.11.0)\n",
      "Requirement already satisfied: tzdata==2024.1 in c:\\users\\angel\\appdata\\local\\programs\\python\\python311\\lib\\site-packages (from -r ../requirements.txt (line 49)) (2024.1)\n",
      "Requirement already satisfied: urllib3==2.2.1 in c:\\users\\angel\\appdata\\local\\programs\\python\\python311\\lib\\site-packages (from -r ../requirements.txt (line 50)) (2.2.1)\n",
      "Requirement already satisfied: wcwidth==0.2.13 in c:\\users\\angel\\appdata\\local\\programs\\python\\python311\\lib\\site-packages (from -r ../requirements.txt (line 51)) (0.2.13)\n",
      "Requirement already satisfied: xyzservices==2024.4.0 in c:\\users\\angel\\appdata\\local\\programs\\python\\python311\\lib\\site-packages (from -r ../requirements.txt (line 52)) (2024.4.0)\n",
      "Requirement already satisfied: pywin32>=300 in c:\\users\\angel\\appdata\\roaming\\python\\python311\\site-packages (from jupyter_core==5.7.2->-r ../requirements.txt (line 20)) (306)\n",
      "Installing collected packages: prompt-toolkit, platformdirs, pillow, parso, packaging, numpy, nest-asyncio, matplotlib-inline, Jinja2, fonttools, executing, debugpy, comm, asttokens, stack-data, pyarrow, pandas, jupyter_core, jedi, contourpy, branca, matplotlib, jupyter_client, ipython, ipykernel\n",
      "  Attempting uninstall: prompt-toolkit\n",
      "    Found existing installation: prompt-toolkit 3.0.39\n",
      "    Uninstalling prompt-toolkit-3.0.39:\n",
      "      Successfully uninstalled prompt-toolkit-3.0.39\n",
      "  Attempting uninstall: platformdirs\n",
      "    Found existing installation: platformdirs 3.10.0\n",
      "    Uninstalling platformdirs-3.10.0:\n",
      "      Successfully uninstalled platformdirs-3.10.0\n",
      "  Attempting uninstall: pillow\n",
      "    Found existing installation: pillow 10.2.0\n",
      "    Uninstalling pillow-10.2.0:\n",
      "      Successfully uninstalled pillow-10.2.0\n",
      "  Attempting uninstall: parso\n",
      "    Found existing installation: parso 0.8.3\n",
      "    Uninstalling parso-0.8.3:\n",
      "      Successfully uninstalled parso-0.8.3\n",
      "  Attempting uninstall: packaging\n",
      "    Found existing installation: packaging 23.1\n",
      "    Uninstalling packaging-23.1:\n",
      "      Successfully uninstalled packaging-23.1\n",
      "  Attempting uninstall: numpy\n",
      "    Found existing installation: numpy 1.26.3\n",
      "    Uninstalling numpy-1.26.3:\n",
      "      Successfully uninstalled numpy-1.26.3\n"
     ]
    },
    {
     "name": "stderr",
     "output_type": "stream",
     "text": [
      "ERROR: Could not install packages due to an OSError: [WinError 5] Acceso denegado: 'C:\\\\Users\\\\ANGEL\\\\AppData\\\\Local\\\\Programs\\\\Python\\\\Python311\\\\Lib\\\\site-packages\\\\~umpy.libs\\\\libopenblas64__v0.3.23-293-gc2f4bdbb-gcc_10_3_0-2bde3a66a51006b2b53eb373ff767a3f.dll'\n",
      "Consider using the `--user` option or check the permissions.\n",
      "\n",
      "\n",
      "[notice] A new release of pip is available: 23.1.2 -> 24.0\n",
      "[notice] To update, run: python.exe -m pip install --upgrade pip\n"
     ]
    }
   ],
   "source": [
    "%pip install -r ../requirements.txt\n",
    "path = '../path.txt'\n",
    "with open(path, 'r') as archivo:\n",
    "    for linea in archivo.readlines():\n",
    "        exec(linea.strip(), globals())"
   ]
  },
  {
   "cell_type": "markdown",
   "metadata": {},
   "source": [
    "## Árbol de decisión"
   ]
  },
  {
   "cell_type": "markdown",
   "metadata": {},
   "source": [
    "Este modelo busca predecir el cargo que tiene un servicio depéndiendo del trafico\n",
    "* congestion_surcharge = 0 ---> sin trafico\n",
    "* congestion_surcharge = 2 ---> con trafico"
   ]
  },
  {
   "cell_type": "markdown",
   "metadata": {},
   "source": [
    "Se importan las librerias requeridas"
   ]
  },
  {
   "cell_type": "code",
   "execution_count": 11,
   "metadata": {},
   "outputs": [],
   "source": [
    "import pandas as pd\n",
    "from sklearn.model_selection import train_test_split\n",
    "from sklearn import tree\n",
    "from joblib import dump"
   ]
  },
  {
   "cell_type": "markdown",
   "metadata": {},
   "source": [
    "Se hace el entrenamiento con 3 datasets de recorridos de taxis ecologicos para tres meses consecutivos del año 2023, se concatenan y se usan para el entrenamiento"
   ]
  },
  {
   "cell_type": "code",
   "execution_count": 12,
   "metadata": {},
   "outputs": [],
   "source": [
    "d0 = pd.read_parquet(df0)\n",
    "df1 = pd.read_parquet(df1)\n",
    "df2 = pd.read_parquet(df2)\n",
    "df = pd.concat([d0, df1, df2])"
   ]
  },
  {
   "cell_type": "code",
   "execution_count": 13,
   "metadata": {},
   "outputs": [
    {
     "data": {
      "text/plain": [
       "(183020, 12)"
      ]
     },
     "execution_count": 13,
     "metadata": {},
     "output_type": "execute_result"
    }
   ],
   "source": [
    "df.shape"
   ]
  },
  {
   "cell_type": "markdown",
   "metadata": {},
   "source": [
    "Se filtra el data set con los valores de la columna 'congestion_surcharge' mayor que -1 ya que -1 representa a los valores nulos"
   ]
  },
  {
   "cell_type": "code",
   "execution_count": 14,
   "metadata": {},
   "outputs": [
    {
     "data": {
      "text/plain": [
       "(169725, 12)"
      ]
     },
     "execution_count": 14,
     "metadata": {},
     "output_type": "execute_result"
    }
   ],
   "source": [
    "df = df[df['congestion_surcharge'] > -1]\n",
    "df.shape"
   ]
  },
  {
   "cell_type": "code",
   "execution_count": 15,
   "metadata": {},
   "outputs": [
    {
     "data": {
      "text/plain": [
       "congestion_surcharge\n",
       "0    120670\n",
       "2     49055\n",
       "Name: count, dtype: int64"
      ]
     },
     "execution_count": 15,
     "metadata": {},
     "output_type": "execute_result"
    }
   ],
   "source": [
    "df['congestion_surcharge'].value_counts()"
   ]
  },
  {
   "cell_type": "code",
   "execution_count": 16,
   "metadata": {},
   "outputs": [
    {
     "name": "stdout",
     "output_type": "stream",
     "text": [
      "<class 'pandas.core.frame.DataFrame'>\n",
      "Index: 169725 entries, 0 to 59302\n",
      "Data columns (total 12 columns):\n",
      " #   Column                Non-Null Count   Dtype         \n",
      "---  ------                --------------   -----         \n",
      " 0   start_trip            169725 non-null  datetime64[us]\n",
      " 1   end_trip              169725 non-null  datetime64[us]\n",
      " 2   pu_location_id        169725 non-null  int64         \n",
      " 3   do_location_id        169725 non-null  int64         \n",
      " 4   passenger_count       169725 non-null  int64         \n",
      " 5   trip_distance         169725 non-null  float64       \n",
      " 6   fare_amount           169725 non-null  float64       \n",
      " 7   tip_amount            169725 non-null  float64       \n",
      " 8   total_amount          169725 non-null  float64       \n",
      " 9   payment_type          169725 non-null  int64         \n",
      " 10  congestion_surcharge  169725 non-null  int64         \n",
      " 11  type_of_taxi          169725 non-null  int64         \n",
      "dtypes: datetime64[us](2), float64(4), int64(6)\n",
      "memory usage: 16.8 MB\n"
     ]
    }
   ],
   "source": [
    "df.info()"
   ]
  },
  {
   "cell_type": "code",
   "execution_count": 17,
   "metadata": {},
   "outputs": [
    {
     "data": {
      "text/html": [
       "<div>\n",
       "<style scoped>\n",
       "    .dataframe tbody tr th:only-of-type {\n",
       "        vertical-align: middle;\n",
       "    }\n",
       "\n",
       "    .dataframe tbody tr th {\n",
       "        vertical-align: top;\n",
       "    }\n",
       "\n",
       "    .dataframe thead th {\n",
       "        text-align: right;\n",
       "    }\n",
       "</style>\n",
       "<table border=\"1\" class=\"dataframe\">\n",
       "  <thead>\n",
       "    <tr style=\"text-align: right;\">\n",
       "      <th></th>\n",
       "      <th>start_trip</th>\n",
       "      <th>end_trip</th>\n",
       "      <th>pu_location_id</th>\n",
       "      <th>do_location_id</th>\n",
       "      <th>passenger_count</th>\n",
       "      <th>trip_distance</th>\n",
       "      <th>fare_amount</th>\n",
       "      <th>tip_amount</th>\n",
       "      <th>total_amount</th>\n",
       "      <th>payment_type</th>\n",
       "      <th>congestion_surcharge</th>\n",
       "      <th>type_of_taxi</th>\n",
       "    </tr>\n",
       "  </thead>\n",
       "  <tbody>\n",
       "    <tr>\n",
       "      <th>0</th>\n",
       "      <td>2023-10-01 00:57:33</td>\n",
       "      <td>2023-10-01 01:07:58</td>\n",
       "      <td>166</td>\n",
       "      <td>74</td>\n",
       "      <td>1</td>\n",
       "      <td>1.45</td>\n",
       "      <td>12.1</td>\n",
       "      <td>2.92</td>\n",
       "      <td>17.52</td>\n",
       "      <td>1</td>\n",
       "      <td>0</td>\n",
       "      <td>1</td>\n",
       "    </tr>\n",
       "  </tbody>\n",
       "</table>\n",
       "</div>"
      ],
      "text/plain": [
       "           start_trip            end_trip  pu_location_id  do_location_id  \\\n",
       "0 2023-10-01 00:57:33 2023-10-01 01:07:58             166              74   \n",
       "\n",
       "   passenger_count  trip_distance  fare_amount  tip_amount  total_amount  \\\n",
       "0                1           1.45         12.1        2.92         17.52   \n",
       "\n",
       "   payment_type  congestion_surcharge  type_of_taxi  \n",
       "0             1                     0             1  "
      ]
     },
     "execution_count": 17,
     "metadata": {},
     "output_type": "execute_result"
    }
   ],
   "source": [
    "df.head(1)"
   ]
  },
  {
   "cell_type": "markdown",
   "metadata": {},
   "source": [
    "Se extrate informacion de las fechas de inicio y fin de viaje para generar columnas con los siguientes valores: año, mes, dia y minutos de viaje"
   ]
  },
  {
   "cell_type": "code",
   "execution_count": 18,
   "metadata": {},
   "outputs": [
    {
     "data": {
      "text/html": [
       "<div>\n",
       "<style scoped>\n",
       "    .dataframe tbody tr th:only-of-type {\n",
       "        vertical-align: middle;\n",
       "    }\n",
       "\n",
       "    .dataframe tbody tr th {\n",
       "        vertical-align: top;\n",
       "    }\n",
       "\n",
       "    .dataframe thead th {\n",
       "        text-align: right;\n",
       "    }\n",
       "</style>\n",
       "<table border=\"1\" class=\"dataframe\">\n",
       "  <thead>\n",
       "    <tr style=\"text-align: right;\">\n",
       "      <th></th>\n",
       "      <th>start_trip</th>\n",
       "      <th>end_trip</th>\n",
       "      <th>pu_location_id</th>\n",
       "      <th>do_location_id</th>\n",
       "      <th>passenger_count</th>\n",
       "      <th>trip_distance</th>\n",
       "      <th>fare_amount</th>\n",
       "      <th>tip_amount</th>\n",
       "      <th>total_amount</th>\n",
       "      <th>payment_type</th>\n",
       "      <th>congestion_surcharge</th>\n",
       "      <th>type_of_taxi</th>\n",
       "      <th>year</th>\n",
       "      <th>month</th>\n",
       "      <th>day</th>\n",
       "      <th>min_trip</th>\n",
       "    </tr>\n",
       "  </thead>\n",
       "  <tbody>\n",
       "    <tr>\n",
       "      <th>18921</th>\n",
       "      <td>2023-12-10 02:26:50</td>\n",
       "      <td>2023-12-10 02:46:18</td>\n",
       "      <td>25</td>\n",
       "      <td>249</td>\n",
       "      <td>1</td>\n",
       "      <td>4.20</td>\n",
       "      <td>22.6</td>\n",
       "      <td>5.55</td>\n",
       "      <td>33.40</td>\n",
       "      <td>1</td>\n",
       "      <td>2</td>\n",
       "      <td>1</td>\n",
       "      <td>2023</td>\n",
       "      <td>12</td>\n",
       "      <td>6</td>\n",
       "      <td>19.466667</td>\n",
       "    </tr>\n",
       "    <tr>\n",
       "      <th>7783</th>\n",
       "      <td>2023-11-04 15:15:12</td>\n",
       "      <td>2023-11-04 15:30:52</td>\n",
       "      <td>188</td>\n",
       "      <td>188</td>\n",
       "      <td>1</td>\n",
       "      <td>1.40</td>\n",
       "      <td>14.9</td>\n",
       "      <td>0.00</td>\n",
       "      <td>16.40</td>\n",
       "      <td>-1</td>\n",
       "      <td>0</td>\n",
       "      <td>1</td>\n",
       "      <td>2023</td>\n",
       "      <td>11</td>\n",
       "      <td>5</td>\n",
       "      <td>15.666667</td>\n",
       "    </tr>\n",
       "    <tr>\n",
       "      <th>12175</th>\n",
       "      <td>2023-12-06 22:11:09</td>\n",
       "      <td>2023-12-06 22:17:16</td>\n",
       "      <td>97</td>\n",
       "      <td>181</td>\n",
       "      <td>1</td>\n",
       "      <td>1.05</td>\n",
       "      <td>7.9</td>\n",
       "      <td>2.08</td>\n",
       "      <td>12.48</td>\n",
       "      <td>1</td>\n",
       "      <td>0</td>\n",
       "      <td>1</td>\n",
       "      <td>2023</td>\n",
       "      <td>12</td>\n",
       "      <td>2</td>\n",
       "      <td>6.116667</td>\n",
       "    </tr>\n",
       "    <tr>\n",
       "      <th>55734</th>\n",
       "      <td>2023-10-29 00:35:59</td>\n",
       "      <td>2023-10-29 00:52:36</td>\n",
       "      <td>7</td>\n",
       "      <td>173</td>\n",
       "      <td>2</td>\n",
       "      <td>3.92</td>\n",
       "      <td>21.2</td>\n",
       "      <td>0.00</td>\n",
       "      <td>23.70</td>\n",
       "      <td>-1</td>\n",
       "      <td>0</td>\n",
       "      <td>1</td>\n",
       "      <td>2023</td>\n",
       "      <td>10</td>\n",
       "      <td>6</td>\n",
       "      <td>16.616667</td>\n",
       "    </tr>\n",
       "    <tr>\n",
       "      <th>11528</th>\n",
       "      <td>2023-11-06 16:32:39</td>\n",
       "      <td>2023-11-06 16:58:16</td>\n",
       "      <td>166</td>\n",
       "      <td>262</td>\n",
       "      <td>1</td>\n",
       "      <td>3.46</td>\n",
       "      <td>24.7</td>\n",
       "      <td>6.29</td>\n",
       "      <td>37.74</td>\n",
       "      <td>1</td>\n",
       "      <td>2</td>\n",
       "      <td>1</td>\n",
       "      <td>2023</td>\n",
       "      <td>11</td>\n",
       "      <td>0</td>\n",
       "      <td>25.616667</td>\n",
       "    </tr>\n",
       "  </tbody>\n",
       "</table>\n",
       "</div>"
      ],
      "text/plain": [
       "               start_trip            end_trip  pu_location_id  do_location_id  \\\n",
       "18921 2023-12-10 02:26:50 2023-12-10 02:46:18              25             249   \n",
       "7783  2023-11-04 15:15:12 2023-11-04 15:30:52             188             188   \n",
       "12175 2023-12-06 22:11:09 2023-12-06 22:17:16              97             181   \n",
       "55734 2023-10-29 00:35:59 2023-10-29 00:52:36               7             173   \n",
       "11528 2023-11-06 16:32:39 2023-11-06 16:58:16             166             262   \n",
       "\n",
       "       passenger_count  trip_distance  fare_amount  tip_amount  total_amount  \\\n",
       "18921                1           4.20         22.6        5.55         33.40   \n",
       "7783                 1           1.40         14.9        0.00         16.40   \n",
       "12175                1           1.05          7.9        2.08         12.48   \n",
       "55734                2           3.92         21.2        0.00         23.70   \n",
       "11528                1           3.46         24.7        6.29         37.74   \n",
       "\n",
       "       payment_type  congestion_surcharge  type_of_taxi  year  month  day  \\\n",
       "18921             1                     2             1  2023     12    6   \n",
       "7783             -1                     0             1  2023     11    5   \n",
       "12175             1                     0             1  2023     12    2   \n",
       "55734            -1                     0             1  2023     10    6   \n",
       "11528             1                     2             1  2023     11    0   \n",
       "\n",
       "        min_trip  \n",
       "18921  19.466667  \n",
       "7783   15.666667  \n",
       "12175   6.116667  \n",
       "55734  16.616667  \n",
       "11528  25.616667  "
      ]
     },
     "execution_count": 18,
     "metadata": {},
     "output_type": "execute_result"
    }
   ],
   "source": [
    "df['year'] = df['start_trip'].dt.year\n",
    "df['month'] = df['start_trip'].dt.month\n",
    "df['day'] = df['start_trip'].dt.dayofweek\n",
    "df['min_trip'] = df['min_trip'] = (df['end_trip'] - df['start_trip']).dt.total_seconds() / 60\n",
    "df.sample(5)"
   ]
  },
  {
   "cell_type": "code",
   "execution_count": 19,
   "metadata": {},
   "outputs": [
    {
     "data": {
      "text/plain": [
       "Index(['start_trip', 'end_trip', 'pu_location_id', 'do_location_id',\n",
       "       'passenger_count', 'trip_distance', 'fare_amount', 'tip_amount',\n",
       "       'total_amount', 'payment_type', 'congestion_surcharge', 'type_of_taxi',\n",
       "       'year', 'month', 'day', 'min_trip'],\n",
       "      dtype='object')"
      ]
     },
     "execution_count": 19,
     "metadata": {},
     "output_type": "execute_result"
    }
   ],
   "source": [
    "df.columns"
   ]
  },
  {
   "cell_type": "code",
   "execution_count": 20,
   "metadata": {},
   "outputs": [
    {
     "data": {
      "text/plain": [
       "(169725, 16)"
      ]
     },
     "execution_count": 20,
     "metadata": {},
     "output_type": "execute_result"
    }
   ],
   "source": [
    "df.shape"
   ]
  },
  {
   "cell_type": "code",
   "execution_count": 21,
   "metadata": {},
   "outputs": [],
   "source": [
    "# Arbol de decision"
   ]
  },
  {
   "cell_type": "code",
   "execution_count": 22,
   "metadata": {},
   "outputs": [
    {
     "name": "stdout",
     "output_type": "stream",
     "text": [
      "Score del modelo: 0.9321738310708899\n"
     ]
    }
   ],
   "source": [
    "from sklearn import tree\n",
    "# Selección de las variables independientes\n",
    "X = df[['min_trip', 'trip_distance', 'pu_location_id', 'do_location_id']]\n",
    "\n",
    "# Conversión de las variables categóricas a dummies\n",
    "X = pd.get_dummies(X)\n",
    "\n",
    "# Selección de la variable dependiente\n",
    "y = df['congestion_surcharge']\n",
    "\n",
    "# Separación del conjunto de datos en entrenamiento y prueba\n",
    "X_train, X_test, y_train, y_test = train_test_split(X, y, test_size=0.25, random_state=42)\n",
    "\n",
    "# Creación del clasificador de árbol de decisión\n",
    "arbol = tree.DecisionTreeClassifier(max_depth = 7, random_state=42)\n",
    "\n",
    "# Entrenamiento del modelo\n",
    "arbol.fit(X_train, y_train)\n",
    "\n",
    "# Evaluación del modelo\n",
    "score = arbol.score(X_test, y_test)\n",
    "\n",
    "# Predicción del recargo por congestión\n",
    "predicciones = arbol.predict(X_test)\n",
    "\n",
    "# Impresión del score del modelo\n",
    "print(f\"Score del modelo: {score}\")\n",
    "\n",
    "# Impresión de las primeras 10 predicciones\n",
    "#print(f\"Primeras 10 predicciones: {predicciones[:10]}\")\n",
    "\n",
    "# Visualización del árbol de decisión\n",
    "#tree.plot_tree(arbol)"
   ]
  },
  {
   "cell_type": "code",
   "execution_count": 23,
   "metadata": {},
   "outputs": [
    {
     "name": "stdout",
     "output_type": "stream",
     "text": [
      "       Valor real  Valor predicho\n",
      "24431           2               2\n",
      "42188           0               0\n",
      "3614            0               0\n",
      "38539           0               0\n",
      "36135           0               0\n"
     ]
    }
   ],
   "source": [
    "resultados = pd.DataFrame({'Valor real': y_test, 'Valor predicho': predicciones}).head(5)\n",
    "\n",
    "# Impresión del dataframe\n",
    "print(resultados.to_string())"
   ]
  },
  {
   "cell_type": "markdown",
   "metadata": {},
   "source": [
    "Se observa un Score de 0.93, y se visualiza una columna con valores reales y valores predichos"
   ]
  },
  {
   "cell_type": "markdown",
   "metadata": {},
   "source": [
    "Se guarda el modelo en formato joblib, para ser posteriormente consumido por Streamlit"
   ]
  },
  {
   "cell_type": "code",
   "execution_count": 26,
   "metadata": {},
   "outputs": [
    {
     "data": {
      "text/plain": [
       "['../modelos_ML/modelos_entrenados/modelo_cargo_entrenado.pkl']"
      ]
     },
     "execution_count": 26,
     "metadata": {},
     "output_type": "execute_result"
    }
   ],
   "source": [
    "dump(arbol, modelo_cargo_entrenado)"
   ]
  }
 ],
 "metadata": {
  "kernelspec": {
   "display_name": "Python 3",
   "language": "python",
   "name": "python3"
  },
  "language_info": {
   "codemirror_mode": {
    "name": "ipython",
    "version": 3
   },
   "file_extension": ".py",
   "mimetype": "text/x-python",
   "name": "python",
   "nbconvert_exporter": "python",
   "pygments_lexer": "ipython3",
   "version": "3.11.4"
  }
 },
 "nbformat": 4,
 "nbformat_minor": 2
}
