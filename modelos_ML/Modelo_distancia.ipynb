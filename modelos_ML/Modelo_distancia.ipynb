{
  "cells": [
    {
      "cell_type": "code",
      "execution_count": 12,
      "metadata": {
        "colab": {
          "base_uri": "https://localhost:8080/"
        },
        "id": "cpji8dxm2D6O",
        "outputId": "4d8621f6-e38d-491b-c382-71aa80de3225"
      },
      "outputs": [
        {
          "name": "stdout",
          "output_type": "stream",
          "text": [
            "Requirement already satisfied: asttokens==2.4.1 in c:\\users\\angel\\appdata\\local\\programs\\python\\python311\\lib\\site-packages (from -r ../requirements.txt (line 1)) (2.4.1)\n",
            "Collecting branca==0.7.2 (from -r ../requirements.txt (line 2))\n",
            "  Using cached branca-0.7.2-py3-none-any.whl (25 kB)\n",
            "Requirement already satisfied: certifi==2024.2.2 in c:\\users\\angel\\appdata\\local\\programs\\python\\python311\\lib\\site-packages (from -r ../requirements.txt (line 3)) (2024.2.2)\n",
            "Requirement already satisfied: charset-normalizer==3.3.2 in c:\\users\\angel\\appdata\\local\\programs\\python\\python311\\lib\\site-packages (from -r ../requirements.txt (line 4)) (3.3.2)\n",
            "Requirement already satisfied: colorama==0.4.6 in c:\\users\\angel\\appdata\\roaming\\python\\python311\\site-packages (from -r ../requirements.txt (line 5)) (0.4.6)\n",
            "Requirement already satisfied: comm==0.2.2 in c:\\users\\angel\\appdata\\local\\programs\\python\\python311\\lib\\site-packages (from -r ../requirements.txt (line 6)) (0.2.2)\n",
            "Requirement already satisfied: contourpy==1.2.1 in c:\\users\\angel\\appdata\\local\\programs\\python\\python311\\lib\\site-packages (from -r ../requirements.txt (line 7)) (1.2.1)\n",
            "Requirement already satisfied: cycler==0.12.1 in c:\\users\\angel\\appdata\\local\\programs\\python\\python311\\lib\\site-packages (from -r ../requirements.txt (line 8)) (0.12.1)\n",
            "Requirement already satisfied: debugpy==1.8.1 in c:\\users\\angel\\appdata\\local\\programs\\python\\python311\\lib\\site-packages (from -r ../requirements.txt (line 9)) (1.8.1)\n",
            "Requirement already satisfied: decorator==5.1.1 in c:\\users\\angel\\appdata\\roaming\\python\\python311\\site-packages (from -r ../requirements.txt (line 10)) (5.1.1)\n",
            "Requirement already satisfied: executing==2.0.1 in c:\\users\\angel\\appdata\\local\\programs\\python\\python311\\lib\\site-packages (from -r ../requirements.txt (line 11)) (2.0.1)\n",
            "Requirement already satisfied: folium==0.16.0 in c:\\users\\angel\\appdata\\local\\programs\\python\\python311\\lib\\site-packages (from -r ../requirements.txt (line 12)) (0.16.0)\n",
            "Requirement already satisfied: fonttools==4.51.0 in c:\\users\\angel\\appdata\\local\\programs\\python\\python311\\lib\\site-packages (from -r ../requirements.txt (line 13)) (4.51.0)\n",
            "Requirement already satisfied: idna==3.7 in c:\\users\\angel\\appdata\\local\\programs\\python\\python311\\lib\\site-packages (from -r ../requirements.txt (line 14)) (3.7)\n",
            "Collecting ipykernel==6.29.4 (from -r ../requirements.txt (line 15))\n",
            "  Using cached ipykernel-6.29.4-py3-none-any.whl (117 kB)\n",
            "Collecting ipython==8.24.0 (from -r ../requirements.txt (line 16))\n",
            "  Using cached ipython-8.24.0-py3-none-any.whl (816 kB)\n",
            "Requirement already satisfied: jedi==0.19.1 in c:\\users\\angel\\appdata\\local\\programs\\python\\python311\\lib\\site-packages (from -r ../requirements.txt (line 17)) (0.19.1)\n",
            "Requirement already satisfied: Jinja2==3.1.4 in c:\\users\\angel\\appdata\\local\\programs\\python\\python311\\lib\\site-packages (from -r ../requirements.txt (line 18)) (3.1.4)\n",
            "Collecting jupyter_client==8.6.1 (from -r ../requirements.txt (line 19))\n",
            "  Using cached jupyter_client-8.6.1-py3-none-any.whl (105 kB)\n",
            "Requirement already satisfied: jupyter_core==5.7.2 in c:\\users\\angel\\appdata\\local\\programs\\python\\python311\\lib\\site-packages (from -r ../requirements.txt (line 20)) (5.7.2)\n",
            "Requirement already satisfied: kiwisolver==1.4.5 in c:\\users\\angel\\appdata\\local\\programs\\python\\python311\\lib\\site-packages (from -r ../requirements.txt (line 21)) (1.4.5)\n",
            "Requirement already satisfied: MarkupSafe==2.1.5 in c:\\users\\angel\\appdata\\local\\programs\\python\\python311\\lib\\site-packages (from -r ../requirements.txt (line 22)) (2.1.5)\n",
            "Collecting matplotlib==3.8.4 (from -r ../requirements.txt (line 23))\n",
            "  Using cached matplotlib-3.8.4-cp311-cp311-win_amd64.whl (7.7 MB)\n",
            "Requirement already satisfied: matplotlib-inline==0.1.7 in c:\\users\\angel\\appdata\\local\\programs\\python\\python311\\lib\\site-packages (from -r ../requirements.txt (line 24)) (0.1.7)\n",
            "Requirement already satisfied: nest-asyncio==1.6.0 in c:\\users\\angel\\appdata\\local\\programs\\python\\python311\\lib\\site-packages (from -r ../requirements.txt (line 25)) (1.6.0)\n",
            "Requirement already satisfied: numpy==1.26.4 in c:\\users\\angel\\appdata\\local\\programs\\python\\python311\\lib\\site-packages (from -r ../requirements.txt (line 26)) (1.26.4)\n",
            "Requirement already satisfied: packaging==24.0 in c:\\users\\angel\\appdata\\local\\programs\\python\\python311\\lib\\site-packages (from -r ../requirements.txt (line 27)) (24.0)\n",
            "Requirement already satisfied: pandas==2.0.3 in c:\\users\\angel\\appdata\\local\\programs\\python\\python311\\lib\\site-packages (from -r ../requirements.txt (line 28)) (2.0.3)\n",
            "Requirement already satisfied: parso==0.8.4 in c:\\users\\angel\\appdata\\local\\programs\\python\\python311\\lib\\site-packages (from -r ../requirements.txt (line 29)) (0.8.4)\n",
            "Requirement already satisfied: pillow==10.3.0 in c:\\users\\angel\\appdata\\local\\programs\\python\\python311\\lib\\site-packages (from -r ../requirements.txt (line 30)) (10.3.0)\n",
            "Requirement already satisfied: platformdirs==4.2.1 in c:\\users\\angel\\appdata\\local\\programs\\python\\python311\\lib\\site-packages (from -r ../requirements.txt (line 31)) (4.2.1)\n",
            "Requirement already satisfied: prompt-toolkit==3.0.43 in c:\\users\\angel\\appdata\\local\\programs\\python\\python311\\lib\\site-packages (from -r ../requirements.txt (line 32)) (3.0.43)\n",
            "Requirement already satisfied: psutil==5.9.8 in c:\\users\\angel\\appdata\\local\\programs\\python\\python311\\lib\\site-packages (from -r ../requirements.txt (line 33)) (5.9.8)\n",
            "Requirement already satisfied: pure-eval==0.2.2 in c:\\users\\angel\\appdata\\roaming\\python\\python311\\site-packages (from -r ../requirements.txt (line 34)) (0.2.2)\n",
            "Requirement already satisfied: pyarrow==16.0.0 in c:\\users\\angel\\appdata\\local\\programs\\python\\python311\\lib\\site-packages (from -r ../requirements.txt (line 35)) (16.0.0)\n",
            "Requirement already satisfied: Pygments==2.18.0 in c:\\users\\angel\\appdata\\local\\programs\\python\\python311\\lib\\site-packages (from -r ../requirements.txt (line 36)) (2.18.0)\n",
            "Requirement already satisfied: pyparsing==3.1.2 in c:\\users\\angel\\appdata\\local\\programs\\python\\python311\\lib\\site-packages (from -r ../requirements.txt (line 37)) (3.1.2)\n",
            "Requirement already satisfied: python-dateutil==2.9.0.post0 in c:\\users\\angel\\appdata\\local\\programs\\python\\python311\\lib\\site-packages (from -r ../requirements.txt (line 38)) (2.9.0.post0)\n",
            "Requirement already satisfied: pytz==2024.1 in c:\\users\\angel\\appdata\\local\\programs\\python\\python311\\lib\\site-packages (from -r ../requirements.txt (line 39)) (2024.1)\n",
            "Requirement already satisfied: pyzmq==26.0.3 in c:\\users\\angel\\appdata\\local\\programs\\python\\python311\\lib\\site-packages (from -r ../requirements.txt (line 41)) (26.0.3)\n",
            "Requirement already satisfied: requests==2.31.0 in c:\\users\\angel\\appdata\\local\\programs\\python\\python311\\lib\\site-packages (from -r ../requirements.txt (line 42)) (2.31.0)\n",
            "Requirement already satisfied: seaborn==0.13.2 in c:\\users\\angel\\appdata\\local\\programs\\python\\python311\\lib\\site-packages (from -r ../requirements.txt (line 43)) (0.13.2)\n",
            "Requirement already satisfied: six==1.16.0 in c:\\users\\angel\\appdata\\roaming\\python\\python311\\site-packages (from -r ../requirements.txt (line 44)) (1.16.0)\n",
            "Requirement already satisfied: stack-data==0.6.3 in c:\\users\\angel\\appdata\\local\\programs\\python\\python311\\lib\\site-packages (from -r ../requirements.txt (line 45)) (0.6.3)\n",
            "Requirement already satisfied: tornado==6.4 in c:\\users\\angel\\appdata\\local\\programs\\python\\python311\\lib\\site-packages (from -r ../requirements.txt (line 46)) (6.4)\n",
            "Requirement already satisfied: traitlets==5.14.3 in c:\\users\\angel\\appdata\\local\\programs\\python\\python311\\lib\\site-packages (from -r ../requirements.txt (line 47)) (5.14.3)\n",
            "Requirement already satisfied: typing_extensions==4.11.0 in c:\\users\\angel\\appdata\\local\\programs\\python\\python311\\lib\\site-packages (from -r ../requirements.txt (line 48)) (4.11.0)\n",
            "Requirement already satisfied: tzdata==2024.1 in c:\\users\\angel\\appdata\\local\\programs\\python\\python311\\lib\\site-packages (from -r ../requirements.txt (line 49)) (2024.1)\n",
            "Requirement already satisfied: urllib3==2.2.1 in c:\\users\\angel\\appdata\\local\\programs\\python\\python311\\lib\\site-packages (from -r ../requirements.txt (line 50)) (2.2.1)\n",
            "Requirement already satisfied: wcwidth==0.2.13 in c:\\users\\angel\\appdata\\local\\programs\\python\\python311\\lib\\site-packages (from -r ../requirements.txt (line 51)) (0.2.13)\n",
            "Requirement already satisfied: xyzservices==2024.4.0 in c:\\users\\angel\\appdata\\local\\programs\\python\\python311\\lib\\site-packages (from -r ../requirements.txt (line 52)) (2024.4.0)\n",
            "Requirement already satisfied: pywin32>=300 in c:\\users\\angel\\appdata\\roaming\\python\\python311\\site-packages (from jupyter_core==5.7.2->-r ../requirements.txt (line 20)) (306)\n",
            "Installing collected packages: matplotlib, jupyter_client, branca, ipython, ipykernel\n",
            "  Attempting uninstall: matplotlib\n",
            "    Found existing installation: matplotlib 3.8.2\n",
            "    Uninstalling matplotlib-3.8.2:\n",
            "      Successfully uninstalled matplotlib-3.8.2\n",
            "  Attempting uninstall: jupyter_client\n",
            "    Found existing installation: jupyter_client 8.3.0\n",
            "    Uninstalling jupyter_client-8.3.0:\n",
            "      Successfully uninstalled jupyter_client-8.3.0\n",
            "  Attempting uninstall: branca\n",
            "    Found existing installation: branca 0.7.1\n",
            "    Uninstalling branca-0.7.1:\n",
            "      Successfully uninstalled branca-0.7.1\n",
            "  Attempting uninstall: ipython\n",
            "    Found existing installation: ipython 8.14.0\n",
            "    Uninstalling ipython-8.14.0:\n",
            "      Successfully uninstalled ipython-8.14.0\n",
            "  Attempting uninstall: ipykernel\n",
            "    Found existing installation: ipykernel 6.25.1\n",
            "    Uninstalling ipykernel-6.25.1:\n",
            "      Successfully uninstalled ipykernel-6.25.1\n",
            "Successfully installed branca-0.7.2 ipykernel-6.29.4 ipython-8.24.0 jupyter_client-8.6.1 matplotlib-3.8.4\n",
            "Note: you may need to restart the kernel to use updated packages.\n"
          ]
        },
        {
          "name": "stderr",
          "output_type": "stream",
          "text": [
            "\n",
            "[notice] A new release of pip is available: 23.1.2 -> 24.0\n",
            "[notice] To update, run: python.exe -m pip install --upgrade pip\n"
          ]
        }
      ],
      "source": [
        "%pip install -r ../requirements.txt\n",
        "path = '../path.txt'\n",
        "with open(path, 'r') as archivo:\n",
        "    for linea in archivo.readlines():\n",
        "        exec(linea.strip(), globals())"
      ]
    },
    {
      "cell_type": "code",
      "execution_count": 13,
      "metadata": {
        "id": "2RGovjxk1t33"
      },
      "outputs": [],
      "source": [
        "import pandas as pd\n",
        "import numpy as np\n",
        "from sklearn.model_selection import train_test_split\n",
        "from sklearn.metrics import accuracy_score, classification_report\n",
        "from sklearn.linear_model import LogisticRegression\n",
        "from sklearn.preprocessing import StandardScaler\n",
        "from sklearn.tree import DecisionTreeClassifier\n",
        "from sklearn.ensemble import RandomForestClassifier\n",
        "from sklearn.naive_bayes import GaussianNB\n",
        "from joblib import dump\n",
        "import warnings\n",
        "warnings.filterwarnings(\"ignore\")"
      ]
    },
    {
      "cell_type": "code",
      "execution_count": 14,
      "metadata": {
        "id": "lw_j7UEp2E6L"
      },
      "outputs": [],
      "source": [
        "df = pd.read_parquet(dataset_entrenamiento_distancia)"
      ]
    },
    {
      "cell_type": "code",
      "execution_count": 15,
      "metadata": {
        "colab": {
          "base_uri": "https://localhost:8080/"
        },
        "id": "v3WuJs_V4WNi",
        "outputId": "30eb1d6c-6d6a-44c9-e816-0f66ad1c5691"
      },
      "outputs": [],
      "source": [
        "df['distancia'][(df['distancia'] >= 0) & (df['distancia'] <= 4)] = 0\n",
        "df['distancia'][(df['distancia'] > 4) & (df['distancia'] <= 8)] = 1\n",
        "df['distancia'][(df['distancia'] > 8) & (df['distancia'] <= 12)] = 2\n",
        "df['distancia'][(df['distancia'] > 12) & (df['distancia'] <= 16)] = 3\n",
        "df['distancia'][(df['distancia'] > 16) & (df['distancia'] <= 20)] = 4"
      ]
    },
    {
      "cell_type": "code",
      "execution_count": 16,
      "metadata": {
        "colab": {
          "base_uri": "https://localhost:8080/"
        },
        "id": "PJY-SEfR-xUJ",
        "outputId": "69a35d46-b512-42ed-9ab3-b31a5fa3712a"
      },
      "outputs": [
        {
          "data": {
            "text/plain": [
              "array([1., 0., 2., 4., 3.])"
            ]
          },
          "execution_count": 16,
          "metadata": {},
          "output_type": "execute_result"
        }
      ],
      "source": [
        "df['distancia'].unique()"
      ]
    },
    {
      "cell_type": "code",
      "execution_count": 17,
      "metadata": {
        "colab": {
          "base_uri": "https://localhost:8080/"
        },
        "id": "Bb_RDf__-2rU",
        "outputId": "e06ebb6d-0a33-4676-b02d-a27e70f8893f"
      },
      "outputs": [
        {
          "data": {
            "text/plain": [
              "array([18, 12, 21, 10, 13,  7, 19, 23, 14, 15, 16,  6, 20, 22, 11,  8, 17,\n",
              "        1,  0,  9,  3,  2,  5,  4])"
            ]
          },
          "execution_count": 17,
          "metadata": {},
          "output_type": "execute_result"
        }
      ],
      "source": [
        "df['hora'].unique()"
      ]
    },
    {
      "cell_type": "code",
      "execution_count": 18,
      "metadata": {
        "colab": {
          "base_uri": "https://localhost:8080/"
        },
        "id": "yiJQ2f0N-6a8",
        "outputId": "af577433-52d6-4f3c-f514-51df3a41c059"
      },
      "outputs": [],
      "source": [
        "df['hora'][(df['hora'] >= 0) & (df['hora'] <= 3)] = 0\n",
        "df['hora'][(df['hora'] > 3) & (df['hora'] <= 6)] = 1\n",
        "df['hora'][(df['hora'] > 6) & (df['hora'] <= 9)] = 2\n",
        "df['hora'][(df['hora'] > 9) & (df['hora'] <= 12)] = 3\n",
        "df['hora'][(df['hora'] > 12) & (df['hora'] <= 15)] = 4\n",
        "df['hora'][(df['hora'] > 15) & (df['hora'] <= 18)] = 5\n",
        "df['hora'][(df['hora'] > 18) & (df['hora'] <= 21)] = 6\n",
        "df['hora'][(df['hora'] > 21) & (df['hora'] < 24)] = 7"
      ]
    },
    {
      "cell_type": "code",
      "execution_count": 19,
      "metadata": {
        "id": "M761kv3i9vHf"
      },
      "outputs": [],
      "source": [
        "df = df.drop('dia_del_mes', axis=1)"
      ]
    },
    {
      "cell_type": "code",
      "execution_count": 20,
      "metadata": {
        "colab": {
          "base_uri": "https://localhost:8080/"
        },
        "id": "ZMuFwI_C2RRw",
        "outputId": "512ffb4a-c5fa-4ee3-80f0-6caab4067355"
      },
      "outputs": [
        {
          "data": {
            "text/plain": [
              "(840000, 4)"
            ]
          },
          "execution_count": 20,
          "metadata": {},
          "output_type": "execute_result"
        }
      ],
      "source": [
        "df.shape"
      ]
    },
    {
      "cell_type": "code",
      "execution_count": 21,
      "metadata": {
        "id": "b-sfi2aaCYzO"
      },
      "outputs": [],
      "source": [
        "def crear_modelo(data:pd.DataFrame, modelo:object, scaler:object, label:str, split:float=0.2, **kwargs) -> object:\n",
        "\n",
        "    \"\"\"\n",
        "    Función para crear distintos modelos.\n",
        "\n",
        "    Args:\n",
        "\n",
        "        - data: df utilizado (objeto)\n",
        "\n",
        "        - modelo: modelo seleccionado (objeto)\n",
        "\n",
        "        - scaler: scaler seleccionado (objeto)\n",
        "\n",
        "        - split: porcentaje del dataset que se usa para test (float, default=0.2)\n",
        "\n",
        "        - label: nombre de la variable objetivo (str)\n",
        "\n",
        "        - **kwargs_modelo: hiperparámetros específicos de cada modelo\n",
        "\n",
        "            ##  Regresión logística:\n",
        "\n",
        "                - C  (default = 1.0): parámetro de regularización inversa. Controla la fuerza de regularización; valores más pequeños especifican una regularización más fuerte (float)\n",
        "                - solver  (default = 'lbfgs'): algoritmo a utilizar en la optimización. Opciones disponibles: 'newton-cg', 'lbfgs', 'liblinear', 'sag', 'saga' (str)\n",
        "                - max_iter  (default = 100): número máximo de iteraciones permitidas para la convergencia del algoritmo (int)\n",
        "\n",
        "            ##  Árbol de decisión:\n",
        "\n",
        "                - criterion  (default = 'gini'): función para medir la calidad de la división. Opciones disponibles: 'gini', 'entropy' (str)\n",
        "                - max_depth  (default = None): profundidad máxima del árbol. Si es None, los nodos se expanden hasta que todas las hojas sean puras o contengan menos de min_samples_split muestras (int | None)\n",
        "                - min_samples_split  (default = 2): número mínimo de muestras necesarias para dividir un nodo interno. Este parámetro controla el número mínimo de muestras que se requieren en un nodo para que pueda ser dividido en uno o más nodos hijos. Si una división resulta en un número menor de muestras que el valor especificado para min_samples_split, la división se ignorará y el nodo se considerará una hoja. (int | float)\n",
        "\n",
        "            ##  Random Forest:\n",
        "\n",
        "                - n_estimators  (default = 100): número de árboles en el bosque (int)\n",
        "                - max_depth  (default = None): profundidad máxima de cada árbol en el bosque (int | None)\n",
        "                - min_samples_split  (default = 2): número mínimo de muestras necesarias para dividir un nodo interno (int | float)\n",
        "\n",
        "            ##  Naive Bayes (Gaussian):\n",
        "\n",
        "                - no tiene hiperparámetros específicos\n",
        "\n",
        "    Return:\n",
        "\n",
        "        - modelo entrenado (objeto)\n",
        "\n",
        "    Notas:\n",
        "\n",
        "    Al llamar a la función, el scaler debe ir con paréntesis y, si es necesario pasar algún argumento (como MinMaxScaler(feature_range=(0, 10))), se pasa al invocar la función.\n",
        "\n",
        "    El modelo, en cambio, no va con paréntesis, ya que recibe sus parámetros desde **kwargs. Está como objeto, pero sin instanciar.\n",
        "\n",
        "    Ejemplo:\n",
        "\n",
        "    modelo_1 = crear_modelo(LogisticRegression, StandardScaler(), split=0.15, label='isFraud', max_iter=150)\n",
        "    \"\"\"\n",
        "\n",
        "    try:\n",
        "        modelo_instanciado = modelo(**kwargs)\n",
        "    except:\n",
        "        raise 'Error: argumentos no válidos.'\n",
        "    scaler_instanciado = scaler\n",
        "\n",
        "    X = data.drop(label, axis=1)\n",
        "    y = data[label]\n",
        "\n",
        "    X_train, X_test, y_train, y_test = train_test_split(X, y, test_size=split, random_state=42)\n",
        "\n",
        "    if scaler != None:\n",
        "        X_train_scaled = scaler_instanciado.fit_transform(X_train)\n",
        "        X_test_scaled = scaler_instanciado.transform(X_test)\n",
        "        modelo_instanciado.fit(X_train_scaled, y_train)\n",
        "    else:\n",
        "        modelo_instanciado.fit(X_train, y_train)\n",
        "\n",
        "    predicciones_train = modelo_instanciado.predict(X_train_scaled)\n",
        "    predicciones = modelo_instanciado.predict(X_test_scaled)\n",
        "    metricas_train = accuracy_score(y_train, predicciones_train)\n",
        "    metricas = accuracy_score(y_test, predicciones)\n",
        "\n",
        "    print(f'\\n\\nModelo: {str(modelo)}\\nScaler: {scaler}\\nCantidad de registros de prueba: {int(len(data)*split)}')\n",
        "    print(f'\\nMétricas en entrenamiento: {round(metricas_train, 2)}\\n')\n",
        "    print(f'\\nMétricas en prueba: {round(metricas, 2)}\\n')\n",
        "    print(f'Reporte de entrenamiento: \\n{classification_report(y_train, predicciones_train)}\\n\\n')\n",
        "    print(f'Reporte de test: \\n{classification_report(y_test, predicciones)}\\n\\n')\n",
        "\n",
        "    return modelo"
      ]
    },
    {
      "cell_type": "code",
      "execution_count": 24,
      "metadata": {
        "colab": {
          "base_uri": "https://localhost:8080/",
          "height": 1000
        },
        "id": "0LeDD8mGFHXe",
        "outputId": "cfbb93b1-2743-4406-c2d9-491631e7ccbe"
      },
      "outputs": [
        {
          "name": "stdout",
          "output_type": "stream",
          "text": [
            "\n",
            "\n",
            "Modelo: <class 'sklearn.ensemble._forest.RandomForestClassifier'>\n",
            "Scaler: StandardScaler()\n",
            "Cantidad de registros de prueba: 168000\n",
            "\n",
            "Métricas en entrenamiento: 0.83\n",
            "\n",
            "\n",
            "Métricas en prueba: 0.82\n",
            "\n",
            "Reporte de entrenamiento: \n",
            "              precision    recall  f1-score   support\n",
            "\n",
            "         0.0       0.85      0.99      0.91    535594\n",
            "         1.0       0.53      0.09      0.16     79643\n",
            "         2.0       0.61      0.33      0.43     31739\n",
            "         3.0       0.51      0.05      0.10     10184\n",
            "         4.0       0.58      0.58      0.58     14840\n",
            "\n",
            "    accuracy                           0.83    672000\n",
            "   macro avg       0.61      0.41      0.44    672000\n",
            "weighted avg       0.79      0.83      0.78    672000\n",
            "\n",
            "\n",
            "\n",
            "Reporte de test: \n",
            "              precision    recall  f1-score   support\n",
            "\n",
            "         0.0       0.84      0.98      0.91    133726\n",
            "         1.0       0.42      0.07      0.13     19981\n",
            "         2.0       0.57      0.31      0.41      8050\n",
            "         3.0       0.26      0.03      0.05      2538\n",
            "         4.0       0.57      0.57      0.57      3705\n",
            "\n",
            "    accuracy                           0.82    168000\n",
            "   macro avg       0.53      0.39      0.41    168000\n",
            "weighted avg       0.76      0.82      0.77    168000\n",
            "\n",
            "\n",
            "\n"
          ]
        }
      ],
      "source": [
        "random_forest = crear_modelo(df, RandomForestClassifier, StandardScaler(), label='distancia', n_estimators=200, max_depth=25, min_samples_split=5)"
      ]
    },
    {
      "cell_type": "code",
      "execution_count": 25,
      "metadata": {},
      "outputs": [
        {
          "data": {
            "text/plain": [
              "['../modelos_ML/modelos_entrenados/modelo_distancia_entrenado.joblib']"
            ]
          },
          "execution_count": 25,
          "metadata": {},
          "output_type": "execute_result"
        }
      ],
      "source": [
        "dump(random_forest, modelo_distancia_entrenado)"
      ]
    }
  ],
  "metadata": {
    "accelerator": "GPU",
    "colab": {
      "gpuType": "L4",
      "machine_shape": "hm",
      "provenance": []
    },
    "kernelspec": {
      "display_name": "Python 3",
      "name": "python3"
    },
    "language_info": {
      "codemirror_mode": {
        "name": "ipython",
        "version": 3
      },
      "file_extension": ".py",
      "mimetype": "text/x-python",
      "name": "python",
      "nbconvert_exporter": "python",
      "pygments_lexer": "ipython3",
      "version": "3.11.4"
    }
  },
  "nbformat": 4,
  "nbformat_minor": 0
}
