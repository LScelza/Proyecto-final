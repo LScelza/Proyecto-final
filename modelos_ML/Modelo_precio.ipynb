{
 "cells": [
  {
   "cell_type": "code",
   "execution_count": 1,
   "metadata": {},
   "outputs": [
    {
     "name": "stdout",
     "output_type": "stream",
     "text": [
      "Collecting asttokens==2.4.1 (from -r ../requirements.txt (line 1))Note: you may need to restart the kernel to use updated packages.\n",
      "\n",
      "  Using cached asttokens-2.4.1-py2.py3-none-any.whl (27 kB)\n",
      "Collecting branca==0.7.2 (from -r ../requirements.txt (line 2))\n",
      "  Using cached branca-0.7.2-py3-none-any.whl (25 kB)\n",
      "Requirement already satisfied: certifi==2024.2.2 in c:\\users\\angel\\appdata\\local\\programs\\python\\python311\\lib\\site-packages (from -r ../requirements.txt (line 3)) (2024.2.2)\n",
      "Requirement already satisfied: charset-normalizer==3.3.2 in c:\\users\\angel\\appdata\\local\\programs\\python\\python311\\lib\\site-packages (from -r ../requirements.txt (line 4)) (3.3.2)\n",
      "Requirement already satisfied: colorama==0.4.6 in c:\\users\\angel\\appdata\\roaming\\python\\python311\\site-packages (from -r ../requirements.txt (line 5)) (0.4.6)\n",
      "Collecting comm==0.2.2 (from -r ../requirements.txt (line 6))\n",
      "  Using cached comm-0.2.2-py3-none-any.whl (7.2 kB)\n",
      "Collecting contourpy==1.2.1 (from -r ../requirements.txt (line 7))\n",
      "  Using cached contourpy-1.2.1-cp311-cp311-win_amd64.whl (188 kB)\n",
      "Requirement already satisfied: cycler==0.12.1 in c:\\users\\angel\\appdata\\local\\programs\\python\\python311\\lib\\site-packages (from -r ../requirements.txt (line 8)) (0.12.1)\n",
      "Collecting debugpy==1.8.1 (from -r ../requirements.txt (line 9))\n",
      "  Using cached debugpy-1.8.1-cp311-cp311-win_amd64.whl (4.7 MB)\n",
      "Requirement already satisfied: decorator==5.1.1 in c:\\users\\angel\\appdata\\roaming\\python\\python311\\site-packages (from -r ../requirements.txt (line 10)) (5.1.1)\n",
      "Collecting executing==2.0.1 (from -r ../requirements.txt (line 11))\n",
      "  Using cached executing-2.0.1-py2.py3-none-any.whl (24 kB)\n",
      "Requirement already satisfied: folium==0.16.0 in c:\\users\\angel\\appdata\\local\\programs\\python\\python311\\lib\\site-packages (from -r ../requirements.txt (line 12)) (0.16.0)\n",
      "Collecting fonttools==4.51.0 (from -r ../requirements.txt (line 13))\n",
      "  Using cached fonttools-4.51.0-cp311-cp311-win_amd64.whl (2.2 MB)\n",
      "Requirement already satisfied: idna==3.7 in c:\\users\\angel\\appdata\\local\\programs\\python\\python311\\lib\\site-packages (from -r ../requirements.txt (line 14)) (3.7)\n",
      "Collecting ipykernel==6.29.4 (from -r ../requirements.txt (line 15))\n",
      "  Using cached ipykernel-6.29.4-py3-none-any.whl (117 kB)\n",
      "Collecting ipython==8.24.0 (from -r ../requirements.txt (line 16))\n",
      "  Using cached ipython-8.24.0-py3-none-any.whl (816 kB)\n",
      "Collecting jedi==0.19.1 (from -r ../requirements.txt (line 17))\n",
      "  Using cached jedi-0.19.1-py2.py3-none-any.whl (1.6 MB)\n",
      "Collecting Jinja2==3.1.4 (from -r ../requirements.txt (line 18))\n",
      "  Using cached jinja2-3.1.4-py3-none-any.whl (133 kB)\n",
      "Collecting jupyter_client==8.6.1 (from -r ../requirements.txt (line 19))\n",
      "  Using cached jupyter_client-8.6.1-py3-none-any.whl (105 kB)\n",
      "Collecting jupyter_core==5.7.2 (from -r ../requirements.txt (line 20))\n",
      "  Using cached jupyter_core-5.7.2-py3-none-any.whl (28 kB)\n",
      "Requirement already satisfied: kiwisolver==1.4.5 in c:\\users\\angel\\appdata\\local\\programs\\python\\python311\\lib\\site-packages (from -r ../requirements.txt (line 21)) (1.4.5)\n",
      "Requirement already satisfied: MarkupSafe==2.1.5 in c:\\users\\angel\\appdata\\local\\programs\\python\\python311\\lib\\site-packages (from -r ../requirements.txt (line 22)) (2.1.5)\n",
      "Collecting matplotlib==3.8.4 (from -r ../requirements.txt (line 23))\n",
      "  Using cached matplotlib-3.8.4-cp311-cp311-win_amd64.whl (7.7 MB)\n",
      "Collecting matplotlib-inline==0.1.7 (from -r ../requirements.txt (line 24))\n",
      "  Using cached matplotlib_inline-0.1.7-py3-none-any.whl (9.9 kB)\n",
      "Collecting nest-asyncio==1.6.0 (from -r ../requirements.txt (line 25))\n",
      "  Using cached nest_asyncio-1.6.0-py3-none-any.whl (5.2 kB)\n",
      "Requirement already satisfied: numpy==1.26.4 in c:\\users\\angel\\appdata\\local\\programs\\python\\python311\\lib\\site-packages (from -r ../requirements.txt (line 26)) (1.26.4)\n",
      "Requirement already satisfied: packaging==24.0 in c:\\users\\angel\\appdata\\local\\programs\\python\\python311\\lib\\site-packages (from -r ../requirements.txt (line 27)) (24.0)\n",
      "Collecting pandas==2.0.3 (from -r ../requirements.txt (line 28))\n",
      "  Using cached pandas-2.0.3-cp311-cp311-win_amd64.whl (10.6 MB)\n",
      "Requirement already satisfied: parso==0.8.4 in c:\\users\\angel\\appdata\\local\\programs\\python\\python311\\lib\\site-packages (from -r ../requirements.txt (line 29)) (0.8.4)\n",
      "Requirement already satisfied: pillow==10.3.0 in c:\\users\\angel\\appdata\\local\\programs\\python\\python311\\lib\\site-packages (from -r ../requirements.txt (line 30)) (10.3.0)\n",
      "Requirement already satisfied: platformdirs==4.2.1 in c:\\users\\angel\\appdata\\local\\programs\\python\\python311\\lib\\site-packages (from -r ../requirements.txt (line 31)) (4.2.1)\n",
      "Requirement already satisfied: prompt-toolkit==3.0.43 in c:\\users\\angel\\appdata\\local\\programs\\python\\python311\\lib\\site-packages (from -r ../requirements.txt (line 32)) (3.0.43)\n",
      "Requirement already satisfied: psutil==5.9.8 in c:\\users\\angel\\appdata\\local\\programs\\python\\python311\\lib\\site-packages (from -r ../requirements.txt (line 33)) (5.9.8)\n",
      "Requirement already satisfied: pure-eval==0.2.2 in c:\\users\\angel\\appdata\\roaming\\python\\python311\\site-packages (from -r ../requirements.txt (line 34)) (0.2.2)\n",
      "Collecting pyarrow==16.0.0 (from -r ../requirements.txt (line 35))\n",
      "  Using cached pyarrow-16.0.0-cp311-cp311-win_amd64.whl (25.9 MB)\n",
      "Requirement already satisfied: Pygments==2.18.0 in c:\\users\\angel\\appdata\\local\\programs\\python\\python311\\lib\\site-packages (from -r ../requirements.txt (line 36)) (2.18.0)\n",
      "Requirement already satisfied: pyparsing==3.1.2 in c:\\users\\angel\\appdata\\local\\programs\\python\\python311\\lib\\site-packages (from -r ../requirements.txt (line 37)) (3.1.2)\n",
      "Requirement already satisfied: python-dateutil==2.9.0.post0 in c:\\users\\angel\\appdata\\local\\programs\\python\\python311\\lib\\site-packages (from -r ../requirements.txt (line 38)) (2.9.0.post0)\n",
      "Requirement already satisfied: pytz==2024.1 in c:\\users\\angel\\appdata\\local\\programs\\python\\python311\\lib\\site-packages (from -r ../requirements.txt (line 39)) (2024.1)\n",
      "Requirement already satisfied: pyzmq==26.0.3 in c:\\users\\angel\\appdata\\local\\programs\\python\\python311\\lib\\site-packages (from -r ../requirements.txt (line 41)) (26.0.3)\n",
      "Requirement already satisfied: requests==2.31.0 in c:\\users\\angel\\appdata\\local\\programs\\python\\python311\\lib\\site-packages (from -r ../requirements.txt (line 42)) (2.31.0)\n",
      "Requirement already satisfied: seaborn==0.13.2 in c:\\users\\angel\\appdata\\local\\programs\\python\\python311\\lib\\site-packages (from -r ../requirements.txt (line 43)) (0.13.2)\n",
      "Requirement already satisfied: six==1.16.0 in c:\\users\\angel\\appdata\\roaming\\python\\python311\\site-packages (from -r ../requirements.txt (line 44)) (1.16.0)\n",
      "Collecting stack-data==0.6.3 (from -r ../requirements.txt (line 45))\n",
      "  Using cached stack_data-0.6.3-py3-none-any.whl (24 kB)\n",
      "Requirement already satisfied: tornado==6.4 in c:\\users\\angel\\appdata\\local\\programs\\python\\python311\\lib\\site-packages (from -r ../requirements.txt (line 46)) (6.4)\n",
      "Requirement already satisfied: traitlets==5.14.3 in c:\\users\\angel\\appdata\\local\\programs\\python\\python311\\lib\\site-packages (from -r ../requirements.txt (line 47)) (5.14.3)\n",
      "Requirement already satisfied: typing_extensions==4.11.0 in c:\\users\\angel\\appdata\\local\\programs\\python\\python311\\lib\\site-packages (from -r ../requirements.txt (line 48)) (4.11.0)\n",
      "Requirement already satisfied: tzdata==2024.1 in c:\\users\\angel\\appdata\\local\\programs\\python\\python311\\lib\\site-packages (from -r ../requirements.txt (line 49)) (2024.1)\n",
      "Requirement already satisfied: urllib3==2.2.1 in c:\\users\\angel\\appdata\\local\\programs\\python\\python311\\lib\\site-packages (from -r ../requirements.txt (line 50)) (2.2.1)\n",
      "Requirement already satisfied: wcwidth==0.2.13 in c:\\users\\angel\\appdata\\local\\programs\\python\\python311\\lib\\site-packages (from -r ../requirements.txt (line 51)) (0.2.13)\n",
      "Requirement already satisfied: xyzservices==2024.4.0 in c:\\users\\angel\\appdata\\local\\programs\\python\\python311\\lib\\site-packages (from -r ../requirements.txt (line 52)) (2024.4.0)\n",
      "Requirement already satisfied: pywin32>=300 in c:\\users\\angel\\appdata\\roaming\\python\\python311\\site-packages (from jupyter_core==5.7.2->-r ../requirements.txt (line 20)) (306)\n",
      "Installing collected packages: pyarrow, nest-asyncio, matplotlib-inline, jupyter_core, Jinja2, jedi, fonttools, executing, debugpy, contourpy, comm, asttokens, stack-data, pandas, matplotlib, jupyter_client, branca, ipython, ipykernel\n",
      "  Attempting uninstall: pyarrow\n",
      "    Found existing installation: pyarrow 15.0.2\n",
      "    Uninstalling pyarrow-15.0.2:\n",
      "      Successfully uninstalled pyarrow-15.0.2\n"
     ]
    },
    {
     "name": "stderr",
     "output_type": "stream",
     "text": [
      "ERROR: Could not install packages due to an OSError: [WinError 5] Acceso denegado: 'C:\\\\Users\\\\ANGEL\\\\AppData\\\\Local\\\\Programs\\\\Python\\\\Python311\\\\Lib\\\\site-packages\\\\~yarrow\\\\arrow.dll'\n",
      "Consider using the `--user` option or check the permissions.\n",
      "\n",
      "\n",
      "[notice] A new release of pip is available: 23.1.2 -> 24.0\n",
      "[notice] To update, run: python.exe -m pip install --upgrade pip\n"
     ]
    }
   ],
   "source": [
    "%pip install -r ../requirements.txt\n",
    "path = '../path.txt'\n",
    "with open(path, 'r') as archivo:\n",
    "    for linea in archivo.readlines():\n",
    "        exec(linea.strip(), globals())"
   ]
  },
  {
   "cell_type": "markdown",
   "metadata": {},
   "source": [
    "## Árbol de regresión"
   ]
  },
  {
   "cell_type": "markdown",
   "metadata": {},
   "source": [
    "EL presente modelo busca predecir el precio que tiene un servicio de taxi tomando en cuenta parametros como: distancia del viaje y tiempo del recorrido."
   ]
  },
  {
   "cell_type": "markdown",
   "metadata": {},
   "source": [
    "Se importan las librerias necesarias"
   ]
  },
  {
   "cell_type": "code",
   "execution_count": 2,
   "metadata": {},
   "outputs": [],
   "source": [
    "import pandas as pd\n",
    "from sklearn import tree\n",
    "from sklearn.model_selection import train_test_split\n",
    "from sklearn.metrics import mean_squared_error, r2_score\n",
    "from joblib import dump\n"
   ]
  },
  {
   "cell_type": "markdown",
   "metadata": {},
   "source": [
    "Se hace el entrenamiento con 3 datasets de recorridos de taxis ecologicos para tres meses consecutivos del año 2023, se concatenan y se usan para el entrenamiento"
   ]
  },
  {
   "cell_type": "code",
   "execution_count": 3,
   "metadata": {},
   "outputs": [],
   "source": [
    "d0 = pd.read_parquet(df0)\n",
    "df1 = pd.read_parquet(df1)\n",
    "df2 = pd.read_parquet(df2)\n",
    "df = pd.concat([d0, df1, df2])"
   ]
  },
  {
   "cell_type": "code",
   "execution_count": 4,
   "metadata": {},
   "outputs": [
    {
     "data": {
      "text/plain": [
       "(183020, 12)"
      ]
     },
     "execution_count": 4,
     "metadata": {},
     "output_type": "execute_result"
    }
   ],
   "source": [
    "df.shape"
   ]
  },
  {
   "cell_type": "markdown",
   "metadata": {},
   "source": [
    "Se filtra el data set con los valores de la columna 'payment type' mayor que -1 ya que -1 representa a los valores nulos"
   ]
  },
  {
   "cell_type": "code",
   "execution_count": 5,
   "metadata": {},
   "outputs": [
    {
     "data": {
      "text/plain": [
       "(115890, 12)"
      ]
     },
     "execution_count": 5,
     "metadata": {},
     "output_type": "execute_result"
    }
   ],
   "source": [
    "df = df[df['payment_type'] > -1]\n",
    "df.shape"
   ]
  },
  {
   "cell_type": "code",
   "execution_count": 6,
   "metadata": {},
   "outputs": [
    {
     "data": {
      "text/html": [
       "<div>\n",
       "<style scoped>\n",
       "    .dataframe tbody tr th:only-of-type {\n",
       "        vertical-align: middle;\n",
       "    }\n",
       "\n",
       "    .dataframe tbody tr th {\n",
       "        vertical-align: top;\n",
       "    }\n",
       "\n",
       "    .dataframe thead th {\n",
       "        text-align: right;\n",
       "    }\n",
       "</style>\n",
       "<table border=\"1\" class=\"dataframe\">\n",
       "  <thead>\n",
       "    <tr style=\"text-align: right;\">\n",
       "      <th></th>\n",
       "      <th>start_trip</th>\n",
       "      <th>end_trip</th>\n",
       "      <th>pu_location_id</th>\n",
       "      <th>do_location_id</th>\n",
       "      <th>passenger_count</th>\n",
       "      <th>trip_distance</th>\n",
       "      <th>fare_amount</th>\n",
       "      <th>tip_amount</th>\n",
       "      <th>total_amount</th>\n",
       "      <th>payment_type</th>\n",
       "      <th>congestion_surcharge</th>\n",
       "      <th>type_of_taxi</th>\n",
       "    </tr>\n",
       "  </thead>\n",
       "  <tbody>\n",
       "    <tr>\n",
       "      <th>0</th>\n",
       "      <td>2023-10-01 00:57:33</td>\n",
       "      <td>2023-10-01 01:07:58</td>\n",
       "      <td>166</td>\n",
       "      <td>74</td>\n",
       "      <td>1</td>\n",
       "      <td>1.45</td>\n",
       "      <td>12.1</td>\n",
       "      <td>2.92</td>\n",
       "      <td>17.52</td>\n",
       "      <td>1</td>\n",
       "      <td>0</td>\n",
       "      <td>1</td>\n",
       "    </tr>\n",
       "  </tbody>\n",
       "</table>\n",
       "</div>"
      ],
      "text/plain": [
       "           start_trip            end_trip  pu_location_id  do_location_id  \\\n",
       "0 2023-10-01 00:57:33 2023-10-01 01:07:58             166              74   \n",
       "\n",
       "   passenger_count  trip_distance  fare_amount  tip_amount  total_amount  \\\n",
       "0                1           1.45         12.1        2.92         17.52   \n",
       "\n",
       "   payment_type  congestion_surcharge  type_of_taxi  \n",
       "0             1                     0             1  "
      ]
     },
     "execution_count": 6,
     "metadata": {},
     "output_type": "execute_result"
    }
   ],
   "source": [
    "df.head(1)"
   ]
  },
  {
   "cell_type": "code",
   "execution_count": 7,
   "metadata": {},
   "outputs": [
    {
     "data": {
      "text/html": [
       "<div>\n",
       "<style scoped>\n",
       "    .dataframe tbody tr th:only-of-type {\n",
       "        vertical-align: middle;\n",
       "    }\n",
       "\n",
       "    .dataframe tbody tr th {\n",
       "        vertical-align: top;\n",
       "    }\n",
       "\n",
       "    .dataframe thead th {\n",
       "        text-align: right;\n",
       "    }\n",
       "</style>\n",
       "<table border=\"1\" class=\"dataframe\">\n",
       "  <thead>\n",
       "    <tr style=\"text-align: right;\">\n",
       "      <th></th>\n",
       "      <th>start_trip</th>\n",
       "      <th>end_trip</th>\n",
       "      <th>pu_location_id</th>\n",
       "      <th>do_location_id</th>\n",
       "      <th>passenger_count</th>\n",
       "      <th>trip_distance</th>\n",
       "      <th>fare_amount</th>\n",
       "      <th>tip_amount</th>\n",
       "      <th>total_amount</th>\n",
       "      <th>payment_type</th>\n",
       "      <th>congestion_surcharge</th>\n",
       "      <th>type_of_taxi</th>\n",
       "    </tr>\n",
       "  </thead>\n",
       "  <tbody>\n",
       "    <tr>\n",
       "      <th>25796</th>\n",
       "      <td>2023-11-13 17:45:33</td>\n",
       "      <td>2023-11-13 17:51:55</td>\n",
       "      <td>210</td>\n",
       "      <td>210</td>\n",
       "      <td>1</td>\n",
       "      <td>0.70</td>\n",
       "      <td>6.5</td>\n",
       "      <td>2.10</td>\n",
       "      <td>12.60</td>\n",
       "      <td>1</td>\n",
       "      <td>0</td>\n",
       "      <td>1</td>\n",
       "    </tr>\n",
       "    <tr>\n",
       "      <th>45098</th>\n",
       "      <td>2023-10-23 20:16:18</td>\n",
       "      <td>2023-10-23 20:26:39</td>\n",
       "      <td>134</td>\n",
       "      <td>216</td>\n",
       "      <td>1</td>\n",
       "      <td>2.28</td>\n",
       "      <td>12.8</td>\n",
       "      <td>3.82</td>\n",
       "      <td>19.12</td>\n",
       "      <td>1</td>\n",
       "      <td>0</td>\n",
       "      <td>1</td>\n",
       "    </tr>\n",
       "    <tr>\n",
       "      <th>14867</th>\n",
       "      <td>2023-11-08 12:43:10</td>\n",
       "      <td>2023-11-08 13:05:39</td>\n",
       "      <td>24</td>\n",
       "      <td>143</td>\n",
       "      <td>2</td>\n",
       "      <td>2.44</td>\n",
       "      <td>19.8</td>\n",
       "      <td>6.01</td>\n",
       "      <td>30.06</td>\n",
       "      <td>1</td>\n",
       "      <td>2</td>\n",
       "      <td>1</td>\n",
       "    </tr>\n",
       "    <tr>\n",
       "      <th>26975</th>\n",
       "      <td>2023-10-14 18:01:32</td>\n",
       "      <td>2023-10-14 18:32:11</td>\n",
       "      <td>25</td>\n",
       "      <td>195</td>\n",
       "      <td>1</td>\n",
       "      <td>1.99</td>\n",
       "      <td>24.0</td>\n",
       "      <td>4.50</td>\n",
       "      <td>30.00</td>\n",
       "      <td>1</td>\n",
       "      <td>0</td>\n",
       "      <td>1</td>\n",
       "    </tr>\n",
       "    <tr>\n",
       "      <th>4575</th>\n",
       "      <td>2023-11-02 21:27:29</td>\n",
       "      <td>2023-11-02 21:40:55</td>\n",
       "      <td>130</td>\n",
       "      <td>205</td>\n",
       "      <td>1</td>\n",
       "      <td>2.92</td>\n",
       "      <td>17.0</td>\n",
       "      <td>0.00</td>\n",
       "      <td>18.00</td>\n",
       "      <td>1</td>\n",
       "      <td>0</td>\n",
       "      <td>1</td>\n",
       "    </tr>\n",
       "  </tbody>\n",
       "</table>\n",
       "</div>"
      ],
      "text/plain": [
       "               start_trip            end_trip  pu_location_id  do_location_id  \\\n",
       "25796 2023-11-13 17:45:33 2023-11-13 17:51:55             210             210   \n",
       "45098 2023-10-23 20:16:18 2023-10-23 20:26:39             134             216   \n",
       "14867 2023-11-08 12:43:10 2023-11-08 13:05:39              24             143   \n",
       "26975 2023-10-14 18:01:32 2023-10-14 18:32:11              25             195   \n",
       "4575  2023-11-02 21:27:29 2023-11-02 21:40:55             130             205   \n",
       "\n",
       "       passenger_count  trip_distance  fare_amount  tip_amount  total_amount  \\\n",
       "25796                1           0.70          6.5        2.10         12.60   \n",
       "45098                1           2.28         12.8        3.82         19.12   \n",
       "14867                2           2.44         19.8        6.01         30.06   \n",
       "26975                1           1.99         24.0        4.50         30.00   \n",
       "4575                 1           2.92         17.0        0.00         18.00   \n",
       "\n",
       "       payment_type  congestion_surcharge  type_of_taxi  \n",
       "25796             1                     0             1  \n",
       "45098             1                     0             1  \n",
       "14867             1                     2             1  \n",
       "26975             1                     0             1  \n",
       "4575              1                     0             1  "
      ]
     },
     "execution_count": 7,
     "metadata": {},
     "output_type": "execute_result"
    }
   ],
   "source": [
    "df.sample(5)"
   ]
  },
  {
   "cell_type": "markdown",
   "metadata": {},
   "source": [
    "Se extrate informacion de las fechas de inicio y fin de viaje para generar columnas con los siguientes valores: año, mes, dia y minutos de viaje"
   ]
  },
  {
   "cell_type": "code",
   "execution_count": 8,
   "metadata": {},
   "outputs": [
    {
     "data": {
      "text/html": [
       "<div>\n",
       "<style scoped>\n",
       "    .dataframe tbody tr th:only-of-type {\n",
       "        vertical-align: middle;\n",
       "    }\n",
       "\n",
       "    .dataframe tbody tr th {\n",
       "        vertical-align: top;\n",
       "    }\n",
       "\n",
       "    .dataframe thead th {\n",
       "        text-align: right;\n",
       "    }\n",
       "</style>\n",
       "<table border=\"1\" class=\"dataframe\">\n",
       "  <thead>\n",
       "    <tr style=\"text-align: right;\">\n",
       "      <th></th>\n",
       "      <th>start_trip</th>\n",
       "      <th>end_trip</th>\n",
       "      <th>pu_location_id</th>\n",
       "      <th>do_location_id</th>\n",
       "      <th>passenger_count</th>\n",
       "      <th>trip_distance</th>\n",
       "      <th>fare_amount</th>\n",
       "      <th>tip_amount</th>\n",
       "      <th>total_amount</th>\n",
       "      <th>payment_type</th>\n",
       "      <th>congestion_surcharge</th>\n",
       "      <th>type_of_taxi</th>\n",
       "      <th>year</th>\n",
       "      <th>month</th>\n",
       "      <th>day</th>\n",
       "      <th>min_trip</th>\n",
       "    </tr>\n",
       "  </thead>\n",
       "  <tbody>\n",
       "    <tr>\n",
       "      <th>0</th>\n",
       "      <td>2023-10-01 00:57:33</td>\n",
       "      <td>2023-10-01 01:07:58</td>\n",
       "      <td>166</td>\n",
       "      <td>74</td>\n",
       "      <td>1</td>\n",
       "      <td>1.45</td>\n",
       "      <td>12.1</td>\n",
       "      <td>2.92</td>\n",
       "      <td>17.52</td>\n",
       "      <td>1</td>\n",
       "      <td>0</td>\n",
       "      <td>1</td>\n",
       "      <td>2023</td>\n",
       "      <td>10</td>\n",
       "      <td>6</td>\n",
       "      <td>10.416667</td>\n",
       "    </tr>\n",
       "  </tbody>\n",
       "</table>\n",
       "</div>"
      ],
      "text/plain": [
       "           start_trip            end_trip  pu_location_id  do_location_id  \\\n",
       "0 2023-10-01 00:57:33 2023-10-01 01:07:58             166              74   \n",
       "\n",
       "   passenger_count  trip_distance  fare_amount  tip_amount  total_amount  \\\n",
       "0                1           1.45         12.1        2.92         17.52   \n",
       "\n",
       "   payment_type  congestion_surcharge  type_of_taxi  year  month  day  \\\n",
       "0             1                     0             1  2023     10    6   \n",
       "\n",
       "    min_trip  \n",
       "0  10.416667  "
      ]
     },
     "execution_count": 8,
     "metadata": {},
     "output_type": "execute_result"
    }
   ],
   "source": [
    "df['year'] = df['start_trip'].dt.year\n",
    "df['month'] = df['start_trip'].dt.month\n",
    "df['day'] = df['start_trip'].dt.dayofweek\n",
    "df['min_trip'] = (df['end_trip'] - df['start_trip']).dt.total_seconds() / 60\n",
    "df.head(1)"
   ]
  },
  {
   "cell_type": "code",
   "execution_count": 9,
   "metadata": {},
   "outputs": [],
   "source": [
    "# Arbol de decision"
   ]
  },
  {
   "cell_type": "code",
   "execution_count": 10,
   "metadata": {},
   "outputs": [],
   "source": [
    "# Selección de las variables independientes\n",
    "X = df[['min_trip', 'trip_distance']]\n",
    "\n",
    "\n",
    "# Selección de la variable dependiente\n",
    "y = df['fare_amount']\n",
    "\n",
    "# Separación del conjunto de datos en entrenamiento y prueba\n",
    "X_train, X_test, y_train, y_test = train_test_split(X, y, test_size=0.25, random_state=42)\n",
    "\n",
    "# Creación del clasificador de árbol de decisión\n",
    "arbol = tree.DecisionTreeRegressor(max_depth = 8, random_state=42, )\n",
    "\n",
    "# Entrenamiento del modelo\n",
    "arbol.fit(X_train, y_train)\n",
    "\n",
    "# Evaluación del modelo\n",
    "score = arbol.score(X_test, y_test)\n",
    "\n",
    "# Predicción del recargo por congestión\n",
    "predicciones = arbol.predict(X_test)\n"
   ]
  },
  {
   "cell_type": "code",
   "execution_count": 11,
   "metadata": {},
   "outputs": [
    {
     "name": "stdout",
     "output_type": "stream",
     "text": [
      "MSE: 19.317563136578976\n",
      "R^2: 0.8556884306103201\n"
     ]
    }
   ],
   "source": [
    "# Cálculo del error cuadrático medio (MSE)\n",
    "mse = mean_squared_error(y_test, predicciones)\n",
    "\n",
    "# Cálculo del R cuadrado (R^2)\n",
    "r2 = r2_score(y_test, predicciones)\n",
    "\n",
    "# Impresión de las métricas de evaluación\n",
    "print(\"MSE:\", mse)\n",
    "print(\"R^2:\", r2)"
   ]
  },
  {
   "cell_type": "code",
   "execution_count": 12,
   "metadata": {},
   "outputs": [
    {
     "name": "stdout",
     "output_type": "stream",
     "text": [
      "0.8556884306103201\n",
      "       Valor real  Valor predicho\n",
      "28213         5.1        6.119324\n",
      "44017         8.6        9.668947\n",
      "53115        10.0       10.308712\n",
      "6444         21.2       21.272973\n",
      "45306         7.2        7.202893\n"
     ]
    }
   ],
   "source": [
    "resultados = pd.DataFrame({'Valor real': y_test, 'Valor predicho': predicciones}).head(5)\n",
    "print(score)\n",
    "\n",
    "# Impresión del dataframe\n",
    "print(resultados.to_string())"
   ]
  },
  {
   "cell_type": "markdown",
   "metadata": {},
   "source": [
    "Se observa un Score de 0.85, y se visualiza una columna con valores reales y valores predichos"
   ]
  },
  {
   "cell_type": "markdown",
   "metadata": {},
   "source": [
    "Se guarda el modelo en formato joblib, para ser posteriormente consumido por Streamlit"
   ]
  },
  {
   "cell_type": "code",
   "execution_count": 13,
   "metadata": {},
   "outputs": [
    {
     "data": {
      "text/plain": [
       "['../modelos_ML/modelos_entrenados/modelo_precio_entrenado.joblib']"
      ]
     },
     "execution_count": 13,
     "metadata": {},
     "output_type": "execute_result"
    }
   ],
   "source": [
    "dump(arbol, modelo_precio_entrenado)"
   ]
  }
 ],
 "metadata": {
  "kernelspec": {
   "display_name": "Python 3",
   "language": "python",
   "name": "python3"
  },
  "language_info": {
   "codemirror_mode": {
    "name": "ipython",
    "version": 3
   },
   "file_extension": ".py",
   "mimetype": "text/x-python",
   "name": "python",
   "nbconvert_exporter": "python",
   "pygments_lexer": "ipython3",
   "version": "3.11.4"
  }
 },
 "nbformat": 4,
 "nbformat_minor": 2
}
